{
 "cells": [
  {
   "cell_type": "code",
   "execution_count": 1,
   "metadata": {
    "collapsed": true
   },
   "outputs": [],
   "source": [
    "from gensim import corpora, models\n",
    "from sklearn.model_selection import train_test_split\n",
    "from sklearn import preprocessing\n",
    "from sklearn.feature_extraction.text import CountVectorizer, TfidfVectorizer\n",
    "from nltk.stem.snowball import EnglishStemmer\n",
    "\n",
    "from sklearn.tree import DecisionTreeClassifier\n",
    "from sklearn.metrics.pairwise import cosine_similarity\n",
    "from sklearn.metrics import accuracy_score\n",
    "from sklearn.linear_model import LogisticRegression\n",
    "from sklearn.svm import SVC\n",
    "\n",
    "from src.preprocessing import *\n",
    "from src.feature_reduction import *\n",
    "from src.classifiers import *\n",
    "from src.plots import *\n",
    "from src.CV import *\n",
    "\n",
    "import time\n",
    "import gc\n",
    "import os\n",
    "import gc\n",
    "import psutil\n",
    "\n",
    "\n",
    "import pandas as pd\n",
    "import matplotlib as mpl\n",
    "import sklearn as sk\n",
    "import numpy as np\n",
    "import matplotlib.pyplot as plt\n",
    "import sklearn.preprocessing as prepro\n",
    "%load_ext autoreload\n",
    "%autoreload 2\n",
    "%matplotlib inline\n"
   ]
  },
  {
   "cell_type": "code",
   "execution_count": 2,
   "metadata": {
    "collapsed": false
   },
   "outputs": [
    {
     "name": "stdout",
     "output_type": "stream",
     "text": [
      "157749248\n"
     ]
    }
   ],
   "source": [
    "random_state=0\n",
    "proc = psutil.Process(os.getpid())\n",
    "mem0 = proc.memory_info().rss\n",
    "print(mem0)"
   ]
  },
  {
   "cell_type": "markdown",
   "metadata": {},
   "source": [
    "PARAMETERS:"
   ]
  },
  {
   "cell_type": "code",
   "execution_count": 3,
   "metadata": {
    "collapsed": true
   },
   "outputs": [],
   "source": [
    "summary_weight=2\n",
    "negation_distance_threshold_review=2\n",
    "negation_distance_threshold_summary=4\n",
    "sample_size=50000\n",
    "save_location='output_figs3'"
   ]
  },
  {
   "cell_type": "markdown",
   "metadata": {},
   "source": [
    "# Step 1"
   ]
  },
  {
   "cell_type": "markdown",
   "metadata": {},
   "source": [
    "## Data loading"
   ]
  },
  {
   "cell_type": "code",
   "execution_count": 4,
   "metadata": {
    "collapsed": true
   },
   "outputs": [],
   "source": [
    "df = pd.read_json(path_or_buf='amazon_step23.json',orient='records',lines=True)"
   ]
  },
  {
   "cell_type": "code",
   "execution_count": 5,
   "metadata": {
    "collapsed": false
   },
   "outputs": [
    {
     "data": {
      "text/html": [
       "<div>\n",
       "<table border=\"1\" class=\"dataframe\">\n",
       "  <thead>\n",
       "    <tr style=\"text-align: right;\">\n",
       "      <th></th>\n",
       "      <th>asin</th>\n",
       "      <th>helpful</th>\n",
       "      <th>overall</th>\n",
       "      <th>reviewText</th>\n",
       "      <th>reviewTime</th>\n",
       "      <th>reviewerID</th>\n",
       "      <th>reviewerName</th>\n",
       "      <th>summary</th>\n",
       "      <th>unixReviewTime</th>\n",
       "    </tr>\n",
       "  </thead>\n",
       "  <tbody>\n",
       "    <tr>\n",
       "      <th>0</th>\n",
       "      <td>5555991584</td>\n",
       "      <td>[3, 3]</td>\n",
       "      <td>5</td>\n",
       "      <td>It's hard to believe \"Memory of Trees\" came ou...</td>\n",
       "      <td>09 12, 2006</td>\n",
       "      <td>A3EBHHCZO6V2A4</td>\n",
       "      <td>Amaranth \"music fan\"</td>\n",
       "      <td>Enya's last great album</td>\n",
       "      <td>1158019200</td>\n",
       "    </tr>\n",
       "    <tr>\n",
       "      <th>1</th>\n",
       "      <td>5555991584</td>\n",
       "      <td>[0, 0]</td>\n",
       "      <td>5</td>\n",
       "      <td>A clasically-styled and introverted album, Mem...</td>\n",
       "      <td>06 3, 2001</td>\n",
       "      <td>AZPWAXJG9OJXV</td>\n",
       "      <td>bethtexas</td>\n",
       "      <td>Enya at her most elegant</td>\n",
       "      <td>991526400</td>\n",
       "    </tr>\n",
       "    <tr>\n",
       "      <th>2</th>\n",
       "      <td>5555991584</td>\n",
       "      <td>[2, 2]</td>\n",
       "      <td>5</td>\n",
       "      <td>I never thought Enya would reach the sublime h...</td>\n",
       "      <td>07 14, 2003</td>\n",
       "      <td>A38IRL0X2T4DPF</td>\n",
       "      <td>bob turnley</td>\n",
       "      <td>The best so far</td>\n",
       "      <td>1058140800</td>\n",
       "    </tr>\n",
       "    <tr>\n",
       "      <th>3</th>\n",
       "      <td>5555991584</td>\n",
       "      <td>[1, 1]</td>\n",
       "      <td>5</td>\n",
       "      <td>This is the third review of an irish album I w...</td>\n",
       "      <td>05 3, 2000</td>\n",
       "      <td>A22IK3I6U76GX0</td>\n",
       "      <td>Calle</td>\n",
       "      <td>Ireland produces good music.</td>\n",
       "      <td>957312000</td>\n",
       "    </tr>\n",
       "    <tr>\n",
       "      <th>4</th>\n",
       "      <td>5555991584</td>\n",
       "      <td>[1, 1]</td>\n",
       "      <td>4</td>\n",
       "      <td>Enya, despite being a successful recording art...</td>\n",
       "      <td>01 17, 2008</td>\n",
       "      <td>A1AISPOIIHTHXX</td>\n",
       "      <td>Cloud \"...\"</td>\n",
       "      <td>4.5; music to dream to</td>\n",
       "      <td>1200528000</td>\n",
       "    </tr>\n",
       "  </tbody>\n",
       "</table>\n",
       "</div>"
      ],
      "text/plain": [
       "         asin helpful  overall  \\\n",
       "0  5555991584  [3, 3]        5   \n",
       "1  5555991584  [0, 0]        5   \n",
       "2  5555991584  [2, 2]        5   \n",
       "3  5555991584  [1, 1]        5   \n",
       "4  5555991584  [1, 1]        4   \n",
       "\n",
       "                                          reviewText   reviewTime  \\\n",
       "0  It's hard to believe \"Memory of Trees\" came ou...  09 12, 2006   \n",
       "1  A clasically-styled and introverted album, Mem...   06 3, 2001   \n",
       "2  I never thought Enya would reach the sublime h...  07 14, 2003   \n",
       "3  This is the third review of an irish album I w...   05 3, 2000   \n",
       "4  Enya, despite being a successful recording art...  01 17, 2008   \n",
       "\n",
       "       reviewerID          reviewerName                       summary  \\\n",
       "0  A3EBHHCZO6V2A4  Amaranth \"music fan\"       Enya's last great album   \n",
       "1   AZPWAXJG9OJXV             bethtexas      Enya at her most elegant   \n",
       "2  A38IRL0X2T4DPF           bob turnley               The best so far   \n",
       "3  A22IK3I6U76GX0                 Calle  Ireland produces good music.   \n",
       "4  A1AISPOIIHTHXX           Cloud \"...\"        4.5; music to dream to   \n",
       "\n",
       "   unixReviewTime  \n",
       "0      1158019200  \n",
       "1       991526400  \n",
       "2      1058140800  \n",
       "3       957312000  \n",
       "4      1200528000  "
      ]
     },
     "execution_count": 5,
     "metadata": {},
     "output_type": "execute_result"
    }
   ],
   "source": [
    "df.head()"
   ]
  },
  {
   "cell_type": "code",
   "execution_count": 6,
   "metadata": {
    "collapsed": true
   },
   "outputs": [],
   "source": [
    "# TODO remove sampling\n",
    "# Sampling to minimze computing cost\n",
    "df = df.sample(sample_size,random_state=random_state)\n",
    "#df.head()"
   ]
  },
  {
   "cell_type": "markdown",
   "metadata": {},
   "source": [
    "## Vectorizing the review text"
   ]
  },
  {
   "cell_type": "code",
   "execution_count": 7,
   "metadata": {
    "collapsed": false,
    "scrolled": false
   },
   "outputs": [
    {
     "name": "stdout",
     "output_type": "stream",
     "text": [
      "original test:  This is the bottom line: If you like New-Wave/Electronic music of the early eighties and you had no idea who A Flock Of Seagulls were or had no way of associating them with the way they looked or their MTV status, then you would like this album. A very undderrated band for sure, this album is awesome especially for (It's Not Me) Talking, Wishing, Nightmares, and The Traveller. I'll admit the bonus B-Sides arent the greatest but the live version of I Ran is excellent and the orginal album holds up very well. I dont think its my absolute favorite but it ties with their first album( DNA and Messages are two of my favs). The guitar and keyboard sound so good together it really creates a timeless feel, even for a New Wave band. This album speaks for itsself(and its era). Do as the album title implies...good cd. Nuff said \n",
      "\n",
      "summary test:  Still cool to listen to \n",
      "\n"
     ]
    }
   ],
   "source": [
    "# create a corpus class with an iterator that reads one corpus document per line without loading all into memory\n",
    "from gensim import corpora\n",
    "from gensim.parsing.preprocessing import STOPWORDS\n",
    "from nltk.stem import WordNetLemmatizer\n",
    "import enchant\n",
    "\n",
    "eng_dic = enchant.Dict(\"en_US\")\n",
    "tester = 1\n",
    "lemmatizer = WordNetLemmatizer()\n",
    "documents = np.array(df['reviewText'])\n",
    "\n",
    "#print ('original: ',documents[tester], '\\n')\n",
    "\n",
    "# TODO use the stopwords file ? should ask fayez\n",
    "\n",
    "negativeword_file=open('negative_words.txt')\n",
    "NEGATIVEWORDS=negativeword_file.read().split()\n",
    "\n",
    "positiveword_file=open('positive_words.txt')\n",
    "POSITIVEWORDS=positiveword_file.read().split()\n",
    "\n",
    "negationword_file=open('negation_words.txt')\n",
    "NEGATIONWORDS=negationword_file.read().split()\n",
    "\n",
    "# Not Merging both reviewText and summary because summary is more important\n",
    "#documents = df[['reviewText', 'summary']].apply(lambda x: ''.join(x), axis=1)\n",
    "documents=np.array(df['reviewText'])\n",
    "summaries=np.array(df['summary'])\n",
    "\n",
    "print ('original test: ',documents[tester], '\\n')\n",
    "print ('summary test: ',summaries[tester], '\\n')"
   ]
  },
  {
   "cell_type": "code",
   "execution_count": 8,
   "metadata": {
    "collapsed": true
   },
   "outputs": [],
   "source": [
    "#Remove special characters\n",
    "documents_no_specials=remove_specials_characters(documents)\n",
    "# remove stop words and tokenize\n",
    "documents_no_stop= []\n",
    "for document in documents_no_specials:\n",
    "    new_text=[]\n",
    "    for word in document.lower().split():\n",
    "        if word not in STOPWORDS:\n",
    "            new_text.append(word)\n",
    "    documents_no_stop.append(new_text)\n",
    "    \n",
    "#print ('tokenize and remove stop words: ',documents_no_stop[tester], '\\n')\n",
    "\n",
    "#Remove special characters\n",
    "summaries_no_specials=remove_specials_characters(summaries)\n",
    "# remove stop words and tokenize\n",
    "summaries_no_stop= []\n",
    "for document in summaries_no_specials:\n",
    "    new_text=[]\n",
    "    for word in document.lower().split():\n",
    "        if word not in STOPWORDS:\n",
    "            new_text.append(word)\n",
    "    summaries_no_stop.append(new_text)\n",
    "    \n",
    "#print ('tokenize and remove stop words: ',documents_no_stop[tester], '\\n')"
   ]
  },
  {
   "cell_type": "code",
   "execution_count": 9,
   "metadata": {
    "collapsed": true
   },
   "outputs": [],
   "source": [
    "\n",
    "documents_no_stop_no_numeric = remove_numerical(documents_no_stop)\n",
    "summaries_no_stop_no_numeric = remove_numerical(summaries_no_stop)\n",
    "#print ('remove numerics: ',documents_no_stop_no_numeric[tester], '\\n')\n"
   ]
  },
  {
   "cell_type": "code",
   "execution_count": 10,
   "metadata": {
    "collapsed": true
   },
   "outputs": [],
   "source": [
    "# lemmattizing tokens (better than stemming by taking word context into account)\n",
    "\n",
    "documents_no_stop_no_numeric_lemmatize = [[lemmatizer.lemmatize(token) for token in text] \n",
    "                                                    for text in documents_no_stop_no_numeric]\n",
    "summaries_no_stop_no_numeric_lemmatize = [[lemmatizer.lemmatize(token) for token in text] \n",
    "                                                    for text in summaries_no_stop_no_numeric]\n",
    "\n",
    "#print ('lemmatize: ',documents_no_stop_no_numeric_lemmatize[tester], '\\n')"
   ]
  },
  {
   "cell_type": "code",
   "execution_count": 11,
   "metadata": {
    "collapsed": false
   },
   "outputs": [
    {
     "name": "stdout",
     "output_type": "stream",
     "text": [
      "no english:  ['line', 'like', 'new', 'wave', 'electronic', 'music', 'early', 'eighty', 'idea', 'flock', 'seagull', 'way', 'associating', 'way', 'looked', 'status', 'like', 'album', 'band', 'sure', 'album', 'awesome', 'especially', 'talking', 'wishing', 'nightmare', 'ill', 'admit', 'bonus', 'b', 'side', 'greatest', 'live', 'version', 'ran', 'excellent', 'album', 'hold', 'think', 'absolute', 'favorite', 'tie', 'album', 'message', 'guitar', 'keyboard', 'sound', 'good', 'creates', 'timeless', 'feel', 'new', 'wave', 'band', 'album', 'speaks', 'era', 'album', 'title', 'implies', 'good', 'said'] \n",
      "\n",
      "no english:  ['cool', 'listen'] \n",
      "\n"
     ]
    }
   ],
   "source": [
    "# remove non-english words\n",
    "\n",
    "documents_no_stop_no_numeric_lemmatize_english = [[token for token in text if (eng_dic.check(token)) ] \n",
    "                                                            for text in documents_no_stop_no_numeric_lemmatize]\n",
    "\n",
    "print ('no english: ',documents_no_stop_no_numeric_lemmatize_english[tester], '\\n')\n",
    "\n",
    "summaries_no_stop_no_numeric_lemmatize_english = [[token for token in text if (eng_dic.check(token)) ] \n",
    "                                                            for text in summaries_no_stop_no_numeric_lemmatize]\n",
    "\n",
    "print ('no english: ',summaries_no_stop_no_numeric_lemmatize_english[tester], '\\n')"
   ]
  },
  {
   "cell_type": "code",
   "execution_count": 12,
   "metadata": {
    "collapsed": true
   },
   "outputs": [],
   "source": [
    "# create ready corpus\n",
    "\n",
    "df['reviewCleaned'] = [\" \".join(doc) for doc in documents_no_stop_no_numeric_lemmatize_english] \n",
    "df['summaryCleaned'] = [\" \".join(doc) for doc in summaries_no_stop_no_numeric_lemmatize_english] \n",
    "\n",
    "#df['reviewCleaned']"
   ]
  },
  {
   "cell_type": "code",
   "execution_count": 13,
   "metadata": {
    "collapsed": false,
    "scrolled": true
   },
   "outputs": [
    {
     "ename": "KeyboardInterrupt",
     "evalue": "",
     "output_type": "error",
     "traceback": [
      "\u001b[0;31m---------------------------------------------------------------------------\u001b[0m",
      "\u001b[0;31mKeyboardInterrupt\u001b[0m                         Traceback (most recent call last)",
      "\u001b[0;32m<ipython-input-13-d45fe341b82c>\u001b[0m in \u001b[0;36m<module>\u001b[0;34m()\u001b[0m\n\u001b[1;32m     44\u001b[0m \u001b[0;31m# the product a juste write 'good...' would get an extremely high ratio\u001b[0m\u001b[0;34m\u001b[0m\u001b[0;34m\u001b[0m\u001b[0m\n\u001b[1;32m     45\u001b[0m documents_neg_pos, documents_pos_count, documents_neg_count = keepAdjectives(\n\u001b[0;32m---> 46\u001b[0;31m     df['reviewCleaned'],NEGATIONWORDS,POSITIVEWORDS,NEGATIVEWORDS,negation_distance_threshold_review)\n\u001b[0m\u001b[1;32m     47\u001b[0m print(\"Kept only adjectives pairs:\",documents_neg_pos[tester], \n\u001b[1;32m     48\u001b[0m       '\\nPositive count=',documents_pos_count[tester],'Negative counts=',documents_neg_count[tester])\n",
      "\u001b[0;32m<ipython-input-13-d45fe341b82c>\u001b[0m in \u001b[0;36mkeepAdjectives\u001b[0;34m(documents, NEGATIONWORDS, POSITIVEWORDS, NEGATIVEWORDS, negation_distance_threshold)\u001b[0m\n\u001b[1;32m     28\u001b[0m                     \u001b[0mreview\u001b[0m\u001b[0;34m.\u001b[0m\u001b[0mappend\u001b[0m\u001b[0;34m(\u001b[0m\u001b[0mnew_word\u001b[0m\u001b[0;34m)\u001b[0m\u001b[0;34m\u001b[0m\u001b[0m\n\u001b[1;32m     29\u001b[0m                     \u001b[0mnew_word\u001b[0m \u001b[0;34m=\u001b[0m \u001b[0;34m\"\"\u001b[0m\u001b[0;34m\u001b[0m\u001b[0m\n\u001b[0;32m---> 30\u001b[0;31m             \u001b[0;32melif\u001b[0m \u001b[0mword\u001b[0m \u001b[0;32min\u001b[0m \u001b[0mNEGATIVEWORDS\u001b[0m\u001b[0;34m:\u001b[0m\u001b[0;34m\u001b[0m\u001b[0m\n\u001b[0m\u001b[1;32m     31\u001b[0m                 \u001b[0;32mif\u001b[0m \u001b[0mlen\u001b[0m\u001b[0;34m(\u001b[0m\u001b[0mnew_word\u001b[0m\u001b[0;34m)\u001b[0m\u001b[0;34m==\u001b[0m\u001b[0;36m0\u001b[0m\u001b[0;34m:\u001b[0m\u001b[0;34m\u001b[0m\u001b[0m\n\u001b[1;32m     32\u001b[0m                     \u001b[0mreview\u001b[0m\u001b[0;34m.\u001b[0m\u001b[0mappend\u001b[0m\u001b[0;34m(\u001b[0m\u001b[0mword\u001b[0m\u001b[0;34m)\u001b[0m\u001b[0;34m\u001b[0m\u001b[0m\n",
      "\u001b[0;31mKeyboardInterrupt\u001b[0m: "
     ]
    }
   ],
   "source": [
    "def keepAdjectives(documents,NEGATIONWORDS, POSITIVEWORDS, NEGATIVEWORDS,negation_distance_threshold):\n",
    "    \n",
    "    document_neg_pos = []\n",
    "    document_neg_count = np.zeros(df.shape[0])\n",
    "    document_pos_count = np.zeros(df.shape[0])\n",
    "\n",
    "    for idx,row in enumerate(documents):\n",
    "        review = []\n",
    "        new_word = \"\"\n",
    "        negation_distance=0\n",
    "        \n",
    "        for word in row.split(\" \"):\n",
    "            if len(new_word) != 1:\n",
    "                negation_distance+=1\n",
    "                if negation_distance>negation_distance_threshold:\n",
    "                    new_word=\"\"\n",
    "            if word in NEGATIONWORDS:\n",
    "                new_word = word\n",
    "                negation_distance=0\n",
    "            elif word in POSITIVEWORDS:\n",
    "                if len(new_word)==0:\n",
    "                    review.append(word)\n",
    "                    document_pos_count[idx]+=1\n",
    "                else:\n",
    "                    #print(idx)\n",
    "                    document_neg_count[idx]+=1\n",
    "                    new_word = new_word + word\n",
    "                    review.append(new_word)\n",
    "                    new_word = \"\"\n",
    "            elif word in NEGATIVEWORDS:\n",
    "                if len(new_word)==0:\n",
    "                    review.append(word)\n",
    "                    document_neg_count[idx]+=1\n",
    "                else:\n",
    "                    #print(idx)\n",
    "                    document_pos_count[idx]+=1\n",
    "                    new_word = new_word + word\n",
    "                    review.append(new_word)\n",
    "                    new_word = \"\"\n",
    "        document_neg_pos.append(review)\n",
    "    return document_neg_pos, document_pos_count, document_neg_count\n",
    "\n",
    "# Not sure if ratio of counts is relevent since someone who like average\n",
    "# the product a juste write 'good...' would get an extremely high ratio\n",
    "documents_neg_pos, documents_pos_count, documents_neg_count = keepAdjectives(\n",
    "    df['reviewCleaned'],NEGATIONWORDS,POSITIVEWORDS,NEGATIVEWORDS,negation_distance_threshold_review)\n",
    "print(\"Kept only adjectives pairs:\",documents_neg_pos[tester], \n",
    "      '\\nPositive count=',documents_pos_count[tester],'Negative counts=',documents_neg_count[tester])\n",
    "\n",
    "summaries_neg_pos, summaries_pos_count, summaries_neg_count = keepAdjectives(\n",
    "    df['summaryCleaned'],NEGATIONWORDS,POSITIVEWORDS,NEGATIVEWORDS,negation_distance_threshold_summary)\n",
    "print(\"Kept only adjectives pairs:\",summaries_neg_pos[tester], \n",
    "      '\\nPositive count=',summaries_pos_count[tester],'Negative counts=',summaries_neg_count[tester])\n"
   ]
  },
  {
   "cell_type": "code",
   "execution_count": null,
   "metadata": {
    "collapsed": false
   },
   "outputs": [],
   "source": [
    "print ('original text: ',documents[373], '\\n')\n",
    "print ('no english: ',documents_no_stop_no_numeric_lemmatize_english[373], '\\n')\n",
    "print(\"Kept only adjectives pairs:\",documents_neg_pos[373], \n",
    "      '\\nPositive count=',documents_pos_count[373],'Negative counts=',documents_neg_count[373])\n",
    "print ('original text: ',summaries[373], '\\n')\n",
    "print ('no english: ',summaries_no_stop_no_numeric_lemmatize_english[373], '\\n')\n",
    "print(\"Kept only adjectives pairs:\",summaries_neg_pos[373],\n",
    "      '\\nPositive count=',summaries_pos_count[373],'Negative counts=',summaries_neg_count[373])"
   ]
  },
  {
   "cell_type": "code",
   "execution_count": null,
   "metadata": {
    "collapsed": false
   },
   "outputs": [],
   "source": [
    "df[\"reviewWorded\"] = [\" \".join(doc) for doc in documents_neg_pos]\n",
    "df[\"summaryWorded\"] = [\" \".join(doc) for doc in summaries_neg_pos]\n",
    "df['review_count_pos'] = documents_pos_count\n",
    "df['review_count_neg'] = documents_neg_count\n",
    "df['summary_count_pos'] = summaries_pos_count\n",
    "df['summary_count_neg'] = summaries_neg_count\n",
    "# Not sure if ratio of counts is relevent since someone who like average\n",
    "# the product a juste write 'good...' would get an extremely high ratio.\n",
    "# However, the difference between the two could be interesting\n",
    "df['review_count_difference']=df['review_count_pos']-df['review_count_neg']\n",
    "df['summary_count_difference']=df['summary_count_pos']-df['summary_count_neg']\n",
    "df['total_count_difference']=df['review_count_difference']+summary_weight*df['summary_count_difference']\n",
    "df.head()"
   ]
  },
  {
   "cell_type": "code",
   "execution_count": null,
   "metadata": {
    "collapsed": true
   },
   "outputs": [],
   "source": [
    "# REMOVE DF_min and df _ max\n",
    "vectorizer = CountVectorizer()\n",
    "# vectorizer = TfidfVectorizer() We don't need to reduce the importance of words that appear often since they are already filtered\n",
    "\n",
    "# fit vectorizer, carry out vectorization and display results\n",
    "vectorizer.fit(df[['reviewWorded', 'summaryWorded']].apply(lambda x: ''.join(x), axis=1))   # TODO join with df[['reviewText', 'summary']].apply(lambda x: ''.join(x), axis=1)\n",
    "documents_vec = vectorizer.transform(df['reviewWorded'])\n",
    "summaries_vec = vectorizer.transform(df['summaryWorded'])\n",
    "summaries_vec*=summary_weight\n",
    "documents_vec+=summaries_vec\n",
    "#print(documents_vec) # sparse matrix representation"
   ]
  },
  {
   "cell_type": "code",
   "execution_count": null,
   "metadata": {
    "collapsed": false
   },
   "outputs": [],
   "source": [
    "print(documents_vec)"
   ]
  },
  {
   "cell_type": "code",
   "execution_count": null,
   "metadata": {
    "collapsed": false
   },
   "outputs": [],
   "source": [
    "# Cleaning memory\n",
    "\n",
    "proc = psutil.Process(os.getpid())\n",
    "mem1 = proc.memory_info().rss\n",
    "del lemmatizer, document,documents,documents_no_specials,documents_no_stop,documents_no_stop_no_numeric\n",
    "del documents_no_stop_no_numeric_lemmatize,documents_no_stop_no_numeric_lemmatize_english, eng_dic\n",
    "del  summaries,summaries_no_specials,summaries_no_stop,summaries_no_stop_no_numeric\n",
    "del summaries_no_stop_no_numeric_lemmatize,summaries_no_stop_no_numeric_lemmatize_english\n",
    "mem2 = proc.memory_info().rss\n",
    "gc.collect()\n",
    "mem3 = proc.memory_info().rss\n",
    "pdf = lambda x2, x1: 100.0 * (x2 - x1) / mem0\n",
    "print (\"Allocation: %0.2f%%\" % pdf(mem1, mem0))\n",
    "print (\"Unreference: %0.2f%%\" % pdf(mem2, mem1))\n",
    "print (\"Collect: %0.2f%%\" % pdf(mem3, mem2))\n",
    "print (\"Overall: %0.2f%%\" % pdf(mem3, mem0))\n",
    "\n",
    "\n"
   ]
  },
  {
   "cell_type": "markdown",
   "metadata": {},
   "source": [
    "## Category Prediction "
   ]
  },
  {
   "cell_type": "markdown",
   "metadata": {},
   "source": [
    "### Pre-Processing"
   ]
  },
  {
   "cell_type": "markdown",
   "metadata": {},
   "source": [
    "X is the review word vector. y are the corresponding categories.\n",
    "\n",
    "The data is Min/max scaled into [0;1]. It isn't standartize because we want positive values. One could try a normalization (l1 or l2 for example)\n",
    "\n",
    "We split the data into a train and test set. \n",
    "\n",
    "tf/idf is not relevant since words that appear often might suggest a category (such as 'book')"
   ]
  },
  {
   "cell_type": "code",
   "execution_count": null,
   "metadata": {
    "collapsed": false
   },
   "outputs": [],
   "source": [
    "y=df['overall']\n",
    "ranks=np.unique(y)\n",
    "X_scaled=preprocessing.normalize(documents_vec,norm='max', copy=False)\n",
    "X=df[['total_count_difference','review_count_pos','review_count_neg','summary_count_pos','summary_count_neg']]\n",
    "\n",
    "proc.memory_info().rss\n",
    "\n",
    "from scipy.sparse import hstack,csr_matrix\n",
    "count_diff = csr_matrix(df['total_count_difference']).T\n",
    "count_pos_rev = csr_matrix(df['review_count_pos']).T\n",
    "count_neg_rev = csr_matrix(df['review_count_neg']).T\n",
    "count_pos_sum = csr_matrix(df['summary_count_pos']).T\n",
    "count_neg_sum = csr_matrix(df['summary_count_neg']).T\n",
    "\n",
    "hstack([count_neg_sum,X_scaled])\n",
    "X=hstack([hstack([hstack([count_diff,count_pos_rev]),hstack([count_neg_rev,count_pos_sum])])\n",
    "         ,hstack([count_neg_sum,X_scaled])])\n",
    "\n",
    "\n",
    "#X=X_scaled # without counts\n",
    "print(X.shape)"
   ]
  },
  {
   "cell_type": "code",
   "execution_count": null,
   "metadata": {
    "collapsed": true
   },
   "outputs": [],
   "source": [
    "X_train, X_test, y_train, y_test = train_test_split(X, y, test_size=0.2, random_state=random_state)"
   ]
  },
  {
   "cell_type": "code",
   "execution_count": null,
   "metadata": {
    "collapsed": false
   },
   "outputs": [],
   "source": [
    "proc.memory_info().rss"
   ]
  },
  {
   "cell_type": "code",
   "execution_count": null,
   "metadata": {
    "collapsed": true
   },
   "outputs": [],
   "source": [
    "# Numpy arrays\n",
    "#X_train=np.array(X_train)\n",
    "#X_test=np.array(X_test)\n",
    "#y_train=np.array(y_train)\n",
    "#y_test=np.array(y_test)"
   ]
  },
  {
   "cell_type": "markdown",
   "metadata": {},
   "source": [
    "### Trying Feature selection"
   ]
  },
  {
   "cell_type": "markdown",
   "metadata": {},
   "source": [
    "#### select k best"
   ]
  },
  {
   "cell_type": "code",
   "execution_count": 23,
   "metadata": {
    "collapsed": false
   },
   "outputs": [
    {
     "ename": "NameError",
     "evalue": "name 'LinearRegression' is not defined",
     "output_type": "error",
     "traceback": [
      "\u001b[0;31m---------------------------------------------------------------------------\u001b[0m",
      "\u001b[0;31mNameError\u001b[0m                                 Traceback (most recent call last)",
      "\u001b[0;32m<ipython-input-23-0cb433215af8>\u001b[0m in \u001b[0;36m<module>\u001b[0;34m()\u001b[0m\n\u001b[1;32m      1\u001b[0m \u001b[0;32mfrom\u001b[0m \u001b[0msklearn\u001b[0m\u001b[0;34m.\u001b[0m\u001b[0mfeature_selection\u001b[0m \u001b[0;32mimport\u001b[0m \u001b[0mSelectKBest\u001b[0m\u001b[0;34m\u001b[0m\u001b[0m\n\u001b[0;32m----> 2\u001b[0;31m parameter_search_feature_selection(LinearRegression(n_jobs=-1),SelectKBest(),'k',np.logspace(2,3.7,10).astype(int),\n\u001b[0m\u001b[1;32m      3\u001b[0m                                    X_train,y_train,random_state=random_state,save_file=save_location+'/slt_k_best.png')\n",
      "\u001b[0;31mNameError\u001b[0m: name 'LinearRegression' is not defined"
     ]
    }
   ],
   "source": [
    "from sklearn.feature_selection import SelectKBest\n",
    "parameter_search_feature_selection(LinearRegression(n_jobs=-1),SelectKBest(),'k',np.logspace(2,3.7,10).astype(int),\n",
    "                                   X_train,y_train,random_state=random_state,save_file=save_location+'/slt_k_best.png')"
   ]
  },
  {
   "cell_type": "code",
   "execution_count": null,
   "metadata": {
    "collapsed": true
   },
   "outputs": [],
   "source": []
  },
  {
   "cell_type": "markdown",
   "metadata": {},
   "source": [
    "#### Latent Semantic Indexing"
   ]
  },
  {
   "cell_type": "code",
   "execution_count": 55,
   "metadata": {
    "collapsed": true
   },
   "outputs": [],
   "source": [
    "X_train_concepts,X_test_concepts = LSI_concepts(X_train,X_test,num_lsi_topics = 100,words=vectorizer.get_feature_names())"
   ]
  },
  {
   "cell_type": "code",
   "execution_count": 82,
   "metadata": {
    "collapsed": false
   },
   "outputs": [
    {
     "name": "stdout",
     "output_type": "stream",
     "text": [
      "0\n",
      "100\n",
      "200\n",
      "300\n",
      "400\n",
      "500\n",
      "600\n",
      "700\n",
      "800\n",
      "900\n",
      "accuracy: 0.417\n",
      "Execution time : 15.908146142959595 seconds\n"
     ]
    }
   ],
   "source": [
    "start = time.time()\n",
    "\n",
    "y_pred=cosine_pred(X_train_concepts,X_test_concepts,y_train,categories)\n",
    "print(\"accuracy:\",accuracy_score(y_test,y_pred))\n",
    "\n",
    "end=time.time()\n",
    "print(\"Execution time : {} seconds\".format(end-start))"
   ]
  },
  {
   "cell_type": "code",
   "execution_count": 83,
   "metadata": {
    "collapsed": false,
    "scrolled": true
   },
   "outputs": [
    {
     "name": "stdout",
     "output_type": "stream",
     "text": [
      "25\n",
      "0\n",
      "100\n",
      "200\n",
      "300\n",
      "400\n",
      "500\n",
      "600\n",
      "700\n",
      "800\n",
      "900\n",
      "accuracy: 0.297\n",
      "30\n",
      "0\n",
      "100\n",
      "200\n",
      "300\n",
      "400\n",
      "500\n",
      "600\n",
      "700\n",
      "800\n",
      "900\n",
      "accuracy: 0.298\n",
      "35\n",
      "0\n",
      "100\n",
      "200\n",
      "300\n",
      "400\n",
      "500\n",
      "600\n",
      "700\n",
      "800\n",
      "900\n",
      "accuracy: 0.31\n",
      "40\n",
      "0\n",
      "100\n",
      "200\n",
      "300\n",
      "400\n",
      "500\n",
      "600\n",
      "700\n",
      "800\n",
      "900\n",
      "accuracy: 0.323\n",
      "50\n",
      "0\n",
      "100\n",
      "200\n",
      "300\n",
      "400\n",
      "500\n",
      "600\n",
      "700\n",
      "800\n",
      "900\n",
      "accuracy: 0.345\n",
      "60\n",
      "0\n",
      "100\n",
      "200\n",
      "300\n",
      "400\n",
      "500\n",
      "600\n",
      "700\n",
      "800\n",
      "900\n",
      "accuracy: 0.376\n",
      "70\n",
      "0\n",
      "100\n",
      "200\n",
      "300\n",
      "400\n",
      "500\n",
      "600\n",
      "700\n",
      "800\n",
      "900\n",
      "accuracy: 0.385\n",
      "80\n",
      "0\n",
      "100\n",
      "200\n",
      "300\n",
      "400\n",
      "500\n",
      "600\n",
      "700\n",
      "800\n",
      "900\n",
      "accuracy: 0.393\n",
      "90\n",
      "0\n",
      "100\n",
      "200\n",
      "300\n",
      "400\n",
      "500\n",
      "600\n",
      "700\n",
      "800\n",
      "900\n",
      "accuracy: 0.424\n",
      "100\n",
      "0\n",
      "100\n",
      "200\n",
      "300\n",
      "400\n",
      "500\n",
      "600\n",
      "700\n",
      "800\n",
      "900\n",
      "accuracy: 0.424\n",
      "200\n",
      "0\n",
      "100\n",
      "200\n",
      "300\n",
      "400\n",
      "500\n",
      "600\n",
      "700\n",
      "800\n",
      "900\n",
      "accuracy: 0.465\n",
      "300\n",
      "0\n",
      "100\n",
      "200\n",
      "300\n",
      "400\n",
      "500\n",
      "600\n",
      "700\n",
      "800\n",
      "900\n",
      "accuracy: 0.477\n",
      "400\n",
      "0\n",
      "100\n",
      "200\n",
      "300\n",
      "400\n",
      "500\n",
      "600\n",
      "700\n",
      "800\n",
      "900\n",
      "accuracy: 0.489\n",
      "500\n",
      "0\n",
      "100\n",
      "200\n",
      "300\n",
      "400\n",
      "500\n",
      "600\n",
      "700\n",
      "800\n",
      "900\n",
      "accuracy: 0.494\n",
      "600\n",
      "0\n",
      "100\n",
      "200\n",
      "300\n",
      "400\n",
      "500\n",
      "600\n",
      "700\n",
      "800\n",
      "900\n",
      "accuracy: 0.501\n",
      "700\n",
      "0\n",
      "100\n",
      "200\n",
      "300\n",
      "400\n",
      "500\n",
      "600\n",
      "700\n",
      "800\n",
      "900\n",
      "accuracy: 0.502\n",
      "800\n",
      "0\n",
      "100\n",
      "200\n",
      "300\n",
      "400\n",
      "500\n",
      "600\n",
      "700\n",
      "800\n",
      "900\n",
      "accuracy: 0.502\n",
      "900\n",
      "0\n",
      "100\n",
      "200\n",
      "300\n",
      "400\n",
      "500\n",
      "600\n",
      "700\n",
      "800\n",
      "900\n",
      "accuracy: 0.507\n",
      "1000\n",
      "0\n",
      "100\n",
      "200\n",
      "300\n",
      "400\n",
      "500\n",
      "600\n",
      "700\n",
      "800\n",
      "900\n",
      "accuracy: 0.504\n",
      "2000\n",
      "0\n",
      "100\n",
      "200\n",
      "300\n",
      "400\n",
      "500\n",
      "600\n",
      "700\n",
      "800\n",
      "900\n",
      "accuracy: 0.513\n",
      "3000\n",
      "0\n",
      "100\n",
      "200\n",
      "300\n",
      "400\n",
      "500\n",
      "600\n",
      "700\n",
      "800\n",
      "900\n",
      "accuracy: 0.514\n",
      "4000\n",
      "0\n",
      "100\n",
      "200\n",
      "300\n",
      "400\n",
      "500\n",
      "600\n",
      "700\n",
      "800\n",
      "900\n",
      "accuracy: 0.514\n",
      "5000\n",
      "0\n",
      "100\n",
      "200\n",
      "300\n",
      "400\n",
      "500\n",
      "600\n",
      "700\n",
      "800\n",
      "900\n",
      "accuracy: 0.514\n",
      "6000\n",
      "0\n",
      "100\n",
      "200\n",
      "300\n",
      "400\n",
      "500\n",
      "600\n",
      "700\n",
      "800\n",
      "900\n",
      "accuracy: 0.514\n",
      "7000\n",
      "0\n",
      "100\n",
      "200\n",
      "300\n",
      "400\n",
      "500\n",
      "600\n",
      "700\n",
      "800\n",
      "900\n",
      "accuracy: 0.514\n"
     ]
    },
    {
     "data": {
      "image/png": "[encoded data removed]",
      "text/plain": [
       "<matplotlib.figure.Figure at 0x7fea7c5137b8>"
      ]
     },
     "metadata": {},
     "output_type": "display_data"
    },
    {
     "name": "stdout",
     "output_type": "stream",
     "text": [
      "Execution time : 3555.529062271118 seconds\n",
      "best num_lsi_topics= 3000 with accuracy score: 0.514\n"
     ]
    }
   ],
   "source": [
    "start=time.time()\n",
    "\n",
    "accuracy=[]\n",
    "num_lsi_topics_array = [25,30,35,40,50,60,70,80,90,100,200,300,400,500,600,700,800,900,1000,2000,3000,4000,5000,6000,7000]\n",
    "# Check various C\n",
    "for num_lsi_topics in num_lsi_topics_array:\n",
    "    print(num_lsi_topics)\n",
    "    # fit classifier \n",
    "    X_train_concepts,X_test_concepts = LSI_concepts(X_train,X_test,num_lsi_topics,words=vectorizer.get_feature_names())\n",
    "    \n",
    "    y_pred=cosine_pred(X_train_concepts,X_test_concepts,y_train, categories)\n",
    "    print(\"accuracy:\",accuracy_score(y_test,y_pred))\n",
    "    accuracy.append(accuracy_score(y_test,y_pred))\n",
    "\n",
    "# Plot\n",
    "plt.plot(num_lsi_topics_array,accuracy)\n",
    "plt.ylabel(\"accuracy Score\")\n",
    "plt.xlabel(\"number of topics values\")\n",
    "plt.show()\n",
    "\n",
    "end=time.time()\n",
    "print(\"Execution time : {} seconds\".format(end-start))\n",
    "best_c=num_lsi_topics_array[np.argmax(accuracy)]\n",
    "print(\"best num_lsi_topics=\",best_c,\"with accuracy score:\", np.max(accuracy))"
   ]
  },
  {
   "cell_type": "markdown",
   "metadata": {},
   "source": [
    "#### Latent Dirichlet Allocation LDA"
   ]
  },
  {
   "cell_type": "code",
   "execution_count": 59,
   "metadata": {
    "collapsed": false
   },
   "outputs": [
    {
     "ename": "KeyboardInterrupt",
     "evalue": "",
     "output_type": "error",
     "traceback": [
      "\u001b[0;31m---------------------------------------------------------------------------\u001b[0m",
      "\u001b[0;31mKeyboardInterrupt\u001b[0m                         Traceback (most recent call last)",
      "\u001b[0;32m<ipython-input-59-d65a4f5df579>\u001b[0m in \u001b[0;36m<module>\u001b[0;34m()\u001b[0m\n\u001b[1;32m      1\u001b[0m \u001b[0;31m# USE LSI number of concepts and then tune update every and passes\u001b[0m\u001b[0;34m\u001b[0m\u001b[0;34m\u001b[0m\u001b[0m\n\u001b[1;32m      2\u001b[0m \u001b[0mstart\u001b[0m \u001b[0;34m=\u001b[0m \u001b[0mtime\u001b[0m\u001b[0;34m.\u001b[0m\u001b[0mtime\u001b[0m\u001b[0;34m(\u001b[0m\u001b[0;34m)\u001b[0m\u001b[0;34m\u001b[0m\u001b[0m\n\u001b[0;32m----> 3\u001b[0;31m \u001b[0mX_train_concepts\u001b[0m\u001b[0;34m,\u001b[0m\u001b[0mX_test_concepts\u001b[0m \u001b[0;34m=\u001b[0m \u001b[0mLDA_concepts\u001b[0m\u001b[0;34m(\u001b[0m\u001b[0mX_train\u001b[0m\u001b[0;34m,\u001b[0m\u001b[0mX_test\u001b[0m\u001b[0;34m,\u001b[0m\u001b[0mnum_lda_topics\u001b[0m \u001b[0;34m=\u001b[0m \u001b[0;36m100\u001b[0m\u001b[0;34m,\u001b[0m\u001b[0mwords\u001b[0m\u001b[0;34m=\u001b[0m\u001b[0mvectorizer\u001b[0m\u001b[0;34m.\u001b[0m\u001b[0mget_feature_names\u001b[0m\u001b[0;34m(\u001b[0m\u001b[0;34m)\u001b[0m\u001b[0;34m)\u001b[0m\u001b[0;34m\u001b[0m\u001b[0m\n\u001b[0m\u001b[1;32m      4\u001b[0m \u001b[0my_pred\u001b[0m\u001b[0;34m=\u001b[0m\u001b[0mcosine_pred\u001b[0m\u001b[0;34m(\u001b[0m\u001b[0mX_train_concepts\u001b[0m\u001b[0;34m,\u001b[0m\u001b[0mX_test_concepts\u001b[0m\u001b[0;34m,\u001b[0m\u001b[0my_train\u001b[0m\u001b[0;34m,\u001b[0m\u001b[0mcategories\u001b[0m\u001b[0;34m)\u001b[0m\u001b[0;34m\u001b[0m\u001b[0m\n\u001b[1;32m      5\u001b[0m \u001b[0mprint\u001b[0m\u001b[0;34m(\u001b[0m\u001b[0;34m\"accuracy:\"\u001b[0m\u001b[0;34m,\u001b[0m\u001b[0maccuracy_score\u001b[0m\u001b[0;34m(\u001b[0m\u001b[0my_test\u001b[0m\u001b[0;34m,\u001b[0m\u001b[0my_pred\u001b[0m\u001b[0;34m)\u001b[0m\u001b[0;34m)\u001b[0m\u001b[0;34m\u001b[0m\u001b[0m\n",
      "\u001b[0;32m/home/pace/Documents/data_science/project-pace-mourad/adrian/feature_reduction.py\u001b[0m in \u001b[0;36mLDA_concepts\u001b[0;34m(X_train, X_test, num_lda_topics, words, update_every, passes)\u001b[0m\n\u001b[1;32m     44\u001b[0m     \u001b[0mcorpus\u001b[0m \u001b[0;34m=\u001b[0m \u001b[0mmatutils\u001b[0m\u001b[0;34m.\u001b[0m\u001b[0mDense2Corpus\u001b[0m\u001b[0;34m(\u001b[0m\u001b[0mX_train\u001b[0m\u001b[0;34m,\u001b[0m \u001b[0mdocuments_columns\u001b[0m\u001b[0;34m=\u001b[0m\u001b[0;32mFalse\u001b[0m\u001b[0;34m)\u001b[0m\u001b[0;34m\u001b[0m\u001b[0m\n\u001b[1;32m     45\u001b[0m     lsi_transformer = lda_transformer = models.LdaModel(corpus, id2word=dictionary, num_topics=num_lda_topics,\n\u001b[0;32m---> 46\u001b[0;31m                                                         update_every=update_every, passes=passes, alpha='auto')\n\u001b[0m\u001b[1;32m     47\u001b[0m     \u001b[0mcorpus_lda\u001b[0m \u001b[0;34m=\u001b[0m \u001b[0mlda_transformer\u001b[0m\u001b[0;34m[\u001b[0m\u001b[0mcorpus\u001b[0m\u001b[0;34m]\u001b[0m\u001b[0;34m\u001b[0m\u001b[0m\n\u001b[1;32m     48\u001b[0m     \u001b[0mX_train_concepts\u001b[0m \u001b[0;34m=\u001b[0m \u001b[0mmatutils\u001b[0m\u001b[0;34m.\u001b[0m\u001b[0mcorpus2dense\u001b[0m\u001b[0;34m(\u001b[0m\u001b[0mcorpus_lda\u001b[0m\u001b[0;34m,\u001b[0m \u001b[0mnum_terms\u001b[0m\u001b[0;34m=\u001b[0m\u001b[0mnum_lda_topics\u001b[0m\u001b[0;34m)\u001b[0m\u001b[0;34m.\u001b[0m\u001b[0mT\u001b[0m\u001b[0;34m\u001b[0m\u001b[0m\n",
      "\u001b[0;32m/home/pace/anaconda3/lib/python3.6/site-packages/gensim/models/ldamodel.py\u001b[0m in \u001b[0;36m__init__\u001b[0;34m(self, corpus, num_topics, id2word, distributed, chunksize, passes, update_every, alpha, eta, decay, offset, eval_every, iterations, gamma_threshold, minimum_probability, random_state, ns_conf, minimum_phi_value, per_word_topics)\u001b[0m\n\u001b[1;32m    327\u001b[0m         \u001b[0mself\u001b[0m\u001b[0;34m.\u001b[0m\u001b[0mstate\u001b[0m \u001b[0;34m=\u001b[0m \u001b[0mLdaState\u001b[0m\u001b[0;34m(\u001b[0m\u001b[0mself\u001b[0m\u001b[0;34m.\u001b[0m\u001b[0meta\u001b[0m\u001b[0;34m,\u001b[0m \u001b[0;34m(\u001b[0m\u001b[0mself\u001b[0m\u001b[0;34m.\u001b[0m\u001b[0mnum_topics\u001b[0m\u001b[0;34m,\u001b[0m \u001b[0mself\u001b[0m\u001b[0;34m.\u001b[0m\u001b[0mnum_terms\u001b[0m\u001b[0;34m)\u001b[0m\u001b[0;34m)\u001b[0m\u001b[0;34m\u001b[0m\u001b[0m\n\u001b[1;32m    328\u001b[0m         \u001b[0mself\u001b[0m\u001b[0;34m.\u001b[0m\u001b[0mstate\u001b[0m\u001b[0;34m.\u001b[0m\u001b[0msstats\u001b[0m \u001b[0;34m=\u001b[0m \u001b[0mself\u001b[0m\u001b[0;34m.\u001b[0m\u001b[0mrandom_state\u001b[0m\u001b[0;34m.\u001b[0m\u001b[0mgamma\u001b[0m\u001b[0;34m(\u001b[0m\u001b[0;36m100.\u001b[0m\u001b[0;34m,\u001b[0m \u001b[0;36m1.\u001b[0m \u001b[0;34m/\u001b[0m \u001b[0;36m100.\u001b[0m\u001b[0;34m,\u001b[0m \u001b[0;34m(\u001b[0m\u001b[0mself\u001b[0m\u001b[0;34m.\u001b[0m\u001b[0mnum_topics\u001b[0m\u001b[0;34m,\u001b[0m \u001b[0mself\u001b[0m\u001b[0;34m.\u001b[0m\u001b[0mnum_terms\u001b[0m\u001b[0;34m)\u001b[0m\u001b[0;34m)\u001b[0m\u001b[0;34m\u001b[0m\u001b[0m\n\u001b[0;32m--> 329\u001b[0;31m         \u001b[0mself\u001b[0m\u001b[0;34m.\u001b[0m\u001b[0mexpElogbeta\u001b[0m \u001b[0;34m=\u001b[0m \u001b[0mnp\u001b[0m\u001b[0;34m.\u001b[0m\u001b[0mexp\u001b[0m\u001b[0;34m(\u001b[0m\u001b[0mdirichlet_expectation\u001b[0m\u001b[0;34m(\u001b[0m\u001b[0mself\u001b[0m\u001b[0;34m.\u001b[0m\u001b[0mstate\u001b[0m\u001b[0;34m.\u001b[0m\u001b[0msstats\u001b[0m\u001b[0;34m)\u001b[0m\u001b[0;34m)\u001b[0m\u001b[0;34m\u001b[0m\u001b[0m\n\u001b[0m\u001b[1;32m    330\u001b[0m \u001b[0;34m\u001b[0m\u001b[0m\n\u001b[1;32m    331\u001b[0m         \u001b[0;31m# if a training corpus was provided, start estimating the model right away\u001b[0m\u001b[0;34m\u001b[0m\u001b[0;34m\u001b[0m\u001b[0m\n",
      "\u001b[0;32m/home/pace/anaconda3/lib/python3.6/site-packages/gensim/matutils.py\u001b[0m in \u001b[0;36mdirichlet_expectation\u001b[0;34m(alpha)\u001b[0m\n\u001b[1;32m    538\u001b[0m         \u001b[0mresult\u001b[0m \u001b[0;34m=\u001b[0m \u001b[0mpsi\u001b[0m\u001b[0;34m(\u001b[0m\u001b[0malpha\u001b[0m\u001b[0;34m)\u001b[0m \u001b[0;34m-\u001b[0m \u001b[0mpsi\u001b[0m\u001b[0;34m(\u001b[0m\u001b[0mnp\u001b[0m\u001b[0;34m.\u001b[0m\u001b[0msum\u001b[0m\u001b[0;34m(\u001b[0m\u001b[0malpha\u001b[0m\u001b[0;34m)\u001b[0m\u001b[0;34m)\u001b[0m\u001b[0;34m\u001b[0m\u001b[0m\n\u001b[1;32m    539\u001b[0m     \u001b[0;32melse\u001b[0m\u001b[0;34m:\u001b[0m\u001b[0;34m\u001b[0m\u001b[0m\n\u001b[0;32m--> 540\u001b[0;31m         \u001b[0mresult\u001b[0m \u001b[0;34m=\u001b[0m \u001b[0mpsi\u001b[0m\u001b[0;34m(\u001b[0m\u001b[0malpha\u001b[0m\u001b[0;34m)\u001b[0m \u001b[0;34m-\u001b[0m \u001b[0mpsi\u001b[0m\u001b[0;34m(\u001b[0m\u001b[0mnp\u001b[0m\u001b[0;34m.\u001b[0m\u001b[0msum\u001b[0m\u001b[0;34m(\u001b[0m\u001b[0malpha\u001b[0m\u001b[0;34m,\u001b[0m \u001b[0;36m1\u001b[0m\u001b[0;34m)\u001b[0m\u001b[0;34m)\u001b[0m\u001b[0;34m[\u001b[0m\u001b[0;34m:\u001b[0m\u001b[0;34m,\u001b[0m \u001b[0mnp\u001b[0m\u001b[0;34m.\u001b[0m\u001b[0mnewaxis\u001b[0m\u001b[0;34m]\u001b[0m\u001b[0;34m\u001b[0m\u001b[0m\n\u001b[0m\u001b[1;32m    541\u001b[0m     \u001b[0;32mreturn\u001b[0m \u001b[0mresult\u001b[0m\u001b[0;34m.\u001b[0m\u001b[0mastype\u001b[0m\u001b[0;34m(\u001b[0m\u001b[0malpha\u001b[0m\u001b[0;34m.\u001b[0m\u001b[0mdtype\u001b[0m\u001b[0;34m)\u001b[0m  \u001b[0;31m# keep the same precision as input\u001b[0m\u001b[0;34m\u001b[0m\u001b[0m\n\u001b[1;32m    542\u001b[0m \u001b[0;34m\u001b[0m\u001b[0m\n",
      "\u001b[0;31mKeyboardInterrupt\u001b[0m: "
     ]
    }
   ],
   "source": [
    "# USE LSI number of concepts and then tune update every and passes\n",
    "start = time.time()\n",
    "X_train_concepts,X_test_concepts = LDA_concepts(X_train,X_test,num_lda_topics = 100,words=vectorizer.get_feature_names())\n",
    "y_pred=cosine_pred(X_train_concepts,X_test_concepts,y_train,categories)\n",
    "print(\"accuracy:\",accuracy_score(y_test,y_pred))\n",
    "\n",
    "end=time.time()\n",
    "print(\"Execution time : {} seconds\".format(end-start))"
   ]
  },
  {
   "cell_type": "code",
   "execution_count": null,
   "metadata": {
    "collapsed": true
   },
   "outputs": [],
   "source": [
    "start=time.time()\n",
    "\n",
    "accuracy=[]\n",
    "num_lda_topics_array = [25,30,35,40,50,60,70,80,90,100,200,300,400,500,600,700,800,900,1000,2000,3000,4000,5000,6000,7000]\n",
    "# Check various C\n",
    "for num_lda_topics in num_lda_topics_array:\n",
    "    print(num_lda_topics)\n",
    "    # fit classifier \n",
    "    X_train_concepts,X_test_concepts = LDA_concepts(X_train,X_test,num_lsi_topics,words=vectorizer.get_feature_names())\n",
    "    \n",
    "    y_pred=cosine_pred(X_train_concepts,X_test_concepts,y_train, categories)\n",
    "    print(\"accuracy:\",accuracy_score(y_test,y_pred))\n",
    "    accuracy.append(accuracy_score(y_test,y_pred))\n",
    "\n",
    "# Plot\n",
    "plt.plot(num_lda_topics_array,accuracy)\n",
    "plt.ylabel(\"accuracy Score\")\n",
    "plt.xlabel(\"Number of topics values\")\n",
    "plt.show()\n",
    "\n",
    "end=time.time()\n",
    "print(\"Execution time : {} seconds\".format(end-start))\n",
    "best_c=num_lsi_topics_array[np.argmax(accuracy)]\n",
    "print(\"best num_lsi_topics=\",best_c,\"with accuracy score:\", np.max(accuracy))"
   ]
  },
  {
   "cell_type": "code",
   "execution_count": null,
   "metadata": {
    "collapsed": true
   },
   "outputs": [],
   "source": []
  },
  {
   "cell_type": "code",
   "execution_count": null,
   "metadata": {
    "collapsed": true
   },
   "outputs": [],
   "source": []
  },
  {
   "cell_type": "code",
   "execution_count": null,
   "metadata": {
    "collapsed": true
   },
   "outputs": [],
   "source": []
  },
  {
   "cell_type": "markdown",
   "metadata": {},
   "source": [
    "## Regression"
   ]
  },
  {
   "cell_type": "markdown",
   "metadata": {},
   "source": [
    "#### dummy classifier"
   ]
  },
  {
   "cell_type": "markdown",
   "metadata": {},
   "source": [
    "Baseline model: Assign the categories randomly."
   ]
  },
  {
   "cell_type": "code",
   "execution_count": 113,
   "metadata": {
    "collapsed": false
   },
   "outputs": [
    {
     "name": "stdout",
     "output_type": "stream",
     "text": [
      "mean_absolute_error: 0.853789825\n"
     ]
    }
   ],
   "source": [
    "from sklearn.dummy import DummyRegressor\n",
    "from sklearn.metrics import mean_absolute_error\n",
    "dmy=DummyRegressor()\n",
    "dmy.fit(X_train,y_train)\n",
    "y_pred=dmy.predict(X_test)\n",
    "print(\"mean_absolute_error:\",mean_absolute_error(y_test,y_pred))"
   ]
  },
  {
   "cell_type": "markdown",
   "metadata": {},
   "source": [
    "#### Ridge"
   ]
  },
  {
   "cell_type": "code",
   "execution_count": null,
   "metadata": {
    "collapsed": true,
    "scrolled": true
   },
   "outputs": [],
   "source": [
    "from sklearn.linear_model import Ridge\n",
    "\n",
    "parameter_search(Ridge(),\n",
    "                {'alpha':np.logspace(-5,5,40)},\n",
    "                X_train,\n",
    "                np.array(y_train), save_file=save_location+'/ridge.png',scoring='neg_mean_absolute_error')\n"
   ]
  },
  {
   "cell_type": "markdown",
   "metadata": {
    "collapsed": true
   },
   "source": [
    "#### LS"
   ]
  },
  {
   "cell_type": "code",
   "execution_count": 106,
   "metadata": {
    "collapsed": false
   },
   "outputs": [
    {
     "name": "stdout",
     "output_type": "stream",
     "text": [
      "(40000, 22110)\n",
      "[CV]  ................................................................\n",
      "[CV]  ................................................................\n",
      "[CV]  ................................................................\n",
      "[CV]  ................................................................\n",
      "[CV] ................................................. , total=  52.8s\n",
      "[CV]  ................................................................\n",
      "[CV] ................................................. , total=  56.7s\n",
      "[CV] ................................................. , total=  58.9s\n",
      "[CV] ................................................. , total=  59.1s\n",
      "[CV] ................................................. , total=  19.2s\n",
      "Mean CV valdiation score: -0.724936871698\n"
     ]
    },
    {
     "name": "stderr",
     "output_type": "stream",
     "text": [
      "[Parallel(n_jobs=-1)]: Done   5 out of   5 | elapsed:  1.2min finished\n"
     ]
    }
   ],
   "source": [
    "\n",
    "from sklearn.linear_model import LinearRegression\n",
    "from sklearn.model_selection import cross_val_score\n",
    "print (X_train.shape)\n",
    "ls=LinearRegression()\n",
    "print(\"Mean CV valdiation score:\",np.mean(cross_val_score(\n",
    "    ls,X_train,y_train,scoring='neg_mean_absolute_error',cv=5,verbose=2,n_jobs=-1)))"
   ]
  },
  {
   "cell_type": "markdown",
   "metadata": {
    "collapsed": true
   },
   "source": [
    "-0.8 neg_MAE with 50000 just counts"
   ]
  },
  {
   "cell_type": "markdown",
   "metadata": {
    "collapsed": true
   },
   "source": [
    "-0.724936871698 neg_MAE with 50000 all features"
   ]
  },
  {
   "cell_type": "markdown",
   "metadata": {
    "collapsed": true
   },
   "source": [
    " -0.730031544571 neg_MAE with 50000 only words"
   ]
  },
  {
   "cell_type": "code",
   "execution_count": null,
   "metadata": {
    "collapsed": true
   },
   "outputs": [],
   "source": [
    "from sklearn.linear_model import LinearRegression\n",
    "from sklearn.metrics import mean_absolute_error\n",
    "ls=LinearRegression()\n",
    "ls.fit(X_train,y_train)\n",
    "y_pred=ls.predict(X_test)\n",
    "print(mean_absolute_error(y_test,y_pred))\n",
    "y_pred=np.round(y_pred)\n",
    "y_pred=np.where(y_pred>5,5,y_pred)\n",
    "y_pred=np.where(y_pred<1,1,y_pred)"
   ]
  },
  {
   "cell_type": "code",
   "execution_count": null,
   "metadata": {
    "collapsed": true
   },
   "outputs": [],
   "source": []
  },
  {
   "cell_type": "code",
   "execution_count": null,
   "metadata": {
    "collapsed": true
   },
   "outputs": [],
   "source": []
  },
  {
   "cell_type": "code",
   "execution_count": null,
   "metadata": {
    "collapsed": true
   },
   "outputs": [],
   "source": []
  },
  {
   "cell_type": "code",
   "execution_count": null,
   "metadata": {
    "collapsed": true
   },
   "outputs": [],
   "source": []
  },
  {
   "cell_type": "code",
   "execution_count": null,
   "metadata": {
    "collapsed": true
   },
   "outputs": [],
   "source": []
  },
  {
   "cell_type": "code",
   "execution_count": null,
   "metadata": {
    "collapsed": true
   },
   "outputs": [],
   "source": []
  }
 ],
 "metadata": {
  "kernelspec": {
   "display_name": "Python 3",
   "language": "python",
   "name": "python3"
  },
  "language_info": {
   "codemirror_mode": {
    "name": "ipython",
    "version": 3
   },
   "file_extension": ".py",
   "mimetype": "text/x-python",
   "name": "python",
   "nbconvert_exporter": "python",
   "pygments_lexer": "ipython3",
   "version": "3.6.0"
  }
 },
 "nbformat": 4,
 "nbformat_minor": 2
}
