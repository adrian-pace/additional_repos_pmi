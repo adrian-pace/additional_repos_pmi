{
 "cells": [
  {
   "cell_type": "code",
   "execution_count": 1,
   "metadata": {
    "collapsed": false
   },
   "outputs": [],
   "source": [
    "from gensim import corpora, models\n",
    "from sklearn.model_selection import train_test_split\n",
    "from sklearn import preprocessing\n",
    "from sklearn.feature_extraction.text import CountVectorizer, TfidfVectorizer\n",
    "from nltk.stem.snowball import EnglishStemmer\n",
    "\n",
    "from sklearn.tree import DecisionTreeClassifier\n",
    "from sklearn.metrics.pairwise import cosine_similarity\n",
    "from sklearn.metrics import accuracy_score\n",
    "from sklearn.linear_model import LogisticRegression\n",
    "from sklearn.svm import SVC\n",
    "\n",
    "from src.preprocessing import *\n",
    "from src.feature_reduction import *\n",
    "from src.classifiers import *\n",
    "from src.plots import *\n",
    "from src.CV import *\n",
    "\n",
    "import time\n",
    "import gc\n",
    "import os\n",
    "import gc\n",
    "import psutil\n",
    "\n",
    "\n",
    "import pandas as pd\n",
    "import matplotlib as mpl\n",
    "import sklearn as sk\n",
    "import numpy as np\n",
    "import matplotlib.pyplot as plt\n",
    "import sklearn.preprocessing as prepro\n",
    "%load_ext autoreload\n",
    "%autoreload 2\n",
    "%matplotlib inline\n"
   ]
  },
  {
   "cell_type": "code",
   "execution_count": 2,
   "metadata": {
    "collapsed": true
   },
   "outputs": [],
   "source": [
    "\n",
    "proc = psutil.Process(os.getpid())\n",
    "mem0 = proc.memory_info().rss"
   ]
  },
  {
   "cell_type": "markdown",
   "metadata": {},
   "source": [
    "PARAMETERS"
   ]
  },
  {
   "cell_type": "code",
   "execution_count": 3,
   "metadata": {
    "collapsed": true
   },
   "outputs": [],
   "source": [
    "sample_size=50000\n",
    "min_df=15\n",
    "max_df=0.4\n",
    "random_state=0\n",
    "tester = 1"
   ]
  },
  {
   "cell_type": "markdown",
   "metadata": {},
   "source": [
    "# Step 1"
   ]
  },
  {
   "cell_type": "markdown",
   "metadata": {},
   "source": [
    "## Data loading"
   ]
  },
  {
   "cell_type": "code",
   "execution_count": 4,
   "metadata": {
    "collapsed": true
   },
   "outputs": [],
   "source": [
    "df = pd.read_json(path_or_buf='amazon_step1.json',orient='records',lines=True)"
   ]
  },
  {
   "cell_type": "code",
   "execution_count": 156,
   "metadata": {
    "collapsed": false
   },
   "outputs": [
    {
     "data": {
      "text/plain": [
       "(96000, 10)"
      ]
     },
     "execution_count": 156,
     "metadata": {},
     "output_type": "execute_result"
    }
   ],
   "source": [
    "df.shape"
   ]
  },
  {
   "cell_type": "code",
   "execution_count": 5,
   "metadata": {
    "collapsed": true
   },
   "outputs": [],
   "source": [
    "# TODO remove sampling\n",
    "# Sampling to minimze computing cost\n",
    "df = df.sample(sample_size,random_state=random_state)\n",
    "#df.head()"
   ]
  },
  {
   "cell_type": "markdown",
   "metadata": {},
   "source": [
    "## Vectorizing the review text"
   ]
  },
  {
   "cell_type": "code",
   "execution_count": 6,
   "metadata": {
    "collapsed": true,
    "scrolled": false
   },
   "outputs": [],
   "source": [
    "# create a corpus class with an iterator that reads one corpus document per line without loading all into memory\n",
    "from gensim import corpora\n",
    "from gensim.parsing.preprocessing import STOPWORDS\n",
    "from nltk.stem import WordNetLemmatizer\n",
    "import enchant\n",
    "\n",
    "eng_dic = enchant.Dict(\"en_US\")\n",
    "\n",
    "lemmatizer = WordNetLemmatizer()\n",
    "documents = np.array(df['reviewText'])\n",
    "\n",
    "#print ('original: ',documents[tester], '\\n')\n"
   ]
  },
  {
   "cell_type": "code",
   "execution_count": 7,
   "metadata": {
    "collapsed": true
   },
   "outputs": [],
   "source": [
    "#Remove special characters\n",
    "documents_no_specials=remove_specials_characters(documents)\n",
    "# remove stop words and tokenize\n",
    "documents_no_stop= []\n",
    "for document in documents_no_specials:\n",
    "    new_text=[]\n",
    "    for word in document.lower().split():\n",
    "        if word not in STOPWORDS:\n",
    "            new_text.append(word)\n",
    "    documents_no_stop.append(new_text)\n",
    "    \n",
    "#print ('tokenize and remove stop words: ',documents_no_stop[tester], '\\n')"
   ]
  },
  {
   "cell_type": "code",
   "execution_count": 8,
   "metadata": {
    "collapsed": true
   },
   "outputs": [],
   "source": [
    "\n",
    "documents_no_stop_no_numeric = remove_numerical(documents_no_stop)\n",
    "#print ('remove numerics: ',documents_no_stop_no_numeric[tester], '\\n')\n"
   ]
  },
  {
   "cell_type": "code",
   "execution_count": 9,
   "metadata": {
    "collapsed": true
   },
   "outputs": [],
   "source": [
    "# lemmattizing tokens (better than stemming by taking word context into account)\n",
    "documents_no_stop_no_numeric_lemmatize = [[lemmatizer.lemmatize(token) for token in text] \n",
    "                                                    for text in documents_no_stop_no_numeric]\n",
    "\n",
    "#print ('lemmatize: ',documents_no_stop_no_numeric_lemmatize[tester], '\\n')"
   ]
  },
  {
   "cell_type": "code",
   "execution_count": 10,
   "metadata": {
    "collapsed": true
   },
   "outputs": [],
   "source": [
    "# remove non-english words\n",
    "documents_no_stop_no_numeric_lemmatize_english = [[token for token in text if (eng_dic.check(token)) ] \n",
    "                                                            for text in documents_no_stop_no_numeric_lemmatize]\n",
    "\n",
    "#print ('no english: ',documents_no_stop_no_numeric_lemmatize_english[tester], '\\n')"
   ]
  },
  {
   "cell_type": "code",
   "execution_count": 11,
   "metadata": {
    "collapsed": true
   },
   "outputs": [],
   "source": [
    "# create ready corpus\n",
    "df['reviewCleaned'] = [\" \".join(doc) for doc in documents_no_stop_no_numeric_lemmatize_english] \n"
   ]
  },
  {
   "cell_type": "code",
   "execution_count": 12,
   "metadata": {
    "collapsed": true
   },
   "outputs": [],
   "source": [
    "#vectorizer = CountVectorizer(max_df=max_df,min_df=min_df)\n",
    "vectorizer = CountVectorizer(min_df=2)\n",
    "vectorizer = TfidfVectorizer(min_df=2)\n",
    "# fit vectorizer, carry out vectorization and display results\n",
    "vectorizer.fit(df['reviewCleaned'])\n",
    "documents_vec = vectorizer.transform(df['reviewCleaned'])\n",
    "#print(documents_vec) # sparse matrix representation"
   ]
  },
  {
   "cell_type": "code",
   "execution_count": 13,
   "metadata": {
    "collapsed": false
   },
   "outputs": [
    {
     "name": "stdout",
     "output_type": "stream",
     "text": [
      "  (0, 23082)\t0.0773275678559\n",
      "  (0, 22951)\t0.166046761689\n",
      "  (0, 22639)\t0.0540658128102\n",
      "  (0, 22505)\t0.0531076418332\n",
      "  (0, 22391)\t0.0492957842987\n",
      "  (0, 22390)\t0.0375200286621\n",
      "  (0, 21965)\t0.0537765901532\n",
      "  (0, 21956)\t0.0596250780413\n",
      "  (0, 21500)\t0.074149978232\n",
      "  (0, 21251)\t0.117420022469\n",
      "  (0, 21231)\t0.042988352598\n",
      "  (0, 20916)\t0.0563298010266\n",
      "  (0, 20801)\t0.0747050890046\n",
      "  (0, 20699)\t0.0716266613476\n",
      "  (0, 20593)\t0.0368637369188\n",
      "  (0, 20247)\t0.0706154064267\n",
      "  (0, 19717)\t0.0515747490603\n",
      "  (0, 19573)\t0.108293707387\n",
      "  (0, 19572)\t0.0622990905558\n",
      "  (0, 19398)\t0.0977342977335\n",
      "  (0, 19167)\t0.0649636409747\n",
      "  (0, 18603)\t0.055393884448\n",
      "  (0, 18602)\t0.0411370910549\n",
      "  (0, 18386)\t0.0872184271258\n",
      "  (0, 18130)\t0.0641676923288\n",
      "  :\t:\n",
      "  (49997, 3726)\t0.190139668155\n",
      "  (49997, 2332)\t0.190897261999\n",
      "  (49997, 2198)\t0.16112861673\n",
      "  (49997, 1904)\t0.189491297727\n",
      "  (49997, 1040)\t0.192368440666\n",
      "  (49997, 1017)\t0.174160267018\n",
      "  (49997, 291)\t0.184107366473\n",
      "  (49998, 23002)\t0.207304504661\n",
      "  (49998, 22450)\t0.30164205374\n",
      "  (49998, 19517)\t0.320544585052\n",
      "  (49998, 19342)\t0.303456165065\n",
      "  (49998, 14797)\t0.310822830986\n",
      "  (49998, 12106)\t0.559540076372\n",
      "  (49998, 8893)\t0.154492979911\n",
      "  (49998, 6865)\t0.353762101466\n",
      "  (49998, 469)\t0.335396487813\n",
      "  (49999, 22505)\t0.322143363695\n",
      "  (49999, 21603)\t0.356436278326\n",
      "  (49999, 18786)\t0.468575525849\n",
      "  (49999, 18602)\t0.249531713848\n",
      "  (49999, 16938)\t0.353079003556\n",
      "  (49999, 13265)\t0.224143801671\n",
      "  (49999, 12796)\t0.285625520253\n",
      "  (49999, 11659)\t0.20005268535\n",
      "  (49999, 2118)\t0.436851796109\n"
     ]
    }
   ],
   "source": [
    "print(documents_vec)"
   ]
  },
  {
   "cell_type": "code",
   "execution_count": 14,
   "metadata": {
    "collapsed": false
   },
   "outputs": [
    {
     "name": "stdout",
     "output_type": "stream",
     "text": [
      "Allocation: 344.08%\n",
      "Unreference: -73.27%\n",
      "Collect: -0.34%\n",
      "Overall: 270.47%\n"
     ]
    }
   ],
   "source": [
    "proc = psutil.Process(os.getpid())\n",
    "mem1 = proc.memory_info().rss\n",
    "del lemmatizer, document,documents,documents_no_specials,documents_no_stop,documents_no_stop_no_numeric\n",
    "del documents_no_stop_no_numeric_lemmatize,documents_no_stop_no_numeric_lemmatize_english, eng_dic\n",
    "mem2 = proc.memory_info().rss\n",
    "gc.collect()\n",
    "mem3 = proc.memory_info().rss\n",
    "pdf = lambda x2, x1: 100.0 * (x2 - x1) / mem0\n",
    "print (\"Allocation: %0.2f%%\" % pdf(mem1, mem0))\n",
    "print (\"Unreference: %0.2f%%\" % pdf(mem2, mem1))\n",
    "print (\"Collect: %0.2f%%\" % pdf(mem3, mem2))\n",
    "print (\"Overall: %0.2f%%\" % pdf(mem3, mem0))\n",
    "\n",
    "\n"
   ]
  },
  {
   "cell_type": "markdown",
   "metadata": {},
   "source": [
    "## Category Prediction "
   ]
  },
  {
   "cell_type": "markdown",
   "metadata": {},
   "source": [
    "### Pre-Processing"
   ]
  },
  {
   "cell_type": "markdown",
   "metadata": {},
   "source": [
    "X is the review word vector. y are the corresponding categories.\n",
    "\n",
    "The data is Min/max scaled into [0;1]. It isn't standartize because we want positive values. One could try a normalization (l1 or l2 for example)\n",
    "\n",
    "We split the data into a train and test set. \n",
    "\n",
    "tf/idf is not relevant since words that appear often might suggest a category (such as 'book')"
   ]
  },
  {
   "cell_type": "code",
   "execution_count": 15,
   "metadata": {
    "collapsed": true,
    "scrolled": true
   },
   "outputs": [],
   "source": [
    "y=df['category']\n",
    "categories=np.unique(y)\n",
    "#X_scaled=preprocessing.normalize(documents_vec,norm='max', copy=False)\n",
    "proc.memory_info().rss\n",
    "X_scaled=documents_vec"
   ]
  },
  {
   "cell_type": "code",
   "execution_count": 16,
   "metadata": {
    "collapsed": true
   },
   "outputs": [],
   "source": [
    "X_train=X_scaled\n",
    "y_train=y"
   ]
  },
  {
   "cell_type": "code",
   "execution_count": 17,
   "metadata": {
    "collapsed": true
   },
   "outputs": [],
   "source": [
    "X_train, X_test, y_train, y_test = train_test_split(X_scaled, y, test_size=0.2, random_state=random_state)"
   ]
  },
  {
   "cell_type": "code",
   "execution_count": 18,
   "metadata": {
    "collapsed": false
   },
   "outputs": [
    {
     "data": {
      "text/plain": [
       "576946176"
      ]
     },
     "execution_count": 18,
     "metadata": {},
     "output_type": "execute_result"
    }
   ],
   "source": [
    "proc.memory_info().rss"
   ]
  },
  {
   "cell_type": "code",
   "execution_count": 171,
   "metadata": {
    "collapsed": true
   },
   "outputs": [],
   "source": [
    "# Numpy arrays\n",
    "#X_train=np.array(X_train)\n",
    "#X_test=np.array(X_test)\n",
    "#y_train=np.array(y_train)\n",
    "#y_test=np.array(y_test)"
   ]
  },
  {
   "cell_type": "markdown",
   "metadata": {},
   "source": [
    "### Trying Feature selection"
   ]
  },
  {
   "cell_type": "markdown",
   "metadata": {},
   "source": [
    "#### select k best"
   ]
  },
  {
   "cell_type": "code",
   "execution_count": 24,
   "metadata": {
    "collapsed": false
   },
   "outputs": [
    {
     "data": {
      "image/png": "[encoded data removed]",
      "text/plain": [
       "<matplotlib.figure.Figure at 0x7f69cd2c5b00>"
      ]
     },
     "metadata": {},
     "output_type": "display_data"
    },
    {
     "name": "stdout",
     "output_type": "stream",
     "text": [
      "Best k = 3244 with score : 0.593\n",
      "Execution time : 54.9113392829895 seconds\n"
     ]
    }
   ],
   "source": [
    "from sklearn.feature_selection import SelectKBest\n",
    "parameter_search_feature_selection(LogisticRegression(C=0.74438, n_jobs=-1),SelectKBest(),'k',np.logspace(2,3.7,10).astype(int),\n",
    "                                   X_train,y_train,random_state=random_state,save_fig='output_figs/slt_k_bst.png')"
   ]
  },
  {
   "cell_type": "markdown",
   "metadata": {},
   "source": [
    "#### Latent Semantic Indexing"
   ]
  },
  {
   "cell_type": "code",
   "execution_count": 55,
   "metadata": {
    "collapsed": true
   },
   "outputs": [],
   "source": [
    "X_train_concepts,X_test_concepts = LSI_concepts(X_train,X_test,num_lsi_topics = 100,words=vectorizer.get_feature_names())"
   ]
  },
  {
   "cell_type": "code",
   "execution_count": 82,
   "metadata": {
    "collapsed": false
   },
   "outputs": [
    {
     "name": "stdout",
     "output_type": "stream",
     "text": [
      "0\n",
      "100\n",
      "200\n",
      "300\n",
      "400\n",
      "500\n",
      "600\n",
      "700\n",
      "800\n",
      "900\n",
      "accuracy: 0.417\n",
      "Execution time : 15.908146142959595 seconds\n"
     ]
    }
   ],
   "source": [
    "start = time.time()\n",
    "\n",
    "y_pred=cosine_pred(X_train_concepts,X_test_concepts,y_train,categories)\n",
    "print(\"accuracy:\",accuracy_score(y_test,y_pred))\n",
    "\n",
    "end=time.time()\n",
    "print(\"Execution time : {} seconds\".format(end-start))"
   ]
  },
  {
   "cell_type": "code",
   "execution_count": 83,
   "metadata": {
    "collapsed": false,
    "scrolled": true
   },
   "outputs": [
    {
     "name": "stdout",
     "output_type": "stream",
     "text": [
      "25\n",
      "0\n",
      "100\n",
      "200\n",
      "300\n",
      "400\n",
      "500\n",
      "600\n",
      "700\n",
      "800\n",
      "900\n",
      "accuracy: 0.297\n",
      "30\n",
      "0\n",
      "100\n",
      "200\n",
      "300\n",
      "400\n",
      "500\n",
      "600\n",
      "700\n",
      "800\n",
      "900\n",
      "accuracy: 0.298\n",
      "35\n",
      "0\n",
      "100\n",
      "200\n",
      "300\n",
      "400\n",
      "500\n",
      "600\n",
      "700\n",
      "800\n",
      "900\n",
      "accuracy: 0.31\n",
      "40\n",
      "0\n",
      "100\n",
      "200\n",
      "300\n",
      "400\n",
      "500\n",
      "600\n",
      "700\n",
      "800\n",
      "900\n",
      "accuracy: 0.323\n",
      "50\n",
      "0\n",
      "100\n",
      "200\n",
      "300\n",
      "400\n",
      "500\n",
      "600\n",
      "700\n",
      "800\n",
      "900\n",
      "accuracy: 0.345\n",
      "60\n",
      "0\n",
      "100\n",
      "200\n",
      "300\n",
      "400\n",
      "500\n",
      "600\n",
      "700\n",
      "800\n",
      "900\n",
      "accuracy: 0.376\n",
      "70\n",
      "0\n",
      "100\n",
      "200\n",
      "300\n",
      "400\n",
      "500\n",
      "600\n",
      "700\n",
      "800\n",
      "900\n",
      "accuracy: 0.385\n",
      "80\n",
      "0\n",
      "100\n",
      "200\n",
      "300\n",
      "400\n",
      "500\n",
      "600\n",
      "700\n",
      "800\n",
      "900\n",
      "accuracy: 0.393\n",
      "90\n",
      "0\n",
      "100\n",
      "200\n",
      "300\n",
      "400\n",
      "500\n",
      "600\n",
      "700\n",
      "800\n",
      "900\n",
      "accuracy: 0.424\n",
      "100\n",
      "0\n",
      "100\n",
      "200\n",
      "300\n",
      "400\n",
      "500\n",
      "600\n",
      "700\n",
      "800\n",
      "900\n",
      "accuracy: 0.424\n",
      "200\n",
      "0\n",
      "100\n",
      "200\n",
      "300\n",
      "400\n",
      "500\n",
      "600\n",
      "700\n",
      "800\n",
      "900\n",
      "accuracy: 0.465\n",
      "300\n",
      "0\n",
      "100\n",
      "200\n",
      "300\n",
      "400\n",
      "500\n",
      "600\n",
      "700\n",
      "800\n",
      "900\n",
      "accuracy: 0.477\n",
      "400\n",
      "0\n",
      "100\n",
      "200\n",
      "300\n",
      "400\n",
      "500\n",
      "600\n",
      "700\n",
      "800\n",
      "900\n",
      "accuracy: 0.489\n",
      "500\n",
      "0\n",
      "100\n",
      "200\n",
      "300\n",
      "400\n",
      "500\n",
      "600\n",
      "700\n",
      "800\n",
      "900\n",
      "accuracy: 0.494\n",
      "600\n",
      "0\n",
      "100\n",
      "200\n",
      "300\n",
      "400\n",
      "500\n",
      "600\n",
      "700\n",
      "800\n",
      "900\n",
      "accuracy: 0.501\n",
      "700\n",
      "0\n",
      "100\n",
      "200\n",
      "300\n",
      "400\n",
      "500\n",
      "600\n",
      "700\n",
      "800\n",
      "900\n",
      "accuracy: 0.502\n",
      "800\n",
      "0\n",
      "100\n",
      "200\n",
      "300\n",
      "400\n",
      "500\n",
      "600\n",
      "700\n",
      "800\n",
      "900\n",
      "accuracy: 0.502\n",
      "900\n",
      "0\n",
      "100\n",
      "200\n",
      "300\n",
      "400\n",
      "500\n",
      "600\n",
      "700\n",
      "800\n",
      "900\n",
      "accuracy: 0.507\n",
      "1000\n",
      "0\n",
      "100\n",
      "200\n",
      "300\n",
      "400\n",
      "500\n",
      "600\n",
      "700\n",
      "800\n",
      "900\n",
      "accuracy: 0.504\n",
      "2000\n",
      "0\n",
      "100\n",
      "200\n",
      "300\n",
      "400\n",
      "500\n",
      "600\n",
      "700\n",
      "800\n",
      "900\n",
      "accuracy: 0.513\n",
      "3000\n",
      "0\n",
      "100\n",
      "200\n",
      "300\n",
      "400\n",
      "500\n",
      "600\n",
      "700\n",
      "800\n",
      "900\n",
      "accuracy: 0.514\n",
      "4000\n",
      "0\n",
      "100\n",
      "200\n",
      "300\n",
      "400\n",
      "500\n",
      "600\n",
      "700\n",
      "800\n",
      "900\n",
      "accuracy: 0.514\n",
      "5000\n",
      "0\n",
      "100\n",
      "200\n",
      "300\n",
      "400\n",
      "500\n",
      "600\n",
      "700\n",
      "800\n",
      "900\n",
      "accuracy: 0.514\n",
      "6000\n",
      "0\n",
      "100\n",
      "200\n",
      "300\n",
      "400\n",
      "500\n",
      "600\n",
      "700\n",
      "800\n",
      "900\n",
      "accuracy: 0.514\n",
      "7000\n",
      "0\n",
      "100\n",
      "200\n",
      "300\n",
      "400\n",
      "500\n",
      "600\n",
      "700\n",
      "800\n",
      "900\n",
      "accuracy: 0.514\n"
     ]
    },
    {
     "data": {
      "image/png": "[encoded data removed]",
      "text/plain": [
       "<matplotlib.figure.Figure at 0x7fea7c5137b8>"
      ]
     },
     "metadata": {},
     "output_type": "display_data"
    },
    {
     "name": "stdout",
     "output_type": "stream",
     "text": [
      "Execution time : 3555.529062271118 seconds\n",
      "best num_lsi_topics= 3000 with accuracy score: 0.514\n"
     ]
    }
   ],
   "source": [
    "start=time.time()\n",
    "\n",
    "accuracy=[]\n",
    "num_lsi_topics_array = [25,30,35,40,50,60,70,80,90,100,200,300,400,500,600,700,800,900,1000,2000,3000,4000,5000,6000,7000]\n",
    "# Check various C\n",
    "for num_lsi_topics in num_lsi_topics_array:\n",
    "    print(num_lsi_topics)\n",
    "    # fit classifier \n",
    "    X_train_concepts,X_test_concepts = LSI_concepts(X_train,X_test,num_lsi_topics,words=vectorizer.get_feature_names())\n",
    "    \n",
    "    y_pred=cosine_pred(X_train_concepts,X_test_concepts,y_train, categories)\n",
    "    print(\"accuracy:\",accuracy_score(y_test,y_pred))\n",
    "    accuracy.append(accuracy_score(y_test,y_pred))\n",
    "\n",
    "# Plot\n",
    "plt.plot(num_lsi_topics_array,accuracy)\n",
    "plt.ylabel(\"accuracy Score\")\n",
    "plt.xlabel(\"number of topics values\")\n",
    "plt.show()\n",
    "\n",
    "end=time.time()\n",
    "print(\"Execution time : {} seconds\".format(end-start))\n",
    "best_c=num_lsi_topics_array[np.argmax(accuracy)]\n",
    "print(\"best num_lsi_topics=\",best_c,\"with accuracy score:\", np.max(accuracy))"
   ]
  },
  {
   "cell_type": "markdown",
   "metadata": {},
   "source": [
    "#### Latent Dirichlet Allocation LDA"
   ]
  },
  {
   "cell_type": "code",
   "execution_count": 59,
   "metadata": {
    "collapsed": false
   },
   "outputs": [
    {
     "ename": "KeyboardInterrupt",
     "evalue": "",
     "output_type": "error",
     "traceback": [
      "\u001b[0;31m---------------------------------------------------------------------------\u001b[0m",
      "\u001b[0;31mKeyboardInterrupt\u001b[0m                         Traceback (most recent call last)",
      "\u001b[0;32m<ipython-input-59-d65a4f5df579>\u001b[0m in \u001b[0;36m<module>\u001b[0;34m()\u001b[0m\n\u001b[1;32m      1\u001b[0m \u001b[0;31m# USE LSI number of concepts and then tune update every and passes\u001b[0m\u001b[0;34m\u001b[0m\u001b[0;34m\u001b[0m\u001b[0m\n\u001b[1;32m      2\u001b[0m \u001b[0mstart\u001b[0m \u001b[0;34m=\u001b[0m \u001b[0mtime\u001b[0m\u001b[0;34m.\u001b[0m\u001b[0mtime\u001b[0m\u001b[0;34m(\u001b[0m\u001b[0;34m)\u001b[0m\u001b[0;34m\u001b[0m\u001b[0m\n\u001b[0;32m----> 3\u001b[0;31m \u001b[0mX_train_concepts\u001b[0m\u001b[0;34m,\u001b[0m\u001b[0mX_test_concepts\u001b[0m \u001b[0;34m=\u001b[0m \u001b[0mLDA_concepts\u001b[0m\u001b[0;34m(\u001b[0m\u001b[0mX_train\u001b[0m\u001b[0;34m,\u001b[0m\u001b[0mX_test\u001b[0m\u001b[0;34m,\u001b[0m\u001b[0mnum_lda_topics\u001b[0m \u001b[0;34m=\u001b[0m \u001b[0;36m100\u001b[0m\u001b[0;34m,\u001b[0m\u001b[0mwords\u001b[0m\u001b[0;34m=\u001b[0m\u001b[0mvectorizer\u001b[0m\u001b[0;34m.\u001b[0m\u001b[0mget_feature_names\u001b[0m\u001b[0;34m(\u001b[0m\u001b[0;34m)\u001b[0m\u001b[0;34m)\u001b[0m\u001b[0;34m\u001b[0m\u001b[0m\n\u001b[0m\u001b[1;32m      4\u001b[0m \u001b[0my_pred\u001b[0m\u001b[0;34m=\u001b[0m\u001b[0mcosine_pred\u001b[0m\u001b[0;34m(\u001b[0m\u001b[0mX_train_concepts\u001b[0m\u001b[0;34m,\u001b[0m\u001b[0mX_test_concepts\u001b[0m\u001b[0;34m,\u001b[0m\u001b[0my_train\u001b[0m\u001b[0;34m,\u001b[0m\u001b[0mcategories\u001b[0m\u001b[0;34m)\u001b[0m\u001b[0;34m\u001b[0m\u001b[0m\n\u001b[1;32m      5\u001b[0m \u001b[0mprint\u001b[0m\u001b[0;34m(\u001b[0m\u001b[0;34m\"accuracy:\"\u001b[0m\u001b[0;34m,\u001b[0m\u001b[0maccuracy_score\u001b[0m\u001b[0;34m(\u001b[0m\u001b[0my_test\u001b[0m\u001b[0;34m,\u001b[0m\u001b[0my_pred\u001b[0m\u001b[0;34m)\u001b[0m\u001b[0;34m)\u001b[0m\u001b[0;34m\u001b[0m\u001b[0m\n",
      "\u001b[0;32m/home/pace/Documents/data_science/project-pace-mourad/adrian/feature_reduction.py\u001b[0m in \u001b[0;36mLDA_concepts\u001b[0;34m(X_train, X_test, num_lda_topics, words, update_every, passes)\u001b[0m\n\u001b[1;32m     44\u001b[0m     \u001b[0mcorpus\u001b[0m \u001b[0;34m=\u001b[0m \u001b[0mmatutils\u001b[0m\u001b[0;34m.\u001b[0m\u001b[0mDense2Corpus\u001b[0m\u001b[0;34m(\u001b[0m\u001b[0mX_train\u001b[0m\u001b[0;34m,\u001b[0m \u001b[0mdocuments_columns\u001b[0m\u001b[0;34m=\u001b[0m\u001b[0;32mFalse\u001b[0m\u001b[0;34m)\u001b[0m\u001b[0;34m\u001b[0m\u001b[0m\n\u001b[1;32m     45\u001b[0m     lsi_transformer = lda_transformer = models.LdaModel(corpus, id2word=dictionary, num_topics=num_lda_topics,\n\u001b[0;32m---> 46\u001b[0;31m                                                         update_every=update_every, passes=passes, alpha='auto')\n\u001b[0m\u001b[1;32m     47\u001b[0m     \u001b[0mcorpus_lda\u001b[0m \u001b[0;34m=\u001b[0m \u001b[0mlda_transformer\u001b[0m\u001b[0;34m[\u001b[0m\u001b[0mcorpus\u001b[0m\u001b[0;34m]\u001b[0m\u001b[0;34m\u001b[0m\u001b[0m\n\u001b[1;32m     48\u001b[0m     \u001b[0mX_train_concepts\u001b[0m \u001b[0;34m=\u001b[0m \u001b[0mmatutils\u001b[0m\u001b[0;34m.\u001b[0m\u001b[0mcorpus2dense\u001b[0m\u001b[0;34m(\u001b[0m\u001b[0mcorpus_lda\u001b[0m\u001b[0;34m,\u001b[0m \u001b[0mnum_terms\u001b[0m\u001b[0;34m=\u001b[0m\u001b[0mnum_lda_topics\u001b[0m\u001b[0;34m)\u001b[0m\u001b[0;34m.\u001b[0m\u001b[0mT\u001b[0m\u001b[0;34m\u001b[0m\u001b[0m\n",
      "\u001b[0;32m/home/pace/anaconda3/lib/python3.6/site-packages/gensim/models/ldamodel.py\u001b[0m in \u001b[0;36m__init__\u001b[0;34m(self, corpus, num_topics, id2word, distributed, chunksize, passes, update_every, alpha, eta, decay, offset, eval_every, iterations, gamma_threshold, minimum_probability, random_state, ns_conf, minimum_phi_value, per_word_topics)\u001b[0m\n\u001b[1;32m    327\u001b[0m         \u001b[0mself\u001b[0m\u001b[0;34m.\u001b[0m\u001b[0mstate\u001b[0m \u001b[0;34m=\u001b[0m \u001b[0mLdaState\u001b[0m\u001b[0;34m(\u001b[0m\u001b[0mself\u001b[0m\u001b[0;34m.\u001b[0m\u001b[0meta\u001b[0m\u001b[0;34m,\u001b[0m \u001b[0;34m(\u001b[0m\u001b[0mself\u001b[0m\u001b[0;34m.\u001b[0m\u001b[0mnum_topics\u001b[0m\u001b[0;34m,\u001b[0m \u001b[0mself\u001b[0m\u001b[0;34m.\u001b[0m\u001b[0mnum_terms\u001b[0m\u001b[0;34m)\u001b[0m\u001b[0;34m)\u001b[0m\u001b[0;34m\u001b[0m\u001b[0m\n\u001b[1;32m    328\u001b[0m         \u001b[0mself\u001b[0m\u001b[0;34m.\u001b[0m\u001b[0mstate\u001b[0m\u001b[0;34m.\u001b[0m\u001b[0msstats\u001b[0m \u001b[0;34m=\u001b[0m \u001b[0mself\u001b[0m\u001b[0;34m.\u001b[0m\u001b[0mrandom_state\u001b[0m\u001b[0;34m.\u001b[0m\u001b[0mgamma\u001b[0m\u001b[0;34m(\u001b[0m\u001b[0;36m100.\u001b[0m\u001b[0;34m,\u001b[0m \u001b[0;36m1.\u001b[0m \u001b[0;34m/\u001b[0m \u001b[0;36m100.\u001b[0m\u001b[0;34m,\u001b[0m \u001b[0;34m(\u001b[0m\u001b[0mself\u001b[0m\u001b[0;34m.\u001b[0m\u001b[0mnum_topics\u001b[0m\u001b[0;34m,\u001b[0m \u001b[0mself\u001b[0m\u001b[0;34m.\u001b[0m\u001b[0mnum_terms\u001b[0m\u001b[0;34m)\u001b[0m\u001b[0;34m)\u001b[0m\u001b[0;34m\u001b[0m\u001b[0m\n\u001b[0;32m--> 329\u001b[0;31m         \u001b[0mself\u001b[0m\u001b[0;34m.\u001b[0m\u001b[0mexpElogbeta\u001b[0m \u001b[0;34m=\u001b[0m \u001b[0mnp\u001b[0m\u001b[0;34m.\u001b[0m\u001b[0mexp\u001b[0m\u001b[0;34m(\u001b[0m\u001b[0mdirichlet_expectation\u001b[0m\u001b[0;34m(\u001b[0m\u001b[0mself\u001b[0m\u001b[0;34m.\u001b[0m\u001b[0mstate\u001b[0m\u001b[0;34m.\u001b[0m\u001b[0msstats\u001b[0m\u001b[0;34m)\u001b[0m\u001b[0;34m)\u001b[0m\u001b[0;34m\u001b[0m\u001b[0m\n\u001b[0m\u001b[1;32m    330\u001b[0m \u001b[0;34m\u001b[0m\u001b[0m\n\u001b[1;32m    331\u001b[0m         \u001b[0;31m# if a training corpus was provided, start estimating the model right away\u001b[0m\u001b[0;34m\u001b[0m\u001b[0;34m\u001b[0m\u001b[0m\n",
      "\u001b[0;32m/home/pace/anaconda3/lib/python3.6/site-packages/gensim/matutils.py\u001b[0m in \u001b[0;36mdirichlet_expectation\u001b[0;34m(alpha)\u001b[0m\n\u001b[1;32m    538\u001b[0m         \u001b[0mresult\u001b[0m \u001b[0;34m=\u001b[0m \u001b[0mpsi\u001b[0m\u001b[0;34m(\u001b[0m\u001b[0malpha\u001b[0m\u001b[0;34m)\u001b[0m \u001b[0;34m-\u001b[0m \u001b[0mpsi\u001b[0m\u001b[0;34m(\u001b[0m\u001b[0mnp\u001b[0m\u001b[0;34m.\u001b[0m\u001b[0msum\u001b[0m\u001b[0;34m(\u001b[0m\u001b[0malpha\u001b[0m\u001b[0;34m)\u001b[0m\u001b[0;34m)\u001b[0m\u001b[0;34m\u001b[0m\u001b[0m\n\u001b[1;32m    539\u001b[0m     \u001b[0;32melse\u001b[0m\u001b[0;34m:\u001b[0m\u001b[0;34m\u001b[0m\u001b[0m\n\u001b[0;32m--> 540\u001b[0;31m         \u001b[0mresult\u001b[0m \u001b[0;34m=\u001b[0m \u001b[0mpsi\u001b[0m\u001b[0;34m(\u001b[0m\u001b[0malpha\u001b[0m\u001b[0;34m)\u001b[0m \u001b[0;34m-\u001b[0m \u001b[0mpsi\u001b[0m\u001b[0;34m(\u001b[0m\u001b[0mnp\u001b[0m\u001b[0;34m.\u001b[0m\u001b[0msum\u001b[0m\u001b[0;34m(\u001b[0m\u001b[0malpha\u001b[0m\u001b[0;34m,\u001b[0m \u001b[0;36m1\u001b[0m\u001b[0;34m)\u001b[0m\u001b[0;34m)\u001b[0m\u001b[0;34m[\u001b[0m\u001b[0;34m:\u001b[0m\u001b[0;34m,\u001b[0m \u001b[0mnp\u001b[0m\u001b[0;34m.\u001b[0m\u001b[0mnewaxis\u001b[0m\u001b[0;34m]\u001b[0m\u001b[0;34m\u001b[0m\u001b[0m\n\u001b[0m\u001b[1;32m    541\u001b[0m     \u001b[0;32mreturn\u001b[0m \u001b[0mresult\u001b[0m\u001b[0;34m.\u001b[0m\u001b[0mastype\u001b[0m\u001b[0;34m(\u001b[0m\u001b[0malpha\u001b[0m\u001b[0;34m.\u001b[0m\u001b[0mdtype\u001b[0m\u001b[0;34m)\u001b[0m  \u001b[0;31m# keep the same precision as input\u001b[0m\u001b[0;34m\u001b[0m\u001b[0m\n\u001b[1;32m    542\u001b[0m \u001b[0;34m\u001b[0m\u001b[0m\n",
      "\u001b[0;31mKeyboardInterrupt\u001b[0m: "
     ]
    }
   ],
   "source": [
    "# USE LSI number of concepts and then tune update every and passes\n",
    "start = time.time()\n",
    "X_train_concepts,X_test_concepts = LDA_concepts(X_train,X_test,num_lda_topics = 100,words=vectorizer.get_feature_names())\n",
    "y_pred=cosine_pred(X_train_concepts,X_test_concepts,y_train,categories)\n",
    "print(\"accuracy:\",accuracy_score(y_test,y_pred))\n",
    "\n",
    "end=time.time()\n",
    "print(\"Execution time : {} seconds\".format(end-start))"
   ]
  },
  {
   "cell_type": "code",
   "execution_count": null,
   "metadata": {
    "collapsed": true
   },
   "outputs": [],
   "source": [
    "start=time.time()\n",
    "\n",
    "accuracy=[]\n",
    "num_lda_topics_array = [25,30,35,40,50,60,70,80,90,100,200,300,400,500,600,700,800,900,1000,2000,3000,4000,5000,6000,7000]\n",
    "# Check various C\n",
    "for num_lda_topics in num_lda_topics_array:\n",
    "    print(num_lda_topics)\n",
    "    # fit classifier \n",
    "    X_train_concepts,X_test_concepts = LDA_concepts(X_train,X_test,num_lsi_topics,words=vectorizer.get_feature_names())\n",
    "    \n",
    "    y_pred=cosine_pred(X_train_concepts,X_test_concepts,y_train, categories)\n",
    "    print(\"accuracy:\",accuracy_score(y_test,y_pred))\n",
    "    accuracy.append(accuracy_score(y_test,y_pred))\n",
    "\n",
    "# Plot\n",
    "plt.plot(num_lda_topics_array,accuracy)\n",
    "plt.ylabel(\"accuracy Score\")\n",
    "plt.xlabel(\"Number of topics values\")\n",
    "plt.show()\n",
    "\n",
    "end=time.time()\n",
    "print(\"Execution time : {} seconds\".format(end-start))\n",
    "best_c=num_lsi_topics_array[np.argmax(accuracy)]\n",
    "print(\"best num_lsi_topics=\",best_c,\"with accuracy score:\", np.max(accuracy))"
   ]
  },
  {
   "cell_type": "code",
   "execution_count": null,
   "metadata": {
    "collapsed": true
   },
   "outputs": [],
   "source": []
  },
  {
   "cell_type": "code",
   "execution_count": null,
   "metadata": {
    "collapsed": true
   },
   "outputs": [],
   "source": []
  },
  {
   "cell_type": "code",
   "execution_count": null,
   "metadata": {
    "collapsed": true
   },
   "outputs": [],
   "source": []
  },
  {
   "cell_type": "code",
   "execution_count": null,
   "metadata": {
    "collapsed": true
   },
   "outputs": [],
   "source": []
  },
  {
   "cell_type": "markdown",
   "metadata": {},
   "source": [
    "### Classifying"
   ]
  },
  {
   "cell_type": "markdown",
   "metadata": {},
   "source": [
    "#### dummy classifier"
   ]
  },
  {
   "cell_type": "markdown",
   "metadata": {},
   "source": [
    "Baseline model: Assign the categories randomly."
   ]
  },
  {
   "cell_type": "code",
   "execution_count": 18,
   "metadata": {
    "collapsed": false
   },
   "outputs": [
    {
     "name": "stdout",
     "output_type": "stream",
     "text": [
      "accuracy: 0.049\n"
     ]
    }
   ],
   "source": [
    "from sklearn.dummy import DummyClassifier\n",
    "dmy=DummyClassifier(random_state=random_state)\n",
    "dmy.fit(X_train,y_train)\n",
    "y_pred=dmy.predict(X_test)\n",
    "print(\"accuracy:\",accuracy_score(y_test,y_pred))"
   ]
  },
  {
   "cell_type": "markdown",
   "metadata": {},
   "source": [
    "#### Cosine similarity"
   ]
  },
  {
   "cell_type": "markdown",
   "metadata": {},
   "source": [
    "For each category  we regroup the documents belonging to this category together. Then for each element we want to predict, we check how similar it is compared to each group (cosine similarity). The most similar group gives the category to the element."
   ]
  },
  {
   "cell_type": "code",
   "execution_count": 23,
   "metadata": {
    "collapsed": false,
    "scrolled": true
   },
   "outputs": [
    {
     "name": "stdout",
     "output_type": "stream",
     "text": [
      "[CV]  ................................................................\n",
      "[CV]  ................................................................\n",
      "0\n",
      "[CV]  ................................................................\n",
      "0\n",
      "[CV]  ................................................................\n",
      "0\n",
      "[CV]  ................................................................\n",
      "0\n",
      "0\n",
      "100\n",
      "100\n",
      "100\n",
      "100\n",
      "100\n",
      "200\n",
      "200\n",
      "200\n",
      "200\n",
      "200\n",
      "300\n",
      "300\n",
      "300\n",
      "300\n",
      "300\n",
      "400\n",
      "400\n",
      "400\n",
      "400\n",
      "400\n",
      "500\n",
      "500\n",
      "500\n",
      "500\n",
      "500\n",
      "600\n",
      "600\n",
      "600\n",
      "600\n",
      "600\n",
      "700\n",
      "700\n",
      "700\n",
      "700\n",
      "700\n",
      "[CV] ................................................. , total=14.7min\n",
      "[CV] ................................................. , total=14.9min\n"
     ]
    },
    {
     "name": "stderr",
     "output_type": "stream",
     "text": [
      "[Parallel(n_jobs=-1)]: Done   2 out of   5 | elapsed: 14.9min remaining: 22.3min\n"
     ]
    },
    {
     "name": "stdout",
     "output_type": "stream",
     "text": [
      "[CV] ................................................. , total=14.9min\n",
      "[CV] ................................................. , total=15.3min\n",
      "[CV] ................................................. , total=15.3min\n",
      "Mean CV valdiation score: 0.5125\n",
      "Execution time : 920.8456282615662 seconds\n"
     ]
    },
    {
     "name": "stderr",
     "output_type": "stream",
     "text": [
      "[Parallel(n_jobs=-1)]: Done   5 out of   5 | elapsed: 15.3min remaining:    0.0s\n",
      "[Parallel(n_jobs=-1)]: Done   5 out of   5 | elapsed: 15.3min finished\n"
     ]
    }
   ],
   "source": [
    "\n",
    "from sklearn.model_selection import cross_val_score\n",
    "\n",
    "\n",
    "start= time.time()\n",
    "cosine_classifier=Cosine_sim(categories)\n",
    "print(\"Mean CV valdiation score:\",np.mean(cross_val_score(\n",
    "    cosine_classifier,X_train,y_train,scoring='accuracy',cv=5,verbose=2,n_jobs=-1)))\n",
    "end=time.time()\n",
    "print(\"Execution time : {} seconds\".format(end-start))\n",
    "\n"
   ]
  },
  {
   "cell_type": "markdown",
   "metadata": {},
   "source": [
    "5000 samples Mean CV valdiation score: 0.5125\n",
    "Execution time : 920.8456282615662 seconds"
   ]
  },
  {
   "cell_type": "markdown",
   "metadata": {},
   "source": [
    "#### Decision tree"
   ]
  },
  {
   "cell_type": "markdown",
   "metadata": {},
   "source": [
    "Try various maximum depths for a classic decision tree classifier"
   ]
  },
  {
   "cell_type": "code",
   "execution_count": 46,
   "metadata": {
    "collapsed": false
   },
   "outputs": [
    {
     "name": "stdout",
     "output_type": "stream",
     "text": [
      "Fitting 5 folds for each of 40 candidates, totalling 200 fits\n",
      "[CV] max_depth=1 .....................................................\n",
      "[CV] max_depth=1 .....................................................\n",
      "[CV] max_depth=1 .....................................................\n",
      "[CV] ...................................... max_depth=1, total=   1.3s\n",
      "[CV] max_depth=1 .....................................................\n",
      "[CV] ...................................... max_depth=1, total=   1.3s\n",
      "[CV] max_depth=1 .....................................................\n",
      "[CV] ...................................... max_depth=1, total=   1.3s\n",
      "[CV] max_depth=11 ....................................................\n",
      "[CV] ...................................... max_depth=1, total=   1.2s\n",
      "[CV] max_depth=11 ....................................................\n",
      "[CV] ...................................... max_depth=1, total=   1.3s\n",
      "[CV] max_depth=11 ....................................................\n",
      "[CV] max_depth=11 ....................................................\n",
      "[CV] max_depth=11 ....................................................\n",
      "[CV] max_depth=21 ....................................................\n",
      "[CV] max_depth=21 ....................................................\n",
      "[CV] max_depth=21 ....................................................\n",
      "[CV] ..................................... max_depth=11, total=   7.5s\n",
      "[CV] max_depth=21 ....................................................\n",
      "[CV] ..................................... max_depth=11, total=   7.6s\n",
      "[CV] max_depth=21 ....................................................\n",
      "[CV] ..................................... max_depth=11, total=   8.5s\n",
      "[CV] max_depth=31 ....................................................\n",
      "[CV] ..................................... max_depth=11, total=   9.3s\n",
      "[CV] max_depth=31 ....................................................\n",
      "[CV] ..................................... max_depth=11, total=   9.1s\n",
      "[CV] max_depth=31 ....................................................\n",
      "[CV] ..................................... max_depth=21, total=  14.2s\n",
      "[CV] max_depth=31 ....................................................\n",
      "[CV] ..................................... max_depth=21, total=  15.0s\n",
      "[CV] max_depth=31 ....................................................\n",
      "[CV] ..................................... max_depth=21, total=  15.9s\n",
      "[CV] max_depth=41 ....................................................\n",
      "[CV] ..................................... max_depth=21, total=  15.5s\n",
      "[CV] max_depth=41 ....................................................\n",
      "[CV] ..................................... max_depth=21, total=  15.5s\n",
      "[CV] max_depth=41 ....................................................\n",
      "[CV] ..................................... max_depth=31, total=  18.9s\n",
      "[CV] max_depth=41 ....................................................\n",
      "[CV] ..................................... max_depth=31, total=  18.4s\n",
      "[CV] max_depth=41 ....................................................\n",
      "[CV] ..................................... max_depth=31, total=  19.2s\n",
      "[CV] max_depth=51 ....................................................\n",
      "[CV] ..................................... max_depth=31, total=  18.6s\n",
      "[CV] max_depth=51 ....................................................\n",
      "[CV] ..................................... max_depth=31, total=  19.2s\n",
      "[CV] max_depth=51 ....................................................\n",
      "[CV] ..................................... max_depth=41, total=  21.6s\n",
      "[CV] max_depth=51 ....................................................\n",
      "[CV] ..................................... max_depth=41, total=  21.3s\n",
      "[CV] max_depth=51 ....................................................\n",
      "[CV] ..................................... max_depth=41, total=  22.0s\n",
      "[CV] max_depth=61 ....................................................\n",
      "[CV] ..................................... max_depth=41, total=  22.1s\n",
      "[CV] max_depth=61 ....................................................\n",
      "[CV] ..................................... max_depth=41, total=  23.0s\n"
     ]
    },
    {
     "name": "stderr",
     "output_type": "stream",
     "text": [
      "[Parallel(n_jobs=-1)]: Done  25 tasks      | elapsed:   55.3s\n"
     ]
    },
    {
     "name": "stdout",
     "output_type": "stream",
     "text": [
      "[CV] max_depth=61 ....................................................\n",
      "[CV] ..................................... max_depth=51, total=  23.3s\n",
      "[CV] max_depth=61 ....................................................\n",
      "[CV] ..................................... max_depth=51, total=  23.5s\n",
      "[CV] max_depth=61 ....................................................\n",
      "[CV] ..................................... max_depth=51, total=  23.1s\n",
      "[CV] max_depth=71 ....................................................\n",
      "[CV] ..................................... max_depth=51, total=  24.5s\n",
      "[CV] max_depth=71 ....................................................\n",
      "[CV] ..................................... max_depth=51, total=  24.3s\n",
      "[CV] max_depth=71 ....................................................\n",
      "[CV] ..................................... max_depth=61, total=  25.7s\n",
      "[CV] max_depth=71 ....................................................\n",
      "[CV] ..................................... max_depth=61, total=  25.5s\n",
      "[CV] max_depth=71 ....................................................\n",
      "[CV] ..................................... max_depth=61, total=  26.4s\n",
      "[CV] max_depth=81 ....................................................\n",
      "[CV] ..................................... max_depth=61, total=  24.9s\n",
      "[CV] max_depth=81 ....................................................\n",
      "[CV] ..................................... max_depth=61, total=  25.6s\n",
      "[CV] max_depth=81 ....................................................\n",
      "[CV] ..................................... max_depth=71, total=  26.5s\n",
      "[CV] max_depth=81 ....................................................\n",
      "[CV] ..................................... max_depth=71, total=  28.1s\n",
      "[CV] max_depth=81 ....................................................\n",
      "[CV] ..................................... max_depth=71, total=  27.3s\n",
      "[CV] max_depth=91 ....................................................\n",
      "[CV] ..................................... max_depth=71, total=  26.1s\n",
      "[CV] max_depth=91 ....................................................\n",
      "[CV] ..................................... max_depth=71, total=  27.6s\n",
      "[CV] max_depth=91 ....................................................\n",
      "[CV] ..................................... max_depth=81, total=  27.5s\n",
      "[CV] max_depth=91 ....................................................\n",
      "[CV] ..................................... max_depth=81, total=  28.7s\n",
      "[CV] max_depth=91 ....................................................\n",
      "[CV] ..................................... max_depth=81, total=  28.7s\n",
      "[CV] max_depth=101 ...................................................\n",
      "[CV] ..................................... max_depth=81, total=  27.1s\n",
      "[CV] max_depth=101 ...................................................\n",
      "[CV] ..................................... max_depth=81, total=  29.1s\n",
      "[CV] max_depth=101 ...................................................\n",
      "[CV] ..................................... max_depth=91, total=  27.9s\n",
      "[CV] max_depth=101 ...................................................\n",
      "[CV] ..................................... max_depth=91, total=  29.8s\n",
      "[CV] max_depth=101 ...................................................\n",
      "[CV] ..................................... max_depth=91, total=  29.0s\n",
      "[CV] max_depth=111 ...................................................\n",
      "[CV] ..................................... max_depth=91, total=  28.6s\n",
      "[CV] max_depth=111 ...................................................\n",
      "[CV] ..................................... max_depth=91, total=  30.0s\n",
      "[CV] max_depth=111 ...................................................\n",
      "[CV] .................................... max_depth=101, total=  29.3s\n",
      "[CV] max_depth=111 ...................................................\n",
      "[CV] .................................... max_depth=101, total=  30.8s\n",
      "[CV] max_depth=111 ...................................................\n",
      "[CV] .................................... max_depth=101, total=  28.3s\n",
      "[CV] max_depth=121 ...................................................\n",
      "[CV] .................................... max_depth=101, total=  30.1s\n",
      "[CV] max_depth=121 ...................................................\n",
      "[CV] .................................... max_depth=101, total=  30.3s\n",
      "[CV] max_depth=121 ...................................................\n",
      "[CV] .................................... max_depth=111, total=  29.5s\n",
      "[CV] max_depth=121 ...................................................\n",
      "[CV] .................................... max_depth=111, total=  31.6s\n",
      "[CV] max_depth=121 ...................................................\n",
      "[CV] .................................... max_depth=111, total=  31.1s\n",
      "[CV] max_depth=131 ...................................................\n",
      "[CV] .................................... max_depth=111, total=  30.2s\n",
      "[CV] max_depth=131 ...................................................\n",
      "[CV] .................................... max_depth=111, total=  32.0s\n",
      "[CV] max_depth=131 ...................................................\n",
      "[CV] .................................... max_depth=121, total=  30.4s\n",
      "[CV] max_depth=131 ...................................................\n",
      "[CV] .................................... max_depth=121, total=  34.3s\n",
      "[CV] max_depth=131 ...................................................\n",
      "[CV] .................................... max_depth=121, total=  31.4s\n",
      "[CV] max_depth=141 ...................................................\n",
      "[CV] .................................... max_depth=121, total=  30.3s\n",
      "[CV] max_depth=141 ...................................................\n",
      "[CV] .................................... max_depth=131, total=  29.2s\n",
      "[CV] max_depth=141 ...................................................\n",
      "[CV] .................................... max_depth=121, total=  32.3s\n",
      "[CV] max_depth=141 ...................................................\n",
      "[CV] .................................... max_depth=131, total=  33.8s\n",
      "[CV] max_depth=141 ...................................................\n",
      "[CV] .................................... max_depth=131, total=  31.3s\n",
      "[CV] max_depth=151 ...................................................\n",
      "[CV] .................................... max_depth=131, total=  30.3s\n",
      "[CV] max_depth=151 ...................................................\n",
      "[CV] .................................... max_depth=141, total=  29.4s\n",
      "[CV] max_depth=151 ...................................................\n",
      "[CV] .................................... max_depth=131, total=  32.6s\n",
      "[CV] max_depth=151 ...................................................\n",
      "[CV] .................................... max_depth=141, total=  34.1s\n",
      "[CV] max_depth=151 ...................................................\n",
      "[CV] .................................... max_depth=141, total=  29.9s\n",
      "[CV] max_depth=161 ...................................................\n",
      "[CV] .................................... max_depth=141, total=  31.8s\n",
      "[CV] max_depth=161 ...................................................\n",
      "[CV] .................................... max_depth=151, total=  29.8s\n",
      "[CV] max_depth=161 ...................................................\n",
      "[CV] .................................... max_depth=141, total=  32.8s\n",
      "[CV] max_depth=161 ...................................................\n",
      "[CV] .................................... max_depth=151, total=  33.9s\n",
      "[CV] max_depth=161 ...................................................\n",
      "[CV] .................................... max_depth=151, total=  30.1s\n",
      "[CV] max_depth=171 ...................................................\n",
      "[CV] .................................... max_depth=151, total=  32.0s\n",
      "[CV] max_depth=171 ...................................................\n",
      "[CV] .................................... max_depth=161, total=  30.5s\n",
      "[CV] max_depth=171 ...................................................\n",
      "[CV] .................................... max_depth=151, total=  32.2s\n",
      "[CV] max_depth=171 ...................................................\n",
      "[CV] .................................... max_depth=161, total=  33.6s\n",
      "[CV] max_depth=171 ...................................................\n",
      "[CV] .................................... max_depth=161, total=  31.2s\n",
      "[CV] max_depth=181 ...................................................\n",
      "[CV] .................................... max_depth=161, total=  31.2s\n",
      "[CV] max_depth=181 ...................................................\n",
      "[CV] .................................... max_depth=161, total=  33.0s\n",
      "[CV] max_depth=181 ...................................................\n",
      "[CV] .................................... max_depth=171, total=  30.1s\n",
      "[CV] max_depth=181 ...................................................\n",
      "[CV] .................................... max_depth=171, total=  32.9s\n",
      "[CV] max_depth=181 ...................................................\n",
      "[CV] .................................... max_depth=171, total=  30.9s\n",
      "[CV] max_depth=191 ...................................................\n",
      "[CV] .................................... max_depth=171, total=  31.7s\n",
      "[CV] max_depth=191 ...................................................\n",
      "[CV] .................................... max_depth=171, total=  33.2s\n",
      "[CV] max_depth=191 ...................................................\n",
      "[CV] .................................... max_depth=181, total=  29.8s\n",
      "[CV] max_depth=191 ...................................................\n",
      "[CV] .................................... max_depth=181, total=  33.8s\n",
      "[CV] max_depth=191 ...................................................\n",
      "[CV] .................................... max_depth=181, total=  31.2s\n",
      "[CV] max_depth=201 ...................................................\n",
      "[CV] .................................... max_depth=181, total=  32.2s\n",
      "[CV] max_depth=201 ...................................................\n",
      "[CV] .................................... max_depth=181, total=  32.4s\n",
      "[CV] max_depth=201 ...................................................\n",
      "[CV] .................................... max_depth=191, total=  29.0s\n",
      "[CV] max_depth=201 ...................................................\n",
      "[CV] .................................... max_depth=191, total=  34.5s\n",
      "[CV] max_depth=201 ...................................................\n",
      "[CV] .................................... max_depth=191, total=  31.3s\n",
      "[CV] max_depth=211 ...................................................\n",
      "[CV] .................................... max_depth=191, total=  29.8s\n",
      "[CV] max_depth=211 ...................................................\n",
      "[CV] .................................... max_depth=191, total=  32.6s\n",
      "[CV] max_depth=211 ...................................................\n",
      "[CV] .................................... max_depth=201, total=  29.6s\n",
      "[CV] max_depth=211 ...................................................\n",
      "[CV] .................................... max_depth=201, total=  33.2s\n",
      "[CV] max_depth=211 ...................................................\n",
      "[CV] .................................... max_depth=201, total=  32.2s\n",
      "[CV] max_depth=221 ...................................................\n",
      "[CV] .................................... max_depth=201, total=  30.5s\n",
      "[CV] max_depth=221 ...................................................\n",
      "[CV] .................................... max_depth=211, total=  28.8s\n",
      "[CV] max_depth=221 ...................................................\n",
      "[CV] .................................... max_depth=201, total=  33.0s\n",
      "[CV] max_depth=221 ...................................................\n",
      "[CV] .................................... max_depth=211, total=  34.0s\n",
      "[CV] max_depth=221 ...................................................\n",
      "[CV] .................................... max_depth=211, total=  31.8s\n",
      "[CV] max_depth=231 ...................................................\n",
      "[CV] .................................... max_depth=211, total=  30.2s\n",
      "[CV] max_depth=231 ...................................................\n",
      "[CV] .................................... max_depth=221, total=  29.6s\n",
      "[CV] max_depth=231 ...................................................\n",
      "[CV] .................................... max_depth=211, total=  33.0s\n",
      "[CV] max_depth=231 ...................................................\n",
      "[CV] .................................... max_depth=221, total=  34.1s\n",
      "[CV] max_depth=231 ...................................................\n",
      "[CV] .................................... max_depth=221, total=  30.4s\n",
      "[CV] max_depth=241 ...................................................\n",
      "[CV] .................................... max_depth=221, total=  32.2s\n",
      "[CV] max_depth=241 ...................................................\n",
      "[CV] .................................... max_depth=221, total=  32.8s\n",
      "[CV] max_depth=241 ...................................................\n",
      "[CV] .................................... max_depth=231, total=  29.8s\n",
      "[CV] max_depth=241 ...................................................\n",
      "[CV] .................................... max_depth=231, total=  33.6s\n",
      "[CV] max_depth=241 ...................................................\n",
      "[CV] .................................... max_depth=231, total=  29.9s\n",
      "[CV] max_depth=251 ...................................................\n",
      "[CV] .................................... max_depth=231, total=  31.0s\n",
      "[CV] max_depth=251 ...................................................\n",
      "[CV] .................................... max_depth=231, total=  33.4s\n",
      "[CV] max_depth=251 ...................................................\n",
      "[CV] .................................... max_depth=241, total=  29.9s\n",
      "[CV] max_depth=251 ...................................................\n",
      "[CV] .................................... max_depth=241, total=  34.6s\n",
      "[CV] max_depth=251 ...................................................\n",
      "[CV] .................................... max_depth=241, total=  32.2s\n",
      "[CV] max_depth=261 ...................................................\n",
      "[CV] .................................... max_depth=241, total=  30.3s\n",
      "[CV] max_depth=261 ...................................................\n",
      "[CV] .................................... max_depth=241, total=  32.4s\n",
      "[CV] max_depth=261 ...................................................\n",
      "[CV] .................................... max_depth=251, total=  29.6s\n",
      "[CV] max_depth=261 ...................................................\n",
      "[CV] .................................... max_depth=251, total=  33.8s\n",
      "[CV] max_depth=261 ...................................................\n",
      "[CV] .................................... max_depth=251, total=  31.9s\n",
      "[CV] max_depth=271 ...................................................\n",
      "[CV] .................................... max_depth=251, total=  31.0s\n",
      "[CV] max_depth=271 ...................................................\n",
      "[CV] .................................... max_depth=251, total=  33.1s\n",
      "[CV] max_depth=271 ...................................................\n",
      "[CV] .................................... max_depth=261, total=  29.8s\n",
      "[CV] max_depth=271 ...................................................\n",
      "[CV] .................................... max_depth=261, total=  33.7s\n",
      "[CV] max_depth=271 ...................................................\n",
      "[CV] .................................... max_depth=261, total=  30.6s\n",
      "[CV] max_depth=281 ...................................................\n",
      "[CV] .................................... max_depth=261, total=  32.5s\n",
      "[CV] max_depth=281 ...................................................\n",
      "[CV] .................................... max_depth=261, total=  32.4s\n",
      "[CV] max_depth=281 ...................................................\n",
      "[CV] .................................... max_depth=271, total=  29.8s\n",
      "[CV] max_depth=281 ...................................................\n",
      "[CV] .................................... max_depth=271, total=  34.8s\n",
      "[CV] max_depth=281 ...................................................\n",
      "[CV] .................................... max_depth=271, total=  30.6s\n",
      "[CV] max_depth=291 ...................................................\n",
      "[CV] .................................... max_depth=271, total=  33.0s\n",
      "[CV] max_depth=291 ...................................................\n",
      "[CV] .................................... max_depth=271, total=  33.2s\n",
      "[CV] max_depth=291 ...................................................\n",
      "[CV] .................................... max_depth=281, total=  30.8s\n",
      "[CV] max_depth=291 ...................................................\n",
      "[CV] .................................... max_depth=281, total=  33.6s\n",
      "[CV] max_depth=291 ...................................................\n",
      "[CV] .................................... max_depth=281, total=  32.2s\n",
      "[CV] max_depth=301 ...................................................\n",
      "[CV] .................................... max_depth=281, total=  31.4s\n",
      "[CV] max_depth=301 ...................................................\n",
      "[CV] .................................... max_depth=291, total=  28.5s\n",
      "[CV] max_depth=301 ...................................................\n",
      "[CV] .................................... max_depth=281, total=  32.4s\n",
      "[CV] max_depth=301 ...................................................\n"
     ]
    },
    {
     "name": "stderr",
     "output_type": "stream",
     "text": [
      "[Parallel(n_jobs=-1)]: Done 146 tasks      | elapsed:  8.7min\n"
     ]
    },
    {
     "name": "stdout",
     "output_type": "stream",
     "text": [
      "[CV] .................................... max_depth=291, total=  33.9s\n",
      "[CV] max_depth=301 ...................................................\n",
      "[CV] .................................... max_depth=291, total=  32.0s\n",
      "[CV] max_depth=311 ...................................................\n",
      "[CV] .................................... max_depth=291, total=  30.0s\n",
      "[CV] max_depth=311 ...................................................\n",
      "[CV] .................................... max_depth=291, total=  32.2s\n",
      "[CV] max_depth=311 ...................................................\n",
      "[CV] .................................... max_depth=301, total=  29.4s\n",
      "[CV] max_depth=311 ...................................................\n",
      "[CV] .................................... max_depth=301, total=  34.6s\n",
      "[CV] max_depth=311 ...................................................\n",
      "[CV] .................................... max_depth=301, total=  29.7s\n",
      "[CV] max_depth=321 ...................................................\n",
      "[CV] .................................... max_depth=301, total=  32.4s\n",
      "[CV] max_depth=321 ...................................................\n",
      "[CV] .................................... max_depth=301, total=  33.1s\n",
      "[CV] .................................... max_depth=311, total=  29.9s\n",
      "[CV] max_depth=321 ...................................................\n",
      "[CV] max_depth=321 ...................................................\n",
      "[CV] .................................... max_depth=311, total=  33.9s\n",
      "[CV] max_depth=321 ...................................................\n",
      "[CV] .................................... max_depth=311, total=  31.3s\n",
      "[CV] max_depth=331 ...................................................\n",
      "[CV] .................................... max_depth=311, total=  30.1s\n",
      "[CV] max_depth=331 ...................................................\n",
      "[CV] .................................... max_depth=321, total=  29.6s\n",
      "[CV] max_depth=331 ...................................................\n",
      "[CV] .................................... max_depth=311, total=  33.5s\n",
      "[CV] max_depth=331 ...................................................\n",
      "[CV] .................................... max_depth=321, total=  33.5s\n",
      "[CV] max_depth=331 ...................................................\n",
      "[CV] .................................... max_depth=321, total=  30.3s\n",
      "[CV] max_depth=341 ...................................................\n",
      "[CV] .................................... max_depth=321, total=  31.4s\n",
      "[CV] max_depth=341 ...................................................\n",
      "[CV] .................................... max_depth=321, total=  32.5s\n",
      "[CV] max_depth=341 ...................................................\n",
      "[CV] .................................... max_depth=331, total=  29.7s\n",
      "[CV] max_depth=341 ...................................................\n",
      "[CV] .................................... max_depth=331, total=  34.2s\n",
      "[CV] max_depth=341 ...................................................\n",
      "[CV] .................................... max_depth=331, total=  31.4s\n",
      "[CV] max_depth=351 ...................................................\n",
      "[CV] .................................... max_depth=331, total=  31.7s\n",
      "[CV] max_depth=351 ...................................................\n",
      "[CV] .................................... max_depth=331, total=  33.0s\n",
      "[CV] max_depth=351 ...................................................\n",
      "[CV] .................................... max_depth=341, total=  30.1s\n",
      "[CV] max_depth=351 ...................................................\n",
      "[CV] .................................... max_depth=341, total=  34.5s\n",
      "[CV] max_depth=351 ...................................................\n",
      "[CV] .................................... max_depth=341, total=  32.0s\n",
      "[CV] max_depth=361 ...................................................\n",
      "[CV] .................................... max_depth=341, total=  31.4s\n",
      "[CV] max_depth=361 ...................................................\n",
      "[CV] .................................... max_depth=341, total=  33.2s\n",
      "[CV] max_depth=361 ...................................................\n",
      "[CV] .................................... max_depth=351, total=  29.3s\n",
      "[CV] max_depth=361 ...................................................\n",
      "[CV] .................................... max_depth=351, total=  35.2s\n",
      "[CV] max_depth=361 ...................................................\n",
      "[CV] .................................... max_depth=351, total=  32.1s\n",
      "[CV] max_depth=371 ...................................................\n",
      "[CV] .................................... max_depth=351, total=  30.9s\n",
      "[CV] max_depth=371 ...................................................\n",
      "[CV] .................................... max_depth=351, total=  32.2s\n",
      "[CV] max_depth=371 ...................................................\n",
      "[CV] .................................... max_depth=361, total=  30.1s\n",
      "[CV] max_depth=371 ...................................................\n",
      "[CV] .................................... max_depth=361, total=  34.6s\n",
      "[CV] max_depth=371 ...................................................\n",
      "[CV] .................................... max_depth=361, total=  32.3s\n",
      "[CV] max_depth=381 ...................................................\n",
      "[CV] .................................... max_depth=361, total=  29.8s\n",
      "[CV] max_depth=381 ...................................................\n",
      "[CV] .................................... max_depth=371, total=  30.6s\n",
      "[CV] max_depth=381 ...................................................\n",
      "[CV] .................................... max_depth=361, total=  34.2s\n",
      "[CV] max_depth=381 ...................................................\n",
      "[CV] .................................... max_depth=371, total=  34.3s\n",
      "[CV] max_depth=381 ...................................................\n",
      "[CV] .................................... max_depth=371, total=  32.4s\n",
      "[CV] max_depth=391 ...................................................\n",
      "[CV] .................................... max_depth=371, total=  30.4s\n",
      "[CV] max_depth=391 ...................................................\n",
      "[CV] .................................... max_depth=371, total=  33.4s\n",
      "[CV] max_depth=391 ...................................................\n",
      "[CV] .................................... max_depth=381, total=  30.3s\n",
      "[CV] max_depth=391 ...................................................\n",
      "[CV] .................................... max_depth=381, total=  34.3s\n",
      "[CV] max_depth=391 ...................................................\n",
      "[CV] .................................... max_depth=381, total=  31.9s\n",
      "[CV] .................................... max_depth=381, total=  31.2s\n",
      "[CV] .................................... max_depth=381, total=  31.3s\n",
      "[CV] .................................... max_depth=391, total=  29.4s\n",
      "[CV] .................................... max_depth=391, total=  29.9s\n",
      "[CV] .................................... max_depth=391, total=  23.8s\n",
      "[CV] .................................... max_depth=391, total=  26.6s\n",
      "[CV] .................................... max_depth=391, total=  22.4s\n"
     ]
    },
    {
     "name": "stderr",
     "output_type": "stream",
     "text": [
      "[Parallel(n_jobs=-1)]: Done 200 out of 200 | elapsed: 12.2min finished\n"
     ]
    },
    {
     "data": {
      "image/png": "[encoded data removed]",
      "text/plain": [
       "<matplotlib.figure.Figure at 0x7f500d618390>"
      ]
     },
     "metadata": {},
     "output_type": "display_data"
    },
    {
     "name": "stdout",
     "output_type": "stream",
     "text": [
      "Best ['max_depth'] = {'max_depth': 231} with score : 0.41575\n",
      "Execution time : 755.4045288562775 seconds\n"
     ]
    },
    {
     "data": {
      "text/plain": [
       "GridSearchCV(cv=5, error_score='raise',\n",
       "       estimator=DecisionTreeClassifier(class_weight=None, criterion='gini', max_depth=None,\n",
       "            max_features=None, max_leaf_nodes=None,\n",
       "            min_impurity_split=1e-07, min_samples_leaf=1,\n",
       "            min_samples_split=2, min_weight_fraction_leaf=0.0,\n",
       "            presort=False, random_state=0, splitter='best'),\n",
       "       fit_params={}, iid=True, n_jobs=-1,\n",
       "       param_grid={'max_depth': range(1, 400, 10)},\n",
       "       pre_dispatch='2*n_jobs', refit=True, return_train_score=True,\n",
       "       scoring='accuracy', verbose=2)"
      ]
     },
     "execution_count": 46,
     "metadata": {},
     "output_type": "execute_result"
    }
   ],
   "source": [
    "parameter_search(DecisionTreeClassifier(random_state=random_state),\n",
    "                {'max_depth':range(1,400,10)},\n",
    "                X_train,\n",
    "                y_train,save_file='output_figs/decision tree.png')"
   ]
  },
  {
   "cell_type": "markdown",
   "metadata": {},
   "source": [
    "5000: Best ['max_depth'] = {'max_depth': 231} with score : 0.41575\n",
    "Execution time : 755.4045288562775 seconds"
   ]
  },
  {
   "cell_type": "code",
   "execution_count": 29,
   "metadata": {
    "collapsed": false
   },
   "outputs": [
    {
     "name": "stdout",
     "output_type": "stream",
     "text": [
      "Fitting 5 folds for each of 45 candidates, totalling 225 fits\n",
      "[CV] max_depth=150 ...................................................\n",
      "[CV] max_depth=150 ...................................................\n",
      "[CV] max_depth=150 ...................................................\n",
      "[CV] max_depth=150 ...................................................\n",
      "[CV] max_depth=150 ...................................................\n",
      "[CV] max_depth=160 ...................................................\n",
      "[CV] max_depth=160 ...................................................\n",
      "[CV] max_depth=160 ...................................................\n",
      "[CV] .................................... max_depth=150, total=  36.7s\n",
      "[CV] max_depth=160 ...................................................\n",
      "[CV] .................................... max_depth=160, total=  37.3s\n",
      "[CV] max_depth=160 ...................................................\n",
      "[CV] .................................... max_depth=150, total=  38.0s\n",
      "[CV] max_depth=170 ...................................................\n",
      "[CV] .................................... max_depth=150, total=  38.4s\n",
      "[CV] max_depth=170 ...................................................\n",
      "[CV] .................................... max_depth=160, total=  38.6s\n",
      "[CV] max_depth=170 ...................................................\n",
      "[CV] .................................... max_depth=160, total=  38.6s\n",
      "[CV] max_depth=170 ...................................................\n",
      "[CV] .................................... max_depth=150, total=  39.1s\n",
      "[CV] max_depth=170 ...................................................\n",
      "[CV] .................................... max_depth=150, total=  39.2s\n",
      "[CV] max_depth=180 ...................................................\n",
      "[CV] .................................... max_depth=160, total=  33.3s\n",
      "[CV] max_depth=180 ...................................................\n",
      "[CV] .................................... max_depth=170, total=  32.7s\n",
      "[CV] max_depth=180 ...................................................\n",
      "[CV] .................................... max_depth=160, total=  34.5s\n",
      "[CV] max_depth=180 ...................................................\n",
      "[CV] .................................... max_depth=170, total=  33.7s\n",
      "[CV] max_depth=180 ...................................................\n",
      "[CV] .................................... max_depth=170, total=  34.4s\n",
      "[CV] max_depth=190 ...................................................\n",
      "[CV] .................................... max_depth=170, total=  34.6s\n",
      "[CV] max_depth=190 ...................................................\n",
      "[CV] .................................... max_depth=180, total=  35.2s\n",
      "[CV] max_depth=190 ...................................................\n",
      "[CV] .................................... max_depth=170, total=  35.5s\n",
      "[CV] max_depth=190 ...................................................\n",
      "[CV] .................................... max_depth=180, total=  33.2s\n",
      "[CV] max_depth=190 ...................................................\n",
      "[CV] .................................... max_depth=180, total=  34.6s\n",
      "[CV] max_depth=200 ...................................................\n",
      "[CV] .................................... max_depth=180, total=  34.7s\n",
      "[CV] max_depth=200 ...................................................\n",
      "[CV] .................................... max_depth=180, total=  34.7s\n",
      "[CV] max_depth=200 ...................................................\n",
      "[CV] .................................... max_depth=190, total=  34.0s\n",
      "[CV] max_depth=200 ...................................................\n",
      "[CV] .................................... max_depth=190, total=  35.8s\n",
      "[CV] max_depth=200 ...................................................\n",
      "[CV] .................................... max_depth=190, total=  35.0s\n",
      "[CV] max_depth=210 ...................................................\n",
      "[CV] .................................... max_depth=190, total=  35.6s\n",
      "[CV] max_depth=210 ...................................................\n",
      "[CV] .................................... max_depth=190, total=  35.3s\n",
      "[CV] max_depth=210 ...................................................\n"
     ]
    },
    {
     "name": "stderr",
     "output_type": "stream",
     "text": [
      "[Parallel(n_jobs=-1)]: Done  25 tasks      | elapsed:  2.3min\n"
     ]
    },
    {
     "name": "stdout",
     "output_type": "stream",
     "text": [
      "[CV] .................................... max_depth=200, total=  34.0s\n",
      "[CV] max_depth=210 ...................................................\n",
      "[CV] .................................... max_depth=200, total=  35.4s\n",
      "[CV] max_depth=210 ...................................................\n",
      "[CV] .................................... max_depth=200, total=  35.4s\n",
      "[CV] max_depth=220 ...................................................\n",
      "[CV] .................................... max_depth=200, total=  35.5s\n",
      "[CV] max_depth=220 ...................................................\n",
      "[CV] .................................... max_depth=210, total=  35.3s\n",
      "[CV] max_depth=220 ...................................................\n",
      "[CV] .................................... max_depth=210, total=  34.7s\n",
      "[CV] max_depth=220 ...................................................\n",
      "[CV] .................................... max_depth=200, total=  36.2s\n",
      "[CV] max_depth=220 ...................................................\n",
      "[CV] .................................... max_depth=210, total=  35.6s\n",
      "[CV] max_depth=230 ...................................................\n",
      "[CV] .................................... max_depth=210, total=  35.6s\n",
      "[CV] max_depth=230 ...................................................\n",
      "[CV] .................................... max_depth=210, total=  36.8s\n",
      "[CV] max_depth=230 ...................................................\n",
      "[CV] .................................... max_depth=220, total=  34.1s\n",
      "[CV] max_depth=230 ...................................................\n",
      "[CV] .................................... max_depth=220, total=  35.6s\n",
      "[CV] max_depth=230 ...................................................\n",
      "[CV] .................................... max_depth=220, total=  35.5s\n",
      "[CV] max_depth=240 ...................................................\n",
      "[CV] .................................... max_depth=220, total=  36.9s\n",
      "[CV] max_depth=240 ...................................................\n",
      "[CV] .................................... max_depth=220, total=  37.8s\n",
      "[CV] max_depth=240 ...................................................\n",
      "[CV] .................................... max_depth=230, total=  36.2s\n",
      "[CV] .................................... max_depth=230, total=  34.6s\n",
      "[CV] max_depth=240 ...................................................\n",
      "[CV] max_depth=240 ...................................................\n",
      "[CV] .................................... max_depth=230, total=  36.1s\n",
      "[CV] max_depth=250 ...................................................\n",
      "[CV] .................................... max_depth=230, total=  36.2s\n",
      "[CV] max_depth=250 ...................................................\n",
      "[CV] .................................... max_depth=230, total=  35.9s\n",
      "[CV] max_depth=250 ...................................................\n",
      "[CV] .................................... max_depth=240, total=  36.5s\n",
      "[CV] max_depth=250 ...................................................\n",
      "[CV] .................................... max_depth=240, total=  35.7s\n",
      "[CV] max_depth=250 ...................................................\n",
      "[CV] .................................... max_depth=240, total=  37.7s\n",
      "[CV] max_depth=260 ...................................................\n",
      "[CV] .................................... max_depth=240, total=  36.1s\n",
      "[CV] max_depth=260 ...................................................\n",
      "[CV] .................................... max_depth=250, total=  35.1s\n",
      "[CV] max_depth=260 ...................................................\n",
      "[CV] .................................... max_depth=240, total=  37.4s\n",
      "[CV] max_depth=260 ...................................................\n",
      "[CV] .................................... max_depth=250, total=  36.5s\n",
      "[CV] max_depth=260 ...................................................\n",
      "[CV] .................................... max_depth=250, total=  36.2s\n",
      "[CV] max_depth=270 ...................................................\n",
      "[CV] .................................... max_depth=250, total=  37.2s\n",
      "[CV] max_depth=270 ...................................................\n",
      "[CV] .................................... max_depth=250, total=  36.8s\n",
      "[CV] max_depth=270 ...................................................\n",
      "[CV] .................................... max_depth=260, total=  37.2s\n",
      "[CV] max_depth=270 ...................................................\n",
      "[CV] .................................... max_depth=260, total=  35.0s\n",
      "[CV] max_depth=270 ...................................................\n",
      "[CV] .................................... max_depth=260, total=  37.4s\n",
      "[CV] max_depth=280 ...................................................\n",
      "[CV] .................................... max_depth=270, total=  36.3s\n",
      "[CV] max_depth=280 ...................................................\n",
      "[CV] .................................... max_depth=260, total=  36.8s\n",
      "[CV] max_depth=280 ...................................................\n",
      "[CV] .................................... max_depth=260, total=  38.3s\n",
      "[CV] max_depth=280 ...................................................\n",
      "[CV] .................................... max_depth=270, total=  35.7s\n",
      "[CV] max_depth=280 ...................................................\n",
      "[CV] .................................... max_depth=270, total=  37.0s\n",
      "[CV] max_depth=290 ...................................................\n",
      "[CV] .................................... max_depth=270, total=  38.8s\n",
      "[CV] max_depth=290 ...................................................\n",
      "[CV] .................................... max_depth=270, total=  36.4s\n",
      "[CV] max_depth=290 ...................................................\n",
      "[CV] .................................... max_depth=280, total=  36.7s\n",
      "[CV] .................................... max_depth=280, total=  36.8s\n",
      "[CV] max_depth=290 ...................................................\n",
      "[CV] max_depth=290 ...................................................\n",
      "[CV] .................................... max_depth=280, total=  36.9s\n",
      "[CV] max_depth=300 ...................................................\n",
      "[CV] .................................... max_depth=280, total=  37.6s\n",
      "[CV] max_depth=300 ...................................................\n",
      "[CV] .................................... max_depth=280, total=  37.5s\n",
      "[CV] max_depth=300 ...................................................\n",
      "[CV] .................................... max_depth=290, total=  37.6s\n",
      "[CV] max_depth=300 ...................................................\n",
      "[CV] .................................... max_depth=290, total=  37.2s\n",
      "[CV] max_depth=300 ...................................................\n",
      "[CV] .................................... max_depth=290, total=  37.8s\n",
      "[CV] max_depth=310 ...................................................\n",
      "[CV] .................................... max_depth=290, total=  37.4s\n",
      "[CV] max_depth=310 ...................................................\n",
      "[CV] .................................... max_depth=300, total=  37.1s\n",
      "[CV] max_depth=310 ...................................................\n",
      "[CV] .................................... max_depth=290, total=  38.2s\n",
      "[CV] max_depth=310 ...................................................\n",
      "[CV] .................................... max_depth=300, total=  36.6s\n",
      "[CV] max_depth=310 ...................................................\n",
      "[CV] .................................... max_depth=300, total=  37.5s\n",
      "[CV] max_depth=320 ...................................................\n",
      "[CV] .................................... max_depth=300, total=  37.8s\n",
      "[CV] max_depth=320 ...................................................\n",
      "[CV] .................................... max_depth=300, total=  37.9s\n",
      "[CV] max_depth=320 ...................................................\n",
      "[CV] .................................... max_depth=310, total=  37.1s\n",
      "[CV] max_depth=320 ...................................................\n",
      "[CV] .................................... max_depth=310, total=  35.7s\n",
      "[CV] max_depth=320 ...................................................\n",
      "[CV] .................................... max_depth=310, total=  37.3s\n",
      "[CV] max_depth=330 ...................................................\n",
      "[CV] .................................... max_depth=310, total=  37.9s\n",
      "[CV] max_depth=330 ...................................................\n",
      "[CV] .................................... max_depth=310, total=  38.1s\n",
      "[CV] max_depth=330 ...................................................\n",
      "[CV] .................................... max_depth=320, total=  37.8s\n",
      "[CV] max_depth=330 ...................................................\n",
      "[CV] .................................... max_depth=320, total=  36.8s\n",
      "[CV] max_depth=330 ...................................................\n",
      "[CV] .................................... max_depth=320, total=  37.6s\n",
      "[CV] max_depth=340 ...................................................\n",
      "[CV] .................................... max_depth=320, total=  37.0s\n",
      "[CV] max_depth=340 ...................................................\n",
      "[CV] .................................... max_depth=320, total=  37.1s\n",
      "[CV] max_depth=340 ...................................................\n",
      "[CV] .................................... max_depth=330, total=  37.8s\n",
      "[CV] max_depth=340 ...................................................\n",
      "[CV] .................................... max_depth=330, total=  36.9s\n",
      "[CV] max_depth=340 ...................................................\n",
      "[CV] .................................... max_depth=330, total=  38.0s\n",
      "[CV] max_depth=350 ...................................................\n",
      "[CV] .................................... max_depth=330, total=  38.3s\n",
      "[CV] max_depth=350 ...................................................\n",
      "[CV] .................................... max_depth=330, total=  37.6s\n",
      "[CV] max_depth=350 ...................................................\n",
      "[CV] .................................... max_depth=340, total=  37.6s\n",
      "[CV] max_depth=350 ...................................................\n",
      "[CV] .................................... max_depth=340, total=  35.9s\n",
      "[CV] max_depth=350 ...................................................\n",
      "[CV] .................................... max_depth=340, total=  37.7s\n",
      "[CV] max_depth=360 ...................................................\n",
      "[CV] .................................... max_depth=340, total=  37.5s\n",
      "[CV] max_depth=360 ...................................................\n",
      "[CV] .................................... max_depth=340, total=  38.2s\n",
      "[CV] max_depth=360 ...................................................\n",
      "[CV] .................................... max_depth=350, total=  37.8s\n",
      "[CV] max_depth=360 ...................................................\n",
      "[CV] .................................... max_depth=350, total=  36.5s\n",
      "[CV] max_depth=360 ...................................................\n",
      "[CV] .................................... max_depth=350, total=  37.7s\n",
      "[CV] max_depth=370 ...................................................\n",
      "[CV] .................................... max_depth=350, total=  38.3s\n",
      "[CV] max_depth=370 ...................................................\n",
      "[CV] .................................... max_depth=350, total=  38.0s\n",
      "[CV] max_depth=370 ...................................................\n",
      "[CV] .................................... max_depth=360, total=  37.9s\n",
      "[CV] max_depth=370 ...................................................\n",
      "[CV] .................................... max_depth=360, total=  35.9s\n",
      "[CV] max_depth=370 ...................................................\n",
      "[CV] .................................... max_depth=360, total=  37.8s\n",
      "[CV] max_depth=380 ...................................................\n",
      "[CV] .................................... max_depth=360, total=  38.3s\n",
      "[CV] max_depth=380 ...................................................\n",
      "[CV] .................................... max_depth=360, total=  37.4s\n",
      "[CV] max_depth=380 ...................................................\n",
      "[CV] .................................... max_depth=370, total=  37.8s\n",
      "[CV] max_depth=380 ...................................................\n",
      "[CV] .................................... max_depth=370, total=  36.5s\n",
      "[CV] max_depth=380 ...................................................\n",
      "[CV] .................................... max_depth=370, total=  37.6s\n",
      "[CV] max_depth=390 ...................................................\n",
      "[CV] .................................... max_depth=370, total=  38.2s\n",
      "[CV] max_depth=390 ...................................................\n",
      "[CV] .................................... max_depth=370, total=  38.9s\n",
      "[CV] max_depth=390 ...................................................\n",
      "[CV] .................................... max_depth=380, total=  36.2s\n",
      "[CV] max_depth=390 ...................................................\n",
      "[CV] .................................... max_depth=380, total=  38.4s\n",
      "[CV] max_depth=390 ...................................................\n",
      "[CV] .................................... max_depth=380, total=  37.6s\n",
      "[CV] max_depth=400 ...................................................\n",
      "[CV] .................................... max_depth=380, total=  38.3s\n",
      "[CV] max_depth=400 ...................................................\n",
      "[CV] .................................... max_depth=380, total=  38.2s\n",
      "[CV] max_depth=400 ...................................................\n",
      "[CV] .................................... max_depth=390, total=  38.3s\n",
      "[CV] max_depth=400 ...................................................\n",
      "[CV] .................................... max_depth=390, total=  36.1s\n",
      "[CV] max_depth=400 ...................................................\n",
      "[CV] .................................... max_depth=390, total=  38.5s\n",
      "[CV] max_depth=410 ...................................................\n",
      "[CV] .................................... max_depth=390, total=  37.7s\n",
      "[CV] max_depth=410 ...................................................\n",
      "[CV] .................................... max_depth=390, total=  37.8s\n",
      "[CV] max_depth=410 ...................................................\n",
      "[CV] .................................... max_depth=400, total=  37.4s\n",
      "[CV] max_depth=410 ...................................................\n",
      "[CV] .................................... max_depth=400, total=  37.5s\n",
      "[CV] max_depth=410 ...................................................\n",
      "[CV] .................................... max_depth=400, total=  38.0s\n",
      "[CV] max_depth=420 ...................................................\n",
      "[CV] .................................... max_depth=400, total=  38.0s\n",
      "[CV] max_depth=420 ...................................................\n",
      "[CV] .................................... max_depth=400, total=  38.6s\n",
      "[CV] max_depth=420 ...................................................\n",
      "[CV] .................................... max_depth=410, total=  37.4s\n",
      "[CV] max_depth=420 ...................................................\n",
      "[CV] .................................... max_depth=410, total=  36.2s\n",
      "[CV] max_depth=420 ...................................................\n",
      "[CV] .................................... max_depth=410, total=  39.3s\n",
      "[CV] max_depth=430 ...................................................\n",
      "[CV] .................................... max_depth=410, total=  38.2s\n",
      "[CV] max_depth=430 ...................................................\n",
      "[CV] .................................... max_depth=410, total=  37.9s\n",
      "[CV] max_depth=430 ...................................................\n",
      "[CV] .................................... max_depth=420, total=  37.4s\n",
      "[CV] max_depth=430 ...................................................\n",
      "[CV] .................................... max_depth=420, total=  36.4s\n",
      "[CV] max_depth=430 ...................................................\n",
      "[CV] .................................... max_depth=420, total=  37.4s\n",
      "[CV] max_depth=440 ...................................................\n",
      "[CV] .................................... max_depth=420, total=  37.3s\n",
      "[CV] max_depth=440 ...................................................\n",
      "[CV] .................................... max_depth=420, total=  37.5s\n",
      "[CV] max_depth=440 ...................................................\n",
      "[CV] .................................... max_depth=430, total=  36.6s\n",
      "[CV] max_depth=440 ...................................................\n",
      "[CV] .................................... max_depth=430, total=  38.1s\n",
      "[CV] max_depth=440 ...................................................\n",
      "[CV] .................................... max_depth=430, total=  37.9s\n",
      "[CV] max_depth=450 ...................................................\n",
      "[CV] .................................... max_depth=430, total=  38.9s\n",
      "[CV] max_depth=450 ...................................................\n",
      "[CV] .................................... max_depth=430, total=  38.4s\n",
      "[CV] max_depth=450 ...................................................\n",
      "[CV] .................................... max_depth=440, total=  36.5s\n",
      "[CV] max_depth=450 ...................................................\n"
     ]
    },
    {
     "name": "stderr",
     "output_type": "stream",
     "text": [
      "[Parallel(n_jobs=-1)]: Done 146 tasks      | elapsed: 11.7min\n"
     ]
    },
    {
     "name": "stdout",
     "output_type": "stream",
     "text": [
      "[CV] .................................... max_depth=440, total=  38.3s\n",
      "[CV] max_depth=450 ...................................................\n",
      "[CV] .................................... max_depth=440, total=  38.6s\n",
      "[CV] max_depth=460 ...................................................\n",
      "[CV] .................................... max_depth=440, total=  38.1s\n",
      "[CV] max_depth=460 ...................................................\n",
      "[CV] .................................... max_depth=440, total=  38.9s\n",
      "[CV] max_depth=460 ...................................................\n",
      "[CV] .................................... max_depth=450, total=  38.5s\n",
      "[CV] max_depth=460 ...................................................\n",
      "[CV] .................................... max_depth=450, total=  36.7s\n",
      "[CV] max_depth=460 ...................................................\n",
      "[CV] .................................... max_depth=450, total=  37.9s\n",
      "[CV] max_depth=470 ...................................................\n",
      "[CV] .................................... max_depth=450, total=  38.1s\n",
      "[CV] max_depth=470 ...................................................\n",
      "[CV] .................................... max_depth=450, total=  39.1s\n",
      "[CV] max_depth=470 ...................................................\n",
      "[CV] .................................... max_depth=460, total=  37.8s\n",
      "[CV] max_depth=470 ...................................................\n",
      "[CV] .................................... max_depth=460, total=  37.0s\n",
      "[CV] max_depth=470 ...................................................\n",
      "[CV] .................................... max_depth=460, total=  38.5s\n",
      "[CV] max_depth=480 ...................................................\n",
      "[CV] .................................... max_depth=460, total=  38.0s\n",
      "[CV] max_depth=480 ...................................................\n",
      "[CV] .................................... max_depth=460, total=  37.5s\n",
      "[CV] max_depth=480 ...................................................\n",
      "[CV] .................................... max_depth=470, total=  38.1s\n",
      "[CV] max_depth=480 ...................................................\n",
      "[CV] .................................... max_depth=470, total=  36.6s\n",
      "[CV] max_depth=480 ...................................................\n",
      "[CV] .................................... max_depth=470, total=  39.7s\n",
      "[CV] max_depth=490 ...................................................\n",
      "[CV] .................................... max_depth=470, total=  39.3s\n",
      "[CV] max_depth=490 ...................................................\n",
      "[CV] .................................... max_depth=470, total=  39.1s\n",
      "[CV] max_depth=490 ...................................................\n",
      "[CV] .................................... max_depth=480, total=  38.7s\n",
      "[CV] max_depth=490 ...................................................\n",
      "[CV] .................................... max_depth=480, total=  36.8s\n",
      "[CV] max_depth=490 ...................................................\n",
      "[CV] .................................... max_depth=480, total=  38.7s\n",
      "[CV] max_depth=500 ...................................................\n",
      "[CV] .................................... max_depth=480, total=  38.3s\n",
      "[CV] max_depth=500 ...................................................\n",
      "[CV] .................................... max_depth=480, total=  38.0s\n",
      "[CV] max_depth=500 ...................................................\n",
      "[CV] .................................... max_depth=490, total=  37.2s\n",
      "[CV] max_depth=500 ...................................................\n",
      "[CV] .................................... max_depth=490, total=  39.9s\n",
      "[CV] max_depth=500 ...................................................\n",
      "[CV] .................................... max_depth=490, total=  38.0s\n",
      "[CV] max_depth=510 ...................................................\n",
      "[CV] .................................... max_depth=490, total=  37.7s\n",
      "[CV] max_depth=510 ...................................................\n",
      "[CV] .................................... max_depth=490, total=  38.9s\n",
      "[CV] max_depth=510 ...................................................\n",
      "[CV] .................................... max_depth=500, total=  38.3s\n",
      "[CV] max_depth=510 ...................................................\n",
      "[CV] .................................... max_depth=500, total=  36.8s\n",
      "[CV] max_depth=510 ...................................................\n",
      "[CV] .................................... max_depth=500, total=  38.7s\n",
      "[CV] max_depth=520 ...................................................\n",
      "[CV] .................................... max_depth=500, total=  38.4s\n",
      "[CV] max_depth=520 ...................................................\n",
      "[CV] .................................... max_depth=510, total=  37.4s\n",
      "[CV] max_depth=520 ...................................................\n",
      "[CV] .................................... max_depth=500, total=  39.3s\n",
      "[CV] max_depth=520 ...................................................\n",
      "[CV] .................................... max_depth=510, total=  37.1s\n",
      "[CV] max_depth=520 ...................................................\n",
      "[CV] .................................... max_depth=510, total=  38.0s\n",
      "[CV] max_depth=530 ...................................................\n",
      "[CV] .................................... max_depth=510, total=  39.0s\n",
      "[CV] max_depth=530 ...................................................\n",
      "[CV] .................................... max_depth=510, total=  38.6s\n",
      "[CV] max_depth=530 ...................................................\n",
      "[CV] .................................... max_depth=520, total=  37.8s\n",
      "[CV] max_depth=530 ...................................................\n",
      "[CV] .................................... max_depth=520, total=  36.6s\n",
      "[CV] max_depth=530 ...................................................\n",
      "[CV] .................................... max_depth=520, total=  38.0s\n",
      "[CV] max_depth=540 ...................................................\n",
      "[CV] .................................... max_depth=520, total=  38.1s\n",
      "[CV] max_depth=540 ...................................................\n",
      "[CV] .................................... max_depth=520, total=  39.1s\n",
      "[CV] max_depth=540 ...................................................\n",
      "[CV] .................................... max_depth=530, total=  38.0s\n",
      "[CV] max_depth=540 ...................................................\n",
      "[CV] .................................... max_depth=530, total=  37.3s\n",
      "[CV] max_depth=540 ...................................................\n",
      "[CV] .................................... max_depth=530, total=  39.4s\n",
      "[CV] max_depth=550 ...................................................\n",
      "[CV] .................................... max_depth=530, total=  38.4s\n",
      "[CV] max_depth=550 ...................................................\n",
      "[CV] .................................... max_depth=530, total=  38.1s\n",
      "[CV] max_depth=550 ...................................................\n",
      "[CV] .................................... max_depth=540, total=  36.7s\n",
      "[CV] .................................... max_depth=540, total=  38.5s\n",
      "[CV] max_depth=550 ...................................................\n",
      "[CV] max_depth=550 ...................................................\n",
      "[CV] .................................... max_depth=540, total=  38.9s\n",
      "[CV] max_depth=560 ...................................................\n",
      "[CV] .................................... max_depth=540, total=  39.0s\n",
      "[CV] max_depth=560 ...................................................\n",
      "[CV] .................................... max_depth=540, total=  38.3s\n",
      "[CV] max_depth=560 ...................................................\n",
      "[CV] .................................... max_depth=550, total=  38.7s\n",
      "[CV] max_depth=560 ...................................................\n",
      "[CV] .................................... max_depth=550, total=  37.0s\n",
      "[CV] max_depth=560 ...................................................\n",
      "[CV] .................................... max_depth=550, total=  38.7s\n",
      "[CV] max_depth=570 ...................................................\n",
      "[CV] .................................... max_depth=550, total=  38.1s\n",
      "[CV] max_depth=570 ...................................................\n",
      "[CV] .................................... max_depth=550, total=  39.3s\n",
      "[CV] max_depth=570 ...................................................\n",
      "[CV] .................................... max_depth=560, total=  36.6s\n",
      "[CV] max_depth=570 ...................................................\n",
      "[CV] .................................... max_depth=560, total=  38.0s\n",
      "[CV] max_depth=570 ...................................................\n",
      "[CV] .................................... max_depth=560, total=  38.1s\n",
      "[CV] max_depth=580 ...................................................\n",
      "[CV] .................................... max_depth=560, total=  38.7s\n",
      "[CV] max_depth=580 ...................................................\n",
      "[CV] .................................... max_depth=560, total=  38.7s\n",
      "[CV] max_depth=580 ...................................................\n",
      "[CV] .................................... max_depth=570, total=  37.8s\n",
      "[CV] max_depth=580 ...................................................\n",
      "[CV] .................................... max_depth=570, total=  36.7s\n",
      "[CV] max_depth=580 ...................................................\n",
      "[CV] .................................... max_depth=570, total=  38.5s\n",
      "[CV] max_depth=590 ...................................................\n",
      "[CV] .................................... max_depth=570, total=  37.9s\n",
      "[CV] max_depth=590 ...................................................\n",
      "[CV] .................................... max_depth=570, total=  38.8s\n",
      "[CV] max_depth=590 ...................................................\n",
      "[CV] .................................... max_depth=580, total=  38.0s\n",
      "[CV] max_depth=590 ...................................................\n",
      "[CV] .................................... max_depth=580, total=  36.4s\n",
      "[CV] max_depth=590 ...................................................\n",
      "[CV] .................................... max_depth=580, total=  38.5s\n",
      "[CV] .................................... max_depth=580, total=  39.0s\n",
      "[CV] .................................... max_depth=580, total=  37.0s\n",
      "[CV] .................................... max_depth=590, total=  36.6s\n",
      "[CV] .................................... max_depth=590, total=  36.0s\n",
      "[CV] .................................... max_depth=590, total=  37.5s\n",
      "[CV] .................................... max_depth=590, total=  34.9s\n",
      "[CV] .................................... max_depth=590, total=  27.7s\n"
     ]
    },
    {
     "name": "stderr",
     "output_type": "stream",
     "text": [
      "[Parallel(n_jobs=-1)]: Done 225 out of 225 | elapsed: 17.8min finished\n",
      "/home/adrikiri/project-pace-mourad/adrian/src/plots.py:30: FutureWarning: comparison to `None` will result in an elementwise object comparison in the future.\n",
      "  if train_scores_std != None and val_scores_std != None:\n",
      "/home/adrikiri/anaconda3/lib/python3.6/site-packages/matplotlib/font_manager.py:1297: UserWarning: findfont: Font family ['sans-serif'] not found. Falling back to DejaVu Sans\n",
      "  (prop.get_family(), self.defaultFamily[fontext]))\n"
     ]
    },
    {
     "data": {
      "image/png": "[encoded data removed]",
      "text/plain": [
       "<matplotlib.figure.Figure at 0x7fbd88b54860>"
      ]
     },
     "metadata": {},
     "output_type": "display_data"
    },
    {
     "name": "stdout",
     "output_type": "stream",
     "text": [
      "Best ['max_depth'] = {'max_depth': 370} with score : 0.48875\n",
      "Execution time : 1110.799497127533 seconds\n"
     ]
    },
    {
     "data": {
      "text/plain": [
       "GridSearchCV(cv=5, error_score='raise',\n",
       "       estimator=DecisionTreeClassifier(class_weight=None, criterion='gini', max_depth=None,\n",
       "            max_features=None, max_leaf_nodes=None,\n",
       "            min_impurity_split=1e-07, min_samples_leaf=1,\n",
       "            min_samples_split=2, min_weight_fraction_leaf=0.0,\n",
       "            presort=False, random_state=0, splitter='best'),\n",
       "       fit_params={}, iid=True, n_jobs=-1,\n",
       "       param_grid={'max_depth': range(150, 600, 10)},\n",
       "       pre_dispatch='2*n_jobs', refit=True, return_train_score=True,\n",
       "       scoring='accuracy', verbose=2)"
      ]
     },
     "execution_count": 29,
     "metadata": {},
     "output_type": "execute_result"
    }
   ],
   "source": [
    "parameter_search(DecisionTreeClassifier(random_state=random_state),\n",
    "                {'max_depth':range(150,600,10)},\n",
    "                X_train,\n",
    "                y_train,save_file='output_figs/decision tree_more_accurate.png')"
   ]
  },
  {
   "cell_type": "markdown",
   "metadata": {
    "collapsed": true
   },
   "source": [
    "#### k nearest neighbors"
   ]
  },
  {
   "cell_type": "code",
   "execution_count": 19,
   "metadata": {
    "collapsed": false
   },
   "outputs": [
    {
     "name": "stdout",
     "output_type": "stream",
     "text": [
      "Fitting 5 folds for each of 17 candidates, totalling 85 fits\n",
      "[CV] n_neighbors=1 ...................................................\n",
      "[CV] n_neighbors=1 ...................................................\n",
      "[CV] n_neighbors=1 ...................................................\n",
      "[CV] n_neighbors=1 ...................................................\n",
      "[CV] n_neighbors=1 ...................................................\n",
      "[CV] n_neighbors=4 ...................................................\n",
      "[CV] n_neighbors=4 ...................................................\n",
      "[CV] n_neighbors=4 ...................................................\n",
      "[CV] n_neighbors=4 ...................................................\n",
      "[CV] n_neighbors=4 ...................................................\n",
      "[CV] n_neighbors=7 ...................................................\n",
      "[CV] n_neighbors=7 ...................................................\n",
      "[CV] n_neighbors=7 ...................................................\n",
      "[CV] n_neighbors=7 ...................................................\n",
      "[CV] n_neighbors=7 ...................................................\n"
     ]
    },
    {
     "ename": "JoblibMemoryError",
     "evalue": "JoblibMemoryError\n___________________________________________________________________________\nMultiprocessing exception:\n...........................................................................\n/home/adrikiri/anaconda3/lib/python3.6/runpy.py in _run_module_as_main(mod_name='ipykernel.__main__', alter_argv=1)\n    188         sys.exit(msg)\n    189     main_globals = sys.modules[\"__main__\"].__dict__\n    190     if alter_argv:\n    191         sys.argv[0] = mod_spec.origin\n    192     return _run_code(code, main_globals, None,\n--> 193                      \"__main__\", mod_spec)\n        mod_spec = ModuleSpec(name='ipykernel.__main__', loader=<_f...b/python3.6/site-packages/ipykernel/__main__.py')\n    194 \n    195 def run_module(mod_name, init_globals=None,\n    196                run_name=None, alter_sys=False):\n    197     \"\"\"Execute a module's code without importing it\n\n...........................................................................\n/home/adrikiri/anaconda3/lib/python3.6/runpy.py in _run_code(code=<code object <module> at 0x7f3dbd2851e0, file \"/...3.6/site-packages/ipykernel/__main__.py\", line 1>, run_globals={'__annotations__': {}, '__builtins__': <module 'builtins' (built-in)>, '__cached__': '/home/adrikiri/anaconda3/lib/python3.6/site-packages/ipykernel/__pycache__/__main__.cpython-36.pyc', '__doc__': None, '__file__': '/home/adrikiri/anaconda3/lib/python3.6/site-packages/ipykernel/__main__.py', '__loader__': <_frozen_importlib_external.SourceFileLoader object>, '__name__': '__main__', '__package__': 'ipykernel', '__spec__': ModuleSpec(name='ipykernel.__main__', loader=<_f...b/python3.6/site-packages/ipykernel/__main__.py'), 'app': <module 'ipykernel.kernelapp' from '/home/adriki.../python3.6/site-packages/ipykernel/kernelapp.py'>}, init_globals=None, mod_name='__main__', mod_spec=ModuleSpec(name='ipykernel.__main__', loader=<_f...b/python3.6/site-packages/ipykernel/__main__.py'), pkg_name='ipykernel', script_name=None)\n     80                        __cached__ = cached,\n     81                        __doc__ = None,\n     82                        __loader__ = loader,\n     83                        __package__ = pkg_name,\n     84                        __spec__ = mod_spec)\n---> 85     exec(code, run_globals)\n        code = <code object <module> at 0x7f3dbd2851e0, file \"/...3.6/site-packages/ipykernel/__main__.py\", line 1>\n        run_globals = {'__annotations__': {}, '__builtins__': <module 'builtins' (built-in)>, '__cached__': '/home/adrikiri/anaconda3/lib/python3.6/site-packages/ipykernel/__pycache__/__main__.cpython-36.pyc', '__doc__': None, '__file__': '/home/adrikiri/anaconda3/lib/python3.6/site-packages/ipykernel/__main__.py', '__loader__': <_frozen_importlib_external.SourceFileLoader object>, '__name__': '__main__', '__package__': 'ipykernel', '__spec__': ModuleSpec(name='ipykernel.__main__', loader=<_f...b/python3.6/site-packages/ipykernel/__main__.py'), 'app': <module 'ipykernel.kernelapp' from '/home/adriki.../python3.6/site-packages/ipykernel/kernelapp.py'>}\n     86     return run_globals\n     87 \n     88 def _run_module_code(code, init_globals=None,\n     89                     mod_name=None, mod_spec=None,\n\n...........................................................................\n/home/adrikiri/anaconda3/lib/python3.6/site-packages/ipykernel/__main__.py in <module>()\n      1 \n      2 \n----> 3 \n      4 if __name__ == '__main__':\n      5     from ipykernel import kernelapp as app\n      6     app.launch_new_instance()\n      7 \n      8 \n      9 \n     10 \n\n...........................................................................\n/home/adrikiri/anaconda3/lib/python3.6/site-packages/traitlets/config/application.py in launch_instance(cls=<class 'ipykernel.kernelapp.IPKernelApp'>, argv=None, **kwargs={})\n    653 \n    654         If a global instance already exists, this reinitializes and starts it\n    655         \"\"\"\n    656         app = cls.instance(**kwargs)\n    657         app.initialize(argv)\n--> 658         app.start()\n        app.start = <bound method IPKernelApp.start of <ipykernel.kernelapp.IPKernelApp object>>\n    659 \n    660 #-----------------------------------------------------------------------------\n    661 # utility functions, for convenience\n    662 #-----------------------------------------------------------------------------\n\n...........................................................................\n/home/adrikiri/anaconda3/lib/python3.6/site-packages/ipykernel/kernelapp.py in start(self=<ipykernel.kernelapp.IPKernelApp object>)\n    469             return self.subapp.start()\n    470         if self.poller is not None:\n    471             self.poller.start()\n    472         self.kernel.start()\n    473         try:\n--> 474             ioloop.IOLoop.instance().start()\n    475         except KeyboardInterrupt:\n    476             pass\n    477 \n    478 launch_new_instance = IPKernelApp.launch_instance\n\n...........................................................................\n/home/adrikiri/anaconda3/lib/python3.6/site-packages/zmq/eventloop/ioloop.py in start(self=<zmq.eventloop.ioloop.ZMQIOLoop object>)\n    172             )\n    173         return loop\n    174     \n    175     def start(self):\n    176         try:\n--> 177             super(ZMQIOLoop, self).start()\n        self.start = <bound method ZMQIOLoop.start of <zmq.eventloop.ioloop.ZMQIOLoop object>>\n    178         except ZMQError as e:\n    179             if e.errno == ETERM:\n    180                 # quietly return on ETERM\n    181                 pass\n\n...........................................................................\n/home/adrikiri/anaconda3/lib/python3.6/site-packages/tornado/ioloop.py in start(self=<zmq.eventloop.ioloop.ZMQIOLoop object>)\n    882                 self._events.update(event_pairs)\n    883                 while self._events:\n    884                     fd, events = self._events.popitem()\n    885                     try:\n    886                         fd_obj, handler_func = self._handlers[fd]\n--> 887                         handler_func(fd_obj, events)\n        handler_func = <function wrap.<locals>.null_wrapper>\n        fd_obj = <zmq.sugar.socket.Socket object>\n        events = 5\n    888                     except (OSError, IOError) as e:\n    889                         if errno_from_exception(e) == errno.EPIPE:\n    890                             # Happens when the client closes the connection\n    891                             pass\n\n...........................................................................\n/home/adrikiri/anaconda3/lib/python3.6/site-packages/tornado/stack_context.py in null_wrapper(*args=(<zmq.sugar.socket.Socket object>, 5), **kwargs={})\n    270         # Fast path when there are no active contexts.\n    271         def null_wrapper(*args, **kwargs):\n    272             try:\n    273                 current_state = _state.contexts\n    274                 _state.contexts = cap_contexts[0]\n--> 275                 return fn(*args, **kwargs)\n        args = (<zmq.sugar.socket.Socket object>, 5)\n        kwargs = {}\n    276             finally:\n    277                 _state.contexts = current_state\n    278         null_wrapper._wrapped = True\n    279         return null_wrapper\n\n...........................................................................\n/home/adrikiri/anaconda3/lib/python3.6/site-packages/zmq/eventloop/zmqstream.py in _handle_events(self=<zmq.eventloop.zmqstream.ZMQStream object>, fd=<zmq.sugar.socket.Socket object>, events=5)\n    435             # dispatch events:\n    436             if events & IOLoop.ERROR:\n    437                 gen_log.error(\"got POLLERR event on ZMQStream, which doesn't make sense\")\n    438                 return\n    439             if events & IOLoop.READ:\n--> 440                 self._handle_recv()\n        self._handle_recv = <bound method ZMQStream._handle_recv of <zmq.eventloop.zmqstream.ZMQStream object>>\n    441                 if not self.socket:\n    442                     return\n    443             if events & IOLoop.WRITE:\n    444                 self._handle_send()\n\n...........................................................................\n/home/adrikiri/anaconda3/lib/python3.6/site-packages/zmq/eventloop/zmqstream.py in _handle_recv(self=<zmq.eventloop.zmqstream.ZMQStream object>)\n    467                 gen_log.error(\"RECV Error: %s\"%zmq.strerror(e.errno))\n    468         else:\n    469             if self._recv_callback:\n    470                 callback = self._recv_callback\n    471                 # self._recv_callback = None\n--> 472                 self._run_callback(callback, msg)\n        self._run_callback = <bound method ZMQStream._run_callback of <zmq.eventloop.zmqstream.ZMQStream object>>\n        callback = <function wrap.<locals>.null_wrapper>\n        msg = [<zmq.sugar.frame.Frame object>, <zmq.sugar.frame.Frame object>, <zmq.sugar.frame.Frame object>, <zmq.sugar.frame.Frame object>, <zmq.sugar.frame.Frame object>, <zmq.sugar.frame.Frame object>, <zmq.sugar.frame.Frame object>]\n    473                 \n    474         # self.update_state()\n    475         \n    476 \n\n...........................................................................\n/home/adrikiri/anaconda3/lib/python3.6/site-packages/zmq/eventloop/zmqstream.py in _run_callback(self=<zmq.eventloop.zmqstream.ZMQStream object>, callback=<function wrap.<locals>.null_wrapper>, *args=([<zmq.sugar.frame.Frame object>, <zmq.sugar.frame.Frame object>, <zmq.sugar.frame.Frame object>, <zmq.sugar.frame.Frame object>, <zmq.sugar.frame.Frame object>, <zmq.sugar.frame.Frame object>, <zmq.sugar.frame.Frame object>],), **kwargs={})\n    409         close our socket.\"\"\"\n    410         try:\n    411             # Use a NullContext to ensure that all StackContexts are run\n    412             # inside our blanket exception handler rather than outside.\n    413             with stack_context.NullContext():\n--> 414                 callback(*args, **kwargs)\n        callback = <function wrap.<locals>.null_wrapper>\n        args = ([<zmq.sugar.frame.Frame object>, <zmq.sugar.frame.Frame object>, <zmq.sugar.frame.Frame object>, <zmq.sugar.frame.Frame object>, <zmq.sugar.frame.Frame object>, <zmq.sugar.frame.Frame object>, <zmq.sugar.frame.Frame object>],)\n        kwargs = {}\n    415         except:\n    416             gen_log.error(\"Uncaught exception, closing connection.\",\n    417                           exc_info=True)\n    418             # Close the socket on an uncaught exception from a user callback\n\n...........................................................................\n/home/adrikiri/anaconda3/lib/python3.6/site-packages/tornado/stack_context.py in null_wrapper(*args=([<zmq.sugar.frame.Frame object>, <zmq.sugar.frame.Frame object>, <zmq.sugar.frame.Frame object>, <zmq.sugar.frame.Frame object>, <zmq.sugar.frame.Frame object>, <zmq.sugar.frame.Frame object>, <zmq.sugar.frame.Frame object>],), **kwargs={})\n    270         # Fast path when there are no active contexts.\n    271         def null_wrapper(*args, **kwargs):\n    272             try:\n    273                 current_state = _state.contexts\n    274                 _state.contexts = cap_contexts[0]\n--> 275                 return fn(*args, **kwargs)\n        args = ([<zmq.sugar.frame.Frame object>, <zmq.sugar.frame.Frame object>, <zmq.sugar.frame.Frame object>, <zmq.sugar.frame.Frame object>, <zmq.sugar.frame.Frame object>, <zmq.sugar.frame.Frame object>, <zmq.sugar.frame.Frame object>],)\n        kwargs = {}\n    276             finally:\n    277                 _state.contexts = current_state\n    278         null_wrapper._wrapped = True\n    279         return null_wrapper\n\n...........................................................................\n/home/adrikiri/anaconda3/lib/python3.6/site-packages/ipykernel/kernelbase.py in dispatcher(msg=[<zmq.sugar.frame.Frame object>, <zmq.sugar.frame.Frame object>, <zmq.sugar.frame.Frame object>, <zmq.sugar.frame.Frame object>, <zmq.sugar.frame.Frame object>, <zmq.sugar.frame.Frame object>, <zmq.sugar.frame.Frame object>])\n    271         if self.control_stream:\n    272             self.control_stream.on_recv(self.dispatch_control, copy=False)\n    273 \n    274         def make_dispatcher(stream):\n    275             def dispatcher(msg):\n--> 276                 return self.dispatch_shell(stream, msg)\n        msg = [<zmq.sugar.frame.Frame object>, <zmq.sugar.frame.Frame object>, <zmq.sugar.frame.Frame object>, <zmq.sugar.frame.Frame object>, <zmq.sugar.frame.Frame object>, <zmq.sugar.frame.Frame object>, <zmq.sugar.frame.Frame object>]\n    277             return dispatcher\n    278 \n    279         for s in self.shell_streams:\n    280             s.on_recv(make_dispatcher(s), copy=False)\n\n...........................................................................\n/home/adrikiri/anaconda3/lib/python3.6/site-packages/ipykernel/kernelbase.py in dispatch_shell(self=<ipykernel.ipkernel.IPythonKernel object>, stream=<zmq.eventloop.zmqstream.ZMQStream object>, msg={'buffers': [], 'content': {'allow_stdin': True, 'code': \"from sklearn.neighbors import KNeighborsClassifi...        y_train,save_file='output_figs/knn.png')\\n\", 'silent': False, 'stop_on_error': True, 'store_history': True, 'user_expressions': {}}, 'header': {'date': '2017-05-20T20:37:47.891365', 'msg_id': '794D5A019E7540808B07279EC4023F8A', 'msg_type': 'execute_request', 'session': '3DB3021C17D14CA789B03AD82867CDC8', 'username': 'username', 'version': '5.0'}, 'metadata': {}, 'msg_id': '794D5A019E7540808B07279EC4023F8A', 'msg_type': 'execute_request', 'parent_header': {}})\n    223             self.log.error(\"UNKNOWN MESSAGE TYPE: %r\", msg_type)\n    224         else:\n    225             self.log.debug(\"%s: %s\", msg_type, msg)\n    226             self.pre_handler_hook()\n    227             try:\n--> 228                 handler(stream, idents, msg)\n        handler = <bound method Kernel.execute_request of <ipykernel.ipkernel.IPythonKernel object>>\n        stream = <zmq.eventloop.zmqstream.ZMQStream object>\n        idents = [b'3DB3021C17D14CA789B03AD82867CDC8']\n        msg = {'buffers': [], 'content': {'allow_stdin': True, 'code': \"from sklearn.neighbors import KNeighborsClassifi...        y_train,save_file='output_figs/knn.png')\\n\", 'silent': False, 'stop_on_error': True, 'store_history': True, 'user_expressions': {}}, 'header': {'date': '2017-05-20T20:37:47.891365', 'msg_id': '794D5A019E7540808B07279EC4023F8A', 'msg_type': 'execute_request', 'session': '3DB3021C17D14CA789B03AD82867CDC8', 'username': 'username', 'version': '5.0'}, 'metadata': {}, 'msg_id': '794D5A019E7540808B07279EC4023F8A', 'msg_type': 'execute_request', 'parent_header': {}}\n    229             except Exception:\n    230                 self.log.error(\"Exception in message handler:\", exc_info=True)\n    231             finally:\n    232                 self.post_handler_hook()\n\n...........................................................................\n/home/adrikiri/anaconda3/lib/python3.6/site-packages/ipykernel/kernelbase.py in execute_request(self=<ipykernel.ipkernel.IPythonKernel object>, stream=<zmq.eventloop.zmqstream.ZMQStream object>, ident=[b'3DB3021C17D14CA789B03AD82867CDC8'], parent={'buffers': [], 'content': {'allow_stdin': True, 'code': \"from sklearn.neighbors import KNeighborsClassifi...        y_train,save_file='output_figs/knn.png')\\n\", 'silent': False, 'stop_on_error': True, 'store_history': True, 'user_expressions': {}}, 'header': {'date': '2017-05-20T20:37:47.891365', 'msg_id': '794D5A019E7540808B07279EC4023F8A', 'msg_type': 'execute_request', 'session': '3DB3021C17D14CA789B03AD82867CDC8', 'username': 'username', 'version': '5.0'}, 'metadata': {}, 'msg_id': '794D5A019E7540808B07279EC4023F8A', 'msg_type': 'execute_request', 'parent_header': {}})\n    385         if not silent:\n    386             self.execution_count += 1\n    387             self._publish_execute_input(code, parent, self.execution_count)\n    388 \n    389         reply_content = self.do_execute(code, silent, store_history,\n--> 390                                         user_expressions, allow_stdin)\n        user_expressions = {}\n        allow_stdin = True\n    391 \n    392         # Flush output before sending the reply.\n    393         sys.stdout.flush()\n    394         sys.stderr.flush()\n\n...........................................................................\n/home/adrikiri/anaconda3/lib/python3.6/site-packages/ipykernel/ipkernel.py in do_execute(self=<ipykernel.ipkernel.IPythonKernel object>, code=\"from sklearn.neighbors import KNeighborsClassifi...        y_train,save_file='output_figs/knn.png')\\n\", silent=False, store_history=True, user_expressions={}, allow_stdin=True)\n    191 \n    192         self._forward_input(allow_stdin)\n    193 \n    194         reply_content = {}\n    195         try:\n--> 196             res = shell.run_cell(code, store_history=store_history, silent=silent)\n        res = undefined\n        shell.run_cell = <bound method ZMQInteractiveShell.run_cell of <ipykernel.zmqshell.ZMQInteractiveShell object>>\n        code = \"from sklearn.neighbors import KNeighborsClassifi...        y_train,save_file='output_figs/knn.png')\\n\"\n        store_history = True\n        silent = False\n    197         finally:\n    198             self._restore_input()\n    199 \n    200         if res.error_before_exec is not None:\n\n...........................................................................\n/home/adrikiri/anaconda3/lib/python3.6/site-packages/ipykernel/zmqshell.py in run_cell(self=<ipykernel.zmqshell.ZMQInteractiveShell object>, *args=(\"from sklearn.neighbors import KNeighborsClassifi...        y_train,save_file='output_figs/knn.png')\\n\",), **kwargs={'silent': False, 'store_history': True})\n    496             )\n    497         self.payload_manager.write_payload(payload)\n    498 \n    499     def run_cell(self, *args, **kwargs):\n    500         self._last_traceback = None\n--> 501         return super(ZMQInteractiveShell, self).run_cell(*args, **kwargs)\n        self.run_cell = <bound method ZMQInteractiveShell.run_cell of <ipykernel.zmqshell.ZMQInteractiveShell object>>\n        args = (\"from sklearn.neighbors import KNeighborsClassifi...        y_train,save_file='output_figs/knn.png')\\n\",)\n        kwargs = {'silent': False, 'store_history': True}\n    502 \n    503     def _showtraceback(self, etype, evalue, stb):\n    504         # try to preserve ordering of tracebacks and print statements\n    505         sys.stdout.flush()\n\n...........................................................................\n/home/adrikiri/anaconda3/lib/python3.6/site-packages/IPython/core/interactiveshell.py in run_cell(self=<ipykernel.zmqshell.ZMQInteractiveShell object>, raw_cell=\"from sklearn.neighbors import KNeighborsClassifi...        y_train,save_file='output_figs/knn.png')\\n\", store_history=True, silent=False, shell_futures=True)\n   2712                 self.displayhook.exec_result = result\n   2713 \n   2714                 # Execute the user code\n   2715                 interactivity = \"none\" if silent else self.ast_node_interactivity\n   2716                 has_raised = self.run_ast_nodes(code_ast.body, cell_name,\n-> 2717                    interactivity=interactivity, compiler=compiler, result=result)\n        interactivity = 'last_expr'\n        compiler = <IPython.core.compilerop.CachingCompiler object>\n   2718                 \n   2719                 self.last_execution_succeeded = not has_raised\n   2720 \n   2721                 # Reset this so later displayed values do not modify the\n\n...........................................................................\n/home/adrikiri/anaconda3/lib/python3.6/site-packages/IPython/core/interactiveshell.py in run_ast_nodes(self=<ipykernel.zmqshell.ZMQInteractiveShell object>, nodelist=[<_ast.ImportFrom object>, <_ast.Expr object>], cell_name='<ipython-input-19-6acee8d0fc7c>', interactivity='last', compiler=<IPython.core.compilerop.CachingCompiler object>, result=<ExecutionResult object at 7f3d649234a8, executi..._before_exec=None error_in_exec=None result=None>)\n   2822                     return True\n   2823 \n   2824             for i, node in enumerate(to_run_interactive):\n   2825                 mod = ast.Interactive([node])\n   2826                 code = compiler(mod, cell_name, \"single\")\n-> 2827                 if self.run_code(code, result):\n        self.run_code = <bound method InteractiveShell.run_code of <ipykernel.zmqshell.ZMQInteractiveShell object>>\n        code = <code object <module> at 0x7f3d4d3278a0, file \"<ipython-input-19-6acee8d0fc7c>\", line 3>\n        result = <ExecutionResult object at 7f3d649234a8, executi..._before_exec=None error_in_exec=None result=None>\n   2828                     return True\n   2829 \n   2830             # Flush softspace\n   2831             if softspace(sys.stdout, 0):\n\n...........................................................................\n/home/adrikiri/anaconda3/lib/python3.6/site-packages/IPython/core/interactiveshell.py in run_code(self=<ipykernel.zmqshell.ZMQInteractiveShell object>, code_obj=<code object <module> at 0x7f3d4d3278a0, file \"<ipython-input-19-6acee8d0fc7c>\", line 3>, result=<ExecutionResult object at 7f3d649234a8, executi..._before_exec=None error_in_exec=None result=None>)\n   2876         outflag = 1  # happens in more places, so it's easier as default\n   2877         try:\n   2878             try:\n   2879                 self.hooks.pre_run_code_hook()\n   2880                 #rprint('Running code', repr(code_obj)) # dbg\n-> 2881                 exec(code_obj, self.user_global_ns, self.user_ns)\n        code_obj = <code object <module> at 0x7f3d4d3278a0, file \"<ipython-input-19-6acee8d0fc7c>\", line 3>\n        self.user_global_ns = {'Cosine_sim': <class 'src.classifiers.Cosine_sim'>, 'CountVectorizer': <class 'sklearn.feature_extraction.text.CountVectorizer'>, 'DecisionTreeClassifier': <class 'sklearn.tree.tree.DecisionTreeClassifier'>, 'EnglishStemmer': <class 'nltk.stem.snowball.EnglishStemmer'>, 'GridSearchCV': <class 'sklearn.model_selection._search.GridSearchCV'>, 'In': ['', \"from gensim import corpora, models\\nfrom sklearn....load 2')\\nget_ipython().magic('matplotlib inline')\", '\\nproc = psutil.Process(os.getpid())\\nmem0 = proc.memory_info().rss', 'sample_size=50000\\nmin_df=15\\nmax_df=0.4\\nrandom_state=0\\ntester = 1', \"df = pd.read_json(path_or_buf='amazon_step1.json',orient='records',lines=True)\", '# TODO remove sampling\\n# Sampling to minimze com...sample_size,random_state=random_state)\\n#df.head()', \"# create a corpus class with an iterator that re...])\\n\\n#print ('original: ',documents[tester], '\\\\n')\", \"#Remove special characters\\ndocuments_no_specials...ve stop words: ',documents_no_stop[tester], '\\\\n')\", \"\\ndocuments_no_stop_no_numeric = remove_numerical...cs: ',documents_no_stop_no_numeric[tester], '\\\\n')\", r\"# lemmattizing tokens (better than stemming by t...ments_no_stop_no_numeric_lemmatize[tester], '\\n')\", \"# remove non-english words\\ndocuments_no_stop_no_..._stop_no_numeric_lemmatize_english[tester], '\\\\n')\", '# create ready corpus\\ndf[\\'reviewCleaned\\'] = [\" \"... documents_no_stop_no_numeric_lemmatize_english] ', '#vectorizer = CountVectorizer(max_df=max_df,min_...int(documents_vec) # sparse matrix representation', 'print(documents_vec)', 'proc = psutil.Process(os.getpid())\\nmem1 = proc.m...m2))\\nprint (\"Overall: %0.2f%%\" % pdf(mem3, mem0))', \"y=df['category']\\ncategories=np.unique(y)\\n#X_scal...se)\\nproc.memory_info().rss\\nX_scaled=documents_vec\", 'X_train=X_scaled\\ny_train=y', 'X_train, X_test, y_train, y_test = train_test_sp...led, y, test_size=0.2, random_state=random_state)', 'proc.memory_info().rss', \"from sklearn.neighbors import KNeighborsClassifi...         y_train,save_file='output_figs/knn.png')\"], 'KFold': <class 'sklearn.model_selection._split.KFold'>, 'KNeighborsClassifier': <class 'sklearn.neighbors.classification.KNeighborsClassifier'>, 'LDA_concepts': <function LDA_concepts>, 'LSI_concepts': <function LSI_concepts>, ...}\n        self.user_ns = {'Cosine_sim': <class 'src.classifiers.Cosine_sim'>, 'CountVectorizer': <class 'sklearn.feature_extraction.text.CountVectorizer'>, 'DecisionTreeClassifier': <class 'sklearn.tree.tree.DecisionTreeClassifier'>, 'EnglishStemmer': <class 'nltk.stem.snowball.EnglishStemmer'>, 'GridSearchCV': <class 'sklearn.model_selection._search.GridSearchCV'>, 'In': ['', \"from gensim import corpora, models\\nfrom sklearn....load 2')\\nget_ipython().magic('matplotlib inline')\", '\\nproc = psutil.Process(os.getpid())\\nmem0 = proc.memory_info().rss', 'sample_size=50000\\nmin_df=15\\nmax_df=0.4\\nrandom_state=0\\ntester = 1', \"df = pd.read_json(path_or_buf='amazon_step1.json',orient='records',lines=True)\", '# TODO remove sampling\\n# Sampling to minimze com...sample_size,random_state=random_state)\\n#df.head()', \"# create a corpus class with an iterator that re...])\\n\\n#print ('original: ',documents[tester], '\\\\n')\", \"#Remove special characters\\ndocuments_no_specials...ve stop words: ',documents_no_stop[tester], '\\\\n')\", \"\\ndocuments_no_stop_no_numeric = remove_numerical...cs: ',documents_no_stop_no_numeric[tester], '\\\\n')\", r\"# lemmattizing tokens (better than stemming by t...ments_no_stop_no_numeric_lemmatize[tester], '\\n')\", \"# remove non-english words\\ndocuments_no_stop_no_..._stop_no_numeric_lemmatize_english[tester], '\\\\n')\", '# create ready corpus\\ndf[\\'reviewCleaned\\'] = [\" \"... documents_no_stop_no_numeric_lemmatize_english] ', '#vectorizer = CountVectorizer(max_df=max_df,min_...int(documents_vec) # sparse matrix representation', 'print(documents_vec)', 'proc = psutil.Process(os.getpid())\\nmem1 = proc.m...m2))\\nprint (\"Overall: %0.2f%%\" % pdf(mem3, mem0))', \"y=df['category']\\ncategories=np.unique(y)\\n#X_scal...se)\\nproc.memory_info().rss\\nX_scaled=documents_vec\", 'X_train=X_scaled\\ny_train=y', 'X_train, X_test, y_train, y_test = train_test_sp...led, y, test_size=0.2, random_state=random_state)', 'proc.memory_info().rss', \"from sklearn.neighbors import KNeighborsClassifi...         y_train,save_file='output_figs/knn.png')\"], 'KFold': <class 'sklearn.model_selection._split.KFold'>, 'KNeighborsClassifier': <class 'sklearn.neighbors.classification.KNeighborsClassifier'>, 'LDA_concepts': <function LDA_concepts>, 'LSI_concepts': <function LSI_concepts>, ...}\n   2882             finally:\n   2883                 # Reset our crash handler in place\n   2884                 sys.excepthook = old_excepthook\n   2885         except SystemExit as e:\n\n...........................................................................\n/home/adrikiri/project-pace-mourad/adrian/<ipython-input-19-6acee8d0fc7c> in <module>()\n      1 from sklearn.neighbors import KNeighborsClassifier\n      2 \n      3 parameter_search(KNeighborsClassifier(),\n      4                 {'n_neighbors':range(1,50,3)},\n      5                 X_train,\n----> 6                 y_train,save_file='output_figs/knn.png')\n      7 \n      8 \n      9 \n     10 \n\n...........................................................................\n/home/adrikiri/project-pace-mourad/adrian/src/CV.py in parameter_search(estimator=KNeighborsClassifier(algorithm='auto', leaf_size...n_neighbors=5, p=2,\n           weights='uniform'), param_grid={'n_neighbors': range(1, 50, 3)}, X_train=<40000x23098 sparse matrix of type '<class 'nump... stored elements in Compressed Sparse Row format>, y_train=58034                 Digital_Music\n14527       ...               Baby\nName: category, dtype: object, cv=5, scoring='accuracy', verbose=2, save_file='output_figs/knn.png', n_jobs=-1)\n     28         param_range.append(param_grid[key])\n     29     #param_name = param_grid.keys()\n     30     \n     31     #param_range = param_grid.values()\n     32     gsCV = GridSearchCV(estimator, param_grid, cv=cv, scoring=scoring, verbose=verbose,n_jobs=n_jobs)\n---> 33     gsCV.fit(X_train, y_train)\n        gsCV.fit = <bound method GridSearchCV.fit of GridSearchCV(c...core=True,\n       scoring='accuracy', verbose=2)>\n        X_train = <40000x23098 sparse matrix of type '<class 'nump... stored elements in Compressed Sparse Row format>\n        y_train = 58034                 Digital_Music\n14527       ...               Baby\nName: category, dtype: object\n     34     val_scores_mean = gsCV.cv_results_['mean_test_score']\n     35     val_scores_std = gsCV.cv_results_['std_test_score']\n     36     train_scores_mean = gsCV.cv_results_['mean_train_score']\n     37     train_scores_std = gsCV.cv_results_['std_train_score']\n\n...........................................................................\n/home/adrikiri/anaconda3/lib/python3.6/site-packages/sklearn/model_selection/_search.py in fit(self=GridSearchCV(cv=5, error_score='raise',\n       e...score=True,\n       scoring='accuracy', verbose=2), X=<40000x23098 sparse matrix of type '<class 'nump... stored elements in Compressed Sparse Row format>, y=58034                 Digital_Music\n14527       ...               Baby\nName: category, dtype: object, groups=None)\n    940 \n    941         groups : array-like, with shape (n_samples,), optional\n    942             Group labels for the samples used while splitting the dataset into\n    943             train/test set.\n    944         \"\"\"\n--> 945         return self._fit(X, y, groups, ParameterGrid(self.param_grid))\n        self._fit = <bound method BaseSearchCV._fit of GridSearchCV(...core=True,\n       scoring='accuracy', verbose=2)>\n        X = <40000x23098 sparse matrix of type '<class 'nump... stored elements in Compressed Sparse Row format>\n        y = 58034                 Digital_Music\n14527       ...               Baby\nName: category, dtype: object\n        groups = None\n        self.param_grid = {'n_neighbors': range(1, 50, 3)}\n    946 \n    947 \n    948 class RandomizedSearchCV(BaseSearchCV):\n    949     \"\"\"Randomized search on hyper parameters.\n\n...........................................................................\n/home/adrikiri/anaconda3/lib/python3.6/site-packages/sklearn/model_selection/_search.py in _fit(self=GridSearchCV(cv=5, error_score='raise',\n       e...score=True,\n       scoring='accuracy', verbose=2), X=<40000x23098 sparse matrix of type '<class 'nump... stored elements in Compressed Sparse Row format>, y=58034                 Digital_Music\n14527       ...               Baby\nName: category, dtype: object, groups=None, parameter_iterable=<sklearn.model_selection._search.ParameterGrid object>)\n    559                                   fit_params=self.fit_params,\n    560                                   return_train_score=self.return_train_score,\n    561                                   return_n_test_samples=True,\n    562                                   return_times=True, return_parameters=True,\n    563                                   error_score=self.error_score)\n--> 564           for parameters in parameter_iterable\n        parameters = undefined\n        parameter_iterable = <sklearn.model_selection._search.ParameterGrid object>\n    565           for train, test in cv_iter)\n    566 \n    567         # if one choose to see train score, \"out\" will contain train score info\n    568         if self.return_train_score:\n\n...........................................................................\n/home/adrikiri/anaconda3/lib/python3.6/site-packages/sklearn/externals/joblib/parallel.py in __call__(self=Parallel(n_jobs=-1), iterable=<generator object BaseSearchCV._fit.<locals>.<genexpr>>)\n    763             if pre_dispatch == \"all\" or n_jobs == 1:\n    764                 # The iterable was consumed all at once by the above for loop.\n    765                 # No need to wait for async callbacks to trigger to\n    766                 # consumption.\n    767                 self._iterating = False\n--> 768             self.retrieve()\n        self.retrieve = <bound method Parallel.retrieve of Parallel(n_jobs=-1)>\n    769             # Make sure that we get a last message telling us we are done\n    770             elapsed_time = time.time() - self._start_time\n    771             self._print('Done %3i out of %3i | elapsed: %s finished',\n    772                         (len(self._output), len(self._output),\n\n---------------------------------------------------------------------------\nSub-process traceback:\n---------------------------------------------------------------------------\nMemoryError                                        Sat May 20 20:37:57 2017\nPID: 2451                 Python 3.6.0: /home/adrikiri/anaconda3/bin/python\n...........................................................................\n/home/adrikiri/anaconda3/lib/python3.6/site-packages/sklearn/externals/joblib/parallel.py in __call__(self=<sklearn.externals.joblib.parallel.BatchedCalls object>)\n    126     def __init__(self, iterator_slice):\n    127         self.items = list(iterator_slice)\n    128         self._size = len(self.items)\n    129 \n    130     def __call__(self):\n--> 131         return [func(*args, **kwargs) for func, args, kwargs in self.items]\n        self.items = [(<function _fit_and_score>, (KNeighborsClassifier(algorithm='auto', leaf_size...n_neighbors=1, p=2,\n           weights='uniform'), <40000x23098 sparse matrix of type '<class 'nump... stored elements in Compressed Sparse Row format>, 58034                 Digital_Music\n14527       ...               Baby\nName: category, dtype: object, make_scorer(accuracy_score), array([ 7333,  7356,  7391, ..., 39997, 39998, 39999]), array([   0,    1,    2, ..., 8635, 8673, 8678]), 2, {'n_neighbors': 1}), {'error_score': 'raise', 'fit_params': {}, 'return_n_test_samples': True, 'return_parameters': True, 'return_times': True, 'return_train_score': True})]\n    132 \n    133     def __len__(self):\n    134         return self._size\n    135 \n\n...........................................................................\n/home/adrikiri/anaconda3/lib/python3.6/site-packages/sklearn/externals/joblib/parallel.py in <listcomp>(.0=<list_iterator object>)\n    126     def __init__(self, iterator_slice):\n    127         self.items = list(iterator_slice)\n    128         self._size = len(self.items)\n    129 \n    130     def __call__(self):\n--> 131         return [func(*args, **kwargs) for func, args, kwargs in self.items]\n        func = <function _fit_and_score>\n        args = (KNeighborsClassifier(algorithm='auto', leaf_size...n_neighbors=1, p=2,\n           weights='uniform'), <40000x23098 sparse matrix of type '<class 'nump... stored elements in Compressed Sparse Row format>, 58034                 Digital_Music\n14527       ...               Baby\nName: category, dtype: object, make_scorer(accuracy_score), array([ 7333,  7356,  7391, ..., 39997, 39998, 39999]), array([   0,    1,    2, ..., 8635, 8673, 8678]), 2, {'n_neighbors': 1})\n        kwargs = {'error_score': 'raise', 'fit_params': {}, 'return_n_test_samples': True, 'return_parameters': True, 'return_times': True, 'return_train_score': True}\n    132 \n    133     def __len__(self):\n    134         return self._size\n    135 \n\n...........................................................................\n/home/adrikiri/anaconda3/lib/python3.6/site-packages/sklearn/model_selection/_validation.py in _fit_and_score(estimator=KNeighborsClassifier(algorithm='auto', leaf_size...n_neighbors=1, p=2,\n           weights='uniform'), X=<40000x23098 sparse matrix of type '<class 'nump... stored elements in Compressed Sparse Row format>, y=58034                 Digital_Music\n14527       ...               Baby\nName: category, dtype: object, scorer=make_scorer(accuracy_score), train=array([ 7333,  7356,  7391, ..., 39997, 39998, 39999]), test=array([   0,    1,    2, ..., 8635, 8673, 8678]), verbose=2, parameters={'n_neighbors': 1}, fit_params={}, return_train_score=True, return_parameters=True, return_n_test_samples=True, return_times=True, error_score='raise')\n    255                              \" numeric value. (Hint: if using 'raise', please\"\n    256                              \" make sure that it has been spelled correctly.)\")\n    257 \n    258     else:\n    259         fit_time = time.time() - start_time\n--> 260         test_score = _score(estimator, X_test, y_test, scorer)\n        test_score = undefined\n        estimator = KNeighborsClassifier(algorithm='auto', leaf_size...n_neighbors=1, p=2,\n           weights='uniform')\n        X_test = <8009x23098 sparse matrix of type '<class 'numpy... stored elements in Compressed Sparse Row format>\n        y_test = 58034                 Digital_Music\n14527       ...Sports_and_Outdoors\nName: category, dtype: object\n        scorer = make_scorer(accuracy_score)\n    261         score_time = time.time() - start_time - fit_time\n    262         if return_train_score:\n    263             train_score = _score(estimator, X_train, y_train, scorer)\n    264 \n\n...........................................................................\n/home/adrikiri/anaconda3/lib/python3.6/site-packages/sklearn/model_selection/_validation.py in _score(estimator=KNeighborsClassifier(algorithm='auto', leaf_size...n_neighbors=1, p=2,\n           weights='uniform'), X_test=<8009x23098 sparse matrix of type '<class 'numpy... stored elements in Compressed Sparse Row format>, y_test=58034                 Digital_Music\n14527       ...Sports_and_Outdoors\nName: category, dtype: object, scorer=make_scorer(accuracy_score))\n    283 def _score(estimator, X_test, y_test, scorer):\n    284     \"\"\"Compute the score of an estimator on a given test set.\"\"\"\n    285     if y_test is None:\n    286         score = scorer(estimator, X_test)\n    287     else:\n--> 288         score = scorer(estimator, X_test, y_test)\n        score = undefined\n        scorer = make_scorer(accuracy_score)\n        estimator = KNeighborsClassifier(algorithm='auto', leaf_size...n_neighbors=1, p=2,\n           weights='uniform')\n        X_test = <8009x23098 sparse matrix of type '<class 'numpy... stored elements in Compressed Sparse Row format>\n        y_test = 58034                 Digital_Music\n14527       ...Sports_and_Outdoors\nName: category, dtype: object\n    289     if hasattr(score, 'item'):\n    290         try:\n    291             # e.g. unwrap memmapped scalars\n    292             score = score.item()\n\n...........................................................................\n/home/adrikiri/anaconda3/lib/python3.6/site-packages/sklearn/metrics/scorer.py in __call__(self=make_scorer(accuracy_score), estimator=KNeighborsClassifier(algorithm='auto', leaf_size...n_neighbors=1, p=2,\n           weights='uniform'), X=<8009x23098 sparse matrix of type '<class 'numpy... stored elements in Compressed Sparse Row format>, y_true=58034                 Digital_Music\n14527       ...Sports_and_Outdoors\nName: category, dtype: object, sample_weight=None)\n     86         score : float\n     87             Score function applied to prediction of estimator on X.\n     88         \"\"\"\n     89         super(_PredictScorer, self).__call__(estimator, X, y_true,\n     90                                              sample_weight=sample_weight)\n---> 91         y_pred = estimator.predict(X)\n        y_pred = undefined\n        estimator.predict = <bound method KNeighborsClassifier.predict of KN..._neighbors=1, p=2,\n           weights='uniform')>\n        X = <8009x23098 sparse matrix of type '<class 'numpy... stored elements in Compressed Sparse Row format>\n     92         if sample_weight is not None:\n     93             return self._sign * self._score_func(y_true, y_pred,\n     94                                                  sample_weight=sample_weight,\n     95                                                  **self._kwargs)\n\n...........................................................................\n/home/adrikiri/anaconda3/lib/python3.6/site-packages/sklearn/neighbors/classification.py in predict(self=KNeighborsClassifier(algorithm='auto', leaf_size...n_neighbors=1, p=2,\n           weights='uniform'), X=<8009x23098 sparse matrix of type '<class 'numpy... stored elements in Compressed Sparse Row format>)\n    140         y : array of shape [n_samples] or [n_samples, n_outputs]\n    141             Class labels for each data sample.\n    142         \"\"\"\n    143         X = check_array(X, accept_sparse='csr')\n    144 \n--> 145         neigh_dist, neigh_ind = self.kneighbors(X)\n        neigh_dist = undefined\n        neigh_ind = undefined\n        self.kneighbors = <bound method KNeighborsMixin.kneighbors of KNei..._neighbors=1, p=2,\n           weights='uniform')>\n        X = <8009x23098 sparse matrix of type '<class 'numpy... stored elements in Compressed Sparse Row format>\n    146 \n    147         classes_ = self.classes_\n    148         _y = self._y\n    149         if not self.outputs_2d_:\n\n...........................................................................\n/home/adrikiri/anaconda3/lib/python3.6/site-packages/sklearn/neighbors/base.py in kneighbors(self=KNeighborsClassifier(algorithm='auto', leaf_size...n_neighbors=1, p=2,\n           weights='uniform'), X=<8009x23098 sparse matrix of type '<class 'numpy... stored elements in Compressed Sparse Row format>, n_neighbors=1, return_distance=True)\n    348         n_jobs = _get_n_jobs(self.n_jobs)\n    349         if self._fit_method == 'brute':\n    350             # for efficiency, use squared euclidean distances\n    351             if self.effective_metric_ == 'euclidean':\n    352                 dist = pairwise_distances(X, self._fit_X, 'euclidean',\n--> 353                                           n_jobs=n_jobs, squared=True)\n        n_jobs = 1\n    354             else:\n    355                 dist = pairwise_distances(\n    356                     X, self._fit_X, self.effective_metric_, n_jobs=n_jobs,\n    357                     **self.effective_metric_params_)\n\n...........................................................................\n/home/adrikiri/anaconda3/lib/python3.6/site-packages/sklearn/metrics/pairwise.py in pairwise_distances(X=<8009x23098 sparse matrix of type '<class 'numpy... stored elements in Compressed Sparse Row format>, Y=<31991x23098 sparse matrix of type '<class 'nump... stored elements in Compressed Sparse Row format>, metric='euclidean', n_jobs=1, **kwds={'squared': True})\n   1235         if n_jobs == 1 and X is Y:\n   1236             return distance.squareform(distance.pdist(X, metric=metric,\n   1237                                                       **kwds))\n   1238         func = partial(distance.cdist, metric=metric, **kwds)\n   1239 \n-> 1240     return _parallel_pairwise(X, Y, func, n_jobs, **kwds)\n        X = <8009x23098 sparse matrix of type '<class 'numpy... stored elements in Compressed Sparse Row format>\n        Y = <31991x23098 sparse matrix of type '<class 'nump... stored elements in Compressed Sparse Row format>\n        func = <function euclidean_distances>\n        n_jobs = 1\n        kwds = {'squared': True}\n   1241 \n   1242 \n   1243 # These distances recquire boolean arrays, when using scipy.spatial.distance\n   1244 PAIRWISE_BOOLEAN_FUNCTIONS = [\n\n...........................................................................\n/home/adrikiri/anaconda3/lib/python3.6/site-packages/sklearn/metrics/pairwise.py in _parallel_pairwise(X=<8009x23098 sparse matrix of type '<class 'numpy... stored elements in Compressed Sparse Row format>, Y=<31991x23098 sparse matrix of type '<class 'nump... stored elements in Compressed Sparse Row format>, func=<function euclidean_distances>, n_jobs=1, **kwds={'squared': True})\n   1078     if Y is None:\n   1079         Y = X\n   1080 \n   1081     if n_jobs == 1:\n   1082         # Special case to avoid picklability checks in delayed\n-> 1083         return func(X, Y, **kwds)\n        func = <function euclidean_distances>\n        X = <8009x23098 sparse matrix of type '<class 'numpy... stored elements in Compressed Sparse Row format>\n        Y = <31991x23098 sparse matrix of type '<class 'nump... stored elements in Compressed Sparse Row format>\n        kwds = {'squared': True}\n   1084 \n   1085     # TODO: in some cases, backend='threading' may be appropriate\n   1086     fd = delayed(func)\n   1087     ret = Parallel(n_jobs=n_jobs, verbose=0)(\n\n...........................................................................\n/home/adrikiri/anaconda3/lib/python3.6/site-packages/sklearn/metrics/pairwise.py in euclidean_distances(X=<8009x23098 sparse matrix of type '<class 'numpy... stored elements in Compressed Sparse Row format>, Y=<31991x23098 sparse matrix of type '<class 'nump... stored elements in Compressed Sparse Row format>, Y_norm_squared=None, squared=True, X_norm_squared=None)\n    240             raise ValueError(\n    241                 \"Incompatible dimensions for Y and Y_norm_squared\")\n    242     else:\n    243         YY = row_norms(Y, squared=True)[np.newaxis, :]\n    244 \n--> 245     distances = safe_sparse_dot(X, Y.T, dense_output=True)\n        distances = undefined\n        X = <8009x23098 sparse matrix of type '<class 'numpy... stored elements in Compressed Sparse Row format>\n        Y.T = <23098x31991 sparse matrix of type '<class 'nump...ored elements in Compressed Sparse Column format>\n    246     distances *= -2\n    247     distances += XX\n    248     distances += YY\n    249     np.maximum(distances, 0, out=distances)\n\n...........................................................................\n/home/adrikiri/anaconda3/lib/python3.6/site-packages/sklearn/utils/extmath.py in safe_sparse_dot(a=<8009x23098 sparse matrix of type '<class 'numpy... stored elements in Compressed Sparse Row format>, b=<23098x31991 sparse matrix of type '<class 'nump...ored elements in Compressed Sparse Column format>, dense_output=True)\n    181     to avoid unnecessary copies.\n    182     \"\"\"\n    183     if issparse(a) or issparse(b):\n    184         ret = a * b\n    185         if dense_output and hasattr(ret, \"toarray\"):\n--> 186             ret = ret.toarray()\n        ret = <8009x31991 sparse matrix of type '<class 'numpy... stored elements in Compressed Sparse Row format>\n        ret.toarray = <bound method _cs_matrix.toarray of <8009x31991 ...stored elements in Compressed Sparse Row format>>\n    187         return ret\n    188     else:\n    189         return fast_dot(a, b)\n    190 \n\n...........................................................................\n/home/adrikiri/anaconda3/lib/python3.6/site-packages/scipy/sparse/compressed.py in toarray(self=<8009x31991 sparse matrix of type '<class 'numpy... stored elements in Compressed Sparse Row format>, order=None, out=None)\n    915 \n    916     tocoo.__doc__ = spmatrix.tocoo.__doc__\n    917 \n    918     def toarray(self, order=None, out=None):\n    919         \"\"\"See the docstring for `spmatrix.toarray`.\"\"\"\n--> 920         return self.tocoo(copy=False).toarray(order=order, out=out)\n        self.tocoo = <bound method _cs_matrix.tocoo of <8009x31991 sp...stored elements in Compressed Sparse Row format>>\n        order = None\n        out = None\n    921 \n    922     ##############################################################\n    923     # methods that examine or modify the internal data structure #\n    924     ##############################################################\n\n...........................................................................\n/home/adrikiri/anaconda3/lib/python3.6/site-packages/scipy/sparse/coo.py in toarray(self=<8009x31991 sparse matrix of type '<class 'numpy...h 141456287 stored elements in COOrdinate format>, order=None, out=None)\n    247 \n    248     transpose.__doc__ = spmatrix.transpose.__doc__\n    249 \n    250     def toarray(self, order=None, out=None):\n    251         \"\"\"See the docstring for `spmatrix.toarray`.\"\"\"\n--> 252         B = self._process_toarray_args(order, out)\n        B = undefined\n        self._process_toarray_args = <bound method spmatrix._process_toarray_args of ... 141456287 stored elements in COOrdinate format>>\n        order = None\n        out = None\n    253         fortran = int(B.flags.f_contiguous)\n    254         if not fortran and not B.flags.c_contiguous:\n    255             raise ValueError(\"Output array must be C or F contiguous\")\n    256         M,N = self.shape\n\n...........................................................................\n/home/adrikiri/anaconda3/lib/python3.6/site-packages/scipy/sparse/base.py in _process_toarray_args(self=<8009x31991 sparse matrix of type '<class 'numpy...h 141456287 stored elements in COOrdinate format>, order=None, out=None)\n   1004                 raise ValueError('out array must be same dtype and shape as '\n   1005                                  'sparse matrix')\n   1006             out[...] = 0.\n   1007             return out\n   1008         else:\n-> 1009             return np.zeros(self.shape, dtype=self.dtype, order=order)\n        self.shape = (8009, 31991)\n        self.dtype = dtype('float64')\n        order = None\n   1010 \n   1011     def __numpy_ufunc__(self, func, method, pos, inputs, **kwargs):\n   1012         \"\"\"Method for compatibility with NumPy's ufuncs and dot\n   1013         functions.\n\nMemoryError: \n___________________________________________________________________________",
     "output_type": "error",
     "traceback": [
      "\u001b[0;31m---------------------------------------------------------------------------\u001b[0m",
      "\u001b[0;31mRemoteTraceback\u001b[0m                           Traceback (most recent call last)",
      "\u001b[0;31mRemoteTraceback\u001b[0m: \n\"\"\"\nTraceback (most recent call last):\n  File \"/home/adrikiri/anaconda3/lib/python3.6/site-packages/sklearn/externals/joblib/_parallel_backends.py\", line 344, in __call__\n    return self.func(*args, **kwargs)\n  File \"/home/adrikiri/anaconda3/lib/python3.6/site-packages/sklearn/externals/joblib/parallel.py\", line 131, in __call__\n    return [func(*args, **kwargs) for func, args, kwargs in self.items]\n  File \"/home/adrikiri/anaconda3/lib/python3.6/site-packages/sklearn/externals/joblib/parallel.py\", line 131, in <listcomp>\n    return [func(*args, **kwargs) for func, args, kwargs in self.items]\n  File \"/home/adrikiri/anaconda3/lib/python3.6/site-packages/sklearn/model_selection/_validation.py\", line 260, in _fit_and_score\n    test_score = _score(estimator, X_test, y_test, scorer)\n  File \"/home/adrikiri/anaconda3/lib/python3.6/site-packages/sklearn/model_selection/_validation.py\", line 288, in _score\n    score = scorer(estimator, X_test, y_test)\n  File \"/home/adrikiri/anaconda3/lib/python3.6/site-packages/sklearn/metrics/scorer.py\", line 91, in __call__\n    y_pred = estimator.predict(X)\n  File \"/home/adrikiri/anaconda3/lib/python3.6/site-packages/sklearn/neighbors/classification.py\", line 145, in predict\n    neigh_dist, neigh_ind = self.kneighbors(X)\n  File \"/home/adrikiri/anaconda3/lib/python3.6/site-packages/sklearn/neighbors/base.py\", line 353, in kneighbors\n    n_jobs=n_jobs, squared=True)\n  File \"/home/adrikiri/anaconda3/lib/python3.6/site-packages/sklearn/metrics/pairwise.py\", line 1240, in pairwise_distances\n    return _parallel_pairwise(X, Y, func, n_jobs, **kwds)\n  File \"/home/adrikiri/anaconda3/lib/python3.6/site-packages/sklearn/metrics/pairwise.py\", line 1083, in _parallel_pairwise\n    return func(X, Y, **kwds)\n  File \"/home/adrikiri/anaconda3/lib/python3.6/site-packages/sklearn/metrics/pairwise.py\", line 245, in euclidean_distances\n    distances = safe_sparse_dot(X, Y.T, dense_output=True)\n  File \"/home/adrikiri/anaconda3/lib/python3.6/site-packages/sklearn/utils/extmath.py\", line 186, in safe_sparse_dot\n    ret = ret.toarray()\n  File \"/home/adrikiri/anaconda3/lib/python3.6/site-packages/scipy/sparse/compressed.py\", line 920, in toarray\n    return self.tocoo(copy=False).toarray(order=order, out=out)\n  File \"/home/adrikiri/anaconda3/lib/python3.6/site-packages/scipy/sparse/coo.py\", line 252, in toarray\n    B = self._process_toarray_args(order, out)\n  File \"/home/adrikiri/anaconda3/lib/python3.6/site-packages/scipy/sparse/base.py\", line 1009, in _process_toarray_args\n    return np.zeros(self.shape, dtype=self.dtype, order=order)\nMemoryError\n\nDuring handling of the above exception, another exception occurred:\n\nTraceback (most recent call last):\n  File \"/home/adrikiri/anaconda3/lib/python3.6/multiprocessing/pool.py\", line 119, in worker\n    result = (True, func(*args, **kwds))\n  File \"/home/adrikiri/anaconda3/lib/python3.6/site-packages/sklearn/externals/joblib/_parallel_backends.py\", line 353, in __call__\n    raise TransportableException(text, e_type)\nsklearn.externals.joblib.my_exceptions.TransportableException: TransportableException\n___________________________________________________________________________\nMemoryError                                        Sat May 20 20:37:57 2017\nPID: 2451                 Python 3.6.0: /home/adrikiri/anaconda3/bin/python\n...........................................................................\n/home/adrikiri/anaconda3/lib/python3.6/site-packages/sklearn/externals/joblib/parallel.py in __call__(self=<sklearn.externals.joblib.parallel.BatchedCalls object>)\n    126     def __init__(self, iterator_slice):\n    127         self.items = list(iterator_slice)\n    128         self._size = len(self.items)\n    129 \n    130     def __call__(self):\n--> 131         return [func(*args, **kwargs) for func, args, kwargs in self.items]\n        self.items = [(<function _fit_and_score>, (KNeighborsClassifier(algorithm='auto', leaf_size...n_neighbors=1, p=2,\n           weights='uniform'), <40000x23098 sparse matrix of type '<class 'nump... stored elements in Compressed Sparse Row format>, 58034                 Digital_Music\n14527       ...               Baby\nName: category, dtype: object, make_scorer(accuracy_score), array([ 7333,  7356,  7391, ..., 39997, 39998, 39999]), array([   0,    1,    2, ..., 8635, 8673, 8678]), 2, {'n_neighbors': 1}), {'error_score': 'raise', 'fit_params': {}, 'return_n_test_samples': True, 'return_parameters': True, 'return_times': True, 'return_train_score': True})]\n    132 \n    133     def __len__(self):\n    134         return self._size\n    135 \n\n...........................................................................\n/home/adrikiri/anaconda3/lib/python3.6/site-packages/sklearn/externals/joblib/parallel.py in <listcomp>(.0=<list_iterator object>)\n    126     def __init__(self, iterator_slice):\n    127         self.items = list(iterator_slice)\n    128         self._size = len(self.items)\n    129 \n    130     def __call__(self):\n--> 131         return [func(*args, **kwargs) for func, args, kwargs in self.items]\n        func = <function _fit_and_score>\n        args = (KNeighborsClassifier(algorithm='auto', leaf_size...n_neighbors=1, p=2,\n           weights='uniform'), <40000x23098 sparse matrix of type '<class 'nump... stored elements in Compressed Sparse Row format>, 58034                 Digital_Music\n14527       ...               Baby\nName: category, dtype: object, make_scorer(accuracy_score), array([ 7333,  7356,  7391, ..., 39997, 39998, 39999]), array([   0,    1,    2, ..., 8635, 8673, 8678]), 2, {'n_neighbors': 1})\n        kwargs = {'error_score': 'raise', 'fit_params': {}, 'return_n_test_samples': True, 'return_parameters': True, 'return_times': True, 'return_train_score': True}\n    132 \n    133     def __len__(self):\n    134         return self._size\n    135 \n\n...........................................................................\n/home/adrikiri/anaconda3/lib/python3.6/site-packages/sklearn/model_selection/_validation.py in _fit_and_score(estimator=KNeighborsClassifier(algorithm='auto', leaf_size...n_neighbors=1, p=2,\n           weights='uniform'), X=<40000x23098 sparse matrix of type '<class 'nump... stored elements in Compressed Sparse Row format>, y=58034                 Digital_Music\n14527       ...               Baby\nName: category, dtype: object, scorer=make_scorer(accuracy_score), train=array([ 7333,  7356,  7391, ..., 39997, 39998, 39999]), test=array([   0,    1,    2, ..., 8635, 8673, 8678]), verbose=2, parameters={'n_neighbors': 1}, fit_params={}, return_train_score=True, return_parameters=True, return_n_test_samples=True, return_times=True, error_score='raise')\n    255                              \" numeric value. (Hint: if using 'raise', please\"\n    256                              \" make sure that it has been spelled correctly.)\")\n    257 \n    258     else:\n    259         fit_time = time.time() - start_time\n--> 260         test_score = _score(estimator, X_test, y_test, scorer)\n        test_score = undefined\n        estimator = KNeighborsClassifier(algorithm='auto', leaf_size...n_neighbors=1, p=2,\n           weights='uniform')\n        X_test = <8009x23098 sparse matrix of type '<class 'numpy... stored elements in Compressed Sparse Row format>\n        y_test = 58034                 Digital_Music\n14527       ...Sports_and_Outdoors\nName: category, dtype: object\n        scorer = make_scorer(accuracy_score)\n    261         score_time = time.time() - start_time - fit_time\n    262         if return_train_score:\n    263             train_score = _score(estimator, X_train, y_train, scorer)\n    264 \n\n...........................................................................\n/home/adrikiri/anaconda3/lib/python3.6/site-packages/sklearn/model_selection/_validation.py in _score(estimator=KNeighborsClassifier(algorithm='auto', leaf_size...n_neighbors=1, p=2,\n           weights='uniform'), X_test=<8009x23098 sparse matrix of type '<class 'numpy... stored elements in Compressed Sparse Row format>, y_test=58034                 Digital_Music\n14527       ...Sports_and_Outdoors\nName: category, dtype: object, scorer=make_scorer(accuracy_score))\n    283 def _score(estimator, X_test, y_test, scorer):\n    284     \"\"\"Compute the score of an estimator on a given test set.\"\"\"\n    285     if y_test is None:\n    286         score = scorer(estimator, X_test)\n    287     else:\n--> 288         score = scorer(estimator, X_test, y_test)\n        score = undefined\n        scorer = make_scorer(accuracy_score)\n        estimator = KNeighborsClassifier(algorithm='auto', leaf_size...n_neighbors=1, p=2,\n           weights='uniform')\n        X_test = <8009x23098 sparse matrix of type '<class 'numpy... stored elements in Compressed Sparse Row format>\n        y_test = 58034                 Digital_Music\n14527       ...Sports_and_Outdoors\nName: category, dtype: object\n    289     if hasattr(score, 'item'):\n    290         try:\n    291             # e.g. unwrap memmapped scalars\n    292             score = score.item()\n\n...........................................................................\n/home/adrikiri/anaconda3/lib/python3.6/site-packages/sklearn/metrics/scorer.py in __call__(self=make_scorer(accuracy_score), estimator=KNeighborsClassifier(algorithm='auto', leaf_size...n_neighbors=1, p=2,\n           weights='uniform'), X=<8009x23098 sparse matrix of type '<class 'numpy... stored elements in Compressed Sparse Row format>, y_true=58034                 Digital_Music\n14527       ...Sports_and_Outdoors\nName: category, dtype: object, sample_weight=None)\n     86         score : float\n     87             Score function applied to prediction of estimator on X.\n     88         \"\"\"\n     89         super(_PredictScorer, self).__call__(estimator, X, y_true,\n     90                                              sample_weight=sample_weight)\n---> 91         y_pred = estimator.predict(X)\n        y_pred = undefined\n        estimator.predict = <bound method KNeighborsClassifier.predict of KN..._neighbors=1, p=2,\n           weights='uniform')>\n        X = <8009x23098 sparse matrix of type '<class 'numpy... stored elements in Compressed Sparse Row format>\n     92         if sample_weight is not None:\n     93             return self._sign * self._score_func(y_true, y_pred,\n     94                                                  sample_weight=sample_weight,\n     95                                                  **self._kwargs)\n\n...........................................................................\n/home/adrikiri/anaconda3/lib/python3.6/site-packages/sklearn/neighbors/classification.py in predict(self=KNeighborsClassifier(algorithm='auto', leaf_size...n_neighbors=1, p=2,\n           weights='uniform'), X=<8009x23098 sparse matrix of type '<class 'numpy... stored elements in Compressed Sparse Row format>)\n    140         y : array of shape [n_samples] or [n_samples, n_outputs]\n    141             Class labels for each data sample.\n    142         \"\"\"\n    143         X = check_array(X, accept_sparse='csr')\n    144 \n--> 145         neigh_dist, neigh_ind = self.kneighbors(X)\n        neigh_dist = undefined\n        neigh_ind = undefined\n        self.kneighbors = <bound method KNeighborsMixin.kneighbors of KNei..._neighbors=1, p=2,\n           weights='uniform')>\n        X = <8009x23098 sparse matrix of type '<class 'numpy... stored elements in Compressed Sparse Row format>\n    146 \n    147         classes_ = self.classes_\n    148         _y = self._y\n    149         if not self.outputs_2d_:\n\n...........................................................................\n/home/adrikiri/anaconda3/lib/python3.6/site-packages/sklearn/neighbors/base.py in kneighbors(self=KNeighborsClassifier(algorithm='auto', leaf_size...n_neighbors=1, p=2,\n           weights='uniform'), X=<8009x23098 sparse matrix of type '<class 'numpy... stored elements in Compressed Sparse Row format>, n_neighbors=1, return_distance=True)\n    348         n_jobs = _get_n_jobs(self.n_jobs)\n    349         if self._fit_method == 'brute':\n    350             # for efficiency, use squared euclidean distances\n    351             if self.effective_metric_ == 'euclidean':\n    352                 dist = pairwise_distances(X, self._fit_X, 'euclidean',\n--> 353                                           n_jobs=n_jobs, squared=True)\n        n_jobs = 1\n    354             else:\n    355                 dist = pairwise_distances(\n    356                     X, self._fit_X, self.effective_metric_, n_jobs=n_jobs,\n    357                     **self.effective_metric_params_)\n\n...........................................................................\n/home/adrikiri/anaconda3/lib/python3.6/site-packages/sklearn/metrics/pairwise.py in pairwise_distances(X=<8009x23098 sparse matrix of type '<class 'numpy... stored elements in Compressed Sparse Row format>, Y=<31991x23098 sparse matrix of type '<class 'nump... stored elements in Compressed Sparse Row format>, metric='euclidean', n_jobs=1, **kwds={'squared': True})\n   1235         if n_jobs == 1 and X is Y:\n   1236             return distance.squareform(distance.pdist(X, metric=metric,\n   1237                                                       **kwds))\n   1238         func = partial(distance.cdist, metric=metric, **kwds)\n   1239 \n-> 1240     return _parallel_pairwise(X, Y, func, n_jobs, **kwds)\n        X = <8009x23098 sparse matrix of type '<class 'numpy... stored elements in Compressed Sparse Row format>\n        Y = <31991x23098 sparse matrix of type '<class 'nump... stored elements in Compressed Sparse Row format>\n        func = <function euclidean_distances>\n        n_jobs = 1\n        kwds = {'squared': True}\n   1241 \n   1242 \n   1243 # These distances recquire boolean arrays, when using scipy.spatial.distance\n   1244 PAIRWISE_BOOLEAN_FUNCTIONS = [\n\n...........................................................................\n/home/adrikiri/anaconda3/lib/python3.6/site-packages/sklearn/metrics/pairwise.py in _parallel_pairwise(X=<8009x23098 sparse matrix of type '<class 'numpy... stored elements in Compressed Sparse Row format>, Y=<31991x23098 sparse matrix of type '<class 'nump... stored elements in Compressed Sparse Row format>, func=<function euclidean_distances>, n_jobs=1, **kwds={'squared': True})\n   1078     if Y is None:\n   1079         Y = X\n   1080 \n   1081     if n_jobs == 1:\n   1082         # Special case to avoid picklability checks in delayed\n-> 1083         return func(X, Y, **kwds)\n        func = <function euclidean_distances>\n        X = <8009x23098 sparse matrix of type '<class 'numpy... stored elements in Compressed Sparse Row format>\n        Y = <31991x23098 sparse matrix of type '<class 'nump... stored elements in Compressed Sparse Row format>\n        kwds = {'squared': True}\n   1084 \n   1085     # TODO: in some cases, backend='threading' may be appropriate\n   1086     fd = delayed(func)\n   1087     ret = Parallel(n_jobs=n_jobs, verbose=0)(\n\n...........................................................................\n/home/adrikiri/anaconda3/lib/python3.6/site-packages/sklearn/metrics/pairwise.py in euclidean_distances(X=<8009x23098 sparse matrix of type '<class 'numpy... stored elements in Compressed Sparse Row format>, Y=<31991x23098 sparse matrix of type '<class 'nump... stored elements in Compressed Sparse Row format>, Y_norm_squared=None, squared=True, X_norm_squared=None)\n    240             raise ValueError(\n    241                 \"Incompatible dimensions for Y and Y_norm_squared\")\n    242     else:\n    243         YY = row_norms(Y, squared=True)[np.newaxis, :]\n    244 \n--> 245     distances = safe_sparse_dot(X, Y.T, dense_output=True)\n        distances = undefined\n        X = <8009x23098 sparse matrix of type '<class 'numpy... stored elements in Compressed Sparse Row format>\n        Y.T = <23098x31991 sparse matrix of type '<class 'nump...ored elements in Compressed Sparse Column format>\n    246     distances *= -2\n    247     distances += XX\n    248     distances += YY\n    249     np.maximum(distances, 0, out=distances)\n\n...........................................................................\n/home/adrikiri/anaconda3/lib/python3.6/site-packages/sklearn/utils/extmath.py in safe_sparse_dot(a=<8009x23098 sparse matrix of type '<class 'numpy... stored elements in Compressed Sparse Row format>, b=<23098x31991 sparse matrix of type '<class 'nump...ored elements in Compressed Sparse Column format>, dense_output=True)\n    181     to avoid unnecessary copies.\n    182     \"\"\"\n    183     if issparse(a) or issparse(b):\n    184         ret = a * b\n    185         if dense_output and hasattr(ret, \"toarray\"):\n--> 186             ret = ret.toarray()\n        ret = <8009x31991 sparse matrix of type '<class 'numpy... stored elements in Compressed Sparse Row format>\n        ret.toarray = <bound method _cs_matrix.toarray of <8009x31991 ...stored elements in Compressed Sparse Row format>>\n    187         return ret\n    188     else:\n    189         return fast_dot(a, b)\n    190 \n\n...........................................................................\n/home/adrikiri/anaconda3/lib/python3.6/site-packages/scipy/sparse/compressed.py in toarray(self=<8009x31991 sparse matrix of type '<class 'numpy... stored elements in Compressed Sparse Row format>, order=None, out=None)\n    915 \n    916     tocoo.__doc__ = spmatrix.tocoo.__doc__\n    917 \n    918     def toarray(self, order=None, out=None):\n    919         \"\"\"See the docstring for `spmatrix.toarray`.\"\"\"\n--> 920         return self.tocoo(copy=False).toarray(order=order, out=out)\n        self.tocoo = <bound method _cs_matrix.tocoo of <8009x31991 sp...stored elements in Compressed Sparse Row format>>\n        order = None\n        out = None\n    921 \n    922     ##############################################################\n    923     # methods that examine or modify the internal data structure #\n    924     ##############################################################\n\n...........................................................................\n/home/adrikiri/anaconda3/lib/python3.6/site-packages/scipy/sparse/coo.py in toarray(self=<8009x31991 sparse matrix of type '<class 'numpy...h 141456287 stored elements in COOrdinate format>, order=None, out=None)\n    247 \n    248     transpose.__doc__ = spmatrix.transpose.__doc__\n    249 \n    250     def toarray(self, order=None, out=None):\n    251         \"\"\"See the docstring for `spmatrix.toarray`.\"\"\"\n--> 252         B = self._process_toarray_args(order, out)\n        B = undefined\n        self._process_toarray_args = <bound method spmatrix._process_toarray_args of ... 141456287 stored elements in COOrdinate format>>\n        order = None\n        out = None\n    253         fortran = int(B.flags.f_contiguous)\n    254         if not fortran and not B.flags.c_contiguous:\n    255             raise ValueError(\"Output array must be C or F contiguous\")\n    256         M,N = self.shape\n\n...........................................................................\n/home/adrikiri/anaconda3/lib/python3.6/site-packages/scipy/sparse/base.py in _process_toarray_args(self=<8009x31991 sparse matrix of type '<class 'numpy...h 141456287 stored elements in COOrdinate format>, order=None, out=None)\n   1004                 raise ValueError('out array must be same dtype and shape as '\n   1005                                  'sparse matrix')\n   1006             out[...] = 0.\n   1007             return out\n   1008         else:\n-> 1009             return np.zeros(self.shape, dtype=self.dtype, order=order)\n        self.shape = (8009, 31991)\n        self.dtype = dtype('float64')\n        order = None\n   1010 \n   1011     def __numpy_ufunc__(self, func, method, pos, inputs, **kwargs):\n   1012         \"\"\"Method for compatibility with NumPy's ufuncs and dot\n   1013         functions.\n\nMemoryError: \n___________________________________________________________________________\n\"\"\"",
      "\nThe above exception was the direct cause of the following exception:\n",
      "\u001b[0;31mTransportableException\u001b[0m                    Traceback (most recent call last)",
      "\u001b[0;32m/home/adrikiri/anaconda3/lib/python3.6/site-packages/sklearn/externals/joblib/parallel.py\u001b[0m in \u001b[0;36mretrieve\u001b[0;34m(self)\u001b[0m\n\u001b[1;32m    681\u001b[0m                 \u001b[0;32mif\u001b[0m \u001b[0;34m'timeout'\u001b[0m \u001b[0;32min\u001b[0m \u001b[0mgetfullargspec\u001b[0m\u001b[0;34m(\u001b[0m\u001b[0mjob\u001b[0m\u001b[0;34m.\u001b[0m\u001b[0mget\u001b[0m\u001b[0;34m)\u001b[0m\u001b[0;34m.\u001b[0m\u001b[0margs\u001b[0m\u001b[0;34m:\u001b[0m\u001b[0;34m\u001b[0m\u001b[0m\n\u001b[0;32m--> 682\u001b[0;31m                     \u001b[0mself\u001b[0m\u001b[0;34m.\u001b[0m\u001b[0m_output\u001b[0m\u001b[0;34m.\u001b[0m\u001b[0mextend\u001b[0m\u001b[0;34m(\u001b[0m\u001b[0mjob\u001b[0m\u001b[0;34m.\u001b[0m\u001b[0mget\u001b[0m\u001b[0;34m(\u001b[0m\u001b[0mtimeout\u001b[0m\u001b[0;34m=\u001b[0m\u001b[0mself\u001b[0m\u001b[0;34m.\u001b[0m\u001b[0mtimeout\u001b[0m\u001b[0;34m)\u001b[0m\u001b[0;34m)\u001b[0m\u001b[0;34m\u001b[0m\u001b[0m\n\u001b[0m\u001b[1;32m    683\u001b[0m                 \u001b[0;32melse\u001b[0m\u001b[0;34m:\u001b[0m\u001b[0;34m\u001b[0m\u001b[0m\n",
      "\u001b[0;32m/home/adrikiri/anaconda3/lib/python3.6/multiprocessing/pool.py\u001b[0m in \u001b[0;36mget\u001b[0;34m(self, timeout)\u001b[0m\n\u001b[1;32m    607\u001b[0m         \u001b[0;32melse\u001b[0m\u001b[0;34m:\u001b[0m\u001b[0;34m\u001b[0m\u001b[0m\n\u001b[0;32m--> 608\u001b[0;31m             \u001b[0;32mraise\u001b[0m \u001b[0mself\u001b[0m\u001b[0;34m.\u001b[0m\u001b[0m_value\u001b[0m\u001b[0;34m\u001b[0m\u001b[0m\n\u001b[0m\u001b[1;32m    609\u001b[0m \u001b[0;34m\u001b[0m\u001b[0m\n",
      "\u001b[0;31mTransportableException\u001b[0m: TransportableException\n___________________________________________________________________________\nMemoryError                                        Sat May 20 20:37:57 2017\nPID: 2451                 Python 3.6.0: /home/adrikiri/anaconda3/bin/python\n...........................................................................\n/home/adrikiri/anaconda3/lib/python3.6/site-packages/sklearn/externals/joblib/parallel.py in __call__(self=<sklearn.externals.joblib.parallel.BatchedCalls object>)\n    126     def __init__(self, iterator_slice):\n    127         self.items = list(iterator_slice)\n    128         self._size = len(self.items)\n    129 \n    130     def __call__(self):\n--> 131         return [func(*args, **kwargs) for func, args, kwargs in self.items]\n        self.items = [(<function _fit_and_score>, (KNeighborsClassifier(algorithm='auto', leaf_size...n_neighbors=1, p=2,\n           weights='uniform'), <40000x23098 sparse matrix of type '<class 'nump... stored elements in Compressed Sparse Row format>, 58034                 Digital_Music\n14527       ...               Baby\nName: category, dtype: object, make_scorer(accuracy_score), array([ 7333,  7356,  7391, ..., 39997, 39998, 39999]), array([   0,    1,    2, ..., 8635, 8673, 8678]), 2, {'n_neighbors': 1}), {'error_score': 'raise', 'fit_params': {}, 'return_n_test_samples': True, 'return_parameters': True, 'return_times': True, 'return_train_score': True})]\n    132 \n    133     def __len__(self):\n    134         return self._size\n    135 \n\n...........................................................................\n/home/adrikiri/anaconda3/lib/python3.6/site-packages/sklearn/externals/joblib/parallel.py in <listcomp>(.0=<list_iterator object>)\n    126     def __init__(self, iterator_slice):\n    127         self.items = list(iterator_slice)\n    128         self._size = len(self.items)\n    129 \n    130     def __call__(self):\n--> 131         return [func(*args, **kwargs) for func, args, kwargs in self.items]\n        func = <function _fit_and_score>\n        args = (KNeighborsClassifier(algorithm='auto', leaf_size...n_neighbors=1, p=2,\n           weights='uniform'), <40000x23098 sparse matrix of type '<class 'nump... stored elements in Compressed Sparse Row format>, 58034                 Digital_Music\n14527       ...               Baby\nName: category, dtype: object, make_scorer(accuracy_score), array([ 7333,  7356,  7391, ..., 39997, 39998, 39999]), array([   0,    1,    2, ..., 8635, 8673, 8678]), 2, {'n_neighbors': 1})\n        kwargs = {'error_score': 'raise', 'fit_params': {}, 'return_n_test_samples': True, 'return_parameters': True, 'return_times': True, 'return_train_score': True}\n    132 \n    133     def __len__(self):\n    134         return self._size\n    135 \n\n...........................................................................\n/home/adrikiri/anaconda3/lib/python3.6/site-packages/sklearn/model_selection/_validation.py in _fit_and_score(estimator=KNeighborsClassifier(algorithm='auto', leaf_size...n_neighbors=1, p=2,\n           weights='uniform'), X=<40000x23098 sparse matrix of type '<class 'nump... stored elements in Compressed Sparse Row format>, y=58034                 Digital_Music\n14527       ...               Baby\nName: category, dtype: object, scorer=make_scorer(accuracy_score), train=array([ 7333,  7356,  7391, ..., 39997, 39998, 39999]), test=array([   0,    1,    2, ..., 8635, 8673, 8678]), verbose=2, parameters={'n_neighbors': 1}, fit_params={}, return_train_score=True, return_parameters=True, return_n_test_samples=True, return_times=True, error_score='raise')\n    255                              \" numeric value. (Hint: if using 'raise', please\"\n    256                              \" make sure that it has been spelled correctly.)\")\n    257 \n    258     else:\n    259         fit_time = time.time() - start_time\n--> 260         test_score = _score(estimator, X_test, y_test, scorer)\n        test_score = undefined\n        estimator = KNeighborsClassifier(algorithm='auto', leaf_size...n_neighbors=1, p=2,\n           weights='uniform')\n        X_test = <8009x23098 sparse matrix of type '<class 'numpy... stored elements in Compressed Sparse Row format>\n        y_test = 58034                 Digital_Music\n14527       ...Sports_and_Outdoors\nName: category, dtype: object\n        scorer = make_scorer(accuracy_score)\n    261         score_time = time.time() - start_time - fit_time\n    262         if return_train_score:\n    263             train_score = _score(estimator, X_train, y_train, scorer)\n    264 \n\n...........................................................................\n/home/adrikiri/anaconda3/lib/python3.6/site-packages/sklearn/model_selection/_validation.py in _score(estimator=KNeighborsClassifier(algorithm='auto', leaf_size...n_neighbors=1, p=2,\n           weights='uniform'), X_test=<8009x23098 sparse matrix of type '<class 'numpy... stored elements in Compressed Sparse Row format>, y_test=58034                 Digital_Music\n14527       ...Sports_and_Outdoors\nName: category, dtype: object, scorer=make_scorer(accuracy_score))\n    283 def _score(estimator, X_test, y_test, scorer):\n    284     \"\"\"Compute the score of an estimator on a given test set.\"\"\"\n    285     if y_test is None:\n    286         score = scorer(estimator, X_test)\n    287     else:\n--> 288         score = scorer(estimator, X_test, y_test)\n        score = undefined\n        scorer = make_scorer(accuracy_score)\n        estimator = KNeighborsClassifier(algorithm='auto', leaf_size...n_neighbors=1, p=2,\n           weights='uniform')\n        X_test = <8009x23098 sparse matrix of type '<class 'numpy... stored elements in Compressed Sparse Row format>\n        y_test = 58034                 Digital_Music\n14527       ...Sports_and_Outdoors\nName: category, dtype: object\n    289     if hasattr(score, 'item'):\n    290         try:\n    291             # e.g. unwrap memmapped scalars\n    292             score = score.item()\n\n...........................................................................\n/home/adrikiri/anaconda3/lib/python3.6/site-packages/sklearn/metrics/scorer.py in __call__(self=make_scorer(accuracy_score), estimator=KNeighborsClassifier(algorithm='auto', leaf_size...n_neighbors=1, p=2,\n           weights='uniform'), X=<8009x23098 sparse matrix of type '<class 'numpy... stored elements in Compressed Sparse Row format>, y_true=58034                 Digital_Music\n14527       ...Sports_and_Outdoors\nName: category, dtype: object, sample_weight=None)\n     86         score : float\n     87             Score function applied to prediction of estimator on X.\n     88         \"\"\"\n     89         super(_PredictScorer, self).__call__(estimator, X, y_true,\n     90                                              sample_weight=sample_weight)\n---> 91         y_pred = estimator.predict(X)\n        y_pred = undefined\n        estimator.predict = <bound method KNeighborsClassifier.predict of KN..._neighbors=1, p=2,\n           weights='uniform')>\n        X = <8009x23098 sparse matrix of type '<class 'numpy... stored elements in Compressed Sparse Row format>\n     92         if sample_weight is not None:\n     93             return self._sign * self._score_func(y_true, y_pred,\n     94                                                  sample_weight=sample_weight,\n     95                                                  **self._kwargs)\n\n...........................................................................\n/home/adrikiri/anaconda3/lib/python3.6/site-packages/sklearn/neighbors/classification.py in predict(self=KNeighborsClassifier(algorithm='auto', leaf_size...n_neighbors=1, p=2,\n           weights='uniform'), X=<8009x23098 sparse matrix of type '<class 'numpy... stored elements in Compressed Sparse Row format>)\n    140         y : array of shape [n_samples] or [n_samples, n_outputs]\n    141             Class labels for each data sample.\n    142         \"\"\"\n    143         X = check_array(X, accept_sparse='csr')\n    144 \n--> 145         neigh_dist, neigh_ind = self.kneighbors(X)\n        neigh_dist = undefined\n        neigh_ind = undefined\n        self.kneighbors = <bound method KNeighborsMixin.kneighbors of KNei..._neighbors=1, p=2,\n           weights='uniform')>\n        X = <8009x23098 sparse matrix of type '<class 'numpy... stored elements in Compressed Sparse Row format>\n    146 \n    147         classes_ = self.classes_\n    148         _y = self._y\n    149         if not self.outputs_2d_:\n\n...........................................................................\n/home/adrikiri/anaconda3/lib/python3.6/site-packages/sklearn/neighbors/base.py in kneighbors(self=KNeighborsClassifier(algorithm='auto', leaf_size...n_neighbors=1, p=2,\n           weights='uniform'), X=<8009x23098 sparse matrix of type '<class 'numpy... stored elements in Compressed Sparse Row format>, n_neighbors=1, return_distance=True)\n    348         n_jobs = _get_n_jobs(self.n_jobs)\n    349         if self._fit_method == 'brute':\n    350             # for efficiency, use squared euclidean distances\n    351             if self.effective_metric_ == 'euclidean':\n    352                 dist = pairwise_distances(X, self._fit_X, 'euclidean',\n--> 353                                           n_jobs=n_jobs, squared=True)\n        n_jobs = 1\n    354             else:\n    355                 dist = pairwise_distances(\n    356                     X, self._fit_X, self.effective_metric_, n_jobs=n_jobs,\n    357                     **self.effective_metric_params_)\n\n...........................................................................\n/home/adrikiri/anaconda3/lib/python3.6/site-packages/sklearn/metrics/pairwise.py in pairwise_distances(X=<8009x23098 sparse matrix of type '<class 'numpy... stored elements in Compressed Sparse Row format>, Y=<31991x23098 sparse matrix of type '<class 'nump... stored elements in Compressed Sparse Row format>, metric='euclidean', n_jobs=1, **kwds={'squared': True})\n   1235         if n_jobs == 1 and X is Y:\n   1236             return distance.squareform(distance.pdist(X, metric=metric,\n   1237                                                       **kwds))\n   1238         func = partial(distance.cdist, metric=metric, **kwds)\n   1239 \n-> 1240     return _parallel_pairwise(X, Y, func, n_jobs, **kwds)\n        X = <8009x23098 sparse matrix of type '<class 'numpy... stored elements in Compressed Sparse Row format>\n        Y = <31991x23098 sparse matrix of type '<class 'nump... stored elements in Compressed Sparse Row format>\n        func = <function euclidean_distances>\n        n_jobs = 1\n        kwds = {'squared': True}\n   1241 \n   1242 \n   1243 # These distances recquire boolean arrays, when using scipy.spatial.distance\n   1244 PAIRWISE_BOOLEAN_FUNCTIONS = [\n\n...........................................................................\n/home/adrikiri/anaconda3/lib/python3.6/site-packages/sklearn/metrics/pairwise.py in _parallel_pairwise(X=<8009x23098 sparse matrix of type '<class 'numpy... stored elements in Compressed Sparse Row format>, Y=<31991x23098 sparse matrix of type '<class 'nump... stored elements in Compressed Sparse Row format>, func=<function euclidean_distances>, n_jobs=1, **kwds={'squared': True})\n   1078     if Y is None:\n   1079         Y = X\n   1080 \n   1081     if n_jobs == 1:\n   1082         # Special case to avoid picklability checks in delayed\n-> 1083         return func(X, Y, **kwds)\n        func = <function euclidean_distances>\n        X = <8009x23098 sparse matrix of type '<class 'numpy... stored elements in Compressed Sparse Row format>\n        Y = <31991x23098 sparse matrix of type '<class 'nump... stored elements in Compressed Sparse Row format>\n        kwds = {'squared': True}\n   1084 \n   1085     # TODO: in some cases, backend='threading' may be appropriate\n   1086     fd = delayed(func)\n   1087     ret = Parallel(n_jobs=n_jobs, verbose=0)(\n\n...........................................................................\n/home/adrikiri/anaconda3/lib/python3.6/site-packages/sklearn/metrics/pairwise.py in euclidean_distances(X=<8009x23098 sparse matrix of type '<class 'numpy... stored elements in Compressed Sparse Row format>, Y=<31991x23098 sparse matrix of type '<class 'nump... stored elements in Compressed Sparse Row format>, Y_norm_squared=None, squared=True, X_norm_squared=None)\n    240             raise ValueError(\n    241                 \"Incompatible dimensions for Y and Y_norm_squared\")\n    242     else:\n    243         YY = row_norms(Y, squared=True)[np.newaxis, :]\n    244 \n--> 245     distances = safe_sparse_dot(X, Y.T, dense_output=True)\n        distances = undefined\n        X = <8009x23098 sparse matrix of type '<class 'numpy... stored elements in Compressed Sparse Row format>\n        Y.T = <23098x31991 sparse matrix of type '<class 'nump...ored elements in Compressed Sparse Column format>\n    246     distances *= -2\n    247     distances += XX\n    248     distances += YY\n    249     np.maximum(distances, 0, out=distances)\n\n...........................................................................\n/home/adrikiri/anaconda3/lib/python3.6/site-packages/sklearn/utils/extmath.py in safe_sparse_dot(a=<8009x23098 sparse matrix of type '<class 'numpy... stored elements in Compressed Sparse Row format>, b=<23098x31991 sparse matrix of type '<class 'nump...ored elements in Compressed Sparse Column format>, dense_output=True)\n    181     to avoid unnecessary copies.\n    182     \"\"\"\n    183     if issparse(a) or issparse(b):\n    184         ret = a * b\n    185         if dense_output and hasattr(ret, \"toarray\"):\n--> 186             ret = ret.toarray()\n        ret = <8009x31991 sparse matrix of type '<class 'numpy... stored elements in Compressed Sparse Row format>\n        ret.toarray = <bound method _cs_matrix.toarray of <8009x31991 ...stored elements in Compressed Sparse Row format>>\n    187         return ret\n    188     else:\n    189         return fast_dot(a, b)\n    190 \n\n...........................................................................\n/home/adrikiri/anaconda3/lib/python3.6/site-packages/scipy/sparse/compressed.py in toarray(self=<8009x31991 sparse matrix of type '<class 'numpy... stored elements in Compressed Sparse Row format>, order=None, out=None)\n    915 \n    916     tocoo.__doc__ = spmatrix.tocoo.__doc__\n    917 \n    918     def toarray(self, order=None, out=None):\n    919         \"\"\"See the docstring for `spmatrix.toarray`.\"\"\"\n--> 920         return self.tocoo(copy=False).toarray(order=order, out=out)\n        self.tocoo = <bound method _cs_matrix.tocoo of <8009x31991 sp...stored elements in Compressed Sparse Row format>>\n        order = None\n        out = None\n    921 \n    922     ##############################################################\n    923     # methods that examine or modify the internal data structure #\n    924     ##############################################################\n\n...........................................................................\n/home/adrikiri/anaconda3/lib/python3.6/site-packages/scipy/sparse/coo.py in toarray(self=<8009x31991 sparse matrix of type '<class 'numpy...h 141456287 stored elements in COOrdinate format>, order=None, out=None)\n    247 \n    248     transpose.__doc__ = spmatrix.transpose.__doc__\n    249 \n    250     def toarray(self, order=None, out=None):\n    251         \"\"\"See the docstring for `spmatrix.toarray`.\"\"\"\n--> 252         B = self._process_toarray_args(order, out)\n        B = undefined\n        self._process_toarray_args = <bound method spmatrix._process_toarray_args of ... 141456287 stored elements in COOrdinate format>>\n        order = None\n        out = None\n    253         fortran = int(B.flags.f_contiguous)\n    254         if not fortran and not B.flags.c_contiguous:\n    255             raise ValueError(\"Output array must be C or F contiguous\")\n    256         M,N = self.shape\n\n...........................................................................\n/home/adrikiri/anaconda3/lib/python3.6/site-packages/scipy/sparse/base.py in _process_toarray_args(self=<8009x31991 sparse matrix of type '<class 'numpy...h 141456287 stored elements in COOrdinate format>, order=None, out=None)\n   1004                 raise ValueError('out array must be same dtype and shape as '\n   1005                                  'sparse matrix')\n   1006             out[...] = 0.\n   1007             return out\n   1008         else:\n-> 1009             return np.zeros(self.shape, dtype=self.dtype, order=order)\n        self.shape = (8009, 31991)\n        self.dtype = dtype('float64')\n        order = None\n   1010 \n   1011     def __numpy_ufunc__(self, func, method, pos, inputs, **kwargs):\n   1012         \"\"\"Method for compatibility with NumPy's ufuncs and dot\n   1013         functions.\n\nMemoryError: \n___________________________________________________________________________",
      "\nDuring handling of the above exception, another exception occurred:\n",
      "\u001b[0;31mJoblibMemoryError\u001b[0m                         Traceback (most recent call last)",
      "\u001b[0;32m<ipython-input-19-6acee8d0fc7c>\u001b[0m in \u001b[0;36m<module>\u001b[0;34m()\u001b[0m\n\u001b[1;32m      4\u001b[0m                 \u001b[0;34m{\u001b[0m\u001b[0;34m'n_neighbors'\u001b[0m\u001b[0;34m:\u001b[0m\u001b[0mrange\u001b[0m\u001b[0;34m(\u001b[0m\u001b[0;36m1\u001b[0m\u001b[0;34m,\u001b[0m\u001b[0;36m50\u001b[0m\u001b[0;34m,\u001b[0m\u001b[0;36m3\u001b[0m\u001b[0;34m)\u001b[0m\u001b[0;34m}\u001b[0m\u001b[0;34m,\u001b[0m\u001b[0;34m\u001b[0m\u001b[0m\n\u001b[1;32m      5\u001b[0m                 \u001b[0mX_train\u001b[0m\u001b[0;34m,\u001b[0m\u001b[0;34m\u001b[0m\u001b[0m\n\u001b[0;32m----> 6\u001b[0;31m                 y_train,save_file='output_figs/knn.png')\n\u001b[0m",
      "\u001b[0;32m/home/adrikiri/project-pace-mourad/adrian/src/CV.py\u001b[0m in \u001b[0;36mparameter_search\u001b[0;34m(estimator, param_grid, X_train, y_train, cv, scoring, verbose, save_file, n_jobs)\u001b[0m\n\u001b[1;32m     31\u001b[0m     \u001b[0;31m#param_range = param_grid.values()\u001b[0m\u001b[0;34m\u001b[0m\u001b[0;34m\u001b[0m\u001b[0m\n\u001b[1;32m     32\u001b[0m     \u001b[0mgsCV\u001b[0m \u001b[0;34m=\u001b[0m \u001b[0mGridSearchCV\u001b[0m\u001b[0;34m(\u001b[0m\u001b[0mestimator\u001b[0m\u001b[0;34m,\u001b[0m \u001b[0mparam_grid\u001b[0m\u001b[0;34m,\u001b[0m \u001b[0mcv\u001b[0m\u001b[0;34m=\u001b[0m\u001b[0mcv\u001b[0m\u001b[0;34m,\u001b[0m \u001b[0mscoring\u001b[0m\u001b[0;34m=\u001b[0m\u001b[0mscoring\u001b[0m\u001b[0;34m,\u001b[0m \u001b[0mverbose\u001b[0m\u001b[0;34m=\u001b[0m\u001b[0mverbose\u001b[0m\u001b[0;34m,\u001b[0m\u001b[0mn_jobs\u001b[0m\u001b[0;34m=\u001b[0m\u001b[0mn_jobs\u001b[0m\u001b[0;34m)\u001b[0m\u001b[0;34m\u001b[0m\u001b[0m\n\u001b[0;32m---> 33\u001b[0;31m     \u001b[0mgsCV\u001b[0m\u001b[0;34m.\u001b[0m\u001b[0mfit\u001b[0m\u001b[0;34m(\u001b[0m\u001b[0mX_train\u001b[0m\u001b[0;34m,\u001b[0m \u001b[0my_train\u001b[0m\u001b[0;34m)\u001b[0m\u001b[0;34m\u001b[0m\u001b[0m\n\u001b[0m\u001b[1;32m     34\u001b[0m     \u001b[0mval_scores_mean\u001b[0m \u001b[0;34m=\u001b[0m \u001b[0mgsCV\u001b[0m\u001b[0;34m.\u001b[0m\u001b[0mcv_results_\u001b[0m\u001b[0;34m[\u001b[0m\u001b[0;34m'mean_test_score'\u001b[0m\u001b[0;34m]\u001b[0m\u001b[0;34m\u001b[0m\u001b[0m\n\u001b[1;32m     35\u001b[0m     \u001b[0mval_scores_std\u001b[0m \u001b[0;34m=\u001b[0m \u001b[0mgsCV\u001b[0m\u001b[0;34m.\u001b[0m\u001b[0mcv_results_\u001b[0m\u001b[0;34m[\u001b[0m\u001b[0;34m'std_test_score'\u001b[0m\u001b[0;34m]\u001b[0m\u001b[0;34m\u001b[0m\u001b[0m\n",
      "\u001b[0;32m/home/adrikiri/anaconda3/lib/python3.6/site-packages/sklearn/model_selection/_search.py\u001b[0m in \u001b[0;36mfit\u001b[0;34m(self, X, y, groups)\u001b[0m\n\u001b[1;32m    943\u001b[0m             \u001b[0mtrain\u001b[0m\u001b[0;34m/\u001b[0m\u001b[0mtest\u001b[0m \u001b[0mset\u001b[0m\u001b[0;34m.\u001b[0m\u001b[0;34m\u001b[0m\u001b[0m\n\u001b[1;32m    944\u001b[0m         \"\"\"\n\u001b[0;32m--> 945\u001b[0;31m         \u001b[0;32mreturn\u001b[0m \u001b[0mself\u001b[0m\u001b[0;34m.\u001b[0m\u001b[0m_fit\u001b[0m\u001b[0;34m(\u001b[0m\u001b[0mX\u001b[0m\u001b[0;34m,\u001b[0m \u001b[0my\u001b[0m\u001b[0;34m,\u001b[0m \u001b[0mgroups\u001b[0m\u001b[0;34m,\u001b[0m \u001b[0mParameterGrid\u001b[0m\u001b[0;34m(\u001b[0m\u001b[0mself\u001b[0m\u001b[0;34m.\u001b[0m\u001b[0mparam_grid\u001b[0m\u001b[0;34m)\u001b[0m\u001b[0;34m)\u001b[0m\u001b[0;34m\u001b[0m\u001b[0m\n\u001b[0m\u001b[1;32m    946\u001b[0m \u001b[0;34m\u001b[0m\u001b[0m\n\u001b[1;32m    947\u001b[0m \u001b[0;34m\u001b[0m\u001b[0m\n",
      "\u001b[0;32m/home/adrikiri/anaconda3/lib/python3.6/site-packages/sklearn/model_selection/_search.py\u001b[0m in \u001b[0;36m_fit\u001b[0;34m(self, X, y, groups, parameter_iterable)\u001b[0m\n\u001b[1;32m    562\u001b[0m                                   \u001b[0mreturn_times\u001b[0m\u001b[0;34m=\u001b[0m\u001b[0;32mTrue\u001b[0m\u001b[0;34m,\u001b[0m \u001b[0mreturn_parameters\u001b[0m\u001b[0;34m=\u001b[0m\u001b[0;32mTrue\u001b[0m\u001b[0;34m,\u001b[0m\u001b[0;34m\u001b[0m\u001b[0m\n\u001b[1;32m    563\u001b[0m                                   error_score=self.error_score)\n\u001b[0;32m--> 564\u001b[0;31m           \u001b[0;32mfor\u001b[0m \u001b[0mparameters\u001b[0m \u001b[0;32min\u001b[0m \u001b[0mparameter_iterable\u001b[0m\u001b[0;34m\u001b[0m\u001b[0m\n\u001b[0m\u001b[1;32m    565\u001b[0m           for train, test in cv_iter)\n\u001b[1;32m    566\u001b[0m \u001b[0;34m\u001b[0m\u001b[0m\n",
      "\u001b[0;32m/home/adrikiri/anaconda3/lib/python3.6/site-packages/sklearn/externals/joblib/parallel.py\u001b[0m in \u001b[0;36m__call__\u001b[0;34m(self, iterable)\u001b[0m\n\u001b[1;32m    766\u001b[0m                 \u001b[0;31m# consumption.\u001b[0m\u001b[0;34m\u001b[0m\u001b[0;34m\u001b[0m\u001b[0m\n\u001b[1;32m    767\u001b[0m                 \u001b[0mself\u001b[0m\u001b[0;34m.\u001b[0m\u001b[0m_iterating\u001b[0m \u001b[0;34m=\u001b[0m \u001b[0;32mFalse\u001b[0m\u001b[0;34m\u001b[0m\u001b[0m\n\u001b[0;32m--> 768\u001b[0;31m             \u001b[0mself\u001b[0m\u001b[0;34m.\u001b[0m\u001b[0mretrieve\u001b[0m\u001b[0;34m(\u001b[0m\u001b[0;34m)\u001b[0m\u001b[0;34m\u001b[0m\u001b[0m\n\u001b[0m\u001b[1;32m    769\u001b[0m             \u001b[0;31m# Make sure that we get a last message telling us we are done\u001b[0m\u001b[0;34m\u001b[0m\u001b[0;34m\u001b[0m\u001b[0m\n\u001b[1;32m    770\u001b[0m             \u001b[0melapsed_time\u001b[0m \u001b[0;34m=\u001b[0m \u001b[0mtime\u001b[0m\u001b[0;34m.\u001b[0m\u001b[0mtime\u001b[0m\u001b[0;34m(\u001b[0m\u001b[0;34m)\u001b[0m \u001b[0;34m-\u001b[0m \u001b[0mself\u001b[0m\u001b[0;34m.\u001b[0m\u001b[0m_start_time\u001b[0m\u001b[0;34m\u001b[0m\u001b[0m\n",
      "\u001b[0;32m/home/adrikiri/anaconda3/lib/python3.6/site-packages/sklearn/externals/joblib/parallel.py\u001b[0m in \u001b[0;36mretrieve\u001b[0;34m(self)\u001b[0m\n\u001b[1;32m    717\u001b[0m                     \u001b[0mensure_ready\u001b[0m \u001b[0;34m=\u001b[0m \u001b[0mself\u001b[0m\u001b[0;34m.\u001b[0m\u001b[0m_managed_backend\u001b[0m\u001b[0;34m\u001b[0m\u001b[0m\n\u001b[1;32m    718\u001b[0m                     \u001b[0mbackend\u001b[0m\u001b[0;34m.\u001b[0m\u001b[0mabort_everything\u001b[0m\u001b[0;34m(\u001b[0m\u001b[0mensure_ready\u001b[0m\u001b[0;34m=\u001b[0m\u001b[0mensure_ready\u001b[0m\u001b[0;34m)\u001b[0m\u001b[0;34m\u001b[0m\u001b[0m\n\u001b[0;32m--> 719\u001b[0;31m                 \u001b[0;32mraise\u001b[0m \u001b[0mexception\u001b[0m\u001b[0;34m\u001b[0m\u001b[0m\n\u001b[0m\u001b[1;32m    720\u001b[0m \u001b[0;34m\u001b[0m\u001b[0m\n\u001b[1;32m    721\u001b[0m     \u001b[0;32mdef\u001b[0m \u001b[0m__call__\u001b[0m\u001b[0;34m(\u001b[0m\u001b[0mself\u001b[0m\u001b[0;34m,\u001b[0m \u001b[0miterable\u001b[0m\u001b[0;34m)\u001b[0m\u001b[0;34m:\u001b[0m\u001b[0;34m\u001b[0m\u001b[0m\n",
      "\u001b[0;31mJoblibMemoryError\u001b[0m: JoblibMemoryError\n___________________________________________________________________________\nMultiprocessing exception:\n...........................................................................\n/home/adrikiri/anaconda3/lib/python3.6/runpy.py in _run_module_as_main(mod_name='ipykernel.__main__', alter_argv=1)\n    188         sys.exit(msg)\n    189     main_globals = sys.modules[\"__main__\"].__dict__\n    190     if alter_argv:\n    191         sys.argv[0] = mod_spec.origin\n    192     return _run_code(code, main_globals, None,\n--> 193                      \"__main__\", mod_spec)\n        mod_spec = ModuleSpec(name='ipykernel.__main__', loader=<_f...b/python3.6/site-packages/ipykernel/__main__.py')\n    194 \n    195 def run_module(mod_name, init_globals=None,\n    196                run_name=None, alter_sys=False):\n    197     \"\"\"Execute a module's code without importing it\n\n...........................................................................\n/home/adrikiri/anaconda3/lib/python3.6/runpy.py in _run_code(code=<code object <module> at 0x7f3dbd2851e0, file \"/...3.6/site-packages/ipykernel/__main__.py\", line 1>, run_globals={'__annotations__': {}, '__builtins__': <module 'builtins' (built-in)>, '__cached__': '/home/adrikiri/anaconda3/lib/python3.6/site-packages/ipykernel/__pycache__/__main__.cpython-36.pyc', '__doc__': None, '__file__': '/home/adrikiri/anaconda3/lib/python3.6/site-packages/ipykernel/__main__.py', '__loader__': <_frozen_importlib_external.SourceFileLoader object>, '__name__': '__main__', '__package__': 'ipykernel', '__spec__': ModuleSpec(name='ipykernel.__main__', loader=<_f...b/python3.6/site-packages/ipykernel/__main__.py'), 'app': <module 'ipykernel.kernelapp' from '/home/adriki.../python3.6/site-packages/ipykernel/kernelapp.py'>}, init_globals=None, mod_name='__main__', mod_spec=ModuleSpec(name='ipykernel.__main__', loader=<_f...b/python3.6/site-packages/ipykernel/__main__.py'), pkg_name='ipykernel', script_name=None)\n     80                        __cached__ = cached,\n     81                        __doc__ = None,\n     82                        __loader__ = loader,\n     83                        __package__ = pkg_name,\n     84                        __spec__ = mod_spec)\n---> 85     exec(code, run_globals)\n        code = <code object <module> at 0x7f3dbd2851e0, file \"/...3.6/site-packages/ipykernel/__main__.py\", line 1>\n        run_globals = {'__annotations__': {}, '__builtins__': <module 'builtins' (built-in)>, '__cached__': '/home/adrikiri/anaconda3/lib/python3.6/site-packages/ipykernel/__pycache__/__main__.cpython-36.pyc', '__doc__': None, '__file__': '/home/adrikiri/anaconda3/lib/python3.6/site-packages/ipykernel/__main__.py', '__loader__': <_frozen_importlib_external.SourceFileLoader object>, '__name__': '__main__', '__package__': 'ipykernel', '__spec__': ModuleSpec(name='ipykernel.__main__', loader=<_f...b/python3.6/site-packages/ipykernel/__main__.py'), 'app': <module 'ipykernel.kernelapp' from '/home/adriki.../python3.6/site-packages/ipykernel/kernelapp.py'>}\n     86     return run_globals\n     87 \n     88 def _run_module_code(code, init_globals=None,\n     89                     mod_name=None, mod_spec=None,\n\n...........................................................................\n/home/adrikiri/anaconda3/lib/python3.6/site-packages/ipykernel/__main__.py in <module>()\n      1 \n      2 \n----> 3 \n      4 if __name__ == '__main__':\n      5     from ipykernel import kernelapp as app\n      6     app.launch_new_instance()\n      7 \n      8 \n      9 \n     10 \n\n...........................................................................\n/home/adrikiri/anaconda3/lib/python3.6/site-packages/traitlets/config/application.py in launch_instance(cls=<class 'ipykernel.kernelapp.IPKernelApp'>, argv=None, **kwargs={})\n    653 \n    654         If a global instance already exists, this reinitializes and starts it\n    655         \"\"\"\n    656         app = cls.instance(**kwargs)\n    657         app.initialize(argv)\n--> 658         app.start()\n        app.start = <bound method IPKernelApp.start of <ipykernel.kernelapp.IPKernelApp object>>\n    659 \n    660 #-----------------------------------------------------------------------------\n    661 # utility functions, for convenience\n    662 #-----------------------------------------------------------------------------\n\n...........................................................................\n/home/adrikiri/anaconda3/lib/python3.6/site-packages/ipykernel/kernelapp.py in start(self=<ipykernel.kernelapp.IPKernelApp object>)\n    469             return self.subapp.start()\n    470         if self.poller is not None:\n    471             self.poller.start()\n    472         self.kernel.start()\n    473         try:\n--> 474             ioloop.IOLoop.instance().start()\n    475         except KeyboardInterrupt:\n    476             pass\n    477 \n    478 launch_new_instance = IPKernelApp.launch_instance\n\n...........................................................................\n/home/adrikiri/anaconda3/lib/python3.6/site-packages/zmq/eventloop/ioloop.py in start(self=<zmq.eventloop.ioloop.ZMQIOLoop object>)\n    172             )\n    173         return loop\n    174     \n    175     def start(self):\n    176         try:\n--> 177             super(ZMQIOLoop, self).start()\n        self.start = <bound method ZMQIOLoop.start of <zmq.eventloop.ioloop.ZMQIOLoop object>>\n    178         except ZMQError as e:\n    179             if e.errno == ETERM:\n    180                 # quietly return on ETERM\n    181                 pass\n\n...........................................................................\n/home/adrikiri/anaconda3/lib/python3.6/site-packages/tornado/ioloop.py in start(self=<zmq.eventloop.ioloop.ZMQIOLoop object>)\n    882                 self._events.update(event_pairs)\n    883                 while self._events:\n    884                     fd, events = self._events.popitem()\n    885                     try:\n    886                         fd_obj, handler_func = self._handlers[fd]\n--> 887                         handler_func(fd_obj, events)\n        handler_func = <function wrap.<locals>.null_wrapper>\n        fd_obj = <zmq.sugar.socket.Socket object>\n        events = 5\n    888                     except (OSError, IOError) as e:\n    889                         if errno_from_exception(e) == errno.EPIPE:\n    890                             # Happens when the client closes the connection\n    891                             pass\n\n...........................................................................\n/home/adrikiri/anaconda3/lib/python3.6/site-packages/tornado/stack_context.py in null_wrapper(*args=(<zmq.sugar.socket.Socket object>, 5), **kwargs={})\n    270         # Fast path when there are no active contexts.\n    271         def null_wrapper(*args, **kwargs):\n    272             try:\n    273                 current_state = _state.contexts\n    274                 _state.contexts = cap_contexts[0]\n--> 275                 return fn(*args, **kwargs)\n        args = (<zmq.sugar.socket.Socket object>, 5)\n        kwargs = {}\n    276             finally:\n    277                 _state.contexts = current_state\n    278         null_wrapper._wrapped = True\n    279         return null_wrapper\n\n...........................................................................\n/home/adrikiri/anaconda3/lib/python3.6/site-packages/zmq/eventloop/zmqstream.py in _handle_events(self=<zmq.eventloop.zmqstream.ZMQStream object>, fd=<zmq.sugar.socket.Socket object>, events=5)\n    435             # dispatch events:\n    436             if events & IOLoop.ERROR:\n    437                 gen_log.error(\"got POLLERR event on ZMQStream, which doesn't make sense\")\n    438                 return\n    439             if events & IOLoop.READ:\n--> 440                 self._handle_recv()\n        self._handle_recv = <bound method ZMQStream._handle_recv of <zmq.eventloop.zmqstream.ZMQStream object>>\n    441                 if not self.socket:\n    442                     return\n    443             if events & IOLoop.WRITE:\n    444                 self._handle_send()\n\n...........................................................................\n/home/adrikiri/anaconda3/lib/python3.6/site-packages/zmq/eventloop/zmqstream.py in _handle_recv(self=<zmq.eventloop.zmqstream.ZMQStream object>)\n    467                 gen_log.error(\"RECV Error: %s\"%zmq.strerror(e.errno))\n    468         else:\n    469             if self._recv_callback:\n    470                 callback = self._recv_callback\n    471                 # self._recv_callback = None\n--> 472                 self._run_callback(callback, msg)\n        self._run_callback = <bound method ZMQStream._run_callback of <zmq.eventloop.zmqstream.ZMQStream object>>\n        callback = <function wrap.<locals>.null_wrapper>\n        msg = [<zmq.sugar.frame.Frame object>, <zmq.sugar.frame.Frame object>, <zmq.sugar.frame.Frame object>, <zmq.sugar.frame.Frame object>, <zmq.sugar.frame.Frame object>, <zmq.sugar.frame.Frame object>, <zmq.sugar.frame.Frame object>]\n    473                 \n    474         # self.update_state()\n    475         \n    476 \n\n...........................................................................\n/home/adrikiri/anaconda3/lib/python3.6/site-packages/zmq/eventloop/zmqstream.py in _run_callback(self=<zmq.eventloop.zmqstream.ZMQStream object>, callback=<function wrap.<locals>.null_wrapper>, *args=([<zmq.sugar.frame.Frame object>, <zmq.sugar.frame.Frame object>, <zmq.sugar.frame.Frame object>, <zmq.sugar.frame.Frame object>, <zmq.sugar.frame.Frame object>, <zmq.sugar.frame.Frame object>, <zmq.sugar.frame.Frame object>],), **kwargs={})\n    409         close our socket.\"\"\"\n    410         try:\n    411             # Use a NullContext to ensure that all StackContexts are run\n    412             # inside our blanket exception handler rather than outside.\n    413             with stack_context.NullContext():\n--> 414                 callback(*args, **kwargs)\n        callback = <function wrap.<locals>.null_wrapper>\n        args = ([<zmq.sugar.frame.Frame object>, <zmq.sugar.frame.Frame object>, <zmq.sugar.frame.Frame object>, <zmq.sugar.frame.Frame object>, <zmq.sugar.frame.Frame object>, <zmq.sugar.frame.Frame object>, <zmq.sugar.frame.Frame object>],)\n        kwargs = {}\n    415         except:\n    416             gen_log.error(\"Uncaught exception, closing connection.\",\n    417                           exc_info=True)\n    418             # Close the socket on an uncaught exception from a user callback\n\n...........................................................................\n/home/adrikiri/anaconda3/lib/python3.6/site-packages/tornado/stack_context.py in null_wrapper(*args=([<zmq.sugar.frame.Frame object>, <zmq.sugar.frame.Frame object>, <zmq.sugar.frame.Frame object>, <zmq.sugar.frame.Frame object>, <zmq.sugar.frame.Frame object>, <zmq.sugar.frame.Frame object>, <zmq.sugar.frame.Frame object>],), **kwargs={})\n    270         # Fast path when there are no active contexts.\n    271         def null_wrapper(*args, **kwargs):\n    272             try:\n    273                 current_state = _state.contexts\n    274                 _state.contexts = cap_contexts[0]\n--> 275                 return fn(*args, **kwargs)\n        args = ([<zmq.sugar.frame.Frame object>, <zmq.sugar.frame.Frame object>, <zmq.sugar.frame.Frame object>, <zmq.sugar.frame.Frame object>, <zmq.sugar.frame.Frame object>, <zmq.sugar.frame.Frame object>, <zmq.sugar.frame.Frame object>],)\n        kwargs = {}\n    276             finally:\n    277                 _state.contexts = current_state\n    278         null_wrapper._wrapped = True\n    279         return null_wrapper\n\n...........................................................................\n/home/adrikiri/anaconda3/lib/python3.6/site-packages/ipykernel/kernelbase.py in dispatcher(msg=[<zmq.sugar.frame.Frame object>, <zmq.sugar.frame.Frame object>, <zmq.sugar.frame.Frame object>, <zmq.sugar.frame.Frame object>, <zmq.sugar.frame.Frame object>, <zmq.sugar.frame.Frame object>, <zmq.sugar.frame.Frame object>])\n    271         if self.control_stream:\n    272             self.control_stream.on_recv(self.dispatch_control, copy=False)\n    273 \n    274         def make_dispatcher(stream):\n    275             def dispatcher(msg):\n--> 276                 return self.dispatch_shell(stream, msg)\n        msg = [<zmq.sugar.frame.Frame object>, <zmq.sugar.frame.Frame object>, <zmq.sugar.frame.Frame object>, <zmq.sugar.frame.Frame object>, <zmq.sugar.frame.Frame object>, <zmq.sugar.frame.Frame object>, <zmq.sugar.frame.Frame object>]\n    277             return dispatcher\n    278 \n    279         for s in self.shell_streams:\n    280             s.on_recv(make_dispatcher(s), copy=False)\n\n...........................................................................\n/home/adrikiri/anaconda3/lib/python3.6/site-packages/ipykernel/kernelbase.py in dispatch_shell(self=<ipykernel.ipkernel.IPythonKernel object>, stream=<zmq.eventloop.zmqstream.ZMQStream object>, msg={'buffers': [], 'content': {'allow_stdin': True, 'code': \"from sklearn.neighbors import KNeighborsClassifi...        y_train,save_file='output_figs/knn.png')\\n\", 'silent': False, 'stop_on_error': True, 'store_history': True, 'user_expressions': {}}, 'header': {'date': '2017-05-20T20:37:47.891365', 'msg_id': '794D5A019E7540808B07279EC4023F8A', 'msg_type': 'execute_request', 'session': '3DB3021C17D14CA789B03AD82867CDC8', 'username': 'username', 'version': '5.0'}, 'metadata': {}, 'msg_id': '794D5A019E7540808B07279EC4023F8A', 'msg_type': 'execute_request', 'parent_header': {}})\n    223             self.log.error(\"UNKNOWN MESSAGE TYPE: %r\", msg_type)\n    224         else:\n    225             self.log.debug(\"%s: %s\", msg_type, msg)\n    226             self.pre_handler_hook()\n    227             try:\n--> 228                 handler(stream, idents, msg)\n        handler = <bound method Kernel.execute_request of <ipykernel.ipkernel.IPythonKernel object>>\n        stream = <zmq.eventloop.zmqstream.ZMQStream object>\n        idents = [b'3DB3021C17D14CA789B03AD82867CDC8']\n        msg = {'buffers': [], 'content': {'allow_stdin': True, 'code': \"from sklearn.neighbors import KNeighborsClassifi...        y_train,save_file='output_figs/knn.png')\\n\", 'silent': False, 'stop_on_error': True, 'store_history': True, 'user_expressions': {}}, 'header': {'date': '2017-05-20T20:37:47.891365', 'msg_id': '794D5A019E7540808B07279EC4023F8A', 'msg_type': 'execute_request', 'session': '3DB3021C17D14CA789B03AD82867CDC8', 'username': 'username', 'version': '5.0'}, 'metadata': {}, 'msg_id': '794D5A019E7540808B07279EC4023F8A', 'msg_type': 'execute_request', 'parent_header': {}}\n    229             except Exception:\n    230                 self.log.error(\"Exception in message handler:\", exc_info=True)\n    231             finally:\n    232                 self.post_handler_hook()\n\n...........................................................................\n/home/adrikiri/anaconda3/lib/python3.6/site-packages/ipykernel/kernelbase.py in execute_request(self=<ipykernel.ipkernel.IPythonKernel object>, stream=<zmq.eventloop.zmqstream.ZMQStream object>, ident=[b'3DB3021C17D14CA789B03AD82867CDC8'], parent={'buffers': [], 'content': {'allow_stdin': True, 'code': \"from sklearn.neighbors import KNeighborsClassifi...        y_train,save_file='output_figs/knn.png')\\n\", 'silent': False, 'stop_on_error': True, 'store_history': True, 'user_expressions': {}}, 'header': {'date': '2017-05-20T20:37:47.891365', 'msg_id': '794D5A019E7540808B07279EC4023F8A', 'msg_type': 'execute_request', 'session': '3DB3021C17D14CA789B03AD82867CDC8', 'username': 'username', 'version': '5.0'}, 'metadata': {}, 'msg_id': '794D5A019E7540808B07279EC4023F8A', 'msg_type': 'execute_request', 'parent_header': {}})\n    385         if not silent:\n    386             self.execution_count += 1\n    387             self._publish_execute_input(code, parent, self.execution_count)\n    388 \n    389         reply_content = self.do_execute(code, silent, store_history,\n--> 390                                         user_expressions, allow_stdin)\n        user_expressions = {}\n        allow_stdin = True\n    391 \n    392         # Flush output before sending the reply.\n    393         sys.stdout.flush()\n    394         sys.stderr.flush()\n\n...........................................................................\n/home/adrikiri/anaconda3/lib/python3.6/site-packages/ipykernel/ipkernel.py in do_execute(self=<ipykernel.ipkernel.IPythonKernel object>, code=\"from sklearn.neighbors import KNeighborsClassifi...        y_train,save_file='output_figs/knn.png')\\n\", silent=False, store_history=True, user_expressions={}, allow_stdin=True)\n    191 \n    192         self._forward_input(allow_stdin)\n    193 \n    194         reply_content = {}\n    195         try:\n--> 196             res = shell.run_cell(code, store_history=store_history, silent=silent)\n        res = undefined\n        shell.run_cell = <bound method ZMQInteractiveShell.run_cell of <ipykernel.zmqshell.ZMQInteractiveShell object>>\n        code = \"from sklearn.neighbors import KNeighborsClassifi...        y_train,save_file='output_figs/knn.png')\\n\"\n        store_history = True\n        silent = False\n    197         finally:\n    198             self._restore_input()\n    199 \n    200         if res.error_before_exec is not None:\n\n...........................................................................\n/home/adrikiri/anaconda3/lib/python3.6/site-packages/ipykernel/zmqshell.py in run_cell(self=<ipykernel.zmqshell.ZMQInteractiveShell object>, *args=(\"from sklearn.neighbors import KNeighborsClassifi...        y_train,save_file='output_figs/knn.png')\\n\",), **kwargs={'silent': False, 'store_history': True})\n    496             )\n    497         self.payload_manager.write_payload(payload)\n    498 \n    499     def run_cell(self, *args, **kwargs):\n    500         self._last_traceback = None\n--> 501         return super(ZMQInteractiveShell, self).run_cell(*args, **kwargs)\n        self.run_cell = <bound method ZMQInteractiveShell.run_cell of <ipykernel.zmqshell.ZMQInteractiveShell object>>\n        args = (\"from sklearn.neighbors import KNeighborsClassifi...        y_train,save_file='output_figs/knn.png')\\n\",)\n        kwargs = {'silent': False, 'store_history': True}\n    502 \n    503     def _showtraceback(self, etype, evalue, stb):\n    504         # try to preserve ordering of tracebacks and print statements\n    505         sys.stdout.flush()\n\n...........................................................................\n/home/adrikiri/anaconda3/lib/python3.6/site-packages/IPython/core/interactiveshell.py in run_cell(self=<ipykernel.zmqshell.ZMQInteractiveShell object>, raw_cell=\"from sklearn.neighbors import KNeighborsClassifi...        y_train,save_file='output_figs/knn.png')\\n\", store_history=True, silent=False, shell_futures=True)\n   2712                 self.displayhook.exec_result = result\n   2713 \n   2714                 # Execute the user code\n   2715                 interactivity = \"none\" if silent else self.ast_node_interactivity\n   2716                 has_raised = self.run_ast_nodes(code_ast.body, cell_name,\n-> 2717                    interactivity=interactivity, compiler=compiler, result=result)\n        interactivity = 'last_expr'\n        compiler = <IPython.core.compilerop.CachingCompiler object>\n   2718                 \n   2719                 self.last_execution_succeeded = not has_raised\n   2720 \n   2721                 # Reset this so later displayed values do not modify the\n\n...........................................................................\n/home/adrikiri/anaconda3/lib/python3.6/site-packages/IPython/core/interactiveshell.py in run_ast_nodes(self=<ipykernel.zmqshell.ZMQInteractiveShell object>, nodelist=[<_ast.ImportFrom object>, <_ast.Expr object>], cell_name='<ipython-input-19-6acee8d0fc7c>', interactivity='last', compiler=<IPython.core.compilerop.CachingCompiler object>, result=<ExecutionResult object at 7f3d649234a8, executi..._before_exec=None error_in_exec=None result=None>)\n   2822                     return True\n   2823 \n   2824             for i, node in enumerate(to_run_interactive):\n   2825                 mod = ast.Interactive([node])\n   2826                 code = compiler(mod, cell_name, \"single\")\n-> 2827                 if self.run_code(code, result):\n        self.run_code = <bound method InteractiveShell.run_code of <ipykernel.zmqshell.ZMQInteractiveShell object>>\n        code = <code object <module> at 0x7f3d4d3278a0, file \"<ipython-input-19-6acee8d0fc7c>\", line 3>\n        result = <ExecutionResult object at 7f3d649234a8, executi..._before_exec=None error_in_exec=None result=None>\n   2828                     return True\n   2829 \n   2830             # Flush softspace\n   2831             if softspace(sys.stdout, 0):\n\n...........................................................................\n/home/adrikiri/anaconda3/lib/python3.6/site-packages/IPython/core/interactiveshell.py in run_code(self=<ipykernel.zmqshell.ZMQInteractiveShell object>, code_obj=<code object <module> at 0x7f3d4d3278a0, file \"<ipython-input-19-6acee8d0fc7c>\", line 3>, result=<ExecutionResult object at 7f3d649234a8, executi..._before_exec=None error_in_exec=None result=None>)\n   2876         outflag = 1  # happens in more places, so it's easier as default\n   2877         try:\n   2878             try:\n   2879                 self.hooks.pre_run_code_hook()\n   2880                 #rprint('Running code', repr(code_obj)) # dbg\n-> 2881                 exec(code_obj, self.user_global_ns, self.user_ns)\n        code_obj = <code object <module> at 0x7f3d4d3278a0, file \"<ipython-input-19-6acee8d0fc7c>\", line 3>\n        self.user_global_ns = {'Cosine_sim': <class 'src.classifiers.Cosine_sim'>, 'CountVectorizer': <class 'sklearn.feature_extraction.text.CountVectorizer'>, 'DecisionTreeClassifier': <class 'sklearn.tree.tree.DecisionTreeClassifier'>, 'EnglishStemmer': <class 'nltk.stem.snowball.EnglishStemmer'>, 'GridSearchCV': <class 'sklearn.model_selection._search.GridSearchCV'>, 'In': ['', \"from gensim import corpora, models\\nfrom sklearn....load 2')\\nget_ipython().magic('matplotlib inline')\", '\\nproc = psutil.Process(os.getpid())\\nmem0 = proc.memory_info().rss', 'sample_size=50000\\nmin_df=15\\nmax_df=0.4\\nrandom_state=0\\ntester = 1', \"df = pd.read_json(path_or_buf='amazon_step1.json',orient='records',lines=True)\", '# TODO remove sampling\\n# Sampling to minimze com...sample_size,random_state=random_state)\\n#df.head()', \"# create a corpus class with an iterator that re...])\\n\\n#print ('original: ',documents[tester], '\\\\n')\", \"#Remove special characters\\ndocuments_no_specials...ve stop words: ',documents_no_stop[tester], '\\\\n')\", \"\\ndocuments_no_stop_no_numeric = remove_numerical...cs: ',documents_no_stop_no_numeric[tester], '\\\\n')\", r\"# lemmattizing tokens (better than stemming by t...ments_no_stop_no_numeric_lemmatize[tester], '\\n')\", \"# remove non-english words\\ndocuments_no_stop_no_..._stop_no_numeric_lemmatize_english[tester], '\\\\n')\", '# create ready corpus\\ndf[\\'reviewCleaned\\'] = [\" \"... documents_no_stop_no_numeric_lemmatize_english] ', '#vectorizer = CountVectorizer(max_df=max_df,min_...int(documents_vec) # sparse matrix representation', 'print(documents_vec)', 'proc = psutil.Process(os.getpid())\\nmem1 = proc.m...m2))\\nprint (\"Overall: %0.2f%%\" % pdf(mem3, mem0))', \"y=df['category']\\ncategories=np.unique(y)\\n#X_scal...se)\\nproc.memory_info().rss\\nX_scaled=documents_vec\", 'X_train=X_scaled\\ny_train=y', 'X_train, X_test, y_train, y_test = train_test_sp...led, y, test_size=0.2, random_state=random_state)', 'proc.memory_info().rss', \"from sklearn.neighbors import KNeighborsClassifi...         y_train,save_file='output_figs/knn.png')\"], 'KFold': <class 'sklearn.model_selection._split.KFold'>, 'KNeighborsClassifier': <class 'sklearn.neighbors.classification.KNeighborsClassifier'>, 'LDA_concepts': <function LDA_concepts>, 'LSI_concepts': <function LSI_concepts>, ...}\n        self.user_ns = {'Cosine_sim': <class 'src.classifiers.Cosine_sim'>, 'CountVectorizer': <class 'sklearn.feature_extraction.text.CountVectorizer'>, 'DecisionTreeClassifier': <class 'sklearn.tree.tree.DecisionTreeClassifier'>, 'EnglishStemmer': <class 'nltk.stem.snowball.EnglishStemmer'>, 'GridSearchCV': <class 'sklearn.model_selection._search.GridSearchCV'>, 'In': ['', \"from gensim import corpora, models\\nfrom sklearn....load 2')\\nget_ipython().magic('matplotlib inline')\", '\\nproc = psutil.Process(os.getpid())\\nmem0 = proc.memory_info().rss', 'sample_size=50000\\nmin_df=15\\nmax_df=0.4\\nrandom_state=0\\ntester = 1', \"df = pd.read_json(path_or_buf='amazon_step1.json',orient='records',lines=True)\", '# TODO remove sampling\\n# Sampling to minimze com...sample_size,random_state=random_state)\\n#df.head()', \"# create a corpus class with an iterator that re...])\\n\\n#print ('original: ',documents[tester], '\\\\n')\", \"#Remove special characters\\ndocuments_no_specials...ve stop words: ',documents_no_stop[tester], '\\\\n')\", \"\\ndocuments_no_stop_no_numeric = remove_numerical...cs: ',documents_no_stop_no_numeric[tester], '\\\\n')\", r\"# lemmattizing tokens (better than stemming by t...ments_no_stop_no_numeric_lemmatize[tester], '\\n')\", \"# remove non-english words\\ndocuments_no_stop_no_..._stop_no_numeric_lemmatize_english[tester], '\\\\n')\", '# create ready corpus\\ndf[\\'reviewCleaned\\'] = [\" \"... documents_no_stop_no_numeric_lemmatize_english] ', '#vectorizer = CountVectorizer(max_df=max_df,min_...int(documents_vec) # sparse matrix representation', 'print(documents_vec)', 'proc = psutil.Process(os.getpid())\\nmem1 = proc.m...m2))\\nprint (\"Overall: %0.2f%%\" % pdf(mem3, mem0))', \"y=df['category']\\ncategories=np.unique(y)\\n#X_scal...se)\\nproc.memory_info().rss\\nX_scaled=documents_vec\", 'X_train=X_scaled\\ny_train=y', 'X_train, X_test, y_train, y_test = train_test_sp...led, y, test_size=0.2, random_state=random_state)', 'proc.memory_info().rss', \"from sklearn.neighbors import KNeighborsClassifi...         y_train,save_file='output_figs/knn.png')\"], 'KFold': <class 'sklearn.model_selection._split.KFold'>, 'KNeighborsClassifier': <class 'sklearn.neighbors.classification.KNeighborsClassifier'>, 'LDA_concepts': <function LDA_concepts>, 'LSI_concepts': <function LSI_concepts>, ...}\n   2882             finally:\n   2883                 # Reset our crash handler in place\n   2884                 sys.excepthook = old_excepthook\n   2885         except SystemExit as e:\n\n...........................................................................\n/home/adrikiri/project-pace-mourad/adrian/<ipython-input-19-6acee8d0fc7c> in <module>()\n      1 from sklearn.neighbors import KNeighborsClassifier\n      2 \n      3 parameter_search(KNeighborsClassifier(),\n      4                 {'n_neighbors':range(1,50,3)},\n      5                 X_train,\n----> 6                 y_train,save_file='output_figs/knn.png')\n      7 \n      8 \n      9 \n     10 \n\n...........................................................................\n/home/adrikiri/project-pace-mourad/adrian/src/CV.py in parameter_search(estimator=KNeighborsClassifier(algorithm='auto', leaf_size...n_neighbors=5, p=2,\n           weights='uniform'), param_grid={'n_neighbors': range(1, 50, 3)}, X_train=<40000x23098 sparse matrix of type '<class 'nump... stored elements in Compressed Sparse Row format>, y_train=58034                 Digital_Music\n14527       ...               Baby\nName: category, dtype: object, cv=5, scoring='accuracy', verbose=2, save_file='output_figs/knn.png', n_jobs=-1)\n     28         param_range.append(param_grid[key])\n     29     #param_name = param_grid.keys()\n     30     \n     31     #param_range = param_grid.values()\n     32     gsCV = GridSearchCV(estimator, param_grid, cv=cv, scoring=scoring, verbose=verbose,n_jobs=n_jobs)\n---> 33     gsCV.fit(X_train, y_train)\n        gsCV.fit = <bound method GridSearchCV.fit of GridSearchCV(c...core=True,\n       scoring='accuracy', verbose=2)>\n        X_train = <40000x23098 sparse matrix of type '<class 'nump... stored elements in Compressed Sparse Row format>\n        y_train = 58034                 Digital_Music\n14527       ...               Baby\nName: category, dtype: object\n     34     val_scores_mean = gsCV.cv_results_['mean_test_score']\n     35     val_scores_std = gsCV.cv_results_['std_test_score']\n     36     train_scores_mean = gsCV.cv_results_['mean_train_score']\n     37     train_scores_std = gsCV.cv_results_['std_train_score']\n\n...........................................................................\n/home/adrikiri/anaconda3/lib/python3.6/site-packages/sklearn/model_selection/_search.py in fit(self=GridSearchCV(cv=5, error_score='raise',\n       e...score=True,\n       scoring='accuracy', verbose=2), X=<40000x23098 sparse matrix of type '<class 'nump... stored elements in Compressed Sparse Row format>, y=58034                 Digital_Music\n14527       ...               Baby\nName: category, dtype: object, groups=None)\n    940 \n    941         groups : array-like, with shape (n_samples,), optional\n    942             Group labels for the samples used while splitting the dataset into\n    943             train/test set.\n    944         \"\"\"\n--> 945         return self._fit(X, y, groups, ParameterGrid(self.param_grid))\n        self._fit = <bound method BaseSearchCV._fit of GridSearchCV(...core=True,\n       scoring='accuracy', verbose=2)>\n        X = <40000x23098 sparse matrix of type '<class 'nump... stored elements in Compressed Sparse Row format>\n        y = 58034                 Digital_Music\n14527       ...               Baby\nName: category, dtype: object\n        groups = None\n        self.param_grid = {'n_neighbors': range(1, 50, 3)}\n    946 \n    947 \n    948 class RandomizedSearchCV(BaseSearchCV):\n    949     \"\"\"Randomized search on hyper parameters.\n\n...........................................................................\n/home/adrikiri/anaconda3/lib/python3.6/site-packages/sklearn/model_selection/_search.py in _fit(self=GridSearchCV(cv=5, error_score='raise',\n       e...score=True,\n       scoring='accuracy', verbose=2), X=<40000x23098 sparse matrix of type '<class 'nump... stored elements in Compressed Sparse Row format>, y=58034                 Digital_Music\n14527       ...               Baby\nName: category, dtype: object, groups=None, parameter_iterable=<sklearn.model_selection._search.ParameterGrid object>)\n    559                                   fit_params=self.fit_params,\n    560                                   return_train_score=self.return_train_score,\n    561                                   return_n_test_samples=True,\n    562                                   return_times=True, return_parameters=True,\n    563                                   error_score=self.error_score)\n--> 564           for parameters in parameter_iterable\n        parameters = undefined\n        parameter_iterable = <sklearn.model_selection._search.ParameterGrid object>\n    565           for train, test in cv_iter)\n    566 \n    567         # if one choose to see train score, \"out\" will contain train score info\n    568         if self.return_train_score:\n\n...........................................................................\n/home/adrikiri/anaconda3/lib/python3.6/site-packages/sklearn/externals/joblib/parallel.py in __call__(self=Parallel(n_jobs=-1), iterable=<generator object BaseSearchCV._fit.<locals>.<genexpr>>)\n    763             if pre_dispatch == \"all\" or n_jobs == 1:\n    764                 # The iterable was consumed all at once by the above for loop.\n    765                 # No need to wait for async callbacks to trigger to\n    766                 # consumption.\n    767                 self._iterating = False\n--> 768             self.retrieve()\n        self.retrieve = <bound method Parallel.retrieve of Parallel(n_jobs=-1)>\n    769             # Make sure that we get a last message telling us we are done\n    770             elapsed_time = time.time() - self._start_time\n    771             self._print('Done %3i out of %3i | elapsed: %s finished',\n    772                         (len(self._output), len(self._output),\n\n---------------------------------------------------------------------------\nSub-process traceback:\n---------------------------------------------------------------------------\nMemoryError                                        Sat May 20 20:37:57 2017\nPID: 2451                 Python 3.6.0: /home/adrikiri/anaconda3/bin/python\n...........................................................................\n/home/adrikiri/anaconda3/lib/python3.6/site-packages/sklearn/externals/joblib/parallel.py in __call__(self=<sklearn.externals.joblib.parallel.BatchedCalls object>)\n    126     def __init__(self, iterator_slice):\n    127         self.items = list(iterator_slice)\n    128         self._size = len(self.items)\n    129 \n    130     def __call__(self):\n--> 131         return [func(*args, **kwargs) for func, args, kwargs in self.items]\n        self.items = [(<function _fit_and_score>, (KNeighborsClassifier(algorithm='auto', leaf_size...n_neighbors=1, p=2,\n           weights='uniform'), <40000x23098 sparse matrix of type '<class 'nump... stored elements in Compressed Sparse Row format>, 58034                 Digital_Music\n14527       ...               Baby\nName: category, dtype: object, make_scorer(accuracy_score), array([ 7333,  7356,  7391, ..., 39997, 39998, 39999]), array([   0,    1,    2, ..., 8635, 8673, 8678]), 2, {'n_neighbors': 1}), {'error_score': 'raise', 'fit_params': {}, 'return_n_test_samples': True, 'return_parameters': True, 'return_times': True, 'return_train_score': True})]\n    132 \n    133     def __len__(self):\n    134         return self._size\n    135 \n\n...........................................................................\n/home/adrikiri/anaconda3/lib/python3.6/site-packages/sklearn/externals/joblib/parallel.py in <listcomp>(.0=<list_iterator object>)\n    126     def __init__(self, iterator_slice):\n    127         self.items = list(iterator_slice)\n    128         self._size = len(self.items)\n    129 \n    130     def __call__(self):\n--> 131         return [func(*args, **kwargs) for func, args, kwargs in self.items]\n        func = <function _fit_and_score>\n        args = (KNeighborsClassifier(algorithm='auto', leaf_size...n_neighbors=1, p=2,\n           weights='uniform'), <40000x23098 sparse matrix of type '<class 'nump... stored elements in Compressed Sparse Row format>, 58034                 Digital_Music\n14527       ...               Baby\nName: category, dtype: object, make_scorer(accuracy_score), array([ 7333,  7356,  7391, ..., 39997, 39998, 39999]), array([   0,    1,    2, ..., 8635, 8673, 8678]), 2, {'n_neighbors': 1})\n        kwargs = {'error_score': 'raise', 'fit_params': {}, 'return_n_test_samples': True, 'return_parameters': True, 'return_times': True, 'return_train_score': True}\n    132 \n    133     def __len__(self):\n    134         return self._size\n    135 \n\n...........................................................................\n/home/adrikiri/anaconda3/lib/python3.6/site-packages/sklearn/model_selection/_validation.py in _fit_and_score(estimator=KNeighborsClassifier(algorithm='auto', leaf_size...n_neighbors=1, p=2,\n           weights='uniform'), X=<40000x23098 sparse matrix of type '<class 'nump... stored elements in Compressed Sparse Row format>, y=58034                 Digital_Music\n14527       ...               Baby\nName: category, dtype: object, scorer=make_scorer(accuracy_score), train=array([ 7333,  7356,  7391, ..., 39997, 39998, 39999]), test=array([   0,    1,    2, ..., 8635, 8673, 8678]), verbose=2, parameters={'n_neighbors': 1}, fit_params={}, return_train_score=True, return_parameters=True, return_n_test_samples=True, return_times=True, error_score='raise')\n    255                              \" numeric value. (Hint: if using 'raise', please\"\n    256                              \" make sure that it has been spelled correctly.)\")\n    257 \n    258     else:\n    259         fit_time = time.time() - start_time\n--> 260         test_score = _score(estimator, X_test, y_test, scorer)\n        test_score = undefined\n        estimator = KNeighborsClassifier(algorithm='auto', leaf_size...n_neighbors=1, p=2,\n           weights='uniform')\n        X_test = <8009x23098 sparse matrix of type '<class 'numpy... stored elements in Compressed Sparse Row format>\n        y_test = 58034                 Digital_Music\n14527       ...Sports_and_Outdoors\nName: category, dtype: object\n        scorer = make_scorer(accuracy_score)\n    261         score_time = time.time() - start_time - fit_time\n    262         if return_train_score:\n    263             train_score = _score(estimator, X_train, y_train, scorer)\n    264 \n\n...........................................................................\n/home/adrikiri/anaconda3/lib/python3.6/site-packages/sklearn/model_selection/_validation.py in _score(estimator=KNeighborsClassifier(algorithm='auto', leaf_size...n_neighbors=1, p=2,\n           weights='uniform'), X_test=<8009x23098 sparse matrix of type '<class 'numpy... stored elements in Compressed Sparse Row format>, y_test=58034                 Digital_Music\n14527       ...Sports_and_Outdoors\nName: category, dtype: object, scorer=make_scorer(accuracy_score))\n    283 def _score(estimator, X_test, y_test, scorer):\n    284     \"\"\"Compute the score of an estimator on a given test set.\"\"\"\n    285     if y_test is None:\n    286         score = scorer(estimator, X_test)\n    287     else:\n--> 288         score = scorer(estimator, X_test, y_test)\n        score = undefined\n        scorer = make_scorer(accuracy_score)\n        estimator = KNeighborsClassifier(algorithm='auto', leaf_size...n_neighbors=1, p=2,\n           weights='uniform')\n        X_test = <8009x23098 sparse matrix of type '<class 'numpy... stored elements in Compressed Sparse Row format>\n        y_test = 58034                 Digital_Music\n14527       ...Sports_and_Outdoors\nName: category, dtype: object\n    289     if hasattr(score, 'item'):\n    290         try:\n    291             # e.g. unwrap memmapped scalars\n    292             score = score.item()\n\n...........................................................................\n/home/adrikiri/anaconda3/lib/python3.6/site-packages/sklearn/metrics/scorer.py in __call__(self=make_scorer(accuracy_score), estimator=KNeighborsClassifier(algorithm='auto', leaf_size...n_neighbors=1, p=2,\n           weights='uniform'), X=<8009x23098 sparse matrix of type '<class 'numpy... stored elements in Compressed Sparse Row format>, y_true=58034                 Digital_Music\n14527       ...Sports_and_Outdoors\nName: category, dtype: object, sample_weight=None)\n     86         score : float\n     87             Score function applied to prediction of estimator on X.\n     88         \"\"\"\n     89         super(_PredictScorer, self).__call__(estimator, X, y_true,\n     90                                              sample_weight=sample_weight)\n---> 91         y_pred = estimator.predict(X)\n        y_pred = undefined\n        estimator.predict = <bound method KNeighborsClassifier.predict of KN..._neighbors=1, p=2,\n           weights='uniform')>\n        X = <8009x23098 sparse matrix of type '<class 'numpy... stored elements in Compressed Sparse Row format>\n     92         if sample_weight is not None:\n     93             return self._sign * self._score_func(y_true, y_pred,\n     94                                                  sample_weight=sample_weight,\n     95                                                  **self._kwargs)\n\n...........................................................................\n/home/adrikiri/anaconda3/lib/python3.6/site-packages/sklearn/neighbors/classification.py in predict(self=KNeighborsClassifier(algorithm='auto', leaf_size...n_neighbors=1, p=2,\n           weights='uniform'), X=<8009x23098 sparse matrix of type '<class 'numpy... stored elements in Compressed Sparse Row format>)\n    140         y : array of shape [n_samples] or [n_samples, n_outputs]\n    141             Class labels for each data sample.\n    142         \"\"\"\n    143         X = check_array(X, accept_sparse='csr')\n    144 \n--> 145         neigh_dist, neigh_ind = self.kneighbors(X)\n        neigh_dist = undefined\n        neigh_ind = undefined\n        self.kneighbors = <bound method KNeighborsMixin.kneighbors of KNei..._neighbors=1, p=2,\n           weights='uniform')>\n        X = <8009x23098 sparse matrix of type '<class 'numpy... stored elements in Compressed Sparse Row format>\n    146 \n    147         classes_ = self.classes_\n    148         _y = self._y\n    149         if not self.outputs_2d_:\n\n...........................................................................\n/home/adrikiri/anaconda3/lib/python3.6/site-packages/sklearn/neighbors/base.py in kneighbors(self=KNeighborsClassifier(algorithm='auto', leaf_size...n_neighbors=1, p=2,\n           weights='uniform'), X=<8009x23098 sparse matrix of type '<class 'numpy... stored elements in Compressed Sparse Row format>, n_neighbors=1, return_distance=True)\n    348         n_jobs = _get_n_jobs(self.n_jobs)\n    349         if self._fit_method == 'brute':\n    350             # for efficiency, use squared euclidean distances\n    351             if self.effective_metric_ == 'euclidean':\n    352                 dist = pairwise_distances(X, self._fit_X, 'euclidean',\n--> 353                                           n_jobs=n_jobs, squared=True)\n        n_jobs = 1\n    354             else:\n    355                 dist = pairwise_distances(\n    356                     X, self._fit_X, self.effective_metric_, n_jobs=n_jobs,\n    357                     **self.effective_metric_params_)\n\n...........................................................................\n/home/adrikiri/anaconda3/lib/python3.6/site-packages/sklearn/metrics/pairwise.py in pairwise_distances(X=<8009x23098 sparse matrix of type '<class 'numpy... stored elements in Compressed Sparse Row format>, Y=<31991x23098 sparse matrix of type '<class 'nump... stored elements in Compressed Sparse Row format>, metric='euclidean', n_jobs=1, **kwds={'squared': True})\n   1235         if n_jobs == 1 and X is Y:\n   1236             return distance.squareform(distance.pdist(X, metric=metric,\n   1237                                                       **kwds))\n   1238         func = partial(distance.cdist, metric=metric, **kwds)\n   1239 \n-> 1240     return _parallel_pairwise(X, Y, func, n_jobs, **kwds)\n        X = <8009x23098 sparse matrix of type '<class 'numpy... stored elements in Compressed Sparse Row format>\n        Y = <31991x23098 sparse matrix of type '<class 'nump... stored elements in Compressed Sparse Row format>\n        func = <function euclidean_distances>\n        n_jobs = 1\n        kwds = {'squared': True}\n   1241 \n   1242 \n   1243 # These distances recquire boolean arrays, when using scipy.spatial.distance\n   1244 PAIRWISE_BOOLEAN_FUNCTIONS = [\n\n...........................................................................\n/home/adrikiri/anaconda3/lib/python3.6/site-packages/sklearn/metrics/pairwise.py in _parallel_pairwise(X=<8009x23098 sparse matrix of type '<class 'numpy... stored elements in Compressed Sparse Row format>, Y=<31991x23098 sparse matrix of type '<class 'nump... stored elements in Compressed Sparse Row format>, func=<function euclidean_distances>, n_jobs=1, **kwds={'squared': True})\n   1078     if Y is None:\n   1079         Y = X\n   1080 \n   1081     if n_jobs == 1:\n   1082         # Special case to avoid picklability checks in delayed\n-> 1083         return func(X, Y, **kwds)\n        func = <function euclidean_distances>\n        X = <8009x23098 sparse matrix of type '<class 'numpy... stored elements in Compressed Sparse Row format>\n        Y = <31991x23098 sparse matrix of type '<class 'nump... stored elements in Compressed Sparse Row format>\n        kwds = {'squared': True}\n   1084 \n   1085     # TODO: in some cases, backend='threading' may be appropriate\n   1086     fd = delayed(func)\n   1087     ret = Parallel(n_jobs=n_jobs, verbose=0)(\n\n...........................................................................\n/home/adrikiri/anaconda3/lib/python3.6/site-packages/sklearn/metrics/pairwise.py in euclidean_distances(X=<8009x23098 sparse matrix of type '<class 'numpy... stored elements in Compressed Sparse Row format>, Y=<31991x23098 sparse matrix of type '<class 'nump... stored elements in Compressed Sparse Row format>, Y_norm_squared=None, squared=True, X_norm_squared=None)\n    240             raise ValueError(\n    241                 \"Incompatible dimensions for Y and Y_norm_squared\")\n    242     else:\n    243         YY = row_norms(Y, squared=True)[np.newaxis, :]\n    244 \n--> 245     distances = safe_sparse_dot(X, Y.T, dense_output=True)\n        distances = undefined\n        X = <8009x23098 sparse matrix of type '<class 'numpy... stored elements in Compressed Sparse Row format>\n        Y.T = <23098x31991 sparse matrix of type '<class 'nump...ored elements in Compressed Sparse Column format>\n    246     distances *= -2\n    247     distances += XX\n    248     distances += YY\n    249     np.maximum(distances, 0, out=distances)\n\n...........................................................................\n/home/adrikiri/anaconda3/lib/python3.6/site-packages/sklearn/utils/extmath.py in safe_sparse_dot(a=<8009x23098 sparse matrix of type '<class 'numpy... stored elements in Compressed Sparse Row format>, b=<23098x31991 sparse matrix of type '<class 'nump...ored elements in Compressed Sparse Column format>, dense_output=True)\n    181     to avoid unnecessary copies.\n    182     \"\"\"\n    183     if issparse(a) or issparse(b):\n    184         ret = a * b\n    185         if dense_output and hasattr(ret, \"toarray\"):\n--> 186             ret = ret.toarray()\n        ret = <8009x31991 sparse matrix of type '<class 'numpy... stored elements in Compressed Sparse Row format>\n        ret.toarray = <bound method _cs_matrix.toarray of <8009x31991 ...stored elements in Compressed Sparse Row format>>\n    187         return ret\n    188     else:\n    189         return fast_dot(a, b)\n    190 \n\n...........................................................................\n/home/adrikiri/anaconda3/lib/python3.6/site-packages/scipy/sparse/compressed.py in toarray(self=<8009x31991 sparse matrix of type '<class 'numpy... stored elements in Compressed Sparse Row format>, order=None, out=None)\n    915 \n    916     tocoo.__doc__ = spmatrix.tocoo.__doc__\n    917 \n    918     def toarray(self, order=None, out=None):\n    919         \"\"\"See the docstring for `spmatrix.toarray`.\"\"\"\n--> 920         return self.tocoo(copy=False).toarray(order=order, out=out)\n        self.tocoo = <bound method _cs_matrix.tocoo of <8009x31991 sp...stored elements in Compressed Sparse Row format>>\n        order = None\n        out = None\n    921 \n    922     ##############################################################\n    923     # methods that examine or modify the internal data structure #\n    924     ##############################################################\n\n...........................................................................\n/home/adrikiri/anaconda3/lib/python3.6/site-packages/scipy/sparse/coo.py in toarray(self=<8009x31991 sparse matrix of type '<class 'numpy...h 141456287 stored elements in COOrdinate format>, order=None, out=None)\n    247 \n    248     transpose.__doc__ = spmatrix.transpose.__doc__\n    249 \n    250     def toarray(self, order=None, out=None):\n    251         \"\"\"See the docstring for `spmatrix.toarray`.\"\"\"\n--> 252         B = self._process_toarray_args(order, out)\n        B = undefined\n        self._process_toarray_args = <bound method spmatrix._process_toarray_args of ... 141456287 stored elements in COOrdinate format>>\n        order = None\n        out = None\n    253         fortran = int(B.flags.f_contiguous)\n    254         if not fortran and not B.flags.c_contiguous:\n    255             raise ValueError(\"Output array must be C or F contiguous\")\n    256         M,N = self.shape\n\n...........................................................................\n/home/adrikiri/anaconda3/lib/python3.6/site-packages/scipy/sparse/base.py in _process_toarray_args(self=<8009x31991 sparse matrix of type '<class 'numpy...h 141456287 stored elements in COOrdinate format>, order=None, out=None)\n   1004                 raise ValueError('out array must be same dtype and shape as '\n   1005                                  'sparse matrix')\n   1006             out[...] = 0.\n   1007             return out\n   1008         else:\n-> 1009             return np.zeros(self.shape, dtype=self.dtype, order=order)\n        self.shape = (8009, 31991)\n        self.dtype = dtype('float64')\n        order = None\n   1010 \n   1011     def __numpy_ufunc__(self, func, method, pos, inputs, **kwargs):\n   1012         \"\"\"Method for compatibility with NumPy's ufuncs and dot\n   1013         functions.\n\nMemoryError: \n___________________________________________________________________________"
     ]
    }
   ],
   "source": [
    "from sklearn.neighbors import KNeighborsClassifier\n",
    "\n",
    "parameter_search(KNeighborsClassifier(),\n",
    "                {'n_neighbors':range(1,50,3)},\n",
    "                X_train,\n",
    "                y_train,save_file='output_figs/knn.png')\n"
   ]
  },
  {
   "cell_type": "markdown",
   "metadata": {},
   "source": [
    "5000 samples : Best ['n_neighbors'] = {'n_neighbors': 22} with score : 0.3565\n",
    "Execution time : 3624.564046859741 seconds"
   ]
  },
  {
   "cell_type": "markdown",
   "metadata": {},
   "source": [
    "#### SVM"
   ]
  },
  {
   "cell_type": "code",
   "execution_count": 71,
   "metadata": {
    "collapsed": false,
    "scrolled": true
   },
   "outputs": [
    {
     "name": "stdout",
     "output_type": "stream",
     "text": [
      "Fitting 5 folds for each of 20 candidates, totalling 100 fits\n",
      "[CV] gamma=1e-05 .....................................................\n",
      "[CV] gamma=1e-05 .....................................................\n",
      "[CV] gamma=1e-05 .....................................................\n",
      "[CV] gamma=1e-05 .....................................................\n",
      "[CV] gamma=1e-05 .....................................................\n",
      "[CV] gamma=3.35981828628e-05 .........................................\n",
      "[CV] gamma=3.35981828628e-05 .........................................\n",
      "[CV] gamma=3.35981828628e-05 .........................................\n"
     ]
    },
    {
     "ename": "KeyboardInterrupt",
     "evalue": "",
     "output_type": "error",
     "traceback": [
      "\u001b[0;31m---------------------------------------------------------------------------\u001b[0m",
      "\u001b[0;31mKeyboardInterrupt\u001b[0m                         Traceback (most recent call last)",
      "\u001b[0;32m<ipython-input-71-3434c79d6f3b>\u001b[0m in \u001b[0;36m<module>\u001b[0;34m()\u001b[0m\n\u001b[1;32m      2\u001b[0m                 \u001b[0;34m{\u001b[0m\u001b[0;34m'gamma'\u001b[0m\u001b[0;34m:\u001b[0m\u001b[0mnp\u001b[0m\u001b[0;34m.\u001b[0m\u001b[0mlogspace\u001b[0m\u001b[0;34m(\u001b[0m\u001b[0;34m-\u001b[0m\u001b[0;36m5\u001b[0m\u001b[0;34m,\u001b[0m\u001b[0;36m5\u001b[0m\u001b[0;34m,\u001b[0m\u001b[0;36m20\u001b[0m\u001b[0;34m)\u001b[0m\u001b[0;34m}\u001b[0m\u001b[0;34m,\u001b[0m\u001b[0;34m\u001b[0m\u001b[0m\n\u001b[1;32m      3\u001b[0m                 \u001b[0mX_train\u001b[0m\u001b[0;34m,\u001b[0m\u001b[0;34m\u001b[0m\u001b[0m\n\u001b[0;32m----> 4\u001b[0;31m                 y_train,save_file='output_figs/svm_C_gamma.png')\n\u001b[0m",
      "\u001b[0;32m/home/adrikiri/project-pace-mourad/adrian/src/CV.py\u001b[0m in \u001b[0;36mparameter_search\u001b[0;34m(estimator, param_grid, X_train, y_train, cv, scoring, verbose, save_file, n_jobs)\u001b[0m\n\u001b[1;32m     31\u001b[0m     \u001b[0;31m#param_range = param_grid.values()\u001b[0m\u001b[0;34m\u001b[0m\u001b[0;34m\u001b[0m\u001b[0m\n\u001b[1;32m     32\u001b[0m     \u001b[0mgsCV\u001b[0m \u001b[0;34m=\u001b[0m \u001b[0mGridSearchCV\u001b[0m\u001b[0;34m(\u001b[0m\u001b[0mestimator\u001b[0m\u001b[0;34m,\u001b[0m \u001b[0mparam_grid\u001b[0m\u001b[0;34m,\u001b[0m \u001b[0mcv\u001b[0m\u001b[0;34m=\u001b[0m\u001b[0mcv\u001b[0m\u001b[0;34m,\u001b[0m \u001b[0mscoring\u001b[0m\u001b[0;34m=\u001b[0m\u001b[0mscoring\u001b[0m\u001b[0;34m,\u001b[0m \u001b[0mverbose\u001b[0m\u001b[0;34m=\u001b[0m\u001b[0mverbose\u001b[0m\u001b[0;34m,\u001b[0m\u001b[0mn_jobs\u001b[0m\u001b[0;34m=\u001b[0m\u001b[0mn_jobs\u001b[0m\u001b[0;34m)\u001b[0m\u001b[0;34m\u001b[0m\u001b[0m\n\u001b[0;32m---> 33\u001b[0;31m     \u001b[0mgsCV\u001b[0m\u001b[0;34m.\u001b[0m\u001b[0mfit\u001b[0m\u001b[0;34m(\u001b[0m\u001b[0mX_train\u001b[0m\u001b[0;34m,\u001b[0m \u001b[0my_train\u001b[0m\u001b[0;34m)\u001b[0m\u001b[0;34m\u001b[0m\u001b[0m\n\u001b[0m\u001b[1;32m     34\u001b[0m     \u001b[0mval_scores_mean\u001b[0m \u001b[0;34m=\u001b[0m \u001b[0mgsCV\u001b[0m\u001b[0;34m.\u001b[0m\u001b[0mcv_results_\u001b[0m\u001b[0;34m[\u001b[0m\u001b[0;34m'mean_test_score'\u001b[0m\u001b[0;34m]\u001b[0m\u001b[0;34m\u001b[0m\u001b[0m\n\u001b[1;32m     35\u001b[0m     \u001b[0mval_scores_std\u001b[0m \u001b[0;34m=\u001b[0m \u001b[0mgsCV\u001b[0m\u001b[0;34m.\u001b[0m\u001b[0mcv_results_\u001b[0m\u001b[0;34m[\u001b[0m\u001b[0;34m'std_test_score'\u001b[0m\u001b[0;34m]\u001b[0m\u001b[0;34m\u001b[0m\u001b[0m\n",
      "\u001b[0;32m/home/adrikiri/anaconda3/lib/python3.6/site-packages/sklearn/model_selection/_search.py\u001b[0m in \u001b[0;36mfit\u001b[0;34m(self, X, y, groups)\u001b[0m\n\u001b[1;32m    943\u001b[0m             \u001b[0mtrain\u001b[0m\u001b[0;34m/\u001b[0m\u001b[0mtest\u001b[0m \u001b[0mset\u001b[0m\u001b[0;34m.\u001b[0m\u001b[0;34m\u001b[0m\u001b[0m\n\u001b[1;32m    944\u001b[0m         \"\"\"\n\u001b[0;32m--> 945\u001b[0;31m         \u001b[0;32mreturn\u001b[0m \u001b[0mself\u001b[0m\u001b[0;34m.\u001b[0m\u001b[0m_fit\u001b[0m\u001b[0;34m(\u001b[0m\u001b[0mX\u001b[0m\u001b[0;34m,\u001b[0m \u001b[0my\u001b[0m\u001b[0;34m,\u001b[0m \u001b[0mgroups\u001b[0m\u001b[0;34m,\u001b[0m \u001b[0mParameterGrid\u001b[0m\u001b[0;34m(\u001b[0m\u001b[0mself\u001b[0m\u001b[0;34m.\u001b[0m\u001b[0mparam_grid\u001b[0m\u001b[0;34m)\u001b[0m\u001b[0;34m)\u001b[0m\u001b[0;34m\u001b[0m\u001b[0m\n\u001b[0m\u001b[1;32m    946\u001b[0m \u001b[0;34m\u001b[0m\u001b[0m\n\u001b[1;32m    947\u001b[0m \u001b[0;34m\u001b[0m\u001b[0m\n",
      "\u001b[0;32m/home/adrikiri/anaconda3/lib/python3.6/site-packages/sklearn/model_selection/_search.py\u001b[0m in \u001b[0;36m_fit\u001b[0;34m(self, X, y, groups, parameter_iterable)\u001b[0m\n\u001b[1;32m    562\u001b[0m                                   \u001b[0mreturn_times\u001b[0m\u001b[0;34m=\u001b[0m\u001b[0;32mTrue\u001b[0m\u001b[0;34m,\u001b[0m \u001b[0mreturn_parameters\u001b[0m\u001b[0;34m=\u001b[0m\u001b[0;32mTrue\u001b[0m\u001b[0;34m,\u001b[0m\u001b[0;34m\u001b[0m\u001b[0m\n\u001b[1;32m    563\u001b[0m                                   error_score=self.error_score)\n\u001b[0;32m--> 564\u001b[0;31m           \u001b[0;32mfor\u001b[0m \u001b[0mparameters\u001b[0m \u001b[0;32min\u001b[0m \u001b[0mparameter_iterable\u001b[0m\u001b[0;34m\u001b[0m\u001b[0m\n\u001b[0m\u001b[1;32m    565\u001b[0m           for train, test in cv_iter)\n\u001b[1;32m    566\u001b[0m \u001b[0;34m\u001b[0m\u001b[0m\n",
      "\u001b[0;32m/home/adrikiri/anaconda3/lib/python3.6/site-packages/sklearn/externals/joblib/parallel.py\u001b[0m in \u001b[0;36m__call__\u001b[0;34m(self, iterable)\u001b[0m\n\u001b[1;32m    766\u001b[0m                 \u001b[0;31m# consumption.\u001b[0m\u001b[0;34m\u001b[0m\u001b[0;34m\u001b[0m\u001b[0m\n\u001b[1;32m    767\u001b[0m                 \u001b[0mself\u001b[0m\u001b[0;34m.\u001b[0m\u001b[0m_iterating\u001b[0m \u001b[0;34m=\u001b[0m \u001b[0;32mFalse\u001b[0m\u001b[0;34m\u001b[0m\u001b[0m\n\u001b[0;32m--> 768\u001b[0;31m             \u001b[0mself\u001b[0m\u001b[0;34m.\u001b[0m\u001b[0mretrieve\u001b[0m\u001b[0;34m(\u001b[0m\u001b[0;34m)\u001b[0m\u001b[0;34m\u001b[0m\u001b[0m\n\u001b[0m\u001b[1;32m    769\u001b[0m             \u001b[0;31m# Make sure that we get a last message telling us we are done\u001b[0m\u001b[0;34m\u001b[0m\u001b[0;34m\u001b[0m\u001b[0m\n\u001b[1;32m    770\u001b[0m             \u001b[0melapsed_time\u001b[0m \u001b[0;34m=\u001b[0m \u001b[0mtime\u001b[0m\u001b[0;34m.\u001b[0m\u001b[0mtime\u001b[0m\u001b[0;34m(\u001b[0m\u001b[0;34m)\u001b[0m \u001b[0;34m-\u001b[0m \u001b[0mself\u001b[0m\u001b[0;34m.\u001b[0m\u001b[0m_start_time\u001b[0m\u001b[0;34m\u001b[0m\u001b[0m\n",
      "\u001b[0;32m/home/adrikiri/anaconda3/lib/python3.6/site-packages/sklearn/externals/joblib/parallel.py\u001b[0m in \u001b[0;36mretrieve\u001b[0;34m(self)\u001b[0m\n\u001b[1;32m    717\u001b[0m                     \u001b[0mensure_ready\u001b[0m \u001b[0;34m=\u001b[0m \u001b[0mself\u001b[0m\u001b[0;34m.\u001b[0m\u001b[0m_managed_backend\u001b[0m\u001b[0;34m\u001b[0m\u001b[0m\n\u001b[1;32m    718\u001b[0m                     \u001b[0mbackend\u001b[0m\u001b[0;34m.\u001b[0m\u001b[0mabort_everything\u001b[0m\u001b[0;34m(\u001b[0m\u001b[0mensure_ready\u001b[0m\u001b[0;34m=\u001b[0m\u001b[0mensure_ready\u001b[0m\u001b[0;34m)\u001b[0m\u001b[0;34m\u001b[0m\u001b[0m\n\u001b[0;32m--> 719\u001b[0;31m                 \u001b[0;32mraise\u001b[0m \u001b[0mexception\u001b[0m\u001b[0;34m\u001b[0m\u001b[0m\n\u001b[0m\u001b[1;32m    720\u001b[0m \u001b[0;34m\u001b[0m\u001b[0m\n\u001b[1;32m    721\u001b[0m     \u001b[0;32mdef\u001b[0m \u001b[0m__call__\u001b[0m\u001b[0;34m(\u001b[0m\u001b[0mself\u001b[0m\u001b[0;34m,\u001b[0m \u001b[0miterable\u001b[0m\u001b[0;34m)\u001b[0m\u001b[0;34m:\u001b[0m\u001b[0;34m\u001b[0m\u001b[0m\n",
      "\u001b[0;32m/home/adrikiri/anaconda3/lib/python3.6/site-packages/sklearn/externals/joblib/parallel.py\u001b[0m in \u001b[0;36mretrieve\u001b[0;34m(self)\u001b[0m\n\u001b[1;32m    680\u001b[0m                 \u001b[0;31m# check if timeout supported in backend future implementation\u001b[0m\u001b[0;34m\u001b[0m\u001b[0;34m\u001b[0m\u001b[0m\n\u001b[1;32m    681\u001b[0m                 \u001b[0;32mif\u001b[0m \u001b[0;34m'timeout'\u001b[0m \u001b[0;32min\u001b[0m \u001b[0mgetfullargspec\u001b[0m\u001b[0;34m(\u001b[0m\u001b[0mjob\u001b[0m\u001b[0;34m.\u001b[0m\u001b[0mget\u001b[0m\u001b[0;34m)\u001b[0m\u001b[0;34m.\u001b[0m\u001b[0margs\u001b[0m\u001b[0;34m:\u001b[0m\u001b[0;34m\u001b[0m\u001b[0m\n\u001b[0;32m--> 682\u001b[0;31m                     \u001b[0mself\u001b[0m\u001b[0;34m.\u001b[0m\u001b[0m_output\u001b[0m\u001b[0;34m.\u001b[0m\u001b[0mextend\u001b[0m\u001b[0;34m(\u001b[0m\u001b[0mjob\u001b[0m\u001b[0;34m.\u001b[0m\u001b[0mget\u001b[0m\u001b[0;34m(\u001b[0m\u001b[0mtimeout\u001b[0m\u001b[0;34m=\u001b[0m\u001b[0mself\u001b[0m\u001b[0;34m.\u001b[0m\u001b[0mtimeout\u001b[0m\u001b[0;34m)\u001b[0m\u001b[0;34m)\u001b[0m\u001b[0;34m\u001b[0m\u001b[0m\n\u001b[0m\u001b[1;32m    683\u001b[0m                 \u001b[0;32melse\u001b[0m\u001b[0;34m:\u001b[0m\u001b[0;34m\u001b[0m\u001b[0m\n\u001b[1;32m    684\u001b[0m                     \u001b[0mself\u001b[0m\u001b[0;34m.\u001b[0m\u001b[0m_output\u001b[0m\u001b[0;34m.\u001b[0m\u001b[0mextend\u001b[0m\u001b[0;34m(\u001b[0m\u001b[0mjob\u001b[0m\u001b[0;34m.\u001b[0m\u001b[0mget\u001b[0m\u001b[0;34m(\u001b[0m\u001b[0;34m)\u001b[0m\u001b[0;34m)\u001b[0m\u001b[0;34m\u001b[0m\u001b[0m\n",
      "\u001b[0;32m/home/adrikiri/anaconda3/lib/python3.6/multiprocessing/pool.py\u001b[0m in \u001b[0;36mget\u001b[0;34m(self, timeout)\u001b[0m\n\u001b[1;32m    600\u001b[0m \u001b[0;34m\u001b[0m\u001b[0m\n\u001b[1;32m    601\u001b[0m     \u001b[0;32mdef\u001b[0m \u001b[0mget\u001b[0m\u001b[0;34m(\u001b[0m\u001b[0mself\u001b[0m\u001b[0;34m,\u001b[0m \u001b[0mtimeout\u001b[0m\u001b[0;34m=\u001b[0m\u001b[0;32mNone\u001b[0m\u001b[0;34m)\u001b[0m\u001b[0;34m:\u001b[0m\u001b[0;34m\u001b[0m\u001b[0m\n\u001b[0;32m--> 602\u001b[0;31m         \u001b[0mself\u001b[0m\u001b[0;34m.\u001b[0m\u001b[0mwait\u001b[0m\u001b[0;34m(\u001b[0m\u001b[0mtimeout\u001b[0m\u001b[0;34m)\u001b[0m\u001b[0;34m\u001b[0m\u001b[0m\n\u001b[0m\u001b[1;32m    603\u001b[0m         \u001b[0;32mif\u001b[0m \u001b[0;32mnot\u001b[0m \u001b[0mself\u001b[0m\u001b[0;34m.\u001b[0m\u001b[0mready\u001b[0m\u001b[0;34m(\u001b[0m\u001b[0;34m)\u001b[0m\u001b[0;34m:\u001b[0m\u001b[0;34m\u001b[0m\u001b[0m\n\u001b[1;32m    604\u001b[0m             \u001b[0;32mraise\u001b[0m \u001b[0mTimeoutError\u001b[0m\u001b[0;34m\u001b[0m\u001b[0m\n",
      "\u001b[0;32m/home/adrikiri/anaconda3/lib/python3.6/multiprocessing/pool.py\u001b[0m in \u001b[0;36mwait\u001b[0;34m(self, timeout)\u001b[0m\n\u001b[1;32m    597\u001b[0m \u001b[0;34m\u001b[0m\u001b[0m\n\u001b[1;32m    598\u001b[0m     \u001b[0;32mdef\u001b[0m \u001b[0mwait\u001b[0m\u001b[0;34m(\u001b[0m\u001b[0mself\u001b[0m\u001b[0;34m,\u001b[0m \u001b[0mtimeout\u001b[0m\u001b[0;34m=\u001b[0m\u001b[0;32mNone\u001b[0m\u001b[0;34m)\u001b[0m\u001b[0;34m:\u001b[0m\u001b[0;34m\u001b[0m\u001b[0m\n\u001b[0;32m--> 599\u001b[0;31m         \u001b[0mself\u001b[0m\u001b[0;34m.\u001b[0m\u001b[0m_event\u001b[0m\u001b[0;34m.\u001b[0m\u001b[0mwait\u001b[0m\u001b[0;34m(\u001b[0m\u001b[0mtimeout\u001b[0m\u001b[0;34m)\u001b[0m\u001b[0;34m\u001b[0m\u001b[0m\n\u001b[0m\u001b[1;32m    600\u001b[0m \u001b[0;34m\u001b[0m\u001b[0m\n\u001b[1;32m    601\u001b[0m     \u001b[0;32mdef\u001b[0m \u001b[0mget\u001b[0m\u001b[0;34m(\u001b[0m\u001b[0mself\u001b[0m\u001b[0;34m,\u001b[0m \u001b[0mtimeout\u001b[0m\u001b[0;34m=\u001b[0m\u001b[0;32mNone\u001b[0m\u001b[0;34m)\u001b[0m\u001b[0;34m:\u001b[0m\u001b[0;34m\u001b[0m\u001b[0m\n",
      "\u001b[0;32m/home/adrikiri/anaconda3/lib/python3.6/threading.py\u001b[0m in \u001b[0;36mwait\u001b[0;34m(self, timeout)\u001b[0m\n\u001b[1;32m    549\u001b[0m             \u001b[0msignaled\u001b[0m \u001b[0;34m=\u001b[0m \u001b[0mself\u001b[0m\u001b[0;34m.\u001b[0m\u001b[0m_flag\u001b[0m\u001b[0;34m\u001b[0m\u001b[0m\n\u001b[1;32m    550\u001b[0m             \u001b[0;32mif\u001b[0m \u001b[0;32mnot\u001b[0m \u001b[0msignaled\u001b[0m\u001b[0;34m:\u001b[0m\u001b[0;34m\u001b[0m\u001b[0m\n\u001b[0;32m--> 551\u001b[0;31m                 \u001b[0msignaled\u001b[0m \u001b[0;34m=\u001b[0m \u001b[0mself\u001b[0m\u001b[0;34m.\u001b[0m\u001b[0m_cond\u001b[0m\u001b[0;34m.\u001b[0m\u001b[0mwait\u001b[0m\u001b[0;34m(\u001b[0m\u001b[0mtimeout\u001b[0m\u001b[0;34m)\u001b[0m\u001b[0;34m\u001b[0m\u001b[0m\n\u001b[0m\u001b[1;32m    552\u001b[0m             \u001b[0;32mreturn\u001b[0m \u001b[0msignaled\u001b[0m\u001b[0;34m\u001b[0m\u001b[0m\n\u001b[1;32m    553\u001b[0m \u001b[0;34m\u001b[0m\u001b[0m\n",
      "\u001b[0;32m/home/adrikiri/anaconda3/lib/python3.6/threading.py\u001b[0m in \u001b[0;36mwait\u001b[0;34m(self, timeout)\u001b[0m\n\u001b[1;32m    293\u001b[0m         \u001b[0;32mtry\u001b[0m\u001b[0;34m:\u001b[0m    \u001b[0;31m# restore state no matter what (e.g., KeyboardInterrupt)\u001b[0m\u001b[0;34m\u001b[0m\u001b[0m\n\u001b[1;32m    294\u001b[0m             \u001b[0;32mif\u001b[0m \u001b[0mtimeout\u001b[0m \u001b[0;32mis\u001b[0m \u001b[0;32mNone\u001b[0m\u001b[0;34m:\u001b[0m\u001b[0;34m\u001b[0m\u001b[0m\n\u001b[0;32m--> 295\u001b[0;31m                 \u001b[0mwaiter\u001b[0m\u001b[0;34m.\u001b[0m\u001b[0macquire\u001b[0m\u001b[0;34m(\u001b[0m\u001b[0;34m)\u001b[0m\u001b[0;34m\u001b[0m\u001b[0m\n\u001b[0m\u001b[1;32m    296\u001b[0m                 \u001b[0mgotit\u001b[0m \u001b[0;34m=\u001b[0m \u001b[0;32mTrue\u001b[0m\u001b[0;34m\u001b[0m\u001b[0m\n\u001b[1;32m    297\u001b[0m             \u001b[0;32melse\u001b[0m\u001b[0;34m:\u001b[0m\u001b[0;34m\u001b[0m\u001b[0m\n",
      "\u001b[0;31mKeyboardInterrupt\u001b[0m: "
     ]
    }
   ],
   "source": [
    "parameter_search(SVC(),\n",
    "                {'C':np.logspace(-5,5,20)},\n",
    "                X_train,\n",
    "                y_train,save_file='output_figs/svm.png')"
   ]
  },
  {
   "cell_type": "markdown",
   "metadata": {},
   "source": [
    "5000 samples :Best ['C'] = {'C': 3727.5937203149379} with score : 0.552\n",
    "Execution time : 6710.833028554916 seconds"
   ]
  },
  {
   "cell_type": "code",
   "execution_count": 40,
   "metadata": {
    "collapsed": false,
    "scrolled": true
   },
   "outputs": [
    {
     "name": "stdout",
     "output_type": "stream",
     "text": [
      "Fitting 5 folds for each of 6 candidates, totalling 30 fits\n",
      "[CV] C=400 ...........................................................\n",
      "[CV] C=400 ...........................................................\n",
      "[CV] C=400 ...........................................................\n",
      "[CV] C=400 ...........................................................\n",
      "[CV] C=400 ...........................................................\n",
      "[CV] C=500 ...........................................................\n",
      "[CV] C=500 ...........................................................\n",
      "[CV] C=500 ...........................................................\n",
      "[CV] ............................................ C=500, total= 7.3min\n",
      "[CV] C=500 ...........................................................\n",
      "[CV] ............................................ C=500, total= 7.4min\n",
      "[CV] C=500 ...........................................................\n",
      "[CV] ............................................ C=500, total= 7.5min\n",
      "[CV] C=600 ...........................................................\n",
      "[CV] ............................................ C=400, total= 7.7min\n",
      "[CV] C=600 ...........................................................\n",
      "[CV] ............................................ C=400, total= 7.8min\n",
      "[CV] C=600 ...........................................................\n",
      "[CV] ............................................ C=400, total= 7.9min\n",
      "[CV] C=600 ...........................................................\n",
      "[CV] ............................................ C=400, total= 8.0min\n",
      "[CV] C=600 ...........................................................\n",
      "[CV] ............................................ C=400, total= 8.0min\n",
      "[CV] C=700 ...........................................................\n",
      "[CV] ............................................ C=500, total= 6.2min\n",
      "[CV] C=700 ...........................................................\n",
      "[CV] ............................................ C=500, total= 6.2min\n",
      "[CV] C=700 ...........................................................\n",
      "[CV] ............................................ C=600, total= 6.0min\n",
      "[CV] C=700 ...........................................................\n",
      "[CV] ............................................ C=600, total= 6.2min\n",
      "[CV] C=700 ...........................................................\n",
      "[CV] ............................................ C=600, total= 6.3min\n",
      "[CV] C=800 ...........................................................\n",
      "[CV] ............................................ C=600, total= 6.3min\n",
      "[CV] C=800 ...........................................................\n",
      "[CV] ............................................ C=700, total= 6.3min\n",
      "[CV] C=800 ...........................................................\n",
      "[CV] ............................................ C=600, total= 6.5min\n",
      "[CV] C=800 ...........................................................\n",
      "[CV] ............................................ C=700, total= 5.8min\n",
      "[CV] C=800 ...........................................................\n",
      "[CV] ............................................ C=700, total= 5.9min\n",
      "[CV] C=900 ...........................................................\n",
      "[CV] ............................................ C=700, total= 5.8min\n",
      "[CV] C=900 ...........................................................\n",
      "[CV] ............................................ C=700, total= 5.9min\n",
      "[CV] C=900 ...........................................................\n",
      "[CV] ............................................ C=800, total= 5.9min\n",
      "[CV] C=900 ...........................................................\n",
      "[CV] ............................................ C=800, total= 5.9min\n",
      "[CV] C=900 ...........................................................\n",
      "[CV] ............................................ C=800, total= 6.0min\n",
      "[CV] ............................................ C=800, total= 6.0min\n",
      "[CV] ............................................ C=800, total= 5.3min\n",
      "[CV] ............................................ C=900, total= 5.2min\n",
      "[CV] ............................................ C=900, total= 5.2min\n",
      "[CV] ............................................ C=900, total= 5.3min\n",
      "[CV] ............................................ C=900, total= 5.3min\n",
      "[CV] ............................................ C=900, total= 5.2min\n"
     ]
    },
    {
     "name": "stderr",
     "output_type": "stream",
     "text": [
      "[Parallel(n_jobs=-1)]: Done  30 out of  30 | elapsed: 53.1min finished\n",
      "/home/adrikiri/project-pace-mourad/adrian/src/plots.py:30: FutureWarning: comparison to `None` will result in an elementwise object comparison in the future.\n",
      "  if train_scores_std != None and val_scores_std != None:\n",
      "/home/adrikiri/anaconda3/lib/python3.6/site-packages/matplotlib/font_manager.py:1297: UserWarning: findfont: Font family ['sans-serif'] not found. Falling back to DejaVu Sans\n",
      "  (prop.get_family(), self.defaultFamily[fontext]))\n"
     ]
    },
    {
     "data": {
      "image/png": "[encoded data removed]",
      "text/plain": [
       "<matplotlib.figure.Figure at 0x7f661f4db080>"
      ]
     },
     "metadata": {},
     "output_type": "display_data"
    },
    {
     "name": "stdout",
     "output_type": "stream",
     "text": [
      "Best ['C'] = {'C': 800} with score : 0.674675\n",
      "Execution time : 3467.376880645752 seconds\n"
     ]
    },
    {
     "data": {
      "text/plain": [
       "GridSearchCV(cv=5, error_score='raise',\n",
       "       estimator=SVC(C=1.0, cache_size=200, class_weight=None, coef0=0.0,\n",
       "  decision_function_shape=None, degree=3, gamma='auto', kernel='rbf',\n",
       "  max_iter=-1, probability=False, random_state=None, shrinking=True,\n",
       "  tol=0.001, verbose=False),\n",
       "       fit_params={}, iid=True, n_jobs=-1,\n",
       "       param_grid={'C': array([400, 500, 600, 700, 800, 900])},\n",
       "       pre_dispatch='2*n_jobs', refit=True, return_train_score=True,\n",
       "       scoring='accuracy', verbose=2)"
      ]
     },
     "execution_count": 40,
     "metadata": {},
     "output_type": "execute_result"
    }
   ],
   "source": [
    "parameter_search(SVC(),\n",
    "                {'C':np.arange(400,1000,100)},\n",
    "                X_train,\n",
    "                y_train,save_file='output_figs/svm_more_accurate.png')"
   ]
  },
  {
   "cell_type": "markdown",
   "metadata": {},
   "source": [
    "50000 samples Best ['C'] = {'C': 800} with score : 0.674675\n",
    "Execution time : 3467.376880645752 seconds"
   ]
  },
  {
   "cell_type": "markdown",
   "metadata": {},
   "source": [
    "#### Logistic classifier"
   ]
  },
  {
   "cell_type": "code",
   "execution_count": 176,
   "metadata": {
    "collapsed": false,
    "scrolled": true
   },
   "outputs": [
    {
     "name": "stdout",
     "output_type": "stream",
     "text": [
      "Fitting 5 folds for each of 20 candidates, totalling 100 fits\n",
      "[CV] C=1e-05 .........................................................\n",
      "[CV] C=1e-05 .........................................................\n",
      "[CV] C=1e-05 .........................................................\n",
      "[CV] C=1e-05 .........................................................\n",
      "[CV] C=1e-05 .........................................................\n",
      "[CV] C=3.35981828628e-05 .............................................\n",
      "[CV] C=3.35981828628e-05 .............................................\n",
      "[CV] C=3.35981828628e-05 .............................................\n",
      "[CV] .......................................... C=1e-05, total=  37.2s\n",
      "[CV] C=3.35981828628e-05 .............................................\n",
      "[CV] .......................................... C=1e-05, total=  39.3s\n",
      "[CV] C=3.35981828628e-05 .............................................\n",
      "[CV] .......................................... C=1e-05, total=  41.9s\n",
      "[CV] C=0.000112883789168 .............................................\n",
      "[CV] .......................................... C=1e-05, total=  41.1s\n",
      "[CV] C=0.000112883789168 .............................................\n",
      "[CV] .......................................... C=1e-05, total=  42.5s\n",
      "[CV] C=0.000112883789168 .............................................\n",
      "[CV] .............................. C=3.35981828628e-05, total=  43.9s\n",
      "[CV] C=0.000112883789168 .............................................\n",
      "[CV] .............................. C=3.35981828628e-05, total=  47.2s\n",
      "[CV] C=0.000112883789168 .............................................\n",
      "[CV] .............................. C=3.35981828628e-05, total=  49.5s\n",
      "[CV] C=0.000379269019073 .............................................\n",
      "[CV] .............................. C=3.35981828628e-05, total=  47.0s\n",
      "[CV] C=0.000379269019073 .............................................\n",
      "[CV] .............................. C=3.35981828628e-05, total=  47.9s\n",
      "[CV] C=0.000379269019073 .............................................\n",
      "[CV] .............................. C=0.000112883789168, total=  57.2s\n",
      "[CV] C=0.000379269019073 .............................................\n",
      "[CV] .............................. C=0.000112883789168, total=  59.4s\n",
      "[CV] C=0.000379269019073 .............................................\n",
      "[CV] .............................. C=0.000112883789168, total=  57.5s\n",
      "[CV] C=0.0012742749857 ...............................................\n",
      "[CV] .............................. C=0.000112883789168, total= 1.1min\n",
      "[CV] C=0.0012742749857 ...............................................\n",
      "[CV] .............................. C=0.000112883789168, total=  59.5s\n",
      "[CV] C=0.0012742749857 ...............................................\n",
      "[CV] .............................. C=0.000379269019073, total= 1.2min\n",
      "[CV] C=0.0012742749857 ...............................................\n",
      "[CV] .............................. C=0.000379269019073, total= 1.1min\n",
      "[CV] C=0.0012742749857 ...............................................\n",
      "[CV] .............................. C=0.000379269019073, total= 1.2min\n",
      "[CV] C=0.00428133239872 ..............................................\n",
      "[CV] .............................. C=0.000379269019073, total= 1.1min\n",
      "[CV] C=0.00428133239872 ..............................................\n",
      "[CV] .............................. C=0.000379269019073, total= 1.2min\n",
      "[CV] C=0.00428133239872 ..............................................\n",
      "[CV] ................................ C=0.0012742749857, total= 1.2min\n",
      "[CV] C=0.00428133239872 ..............................................\n",
      "[CV] ................................ C=0.0012742749857, total= 1.3min\n",
      "[CV] C=0.00428133239872 ..............................................\n",
      "[CV] ................................ C=0.0012742749857, total= 1.3min\n",
      "[CV] C=0.0143844988829 ...............................................\n",
      "[CV] ................................ C=0.0012742749857, total= 1.3min\n",
      "[CV] C=0.0143844988829 ...............................................\n",
      "[CV] ................................ C=0.0012742749857, total= 1.3min\n"
     ]
    },
    {
     "name": "stderr",
     "output_type": "stream",
     "text": [
      "[Parallel(n_jobs=-1)]: Done  25 tasks      | elapsed:  4.0min\n"
     ]
    },
    {
     "name": "stdout",
     "output_type": "stream",
     "text": [
      "[CV] C=0.0143844988829 ...............................................\n",
      "[CV] ............................... C=0.00428133239872, total= 1.6min\n",
      "[CV] C=0.0143844988829 ...............................................\n",
      "[CV] ............................... C=0.00428133239872, total= 1.7min\n",
      "[CV] C=0.0143844988829 ...............................................\n",
      "[CV] ............................... C=0.00428133239872, total= 1.5min\n",
      "[CV] C=0.0483293023857 ...............................................\n",
      "[CV] ............................... C=0.00428133239872, total= 1.7min\n",
      "[CV] C=0.0483293023857 ...............................................\n",
      "[CV] ............................... C=0.00428133239872, total= 1.6min\n",
      "[CV] C=0.0483293023857 ...............................................\n",
      "[CV] ................................ C=0.0143844988829, total= 2.1min\n",
      "[CV] C=0.0483293023857 ...............................................\n",
      "[CV] ................................ C=0.0143844988829, total= 2.0min\n",
      "[CV] C=0.0483293023857 ...............................................\n",
      "[CV] ................................ C=0.0143844988829, total= 2.0min\n",
      "[CV] C=0.162377673919 ................................................\n",
      "[CV] ................................ C=0.0143844988829, total= 1.9min\n",
      "[CV] C=0.162377673919 ................................................\n",
      "[CV] ................................ C=0.0143844988829, total= 2.1min\n",
      "[CV] C=0.162377673919 ................................................\n",
      "[CV] ................................ C=0.0483293023857, total= 2.4min\n",
      "[CV] C=0.162377673919 ................................................\n",
      "[CV] ................................ C=0.0483293023857, total= 2.4min\n",
      "[CV] C=0.162377673919 ................................................\n",
      "[CV] ................................ C=0.0483293023857, total= 2.5min\n",
      "[CV] C=0.545559478117 ................................................\n",
      "[CV] ................................ C=0.0483293023857, total= 2.6min\n",
      "[CV] C=0.545559478117 ................................................\n",
      "[CV] ................................ C=0.0483293023857, total= 2.7min\n",
      "[CV] C=0.545559478117 ................................................\n",
      "[CV] ................................. C=0.162377673919, total= 3.3min\n",
      "[CV] C=0.545559478117 ................................................\n",
      "[CV] ................................. C=0.162377673919, total= 3.2min\n",
      "[CV] C=0.545559478117 ................................................\n",
      "[CV] ................................. C=0.162377673919, total= 2.9min\n",
      "[CV] C=1.83298071083 .................................................\n",
      "[CV] ................................. C=0.162377673919, total= 3.3min\n",
      "[CV] C=1.83298071083 .................................................\n",
      "[CV] ................................. C=0.162377673919, total= 3.2min\n",
      "[CV] C=1.83298071083 .................................................\n",
      "[CV] ................................. C=0.545559478117, total= 4.4min\n",
      "[CV] C=1.83298071083 .................................................\n",
      "[CV] ................................. C=0.545559478117, total= 4.5min\n",
      "[CV] C=1.83298071083 .................................................\n",
      "[CV] ................................. C=0.545559478117, total= 4.8min\n",
      "[CV] C=6.15848211066 .................................................\n",
      "[CV] ................................. C=0.545559478117, total= 4.3min\n",
      "[CV] C=6.15848211066 .................................................\n",
      "[CV] ................................. C=0.545559478117, total= 4.3min\n",
      "[CV] C=6.15848211066 .................................................\n",
      "[CV] .................................. C=1.83298071083, total= 5.4min\n",
      "[CV] C=6.15848211066 .................................................\n",
      "[CV] .................................. C=1.83298071083, total= 6.3min\n",
      "[CV] C=6.15848211066 .................................................\n",
      "[CV] .................................. C=1.83298071083, total= 5.9min\n",
      "[CV] C=20.6913808111 .................................................\n",
      "[CV] .................................. C=1.83298071083, total= 6.0min\n",
      "[CV] C=20.6913808111 .................................................\n",
      "[CV] .................................. C=1.83298071083, total= 6.1min\n",
      "[CV] C=20.6913808111 .................................................\n",
      "[CV] .................................. C=6.15848211066, total= 8.7min\n",
      "[CV] C=20.6913808111 .................................................\n",
      "[CV] .................................. C=6.15848211066, total= 9.7min\n",
      "[CV] C=20.6913808111 .................................................\n",
      "[CV] .................................. C=6.15848211066, total= 8.9min\n",
      "[CV] C=69.5192796178 .................................................\n",
      "[CV] .................................. C=6.15848211066, total= 8.0min\n",
      "[CV] C=69.5192796178 .................................................\n",
      "[CV] .................................. C=6.15848211066, total= 9.4min\n",
      "[CV] C=69.5192796178 .................................................\n",
      "[CV] .................................. C=20.6913808111, total=13.1min\n",
      "[CV] C=69.5192796178 .................................................\n",
      "[CV] .................................. C=20.6913808111, total=12.7min\n",
      "[CV] C=69.5192796178 .................................................\n",
      "[CV] .................................. C=20.6913808111, total=13.5min\n",
      "[CV] C=233.572146909 .................................................\n",
      "[CV] .................................. C=20.6913808111, total=13.3min\n",
      "[CV] C=233.572146909 .................................................\n",
      "[CV] .................................. C=20.6913808111, total=14.6min\n",
      "[CV] C=233.572146909 .................................................\n",
      "[CV] .................................. C=69.5192796178, total=15.9min\n",
      "[CV] C=233.572146909 .................................................\n",
      "[CV] .................................. C=69.5192796178, total=18.3min\n",
      "[CV] C=233.572146909 .................................................\n",
      "[CV] .................................. C=69.5192796178, total=18.2min\n",
      "[CV] C=784.759970351 .................................................\n",
      "[CV] .................................. C=69.5192796178, total=18.0min\n",
      "[CV] C=784.759970351 .................................................\n",
      "[CV] .................................. C=69.5192796178, total=18.5min\n",
      "[CV] C=784.759970351 .................................................\n",
      "[CV] .................................. C=233.572146909, total=22.3min\n",
      "[CV] C=784.759970351 .................................................\n",
      "[CV] .................................. C=233.572146909, total=18.5min\n",
      "[CV] C=784.759970351 .................................................\n",
      "[CV] .................................. C=233.572146909, total=22.8min\n",
      "[CV] C=2636.65089873 .................................................\n",
      "[CV] .................................. C=233.572146909, total=24.5min\n",
      "[CV] C=2636.65089873 .................................................\n",
      "[CV] .................................. C=233.572146909, total=22.4min\n",
      "[CV] C=2636.65089873 .................................................\n",
      "[CV] .................................. C=784.759970351, total=28.9min\n",
      "[CV] C=2636.65089873 .................................................\n",
      "[CV] .................................. C=784.759970351, total=26.7min\n",
      "[CV] C=2636.65089873 .................................................\n",
      "[CV] .................................. C=784.759970351, total=28.1min\n",
      "[CV] C=8858.6679041 ..................................................\n",
      "[CV] .................................. C=784.759970351, total=26.8min\n",
      "[CV] C=8858.6679041 ..................................................\n",
      "[CV] .................................. C=784.759970351, total=25.8min\n",
      "[CV] C=8858.6679041 ..................................................\n",
      "[CV] .................................. C=2636.65089873, total=33.6min\n",
      "[CV] C=8858.6679041 ..................................................\n",
      "[CV] .................................. C=2636.65089873, total=33.1min\n",
      "[CV] C=8858.6679041 ..................................................\n",
      "[CV] .................................. C=2636.65089873, total=31.8min\n",
      "[CV] C=29763.5144163 .................................................\n",
      "[CV] .................................. C=2636.65089873, total=31.0min\n",
      "[CV] C=29763.5144163 .................................................\n",
      "[CV] .................................. C=2636.65089873, total=31.6min\n",
      "[CV] C=29763.5144163 .................................................\n",
      "[CV] ................................... C=8858.6679041, total=36.4min\n",
      "[CV] C=29763.5144163 .................................................\n",
      "[CV] ................................... C=8858.6679041, total=32.9min\n",
      "[CV] C=29763.5144163 .................................................\n",
      "[CV] ................................... C=8858.6679041, total=34.2min\n",
      "[CV] C=100000.0 ......................................................\n",
      "[CV] ................................... C=8858.6679041, total=32.3min\n",
      "[CV] C=100000.0 ......................................................\n",
      "[CV] ................................... C=8858.6679041, total=37.4min\n",
      "[CV] C=100000.0 ......................................................\n",
      "[CV] .................................. C=29763.5144163, total=37.3min\n",
      "[CV] C=100000.0 ......................................................\n",
      "[CV] .................................. C=29763.5144163, total=36.6min\n",
      "[CV] C=100000.0 ......................................................\n",
      "[CV] .................................. C=29763.5144163, total=37.3min\n",
      "[CV] .................................. C=29763.5144163, total=35.1min\n",
      "[CV] .................................. C=29763.5144163, total=35.5min\n",
      "[CV] ....................................... C=100000.0, total=32.4min\n",
      "[CV] ....................................... C=100000.0, total=29.9min\n",
      "[CV] ....................................... C=100000.0, total=25.5min\n",
      "[CV] ....................................... C=100000.0, total=27.0min\n",
      "[CV] ....................................... C=100000.0, total=19.8min\n"
     ]
    },
    {
     "name": "stderr",
     "output_type": "stream",
     "text": [
      "[Parallel(n_jobs=-1)]: Done 100 out of 100 | elapsed: 160.3min finished\n",
      "/home/adrikiri/project-pace-mourad/adrian/src/plots.py:30: FutureWarning: comparison to `None` will result in an elementwise object comparison in the future.\n",
      "  if train_scores_std != None and val_scores_std != None:\n",
      "/home/adrikiri/anaconda3/lib/python3.6/site-packages/matplotlib/font_manager.py:1297: UserWarning: findfont: Font family ['sans-serif'] not found. Falling back to DejaVu Sans\n",
      "  (prop.get_family(), self.defaultFamily[fontext]))\n"
     ]
    },
    {
     "data": {
      "image/png": "[encoded data removed]",
      "text/plain": [
       "<matplotlib.figure.Figure at 0x7f6619198908>"
      ]
     },
     "metadata": {},
     "output_type": "display_data"
    },
    {
     "name": "stdout",
     "output_type": "stream",
     "text": [
      "Best ['C'] = {'C': 0.54555947811685146} with score : 0.728919270833\n",
      "Execution time : 9703.123768568039 seconds\n"
     ]
    },
    {
     "data": {
      "text/plain": [
       "GridSearchCV(cv=5, error_score='raise',\n",
       "       estimator=LogisticRegression(C=1.0, class_weight=None, dual=False, fit_intercept=True,\n",
       "          intercept_scaling=1, max_iter=100, multi_class='ovr', n_jobs=1,\n",
       "          penalty='l2', random_state=None, solver='liblinear', tol=0.0001,\n",
       "          verbose=0, warm_start=False),\n",
       "       fit_params={}, iid=True, n_jobs=-1,\n",
       "       param_grid={'C': array([  1.00000e-05,   3.35982e-05,   1.12884e-04,   3.79269e-04,\n",
       "         1.27427e-03,   4.28133e-03,   1.43845e-02,   4.83293e-02,\n",
       "         1.62378e-01,   5.45559e-01,   1.83298e+00,   6.15848e+00,\n",
       "         2.06914e+01,   6.95193e+01,   2.33572e+02,   7.84760e+02,\n",
       "         2.63665e+03,   8.85867e+03,   2.97635e+04,   1.00000e+05])},\n",
       "       pre_dispatch='2*n_jobs', refit=True, return_train_score=True,\n",
       "       scoring='accuracy', verbose=2)"
      ]
     },
     "execution_count": 176,
     "metadata": {},
     "output_type": "execute_result"
    }
   ],
   "source": [
    "parameter_search(LogisticRegression(),\n",
    "                {'C':np.logspace(-5,5,20)},\n",
    "                X_train,\n",
    "                y_train, save_file='output_figs/log_reg.png')"
   ]
  },
  {
   "cell_type": "markdown",
   "metadata": {
    "collapsed": true
   },
   "source": [
    "run with 5000 samples got 0.59 accuracy and C= 0.74438"
   ]
  },
  {
   "cell_type": "markdown",
   "metadata": {
    "collapsed": true
   },
   "source": [
    "50000 samples Best ['C'] = {'C': 0.74438030132516808} with score : 0.6947\n",
    "Execution time : 10005.617159843445 seconds"
   ]
  },
  {
   "cell_type": "markdown",
   "metadata": {},
   "source": [
    "all samples, tfidf, scaled Best ['C'] = {'C': 0.54555947811685146} with score : 0.728919270833"
   ]
  },
  {
   "cell_type": "markdown",
   "metadata": {},
   "source": [
    "all samples, tfidf, not scaled same"
   ]
  },
  {
   "cell_type": "markdown",
   "metadata": {
    "collapsed": true
   },
   "source": [
    "We can conclude that the parameter C stays the same ! Let's try more precise"
   ]
  },
  {
   "cell_type": "code",
   "execution_count": 151,
   "metadata": {
    "collapsed": false
   },
   "outputs": [
    {
     "name": "stdout",
     "output_type": "stream",
     "text": [
      "Fitting 5 folds for each of 23 candidates, totalling 115 fits\n",
      "[CV] C=0.05 ..........................................................\n",
      "[CV] C=0.05 ..........................................................\n",
      "[CV] C=0.05 ..........................................................\n",
      "[CV] C=0.05 ..........................................................\n",
      "[CV] C=0.05 ..........................................................\n",
      "[CV] C=0.1 ...........................................................\n",
      "[CV] C=0.1 ...........................................................\n",
      "[CV] C=0.1 ...........................................................\n",
      "[CV] ........................................... C=0.05, total= 2.4min\n",
      "[CV] C=0.1 ...........................................................\n",
      "[CV] ........................................... C=0.05, total= 2.5min\n",
      "[CV] C=0.1 ...........................................................\n",
      "[CV] ........................................... C=0.05, total= 2.6min\n",
      "[CV] C=0.15 ..........................................................\n",
      "[CV] ........................................... C=0.05, total= 2.8min\n",
      "[CV] C=0.15 ..........................................................\n",
      "[CV] ........................................... C=0.05, total= 2.8min\n",
      "[CV] C=0.15 ..........................................................\n",
      "[CV] ............................................ C=0.1, total= 2.9min\n",
      "[CV] C=0.15 ..........................................................\n",
      "[CV] ............................................ C=0.1, total= 3.0min\n",
      "[CV] C=0.15 ..........................................................\n",
      "[CV] ............................................ C=0.1, total= 3.0min\n",
      "[CV] C=0.2 ...........................................................\n",
      "[CV] ............................................ C=0.1, total= 2.7min\n",
      "[CV] C=0.2 ...........................................................\n",
      "[CV] ............................................ C=0.1, total= 2.9min\n",
      "[CV] C=0.2 ...........................................................\n",
      "[CV] ........................................... C=0.15, total= 3.4min\n",
      "[CV] C=0.2 ...........................................................\n",
      "[CV] ........................................... C=0.15, total= 3.3min\n",
      "[CV] C=0.2 ...........................................................\n",
      "[CV] ........................................... C=0.15, total= 3.3min\n",
      "[CV] C=0.25 ..........................................................\n",
      "[CV] ........................................... C=0.15, total= 3.6min\n",
      "[CV] C=0.25 ..........................................................\n",
      "[CV] ............................................ C=0.2, total= 3.4min\n",
      "[CV] C=0.25 ..........................................................\n",
      "[CV] ........................................... C=0.15, total= 3.7min\n",
      "[CV] C=0.25 ..........................................................\n",
      "[CV] ............................................ C=0.2, total= 3.4min\n",
      "[CV] C=0.25 ..........................................................\n",
      "[CV] ............................................ C=0.2, total= 3.4min\n",
      "[CV] C=0.3 ...........................................................\n",
      "[CV] ............................................ C=0.2, total= 3.5min\n",
      "[CV] C=0.3 ...........................................................\n",
      "[CV] ............................................ C=0.2, total= 3.4min\n",
      "[CV] C=0.3 ...........................................................\n",
      "[CV] ........................................... C=0.25, total= 3.7min\n",
      "[CV] C=0.3 ...........................................................\n",
      "[CV] ........................................... C=0.25, total= 3.6min\n",
      "[CV] C=0.3 ...........................................................\n",
      "[CV] ........................................... C=0.25, total= 4.1min\n",
      "[CV] C=0.35 ..........................................................\n",
      "[CV] ........................................... C=0.25, total= 4.1min\n",
      "[CV] C=0.35 ..........................................................\n",
      "[CV] ........................................... C=0.25, total= 3.5min\n"
     ]
    },
    {
     "name": "stderr",
     "output_type": "stream",
     "text": [
      "[Parallel(n_jobs=-1)]: Done  25 tasks      | elapsed: 12.1min\n"
     ]
    },
    {
     "name": "stdout",
     "output_type": "stream",
     "text": [
      "[CV] C=0.35 ..........................................................\n",
      "[CV] ............................................ C=0.3, total= 3.8min\n",
      "[CV] C=0.35 ..........................................................\n",
      "[CV] ............................................ C=0.3, total= 3.8min\n",
      "[CV] C=0.35 ..........................................................\n",
      "[CV] ............................................ C=0.3, total= 4.1min\n",
      "[CV] C=0.4 ...........................................................\n",
      "[CV] ............................................ C=0.3, total= 3.8min\n",
      "[CV] C=0.4 ...........................................................\n",
      "[CV] ............................................ C=0.3, total= 3.7min\n",
      "[CV] C=0.4 ...........................................................\n",
      "[CV] ........................................... C=0.35, total= 4.2min\n",
      "[CV] C=0.4 ...........................................................\n",
      "[CV] ........................................... C=0.35, total= 4.4min\n",
      "[CV] C=0.4 ...........................................................\n",
      "[CV] ........................................... C=0.35, total= 3.9min\n",
      "[CV] C=0.45 ..........................................................\n",
      "[CV] ........................................... C=0.35, total= 3.8min\n",
      "[CV] C=0.45 ..........................................................\n",
      "[CV] ........................................... C=0.35, total= 3.9min\n",
      "[CV] C=0.45 ..........................................................\n",
      "[CV] ............................................ C=0.4, total= 4.1min\n",
      "[CV] C=0.45 ..........................................................\n",
      "[CV] ............................................ C=0.4, total= 4.0min\n",
      "[CV] C=0.45 ..........................................................\n",
      "[CV] ............................................ C=0.4, total= 4.0min\n",
      "[CV] C=0.5 ...........................................................\n",
      "[CV] ............................................ C=0.4, total= 4.2min\n",
      "[CV] C=0.5 ...........................................................\n",
      "[CV] ............................................ C=0.4, total= 4.5min\n",
      "[CV] C=0.5 ...........................................................\n",
      "[CV] ........................................... C=0.45, total= 3.9min\n",
      "[CV] C=0.5 ...........................................................\n",
      "[CV] ........................................... C=0.45, total= 4.0min\n",
      "[CV] C=0.5 ...........................................................\n",
      "[CV] ........................................... C=0.45, total= 4.1min\n",
      "[CV] C=0.55 ..........................................................\n",
      "[CV] ........................................... C=0.45, total= 4.0min\n",
      "[CV] C=0.55 ..........................................................\n",
      "[CV] ........................................... C=0.45, total= 4.1min\n",
      "[CV] C=0.55 ..........................................................\n",
      "[CV] ............................................ C=0.5, total= 4.3min\n",
      "[CV] C=0.55 ..........................................................\n",
      "[CV] ............................................ C=0.5, total= 4.4min\n",
      "[CV] C=0.55 ..........................................................\n",
      "[CV] ............................................ C=0.5, total= 4.1min\n",
      "[CV] C=0.6 ...........................................................\n",
      "[CV] ............................................ C=0.5, total= 4.8min\n",
      "[CV] C=0.6 ...........................................................\n",
      "[CV] ............................................ C=0.5, total= 4.2min\n",
      "[CV] C=0.6 ...........................................................\n",
      "[CV] ........................................... C=0.55, total= 4.3min\n",
      "[CV] C=0.6 ...........................................................\n",
      "[CV] ........................................... C=0.55, total= 4.5min\n",
      "[CV] C=0.6 ...........................................................\n",
      "[CV] ........................................... C=0.55, total= 4.5min\n",
      "[CV] C=0.65 ..........................................................\n",
      "[CV] ........................................... C=0.55, total= 4.3min\n",
      "[CV] C=0.65 ..........................................................\n",
      "[CV] ........................................... C=0.55, total= 4.6min\n",
      "[CV] C=0.65 ..........................................................\n",
      "[CV] ............................................ C=0.6, total= 4.4min\n",
      "[CV] C=0.65 ..........................................................\n",
      "[CV] ............................................ C=0.6, total= 4.5min\n",
      "[CV] C=0.65 ..........................................................\n",
      "[CV] ............................................ C=0.6, total= 5.0min\n",
      "[CV] C=0.7 ...........................................................\n",
      "[CV] ............................................ C=0.6, total= 4.5min\n",
      "[CV] C=0.7 ...........................................................\n",
      "[CV] ............................................ C=0.6, total= 4.5min\n",
      "[CV] C=0.7 ...........................................................\n",
      "[CV] ........................................... C=0.65, total= 4.7min\n",
      "[CV] C=0.7 ...........................................................\n",
      "[CV] ........................................... C=0.65, total= 4.8min\n",
      "[CV] C=0.7 ...........................................................\n",
      "[CV] ........................................... C=0.65, total= 4.4min\n",
      "[CV] C=0.75 ..........................................................\n",
      "[CV] ........................................... C=0.65, total= 4.9min\n",
      "[CV] C=0.75 ..........................................................\n",
      "[CV] ........................................... C=0.65, total= 4.5min\n",
      "[CV] C=0.75 ..........................................................\n",
      "[CV] ............................................ C=0.7, total= 5.3min\n",
      "[CV] C=0.75 ..........................................................\n",
      "[CV] ............................................ C=0.7, total= 4.7min\n",
      "[CV] C=0.75 ..........................................................\n",
      "[CV] ............................................ C=0.7, total= 4.7min\n",
      "[CV] C=0.8 ...........................................................\n",
      "[CV] ............................................ C=0.7, total= 4.6min\n",
      "[CV] C=0.8 ...........................................................\n",
      "[CV] ............................................ C=0.7, total= 4.9min\n",
      "[CV] C=0.8 ...........................................................\n",
      "[CV] ........................................... C=0.75, total= 4.3min\n",
      "[CV] C=0.8 ...........................................................\n",
      "[CV] ........................................... C=0.75, total= 5.0min\n",
      "[CV] C=0.8 ...........................................................\n",
      "[CV] ........................................... C=0.75, total= 4.7min\n",
      "[CV] C=0.85 ..........................................................\n",
      "[CV] ........................................... C=0.75, total= 5.2min\n",
      "[CV] ........................................... C=0.75, total= 4.9min\n",
      "[CV] C=0.85 ..........................................................\n",
      "[CV] C=0.85 ..........................................................\n",
      "[CV] ............................................ C=0.8, total= 4.8min\n",
      "[CV] C=0.85 ..........................................................\n",
      "[CV] ............................................ C=0.8, total= 4.8min\n",
      "[CV] C=0.85 ..........................................................\n",
      "[CV] ............................................ C=0.8, total= 4.9min\n",
      "[CV] C=0.9 ...........................................................\n",
      "[CV] ............................................ C=0.8, total= 4.5min\n",
      "[CV] C=0.9 ...........................................................\n",
      "[CV] ............................................ C=0.8, total= 5.2min\n",
      "[CV] C=0.9 ...........................................................\n",
      "[CV] ........................................... C=0.85, total= 4.7min\n",
      "[CV] C=0.9 ...........................................................\n",
      "[CV] ........................................... C=0.85, total= 4.9min\n",
      "[CV] C=0.9 ...........................................................\n",
      "[CV] ........................................... C=0.85, total= 5.4min\n",
      "[CV] C=0.95 ..........................................................\n",
      "[CV] ........................................... C=0.85, total= 4.8min\n",
      "[CV] C=0.95 ..........................................................\n",
      "[CV] ........................................... C=0.85, total= 4.9min\n",
      "[CV] C=0.95 ..........................................................\n",
      "[CV] ............................................ C=0.9, total= 5.0min\n",
      "[CV] C=0.95 ..........................................................\n",
      "[CV] ............................................ C=0.9, total= 4.6min\n",
      "[CV] C=0.95 ..........................................................\n",
      "[CV] ............................................ C=0.9, total= 4.9min\n",
      "[CV] C=1.0 ...........................................................\n",
      "[CV] ............................................ C=0.9, total= 5.4min\n",
      "[CV] C=1.0 ...........................................................\n",
      "[CV] ............................................ C=0.9, total= 5.0min\n",
      "[CV] C=1.0 ...........................................................\n",
      "[CV] ........................................... C=0.95, total= 5.0min\n",
      "[CV] C=1.0 ...........................................................\n",
      "[CV] ........................................... C=0.95, total= 5.0min\n",
      "[CV] C=1.0 ...........................................................\n",
      "[CV] ........................................... C=0.95, total= 5.6min\n",
      "[CV] C=1.05 ..........................................................\n",
      "[CV] ........................................... C=0.95, total= 4.9min\n",
      "[CV] C=1.05 ..........................................................\n",
      "[CV] ........................................... C=0.95, total= 5.0min\n",
      "[CV] C=1.05 ..........................................................\n",
      "[CV] ............................................ C=1.0, total= 5.1min\n",
      "[CV] C=1.05 ..........................................................\n",
      "[CV] ............................................ C=1.0, total= 5.7min\n",
      "[CV] C=1.05 ..........................................................\n",
      "[CV] ............................................ C=1.0, total= 5.2min\n",
      "[CV] C=1.1 ...........................................................\n",
      "[CV] ............................................ C=1.0, total= 5.2min\n",
      "[CV] C=1.1 ...........................................................\n",
      "[CV] ............................................ C=1.0, total= 5.1min\n",
      "[CV] C=1.1 ...........................................................\n",
      "[CV] ........................................... C=1.05, total= 4.9min\n",
      "[CV] C=1.1 ...........................................................\n",
      "[CV] ........................................... C=1.05, total= 5.6min\n",
      "[CV] C=1.1 ...........................................................\n",
      "[CV] ........................................... C=1.05, total= 5.8min\n",
      "[CV] C=1.15 ..........................................................\n",
      "[CV] ........................................... C=1.05, total= 5.0min\n",
      "[CV] C=1.15 ..........................................................\n",
      "[CV] ........................................... C=1.05, total= 5.7min\n",
      "[CV] C=1.15 ..........................................................\n",
      "[CV] ............................................ C=1.1, total= 5.4min\n",
      "[CV] C=1.15 ..........................................................\n",
      "[CV] ............................................ C=1.1, total= 5.2min\n",
      "[CV] C=1.15 ..........................................................\n",
      "[CV] ............................................ C=1.1, total= 4.9min\n",
      "[CV] ............................................ C=1.1, total= 5.5min\n",
      "[CV] ............................................ C=1.1, total= 5.4min\n",
      "[CV] ........................................... C=1.15, total= 5.5min\n",
      "[CV] ........................................... C=1.15, total= 4.5min\n",
      "[CV] ........................................... C=1.15, total= 3.6min\n",
      "[CV] ........................................... C=1.15, total= 3.2min\n",
      "[CV] ........................................... C=1.15, total= 2.8min\n"
     ]
    },
    {
     "name": "stderr",
     "output_type": "stream",
     "text": [
      "[Parallel(n_jobs=-1)]: Done 115 out of 115 | elapsed: 64.0min finished\n",
      "/home/adrikiri/project-pace-mourad/adrian/src/plots.py:30: FutureWarning: comparison to `None` will result in an elementwise object comparison in the future.\n",
      "  if train_scores_std != None and val_scores_std != None:\n",
      "/home/adrikiri/anaconda3/lib/python3.6/site-packages/matplotlib/font_manager.py:1297: UserWarning: findfont: Font family ['sans-serif'] not found. Falling back to DejaVu Sans\n",
      "  (prop.get_family(), self.defaultFamily[fontext]))\n"
     ]
    },
    {
     "data": {
      "image/png": "[encoded data removed]",
      "text/plain": [
       "<matplotlib.figure.Figure at 0x7f663abaaac8>"
      ]
     },
     "metadata": {},
     "output_type": "display_data"
    },
    {
     "name": "stdout",
     "output_type": "stream",
     "text": [
      "Best ['C'] = {'C': 0.5} with score : 0.729049479167\n",
      "Execution time : 3922.019577741623 seconds\n"
     ]
    },
    {
     "data": {
      "text/plain": [
       "GridSearchCV(cv=5, error_score='raise',\n",
       "       estimator=LogisticRegression(C=1.0, class_weight=None, dual=False, fit_intercept=True,\n",
       "          intercept_scaling=1, max_iter=100, multi_class='ovr', n_jobs=1,\n",
       "          penalty='l2', random_state=None, solver='liblinear', tol=0.0001,\n",
       "          verbose=0, warm_start=False),\n",
       "       fit_params={}, iid=True, n_jobs=-1,\n",
       "       param_grid={'C': array([ 0.05,  0.1 ,  0.15,  0.2 ,  0.25,  0.3 ,  0.35,  0.4 ,  0.45,\n",
       "        0.5 ,  0.55,  0.6 ,  0.65,  0.7 ,  0.75,  0.8 ,  0.85,  0.9 ,\n",
       "        0.95,  1.  ,  1.05,  1.1 ,  1.15])},\n",
       "       pre_dispatch='2*n_jobs', refit=True, return_train_score=True,\n",
       "       scoring='accuracy', verbose=2)"
      ]
     },
     "execution_count": 151,
     "metadata": {},
     "output_type": "execute_result"
    }
   ],
   "source": [
    "parameter_search(LogisticRegression(),\n",
    "                {'C':np.arange(0.05,1.2,0.05)},\n",
    "                X_train,\n",
    "                y_train, save_file='output_figs/log_reg_more accurate.png',n_jobs=-1)"
   ]
  },
  {
   "cell_type": "markdown",
   "metadata": {
    "collapsed": true
   },
   "source": [
    "50000 Samples, more precise range : Best ['C'] = {'C': 0.90000000000000013} with score : 0.6951\n",
    "Execution time : 1714.0209708213806 seconds"
   ]
  },
  {
   "cell_type": "markdown",
   "metadata": {},
   "source": [
    "all samples, tfidf, scaled Best ['C'] = {'C': 0.5} with score : 0.729049479167\n",
    "Execution time : 3922.019577741623 seconds"
   ]
  },
  {
   "cell_type": "markdown",
   "metadata": {
    "collapsed": true
   },
   "source": [
    "Trying prediction on all data"
   ]
  },
  {
   "cell_type": "code",
   "execution_count": 101,
   "metadata": {
    "collapsed": false
   },
   "outputs": [
    {
     "name": "stdout",
     "output_type": "stream",
     "text": [
      "[CV]  ................................................................\n",
      "[CV]  ................................................................\n",
      "[CV]  ................................................................\n",
      "[CV]  ................................................................\n",
      "[CV]  ................................................................\n",
      "[CV] ................................................. , total= 4.0min\n",
      "[CV] ................................................. , total= 4.1min\n"
     ]
    },
    {
     "name": "stderr",
     "output_type": "stream",
     "text": [
      "[Parallel(n_jobs=-1)]: Done   2 out of   5 | elapsed:  4.1min remaining:  6.2min\n"
     ]
    },
    {
     "name": "stdout",
     "output_type": "stream",
     "text": [
      "[CV] ................................................. , total= 4.1min\n",
      "[CV] ................................................. , total= 4.2min\n",
      "[CV] ................................................. , total= 4.2min\n",
      "Mean CV valdiation score: 0.719231482298\n",
      "Execution time : 257.18780183792114 seconds\n"
     ]
    },
    {
     "name": "stderr",
     "output_type": "stream",
     "text": [
      "[Parallel(n_jobs=-1)]: Done   5 out of   5 | elapsed:  4.2min remaining:    0.0s\n",
      "[Parallel(n_jobs=-1)]: Done   5 out of   5 | elapsed:  4.2min finished\n"
     ]
    }
   ],
   "source": [
    "from sklearn.model_selection import cross_val_score\n",
    "\n",
    "\n",
    "start= time.time()\n",
    "log_reg=LogisticRegression(C=0.9)\n",
    "print(\"Mean CV valdiation score:\",np.mean(cross_val_score(\n",
    "    log_reg,X_train,y_train,scoring='accuracy',cv=5,verbose=2,n_jobs=-1)))\n",
    "end=time.time()\n",
    "print(\"Execution time : {} seconds\".format(end-start))\n"
   ]
  },
  {
   "cell_type": "markdown",
   "metadata": {},
   "source": [
    "min_df=15, max_df=0.4,  0.71783822738\n",
    "\n",
    "no min no max 0.719231482298"
   ]
  },
  {
   "cell_type": "code",
   "execution_count": null,
   "metadata": {
    "collapsed": true
   },
   "outputs": [],
   "source": [
    "from sklearn.model_selection import cross_val_score\n",
    "\n",
    "\n",
    "start= time.time()\n",
    "svc=SVC(C=800)\n",
    "print(\"Mean CV valdiation score:\",np.mean(cross_val_score(\n",
    "    svc,X_train,y_train,scoring='accuracy',cv=5,verbose=2,n_jobs=-1)))\n",
    "end=time.time()\n",
    "print(\"Execution time : {} seconds\".format(end-start))\n"
   ]
  },
  {
   "cell_type": "markdown",
   "metadata": {
    "collapsed": true
   },
   "source": [
    "write down the accuracy then try decreasing df_min and max !!"
   ]
  },
  {
   "cell_type": "code",
   "execution_count": null,
   "metadata": {
    "collapsed": true
   },
   "outputs": [],
   "source": []
  },
  {
   "cell_type": "code",
   "execution_count": null,
   "metadata": {
    "collapsed": true
   },
   "outputs": [],
   "source": []
  },
  {
   "cell_type": "code",
   "execution_count": null,
   "metadata": {
    "collapsed": true
   },
   "outputs": [],
   "source": []
  }
 ],
 "metadata": {
  "kernelspec": {
   "display_name": "Python 3",
   "language": "python",
   "name": "python3"
  },
  "language_info": {
   "codemirror_mode": {
    "name": "ipython",
    "version": 3
   },
   "file_extension": ".py",
   "mimetype": "text/x-python",
   "name": "python",
   "nbconvert_exporter": "python",
   "pygments_lexer": "ipython3",
   "version": "3.6.0"
  }
 },
 "nbformat": 4,
 "nbformat_minor": 2
}
