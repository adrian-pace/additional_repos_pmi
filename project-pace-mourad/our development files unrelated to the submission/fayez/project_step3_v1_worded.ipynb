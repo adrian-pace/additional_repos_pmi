{
 "cells": [
  {
   "cell_type": "code",
   "execution_count": 1,
   "metadata": {
    "collapsed": false
   },
   "outputs": [],
   "source": [
    "from gensim import corpora, models\n",
    "from sklearn.model_selection import train_test_split\n",
    "from sklearn import preprocessing\n",
    "from sklearn.feature_extraction.text import CountVectorizer, TfidfTransformer\n",
    "from nltk.stem.snowball import EnglishStemmer\n",
    "from sklearn.neighbors import KNeighborsClassifier\n",
    "from sklearn.tree import DecisionTreeClassifier\n",
    "from sklearn.metrics.pairwise import cosine_similarity\n",
    "from sklearn.metrics import accuracy_score\n",
    "from sklearn.linear_model import LogisticRegression\n",
    "\n",
    "from src.preprocessing import *\n",
    "from src.feature_reduction import *\n",
    "from src.classifiers import *\n",
    "from src.plots import *\n",
    "from src.CV import *\n",
    "\n",
    "import time\n",
    "from sklearn.svm import SVC\n",
    "import pandas as pd\n",
    "import matplotlib as mpl\n",
    "import sklearn as sk\n",
    "import numpy as np\n",
    "import matplotlib.pyplot as plt\n",
    "import sklearn.preprocessing as prepro\n",
    "%load_ext autoreload\n",
    "%autoreload 2\n",
    "%matplotlib inline\n"
   ]
  },
  {
   "cell_type": "code",
   "execution_count": 2,
   "metadata": {
    "collapsed": true
   },
   "outputs": [],
   "source": [
    "random_state=0"
   ]
  },
  {
   "cell_type": "markdown",
   "metadata": {},
   "source": [
    "# Step 2"
   ]
  },
  {
   "cell_type": "markdown",
   "metadata": {},
   "source": [
    "## Data loading"
   ]
  },
  {
   "cell_type": "code",
   "execution_count": 3,
   "metadata": {
    "collapsed": true
   },
   "outputs": [],
   "source": [
    "pd.set_option('display.max_colwidth',-1)\n",
    "df = pd.read_json(path_or_buf='amazon_step23.json',orient='records',lines=True)"
   ]
  },
  {
   "cell_type": "code",
   "execution_count": 4,
   "metadata": {
    "collapsed": false
   },
   "outputs": [
    {
     "data": {
      "text/plain": [
       "(64706, 9)"
      ]
     },
     "execution_count": 4,
     "metadata": {},
     "output_type": "execute_result"
    }
   ],
   "source": [
    "df.shape"
   ]
  },
  {
   "cell_type": "code",
   "execution_count": 5,
   "metadata": {
    "collapsed": false
   },
   "outputs": [
    {
     "data": {
      "text/html": [
       "<div>\n",
       "<table border=\"1\" class=\"dataframe\">\n",
       "  <thead>\n",
       "    <tr style=\"text-align: right;\">\n",
       "      <th></th>\n",
       "      <th>asin</th>\n",
       "      <th>helpful</th>\n",
       "      <th>overall</th>\n",
       "      <th>reviewText</th>\n",
       "      <th>reviewTime</th>\n",
       "      <th>reviewerID</th>\n",
       "      <th>reviewerName</th>\n",
       "      <th>summary</th>\n",
       "      <th>unixReviewTime</th>\n",
       "    </tr>\n",
       "  </thead>\n",
       "  <tbody>\n",
       "    <tr>\n",
       "      <th>18091</th>\n",
       "      <td>B000002NBY</td>\n",
       "      <td>[0, 0]</td>\n",
       "      <td>5</td>\n",
       "      <td>I have given other albums five stars, but \"Graceland,\" quite simply, exceeds all rating. After becoming slightly less visible during the late '70s, Paul Simon reappeared in full force with this miraculous, powerful, and timeless album. What is so distinctive about \"Graceland\" is that it shows a masterful collaboration between Simon and various South African musicians, specifically the outstanding group Ladysmith Black Mambazo. The beauty of this album is that it is NOT an imitation or an exploitation of African musicians, but rather an honest sharing of cultures, a partnership that everyone benefited from. It is a global celebration of the richness of outstanding South African musical expression (Ladysmith B. M. RULES! I JUST SAW THEM IN CONCERT AND--WOW WOW WOW!) in partnership with one of our greatest American musicians.This album is real. It is at once raw and refined, traditional and modern. Rather than emphasizing the suffering and rage of the black South African people at the time (which perhaps Simon could not have and was not in the place to convey authentically) it becomes an exuberant celebration of their rich and vivacious musical culture. Everyone benefits from \"Graceland\" and the ethno-musical boundaries that it has opened and exposed. For me, this album marks a turning point in Paul Simon's career, a point at which he broke out of the folk-rock that society expected and blossomed to a whole new level of intense and brilliant musicality.What's actually on the album? I planned on keeping this review concise, but I fear that goal has gone out the window. It is impossible to write about the \"highlights from 'Graceland,'\" because all of the songs on here are fantastic and distinctive. \"The Boy in the Bubble\" is dark and forceful, with fascinating lyrics and a strong tune. It immediately illustrates the perfect blending of American and South African musical styles-take some time to really listen to all the elements of this song. \"Graceland\" is equally moving, but with a somewhat lighter feel. All of the songs are truly impossible to describe in words with any justice, and so I will simply say that Graceland is totally unique. It is touching and catchy and sad and joyous and exciting and tired and funny. \"I Know What I Know\" is possibly my favorite song on the album. It sounds very South African, but also very universally vivacious. The words are simple but meaningful, and it is Simon's unassuming but powerful vocals and the amazing background vocals that truly complete the song.\"Gumboots\" is another fun yet serious song that moves wonderfully, and \"Diamonds on the Soles of Her Shoes\" is similarly vivacious yet as wonderfully distinct as any song on this album. (I would love to describe them in greater detail, but that could get dangerously long, and besides, listening is the only way to do justice to the songs.) \"Call Me Al\" is a song I have come to adore in so many different respects-like most of the songs on this album it sounds lighthearted enough, but is also meaningful and musically outstanding. I just love how the words sound on this song. \"Under African Skies\" is a beautiful and versatile duet, with a strong and exhilarating chorus.\"Homeless\" is the most striking example of Ladysmith's essential contribution to this album, an inspiring and distinctive blending of voices. It is a beautiful example of the partnership of \"Graceland\"-Simon is not in any way copying South African music, but is rather becoming a part of it, working alongside Ladysmith to create authentic masterpieces. \"That Was Your Mother\" has a Cajun element to it that is remarkably complimentary to the South African elements, and so it feels right on the album. It is upbeat and fun, but interesting at the same time. Perhaps it seems a leap from the clear South African influences on the rest of the album, but Simon pulls it off. \"Crazy Love\" and \"All Around the World\" feel similar to me, both have a strong background and alternating lively choruses and (slightly) more pensive verses. Again, they are simply great songs, blending American music and that of South Africa.Clearly, I love this album. It's truly inspired, and inspiring, full of sheer human energy and an amazingly unique yet authentic blend of cultures and music. There is no low-point, no song that you would skip over-each one is fascinatingly different and exiting yet they form an extremely unified album. \"Graceland\" is a timeless album, a true highlight in global music. Who'd have though that my favorite album of all time would be from the '80s?! Words cannot describe the innovation and musical and cultural insight in this album-you've got to experience it for yourself.</td>\n",
       "      <td>08 3, 2002</td>\n",
       "      <td>A2VBI34EIGLG9C</td>\n",
       "      <td>Emily</td>\n",
       "      <td>Amazing Album--TRUELY Merits 5 Stars</td>\n",
       "      <td>1028332800</td>\n",
       "    </tr>\n",
       "    <tr>\n",
       "      <th>47316</th>\n",
       "      <td>B0002ZDW80</td>\n",
       "      <td>[3, 3]</td>\n",
       "      <td>4</td>\n",
       "      <td>This is the bottom line: If you like New-Wave/Electronic music of the early eighties and you had no idea who A Flock Of Seagulls were or had no way of associating them with the way they looked or their MTV status, then you would like this album. A very undderrated band for sure, this album is awesome especially for (It's Not Me) Talking, Wishing, Nightmares, and The Traveller. I'll admit the bonus B-Sides arent the greatest but the live version of I Ran is excellent and the orginal album holds up very well. I dont think its my absolute favorite but it ties with their first album( DNA and Messages are two of my favs). The guitar and keyboard sound so good together it really creates a timeless feel, even for a New Wave band. This album speaks for itsself(and its era). Do as the album title implies...good cd. Nuff said</td>\n",
       "      <td>11 1, 2004</td>\n",
       "      <td>A9IZ4H60VZMMT</td>\n",
       "      <td>Herbert West</td>\n",
       "      <td>Still cool to listen to</td>\n",
       "      <td>1099267200</td>\n",
       "    </tr>\n",
       "    <tr>\n",
       "      <th>44199</th>\n",
       "      <td>B0000DD79B</td>\n",
       "      <td>[2, 87]</td>\n",
       "      <td>1</td>\n",
       "      <td>Great, just what we need.  A 2-album disc set that features the overrated, introspective music of two of the most annoying hippies alive.  Didn't these guys break up because one was jealous that the other guy had hair?  In any case, I've heard almost all these songs and they're about as boring as all get-out.  The only tune worth anything is &amp;quot;Bridge Over Troubled Water,&amp;quot; and even that got overplayed to death by commercial radio.I'm telling you, if you want to discover true hippie music, check out Neil Young, Bob Dylan, Grateful Dead or Bon Jovi.  At least all those hippies managed to rock out at times!!  These guys just strum their acoustic guitars like stoned losers - which they are!!What can I say?  If you're a hippie, run, don't walk, to discover these &amp;quot;masterful&amp;quot; songs.  Hey, you might &amp;quot;dig&amp;quot; it, man.  Otherwise, steer far clear from this travesty on wheels.By the way, is Halen coming back with Roth this December?  That's the rumor, I'm told.LaTeR!!!!!!!!!!!!!!!!!!</td>\n",
       "      <td>10 30, 2003</td>\n",
       "      <td>A1NVEW628JUS2Y</td>\n",
       "      <td>Da Peace Dogg</td>\n",
       "      <td>Hippies are gonna love this one</td>\n",
       "      <td>1067472000</td>\n",
       "    </tr>\n",
       "    <tr>\n",
       "      <th>44398</th>\n",
       "      <td>B0000DFZZA</td>\n",
       "      <td>[9, 9]</td>\n",
       "      <td>4</td>\n",
       "      <td>Upon hearing ''I'm Like A Bird'' for the very first time, I instantly took a dislike for it. Her voice and the simplistic lyrics pulled me off the song. I completely dismissed her as a MTV darling and never purchase her debut album. The other single releases from ''Whoa Nelly'' did peak my curiosity though Nelly Furtado didn't manage to keep my attention. However a gem named ''Powerless (Say What You Want) did the trick and evidently I gave in and purchased ''Folklore''.Given the massive success of ''Whoa, Nelly'', there must have been a huge pressure on Furtado's shoulders to deliver the goods. Whereas ''Whoa, Nelly'' did extremely well, ''Folklore'' seems to be a slow-burner reaching No. 38 in the US and No. 62 in the UK. Massive sales don't always equal better or quality, so despite ''Folklore'' not selling millions, it is still one of the better releases of 2003 in my opinion.The album-starter ''One Trick Pony'' is a perfect platform to open ''Folklore'' with. Nelly Furtado declares she is determinate to be a force to be reckon with. The tune starts off with dream-like music and evolve into an anthem celebrating indecency and individuality. Perhaps it might see the light of day as a single release, it's definitely worthy of one. The lead single ''Powerless (Say What You Want) reached no. 13 in the UK and it's most likely one of Nelly Furtado's best releases to date. Perhaps the use of instruments rarely heard in ''pop music'' captured my attention. It sounded completely different than most of the music playing on radio and still does. ''Explore'' is one of the most upbeat tracks on ''Folklore'', however its lyrics and rock-inspired music holds the attention of the listener. ''Try'' is easily one of my favourite tunes off ''Folklore'' and I'm hoping it will be given a single release. Nelly Furtado's voice sounds extremely good in the chorus, which showcases her grown as a vocalist as well. Gone for the most parts are her nasal-sounding voice from her debut single releases, however ''Fresh Off The Boat'' sees Nelly Furtado using  it once more. ''Forca'' is a mixture of handclasps, banjo and different noises through-out the entire ordeal and the chorus is so enjoyable, you can't help singing along. The sway-like and seductive ''Grass Is Green'' is one of my favourite off ''Folklore''. ''Picture Perfect'' displays one of Nelly's best vocal performance on the record. Her voice goes up and down through-out the song. ''Saturday'' is a short introduction to her past. The opening of the song works quite well, however it bounders on annoyance towards the end of the song as a guy keeps repeating her words in a very high-pitched voice and suddenly Nelly Furtado bursts out laughing. The Sade-esque ''Build You Up'' is easily one of the best offering on the album. ''Island Of Wonder'' is an erotic gem, which features Caetano Veloso as a guest vocalist. It's soft and dream-like sound takes you on a journey of love, infatuation and lust. The closer of the album belongs to ''Childhood Dreams'', which could be classify as a lullaby of some sort. It's a tad long for my liking though I still seem to enjoy it anyhow.So what is it that makes ''Folklore'' a rewarding listen? For once the use of ''un-tradional'' instruments such as banjos, various noises etc. really makes the album far more interesting. The production of the album is truly marvellous. ''Folklore'' is filled with fresh and well-crafted tunes and there are hardly any fillers to skip, it's enjoyable from start to finish. Sure ''Folklore'' doesn't have a stand-out song like ''I'm like A Bird'', which I didn't care for anyway. Some might argue that there isn't enough single material on the album, however as a whole ''Folklore'' is a very cohesive release. The record lures you in within a couple of listens and you are hooked. I regard ''Folklore'' as one of my favourite releases of 2003.Overall Rate: 8.5/10</td>\n",
       "      <td>03 21, 2004</td>\n",
       "      <td>A1SJ1GPWF60GU0</td>\n",
       "      <td>MJ \"MJ\"</td>\n",
       "      <td>No One Trick Pony In My Book</td>\n",
       "      <td>1079827200</td>\n",
       "    </tr>\n",
       "    <tr>\n",
       "      <th>18616</th>\n",
       "      <td>B000002O6A</td>\n",
       "      <td>[0, 2]</td>\n",
       "      <td>4</td>\n",
       "      <td>I have known about \"Lizard\" since its release but am only now adding it to the collection.  It's not Buffett's best (not that I want to settle that score--too many greats), but I was pleasantly pleased.  \"Lunch,\"\"That's My Story,\" \"Take Another Road,\" \"Pascagoula Run,\" and \"Carnival World\" really make this disc worth a listen.  A few other tracks are okay (e.g., \"Changing Channels\").  Much of the album seems to have been unjustly overlooked by radio in the late eighties.  Few artists deliver song for song like Buffett.</td>\n",
       "      <td>08 23, 2007</td>\n",
       "      <td>A21VBTSS7MSSMO</td>\n",
       "      <td>John Marshall Lancaster \"Buffett fan\"</td>\n",
       "      <td>Good Disc</td>\n",
       "      <td>1187827200</td>\n",
       "    </tr>\n",
       "  </tbody>\n",
       "</table>\n",
       "</div>"
      ],
      "text/plain": [
       "             asin  helpful  overall  \\\n",
       "18091  B000002NBY  [0, 0]   5         \n",
       "47316  B0002ZDW80  [3, 3]   4         \n",
       "44199  B0000DD79B  [2, 87]  1         \n",
       "44398  B0000DFZZA  [9, 9]   4         \n",
       "18616  B000002O6A  [0, 2]   4         \n",
       "\n",
       "                                                                                                                                                                                                                                                                                                                                                                                                                                                                                                                                                                                                                                                                                                                                                                                                                                                                                                                                                                                                                                                                                                                                                                                                                                                                                                                                                                                                                                                                                                                                                                                                                                                                                                                                                                                                                                                                                                                                                                                                                                                                                                                                                                                                                                                                                                                                                                                                                                                                                                                                                                                                                                                                                                                                                                                                                                                                                                                                                                                                                                                                                                                                                                                                                                                                                                                                                                                                                                                                                                                                                                                                                                                                                                                                                                                                                                                                                                                                                                                                                                                                                                                                                                                                                                                                                                                                                                                                                                                                                                                                                                                                                                                                                                                                                                                                                                                                                    reviewText  \\\n",
       "18091  I have given other albums five stars, but \"Graceland,\" quite simply, exceeds all rating. After becoming slightly less visible during the late '70s, Paul Simon reappeared in full force with this miraculous, powerful, and timeless album. What is so distinctive about \"Graceland\" is that it shows a masterful collaboration between Simon and various South African musicians, specifically the outstanding group Ladysmith Black Mambazo. The beauty of this album is that it is NOT an imitation or an exploitation of African musicians, but rather an honest sharing of cultures, a partnership that everyone benefited from. It is a global celebration of the richness of outstanding South African musical expression (Ladysmith B. M. RULES! I JUST SAW THEM IN CONCERT AND--WOW WOW WOW!) in partnership with one of our greatest American musicians.This album is real. It is at once raw and refined, traditional and modern. Rather than emphasizing the suffering and rage of the black South African people at the time (which perhaps Simon could not have and was not in the place to convey authentically) it becomes an exuberant celebration of their rich and vivacious musical culture. Everyone benefits from \"Graceland\" and the ethno-musical boundaries that it has opened and exposed. For me, this album marks a turning point in Paul Simon's career, a point at which he broke out of the folk-rock that society expected and blossomed to a whole new level of intense and brilliant musicality.What's actually on the album? I planned on keeping this review concise, but I fear that goal has gone out the window. It is impossible to write about the \"highlights from 'Graceland,'\" because all of the songs on here are fantastic and distinctive. \"The Boy in the Bubble\" is dark and forceful, with fascinating lyrics and a strong tune. It immediately illustrates the perfect blending of American and South African musical styles-take some time to really listen to all the elements of this song. \"Graceland\" is equally moving, but with a somewhat lighter feel. All of the songs are truly impossible to describe in words with any justice, and so I will simply say that Graceland is totally unique. It is touching and catchy and sad and joyous and exciting and tired and funny. \"I Know What I Know\" is possibly my favorite song on the album. It sounds very South African, but also very universally vivacious. The words are simple but meaningful, and it is Simon's unassuming but powerful vocals and the amazing background vocals that truly complete the song.\"Gumboots\" is another fun yet serious song that moves wonderfully, and \"Diamonds on the Soles of Her Shoes\" is similarly vivacious yet as wonderfully distinct as any song on this album. (I would love to describe them in greater detail, but that could get dangerously long, and besides, listening is the only way to do justice to the songs.) \"Call Me Al\" is a song I have come to adore in so many different respects-like most of the songs on this album it sounds lighthearted enough, but is also meaningful and musically outstanding. I just love how the words sound on this song. \"Under African Skies\" is a beautiful and versatile duet, with a strong and exhilarating chorus.\"Homeless\" is the most striking example of Ladysmith's essential contribution to this album, an inspiring and distinctive blending of voices. It is a beautiful example of the partnership of \"Graceland\"-Simon is not in any way copying South African music, but is rather becoming a part of it, working alongside Ladysmith to create authentic masterpieces. \"That Was Your Mother\" has a Cajun element to it that is remarkably complimentary to the South African elements, and so it feels right on the album. It is upbeat and fun, but interesting at the same time. Perhaps it seems a leap from the clear South African influences on the rest of the album, but Simon pulls it off. \"Crazy Love\" and \"All Around the World\" feel similar to me, both have a strong background and alternating lively choruses and (slightly) more pensive verses. Again, they are simply great songs, blending American music and that of South Africa.Clearly, I love this album. It's truly inspired, and inspiring, full of sheer human energy and an amazingly unique yet authentic blend of cultures and music. There is no low-point, no song that you would skip over-each one is fascinatingly different and exiting yet they form an extremely unified album. \"Graceland\" is a timeless album, a true highlight in global music. Who'd have though that my favorite album of all time would be from the '80s?! Words cannot describe the innovation and musical and cultural insight in this album-you've got to experience it for yourself.   \n",
       "47316  This is the bottom line: If you like New-Wave/Electronic music of the early eighties and you had no idea who A Flock Of Seagulls were or had no way of associating them with the way they looked or their MTV status, then you would like this album. A very undderrated band for sure, this album is awesome especially for (It's Not Me) Talking, Wishing, Nightmares, and The Traveller. I'll admit the bonus B-Sides arent the greatest but the live version of I Ran is excellent and the orginal album holds up very well. I dont think its my absolute favorite but it ties with their first album( DNA and Messages are two of my favs). The guitar and keyboard sound so good together it really creates a timeless feel, even for a New Wave band. This album speaks for itsself(and its era). Do as the album title implies...good cd. Nuff said                                                                                                                                                                                                                                                                                                                                                                                                                                                                                                                                                                                                                                                                                                                                                                                                                                                                                                                                                                                                                                                                                                                                                                                                                                                                                                                                                                                                                                                                                                                                                                                                                                                                                                                                                                                                                                                                                                                                                                                                                                                                                                                                                                                                                                                                                                                                                                                                                                                                                                                                                                                                                                                                                                                                                                                                                                                                                                                                                                                                                                                                                                                                                                                                                                                                                                                                                                                                                                                                                                                                                                                                                                                                                                                                                                                                                                                                                                                                                                                                                               \n",
       "44199  Great, just what we need.  A 2-album disc set that features the overrated, introspective music of two of the most annoying hippies alive.  Didn't these guys break up because one was jealous that the other guy had hair?  In any case, I've heard almost all these songs and they're about as boring as all get-out.  The only tune worth anything is &quot;Bridge Over Troubled Water,&quot; and even that got overplayed to death by commercial radio.I'm telling you, if you want to discover true hippie music, check out Neil Young, Bob Dylan, Grateful Dead or Bon Jovi.  At least all those hippies managed to rock out at times!!  These guys just strum their acoustic guitars like stoned losers - which they are!!What can I say?  If you're a hippie, run, don't walk, to discover these &quot;masterful&quot; songs.  Hey, you might &quot;dig&quot; it, man.  Otherwise, steer far clear from this travesty on wheels.By the way, is Halen coming back with Roth this December?  That's the rumor, I'm told.LaTeR!!!!!!!!!!!!!!!!!!                                                                                                                                                                                                                                                                                                                                                                                                                                                                                                                                                                                                                                                                                                                                                                                                                                                                                                                                                                                                                                                                                                                                                                                                                                                                                                                                                                                                                                                                                                                                                                                                                                                                                                                                                                                                                                                                                                                                                                                                                                                                                                                                                                                                                                                                                                                                                                                                                                                                                                                                                                                                                                                                                                                                                                                                                                                                                                                                                                                                                                                                                                                                                                                                                                                                                                                                                                                                                                                                                                                                                                                                                                                                                                                                                                                                                                      \n",
       "44398  Upon hearing ''I'm Like A Bird'' for the very first time, I instantly took a dislike for it. Her voice and the simplistic lyrics pulled me off the song. I completely dismissed her as a MTV darling and never purchase her debut album. The other single releases from ''Whoa Nelly'' did peak my curiosity though Nelly Furtado didn't manage to keep my attention. However a gem named ''Powerless (Say What You Want) did the trick and evidently I gave in and purchased ''Folklore''.Given the massive success of ''Whoa, Nelly'', there must have been a huge pressure on Furtado's shoulders to deliver the goods. Whereas ''Whoa, Nelly'' did extremely well, ''Folklore'' seems to be a slow-burner reaching No. 38 in the US and No. 62 in the UK. Massive sales don't always equal better or quality, so despite ''Folklore'' not selling millions, it is still one of the better releases of 2003 in my opinion.The album-starter ''One Trick Pony'' is a perfect platform to open ''Folklore'' with. Nelly Furtado declares she is determinate to be a force to be reckon with. The tune starts off with dream-like music and evolve into an anthem celebrating indecency and individuality. Perhaps it might see the light of day as a single release, it's definitely worthy of one. The lead single ''Powerless (Say What You Want) reached no. 13 in the UK and it's most likely one of Nelly Furtado's best releases to date. Perhaps the use of instruments rarely heard in ''pop music'' captured my attention. It sounded completely different than most of the music playing on radio and still does. ''Explore'' is one of the most upbeat tracks on ''Folklore'', however its lyrics and rock-inspired music holds the attention of the listener. ''Try'' is easily one of my favourite tunes off ''Folklore'' and I'm hoping it will be given a single release. Nelly Furtado's voice sounds extremely good in the chorus, which showcases her grown as a vocalist as well. Gone for the most parts are her nasal-sounding voice from her debut single releases, however ''Fresh Off The Boat'' sees Nelly Furtado using  it once more. ''Forca'' is a mixture of handclasps, banjo and different noises through-out the entire ordeal and the chorus is so enjoyable, you can't help singing along. The sway-like and seductive ''Grass Is Green'' is one of my favourite off ''Folklore''. ''Picture Perfect'' displays one of Nelly's best vocal performance on the record. Her voice goes up and down through-out the song. ''Saturday'' is a short introduction to her past. The opening of the song works quite well, however it bounders on annoyance towards the end of the song as a guy keeps repeating her words in a very high-pitched voice and suddenly Nelly Furtado bursts out laughing. The Sade-esque ''Build You Up'' is easily one of the best offering on the album. ''Island Of Wonder'' is an erotic gem, which features Caetano Veloso as a guest vocalist. It's soft and dream-like sound takes you on a journey of love, infatuation and lust. The closer of the album belongs to ''Childhood Dreams'', which could be classify as a lullaby of some sort. It's a tad long for my liking though I still seem to enjoy it anyhow.So what is it that makes ''Folklore'' a rewarding listen? For once the use of ''un-tradional'' instruments such as banjos, various noises etc. really makes the album far more interesting. The production of the album is truly marvellous. ''Folklore'' is filled with fresh and well-crafted tunes and there are hardly any fillers to skip, it's enjoyable from start to finish. Sure ''Folklore'' doesn't have a stand-out song like ''I'm like A Bird'', which I didn't care for anyway. Some might argue that there isn't enough single material on the album, however as a whole ''Folklore'' is a very cohesive release. The record lures you in within a couple of listens and you are hooked. I regard ''Folklore'' as one of my favourite releases of 2003.Overall Rate: 8.5/10                                                                                                                                                                                                                                                                                                                                                                                                                                                                                                                                                                                                                                                                                                                                                                                                           \n",
       "18616  I have known about \"Lizard\" since its release but am only now adding it to the collection.  It's not Buffett's best (not that I want to settle that score--too many greats), but I was pleasantly pleased.  \"Lunch,\"\"That's My Story,\" \"Take Another Road,\" \"Pascagoula Run,\" and \"Carnival World\" really make this disc worth a listen.  A few other tracks are okay (e.g., \"Changing Channels\").  Much of the album seems to have been unjustly overlooked by radio in the late eighties.  Few artists deliver song for song like Buffett.                                                                                                                                                                                                                                                                                                                                                                                                                                                                                                                                                                                                                                                                                                                                                                                                                                                                                                                                                                                                                                                                                                                                                                                                                                                                                                                                                                                                                                                                                                                                                                                                                                                                                                                                                                                                                                                                                                                                                                                                                                                                                                                                                                                                                                                                                                                                                                                                                                                                                                                                                                                                                                                                                                                                                                                                                                                                                                                                                                                                                                                                                                                                                                                                                                                                                                                                                                                                                                                                                                                                                                                                                                                                                                                                                                                                                                                                                                                                                                                                                                                                                                                                                                                                                                                                                                                                              \n",
       "\n",
       "        reviewTime      reviewerID                           reviewerName  \\\n",
       "18091  08 3, 2002   A2VBI34EIGLG9C  Emily                                   \n",
       "47316  11 1, 2004   A9IZ4H60VZMMT   Herbert West                            \n",
       "44199  10 30, 2003  A1NVEW628JUS2Y  Da Peace Dogg                           \n",
       "44398  03 21, 2004  A1SJ1GPWF60GU0  MJ \"MJ\"                                 \n",
       "18616  08 23, 2007  A21VBTSS7MSSMO  John Marshall Lancaster \"Buffett fan\"   \n",
       "\n",
       "                                    summary  unixReviewTime  \n",
       "18091  Amazing Album--TRUELY Merits 5 Stars  1028332800      \n",
       "47316  Still cool to listen to               1099267200      \n",
       "44199  Hippies are gonna love this one       1067472000      \n",
       "44398  No One Trick Pony In My Book          1079827200      \n",
       "18616  Good Disc                             1187827200      "
      ]
     },
     "execution_count": 5,
     "metadata": {},
     "output_type": "execute_result"
    }
   ],
   "source": [
    "# TODO remove sampling\n",
    "# Sampling to minimze computing cost\n",
    "df = df.sample(5000,random_state=random_state)\n",
    "df.head()"
   ]
  },
  {
   "cell_type": "markdown",
   "metadata": {},
   "source": [
    "## Pre-processing"
   ]
  },
  {
   "cell_type": "code",
   "execution_count": 6,
   "metadata": {
    "collapsed": false
   },
   "outputs": [
    {
     "name": "stdout",
     "output_type": "stream",
     "text": [
      "(2, 2)\n"
     ]
    }
   ],
   "source": [
    "a = np.array([[1, 2], [3, 4]])\n",
    "print (a.shape)"
   ]
  },
  {
   "cell_type": "code",
   "execution_count": 7,
   "metadata": {
    "collapsed": false,
    "scrolled": false
   },
   "outputs": [],
   "source": [
    "# create a corpus class with an iterator that reads one corpus document per line without loading all into memory\n",
    "from gensim import corpora\n",
    "from nltk.stem import WordNetLemmatizer\n",
    "import enchant\n",
    "\n",
    "eng_dic = enchant.Dict(\"en_US\")\n",
    "tester = 1\n",
    "lemmatizer = WordNetLemmatizer()\n",
    "#Changed the stopwords from the list of step1.\n",
    "stopword_file=open('stopwords_list_step2.txt')\n",
    "STOPWORDS=stopword_file.read().split()\n",
    "\n",
    "negativeword_file=open('negative_words.txt')\n",
    "NEGATIVEWORDS=negativeword_file.read().split()\n",
    "\n",
    "positiveword_file=open('positive_words.txt')\n",
    "POSITIVEWORDS=positiveword_file.read().split()\n",
    "\n",
    "negationword_file=open('negation_words.txt')\n",
    "NEGATIONWORDS=negationword_file.read().split()\n",
    "\n",
    "#Merge both reviewText and summary\n",
    "documents = df[['reviewText', 'summary']].apply(lambda x: ''.join(x), axis=1)\n",
    "\n",
    "#print ('original: ',documents[47316], '\\n')"
   ]
  },
  {
   "cell_type": "code",
   "execution_count": 8,
   "metadata": {
    "collapsed": false
   },
   "outputs": [],
   "source": [
    "#Remove special characters\n",
    "documents_no_specials=remove_specials_characters(documents)\n",
    "# remove stop words and tokenize\n",
    "documents_no_stop= []\n",
    "for document in documents_no_specials:\n",
    "    new_text=[]\n",
    "    for word in document.lower().split():\n",
    "        if word not in STOPWORDS:\n",
    "            new_text.append(word)\n",
    "    documents_no_stop.append(new_text)"
   ]
  },
  {
   "cell_type": "code",
   "execution_count": 9,
   "metadata": {
    "collapsed": false
   },
   "outputs": [],
   "source": [
    "#NOT SURE IF WE NEED TO REMOVE NUMERICALS\n",
    "documents_no_stop_no_numeric = remove_numerical(documents_no_stop)\n",
    "#print ('remove numerics: ',documents_no_stop_no_numeric[tester], '\\n')\n"
   ]
  },
  {
   "cell_type": "code",
   "execution_count": 10,
   "metadata": {
    "collapsed": true
   },
   "outputs": [],
   "source": [
    "# lemmattizing tokens (better than stemming by taking word context into account)\n",
    "documents_no_stop_no_numeric_lemmatize = [[lemmatizer.lemmatize(token) for token in text] \n",
    "                                                    for text in documents_no_stop_no_numeric]\n",
    "\n",
    "#print ('lemmatize: ',documents_no_stop_no_numeric_lemmatize[tester], '\\n')"
   ]
  },
  {
   "cell_type": "code",
   "execution_count": 11,
   "metadata": {
    "collapsed": false
   },
   "outputs": [],
   "source": [
    "# remove non-english words\n",
    "documents_no_stop_no_numeric_lemmatize_english = [[token for token in text if (eng_dic.check(token)) ] \n",
    "                                                            for text in documents_no_stop_no_numeric_lemmatize]\n",
    "\n",
    "#print ('no english: ',documents_no_stop_no_numeric_lemmatize_english[tester], '\\n')"
   ]
  },
  {
   "cell_type": "code",
   "execution_count": 12,
   "metadata": {
    "collapsed": false
   },
   "outputs": [],
   "source": [
    "df['reviewCleaned'] = [\" \".join(doc) for doc in documents_no_stop_no_numeric_lemmatize_english] \n",
    "\n",
    "#print (df['reviewCleaned'],\"\\n\")"
   ]
  },
  {
   "cell_type": "code",
   "execution_count": 13,
   "metadata": {
    "collapsed": false
   },
   "outputs": [],
   "source": [
    "document_neg_pos = []\n",
    "for row in df['reviewCleaned']:\n",
    "    review = []\n",
    "    new_word = \"\"\n",
    "    for word in row.split(\" \"):\n",
    "        if word in NEGATIONWORDS:\n",
    "            new_word = word\n",
    "        if word in POSITIVEWORDS:\n",
    "            if not new_word:\n",
    "                review.append(word)\n",
    "            else:\n",
    "                new_word = new_word + word\n",
    "                review.append(new_word)\n",
    "                new_word = \"\"\n",
    "        if word in NEGATIVEWORDS:\n",
    "            review.append(word)\n",
    "    document_neg_pos.append(review)\n"
   ]
  },
  {
   "cell_type": "code",
   "execution_count": 14,
   "metadata": {
    "collapsed": false
   },
   "outputs": [],
   "source": [
    "# create ready corpus\n",
    "df[\"reviewWorded\"] = [\" \".join(doc) for doc in document_neg_pos]\n",
    "df = df[df['reviewWorded'].map(len) > 1]\n",
    "#print (df[\"reviewWorded\"])"
   ]
  },
  {
   "cell_type": "code",
   "execution_count": 15,
   "metadata": {
    "collapsed": true
   },
   "outputs": [],
   "source": [
    "overall = df['overall'].values.tolist()\n",
    "\n",
    "# compute values of OVERALL_BIN\n",
    "OVERALL_BIN = [int(overall_value >= 5) for overall_value in overall]\n",
    "\n",
    "# add OVERALL_BIN column to dataframe\n",
    "df['OVERALL_BIN'] = OVERALL_BIN"
   ]
  },
  {
   "cell_type": "markdown",
   "metadata": {},
   "source": [
    "## Vectorizing"
   ]
  },
  {
   "cell_type": "code",
   "execution_count": 16,
   "metadata": {
    "collapsed": false
   },
   "outputs": [],
   "source": [
    "vectorizer = CountVectorizer(max_df=0.4,min_df=2)\n",
    "\n",
    "# fit vectorizer, carry out vectorization and display results\n",
    "vectorizer.fit(df[\"reviewWorded\"])\n",
    "documents_vec = vectorizer.transform(df[\"reviewWorded\"])\n",
    "#print(documents_vec) # sparse matrix representation"
   ]
  },
  {
   "cell_type": "code",
   "execution_count": 17,
   "metadata": {
    "collapsed": true
   },
   "outputs": [],
   "source": [
    "X=documents_vec.toarray()\n",
    "y=df['overall']\n",
    "categories=np.unique(y)"
   ]
  },
  {
   "cell_type": "code",
   "execution_count": 18,
   "metadata": {
    "collapsed": false
   },
   "outputs": [
    {
     "name": "stderr",
     "output_type": "stream",
     "text": [
      "/Users/fayezmourad/anaconda3/lib/python3.6/site-packages/sklearn/utils/validation.py:429: DataConversionWarning: Data with input dtype int64 was converted to float64 by MinMaxScaler.\n",
      "  warnings.warn(msg, _DataConversionWarning)\n"
     ]
    }
   ],
   "source": [
    "# Scaling the data\n",
    "X_scaled=[]\n",
    "for doc in X:\n",
    "    min_max_scaler = preprocessing.MinMaxScaler()\n",
    "    X_scaled.append(np.ravel(min_max_scaler.fit_transform(doc.reshape(-1, 1))))"
   ]
  },
  {
   "cell_type": "code",
   "execution_count": 19,
   "metadata": {
    "collapsed": false
   },
   "outputs": [
    {
     "data": {
      "text/plain": [
       "array([ 0.25,  0.5 ,  0.25,  0.5 ,  0.5 ,  0.25,  0.25,  0.25,  0.25,\n",
       "        0.25,  0.5 ,  0.25,  0.25,  0.25,  0.25,  0.25,  0.25,  0.25,\n",
       "        0.75,  0.25,  0.25,  0.25,  0.25,  0.25,  0.25,  0.25,  0.25,\n",
       "        0.5 ,  0.25,  0.25,  0.5 ,  0.25,  0.25,  0.25,  0.25,  0.5 ,\n",
       "        0.5 ,  0.25,  0.25,  0.25,  0.25,  0.25,  1.  ,  0.25,  0.25,\n",
       "        0.5 ,  0.25,  0.25,  0.25,  0.75,  0.25,  0.5 ,  0.25,  0.25,\n",
       "        0.25,  0.25,  0.25,  0.25,  0.25,  0.25,  0.25,  0.75,  0.25,\n",
       "        0.25,  0.25,  0.25,  0.5 ,  0.75])"
      ]
     },
     "execution_count": 19,
     "metadata": {},
     "output_type": "execute_result"
    }
   ],
   "source": [
    "X_scaled[0][X_scaled[0] > 0]"
   ]
  },
  {
   "cell_type": "code",
   "execution_count": 20,
   "metadata": {
    "collapsed": true
   },
   "outputs": [],
   "source": [
    "X_train, X_test, y_train, y_test = train_test_split(X_scaled, y, test_size=0.2, random_state=random_state)"
   ]
  },
  {
   "cell_type": "code",
   "execution_count": 21,
   "metadata": {
    "collapsed": true
   },
   "outputs": [],
   "source": [
    "X_train=np.array(X_train)\n",
    "X_test=np.array(X_test)\n",
    "y_train=np.array(y_train)\n",
    "y_test=np.array(y_test)"
   ]
  },
  {
   "cell_type": "code",
   "execution_count": 22,
   "metadata": {
    "collapsed": false
   },
   "outputs": [],
   "source": [
    "#Dummy"
   ]
  },
  {
   "cell_type": "code",
   "execution_count": 23,
   "metadata": {
    "collapsed": false
   },
   "outputs": [
    {
     "name": "stdout",
     "output_type": "stream",
     "text": [
      "accuracy: 0.203815261044\n",
      "Execution time : 0.003695249557495117 seconds\n"
     ]
    }
   ],
   "source": [
    "start = time.time()\n",
    "\n",
    "y_pred=[]\n",
    "\n",
    "for i in range(X_test.shape[0]):\n",
    "    y_pred.append(categories[np.random.randint(0,len(categories))])\n",
    "print(\"accuracy:\",accuracy_score(y_test,y_pred))\n",
    "\n",
    "end=time.time()\n",
    "print(\"Execution time : {} seconds\".format(end-start))"
   ]
  },
  {
   "cell_type": "code",
   "execution_count": 24,
   "metadata": {
    "collapsed": true
   },
   "outputs": [],
   "source": [
    "#Cosine"
   ]
  },
  {
   "cell_type": "code",
   "execution_count": 25,
   "metadata": {
    "collapsed": false
   },
   "outputs": [
    {
     "name": "stdout",
     "output_type": "stream",
     "text": [
      "0\n",
      "100\n",
      "200\n",
      "300\n",
      "400\n",
      "500\n",
      "600\n",
      "700\n",
      "800\n",
      "900\n",
      "accuracy: 0.44578313253\n",
      "Execution time : 151.16083312034607 seconds\n"
     ]
    }
   ],
   "source": [
    "import warnings\n",
    "warnings.filterwarnings('ignore')\n",
    "\n",
    "start= time.time()\n",
    "# TODO: Optimizazion : precalculate the ref_documents\n",
    "y_pred=[]\n",
    "\n",
    "# For each element to predict\n",
    "for idx,x in enumerate(X_test):\n",
    "    if idx % 100 == 0:\n",
    "        print(idx)\n",
    "    \n",
    "    best_category=\"\"\n",
    "    best_sim=0\n",
    "    # for each category to check\n",
    "    for cat in categories:\n",
    "        # documents representing the category\n",
    "        ref_docs=X_train[[y_train==cat][0]]\n",
    "        # similarity between each reference document and the element\n",
    "        sim=cosine_similarity(ref_docs,x)\n",
    "        # If overall similarity better than best, change best\n",
    "        if(np.sum(sim)/len(ref_docs)>best_sim):\n",
    "            best_sim=np.sum(sim)/len(ref_docs)\n",
    "            best_category=cat\n",
    "    # Assign best category\n",
    "    y_pred.append(best_category)\n",
    "print(\"accuracy:\",accuracy_score(y_test,y_pred))\n",
    "\n",
    "end=time.time()\n",
    "print(\"Execution time : {} seconds\".format(end-start))"
   ]
  },
  {
   "cell_type": "code",
   "execution_count": 26,
   "metadata": {
    "collapsed": false
   },
   "outputs": [
    {
     "name": "stdout",
     "output_type": "stream",
     "text": [
      "1\n",
      "2\n",
      "3\n",
      "4\n",
      "5\n",
      "6\n",
      "7\n",
      "8\n",
      "9\n",
      "10\n",
      "11\n",
      "12\n",
      "13\n",
      "14\n",
      "15\n",
      "16\n",
      "17\n",
      "18\n",
      "19\n",
      "20\n",
      "21\n",
      "22\n",
      "23\n",
      "24\n",
      "25\n",
      "26\n",
      "27\n",
      "28\n",
      "29\n"
     ]
    },
    {
     "data": {
      "image/png": "[encoded data removed]",
      "text/plain": [
       "<matplotlib.figure.Figure at 0x11331e080>"
      ]
     },
     "metadata": {},
     "output_type": "display_data"
    },
    {
     "name": "stdout",
     "output_type": "stream",
     "text": [
      "best depth= 6 with accuracy score: 0.54016064257\n",
      "Execution time : 43.085753202438354 seconds\n"
     ]
    }
   ],
   "source": [
    "start=time.time()\n",
    "\n",
    "accuracy=[]\n",
    "depths=range(1,30,1)\n",
    "# Check various max_depth\n",
    "for max_depth in depths:\n",
    "    print(max_depth)\n",
    "    # fit regression model with different tree depths\n",
    "    reg_tree = DecisionTreeClassifier(max_depth=max_depth, random_state=random_state,)\n",
    "    reg_tree.fit(X_train, y_train)\n",
    "    # predict a synthetic test data\n",
    "    y_pred = reg_tree.predict(X_test)\n",
    "    accuracy.append(accuracy_score(y_test,y_pred))\n",
    "\n",
    "# Plot\n",
    "plt.plot(depths,accuracy)\n",
    "plt.ylabel(\"accuracy Score\")\n",
    "plt.xlabel(\"Max depth\")\n",
    "plt.show()\n",
    "best_depth=depths[np.argmax(accuracy)]\n",
    "print(\"best depth=\",best_depth,\"with accuracy score:\", np.max(accuracy))\n",
    "\n",
    "end=time.time()\n",
    "print(\"Execution time : {} seconds\".format(end-start))"
   ]
  },
  {
   "cell_type": "code",
   "execution_count": 27,
   "metadata": {
    "collapsed": false
   },
   "outputs": [
    {
     "name": "stdout",
     "output_type": "stream",
     "text": [
      "1\n",
      "4\n",
      "7\n",
      "10\n",
      "13\n",
      "16\n",
      "19\n",
      "22\n",
      "25\n",
      "28\n",
      "31\n",
      "34\n",
      "37\n",
      "40\n",
      "43\n",
      "46\n",
      "49\n"
     ]
    },
    {
     "data": {
      "image/png": "[encoded data removed]",
      "text/plain": [
       "<matplotlib.figure.Figure at 0x113c50f60>"
      ]
     },
     "metadata": {},
     "output_type": "display_data"
    },
    {
     "name": "stdout",
     "output_type": "stream",
     "text": [
      "best number of neighbors= 13 with accuracy score: 0.531124497992\n",
      "Execution time : 342.98816680908203 seconds\n"
     ]
    }
   ],
   "source": [
    "start=time.time()\n",
    "\n",
    "accuracy=[]\n",
    "num_neighbors=range(1,50,3)\n",
    "# Check various number neighbors\n",
    "for neighbors in num_neighbors:\n",
    "    print(neighbors)\n",
    "    # fit regression model with different number of neighbors\n",
    "    knn = KNeighborsClassifier(n_neighbors=neighbors, weights='distance')\n",
    "    knn.fit(X_train, y_train)\n",
    "    # predict a synthetic test data\n",
    "    y_pred = knn.predict(X_test)\n",
    "    accuracy.append(accuracy_score(y_test,y_pred))\n",
    "\n",
    "# Plot\n",
    "plt.plot(num_neighbors,accuracy)\n",
    "plt.ylabel(\"accuracy Score\")\n",
    "plt.xlabel(\"Number of neighbors\")\n",
    "plt.show()\n",
    "best_num_neighbors=num_neighbors[np.argmax(accuracy)]\n",
    "print(\"best number of neighbors=\",best_num_neighbors,\"with accuracy score:\", np.max(accuracy))\n",
    "\n",
    "end=time.time()\n",
    "print(\"Execution time : {} seconds\".format(end-start))"
   ]
  },
  {
   "cell_type": "code",
   "execution_count": null,
   "metadata": {
    "collapsed": true
   },
   "outputs": [],
   "source": []
  }
 ],
 "metadata": {
  "kernelspec": {
   "display_name": "Python 3",
   "language": "python",
   "name": "python3"
  },
  "language_info": {
   "codemirror_mode": {
    "name": "ipython",
    "version": 3
   },
   "file_extension": ".py",
   "mimetype": "text/x-python",
   "name": "python",
   "nbconvert_exporter": "python",
   "pygments_lexer": "ipython3",
   "version": "3.6.0"
  }
 },
 "nbformat": 4,
 "nbformat_minor": 2
}
