{
 "cells": [
  {
   "cell_type": "code",
   "execution_count": 47,
   "metadata": {
    "collapsed": true
   },
   "outputs": [],
   "source": [
    "from gensim import corpora, models\n",
    "import matplotlib.pyplot as plt\n",
    "from sklearn.model_selection import train_test_split\n",
    "from sklearn import preprocessing\n",
    "from sklearn.feature_extraction.text import CountVectorizer, TfidfTransformer\n",
    "from nltk.stem.snowball import EnglishStemmer\n",
    "from sklearn.metrics.pairwise import cosine_similarity\n",
    "from sklearn.tree import DecisionTreeClassifier\n",
    "from sklearn.metrics.pairwise import cosine_similarity\n",
    "from sklearn.metrics import accuracy_score\n",
    "import time\n",
    "import pandas as pd\n",
    "import numpy as np\n",
    "from nltk.stem import WordNetLemmatizer\n",
    "import enchant\n",
    "import re\n",
    "from nltk.tag import pos_tag\n",
    "from nltk.tokenize import word_tokenize\n",
    "from gensim.parsing.preprocessing import STOPWORDS\n",
    "from nltk.stem import WordNetLemmatizer\n",
    "import enchant\n",
    "import re\n",
    "from sklearn.neighbors import KNeighborsClassifier\n",
    "from nltk.probability import FreqDist\n",
    "from sklearn.svm import SVC\n",
    "import fasttext"
   ]
  },
  {
   "cell_type": "code",
   "execution_count": 3,
   "metadata": {
    "collapsed": true
   },
   "outputs": [],
   "source": [
    "random_state=0\n",
    "lemmatizer = WordNetLemmatizer()\n",
    "eng_dic = enchant.Dict(\"en_US\")"
   ]
  },
  {
   "cell_type": "markdown",
   "metadata": {},
   "source": [
    "# Step 1"
   ]
  },
  {
   "cell_type": "markdown",
   "metadata": {},
   "source": [
    "## Data loading"
   ]
  },
  {
   "cell_type": "code",
   "execution_count": 4,
   "metadata": {
    "collapsed": false
   },
   "outputs": [],
   "source": [
    "df = pd.read_json(path_or_buf='amazon_step1.json',orient='records',lines=True)"
   ]
  },
  {
   "cell_type": "code",
   "execution_count": 5,
   "metadata": {
    "collapsed": false
   },
   "outputs": [
    {
     "data": {
      "text/html": [
       "<div>\n",
       "<table border=\"1\" class=\"dataframe\">\n",
       "  <thead>\n",
       "    <tr style=\"text-align: right;\">\n",
       "      <th></th>\n",
       "      <th>asin</th>\n",
       "      <th>category</th>\n",
       "      <th>helpful</th>\n",
       "      <th>overall</th>\n",
       "      <th>reviewText</th>\n",
       "      <th>reviewTime</th>\n",
       "      <th>reviewerID</th>\n",
       "      <th>reviewerName</th>\n",
       "      <th>summary</th>\n",
       "      <th>unixReviewTime</th>\n",
       "    </tr>\n",
       "  </thead>\n",
       "  <tbody>\n",
       "    <tr>\n",
       "      <th>0</th>\n",
       "      <td>B000J4HXUC</td>\n",
       "      <td>Sports_and_Outdoors</td>\n",
       "      <td>[1, 1]</td>\n",
       "      <td>5</td>\n",
       "      <td>It's a .50 Caliber Ammo Can. That largely sums...</td>\n",
       "      <td>01 5, 2014</td>\n",
       "      <td>A3QRW0UJPKIAX7</td>\n",
       "      <td>Grant Fritchey</td>\n",
       "      <td>Clean and Exactly as Advertised</td>\n",
       "      <td>1388880000</td>\n",
       "    </tr>\n",
       "    <tr>\n",
       "      <th>1</th>\n",
       "      <td>0983393214</td>\n",
       "      <td>Books</td>\n",
       "      <td>[0, 0]</td>\n",
       "      <td>5</td>\n",
       "      <td>This was a very good book. It kept me excited ...</td>\n",
       "      <td>06 23, 2013</td>\n",
       "      <td>A2SEIOM4H06WTH</td>\n",
       "      <td>TJ</td>\n",
       "      <td>Great read!</td>\n",
       "      <td>1371945600</td>\n",
       "    </tr>\n",
       "    <tr>\n",
       "      <th>2</th>\n",
       "      <td>B003G4FVMY</td>\n",
       "      <td>Grocery_and_Gourmet_Food</td>\n",
       "      <td>[0, 0]</td>\n",
       "      <td>5</td>\n",
       "      <td>If you love coconut the way I do, you can't go...</td>\n",
       "      <td>05 19, 2013</td>\n",
       "      <td>A3GDEXMU9587JX</td>\n",
       "      <td>K. Parsley \"kindlekat\"</td>\n",
       "      <td>If you love coconut, get this coffee</td>\n",
       "      <td>1368921600</td>\n",
       "    </tr>\n",
       "    <tr>\n",
       "      <th>3</th>\n",
       "      <td>B00F9VRNF0</td>\n",
       "      <td>Cell_Phones_and_Accessories</td>\n",
       "      <td>[0, 0]</td>\n",
       "      <td>5</td>\n",
       "      <td>I recently switched from the Galaxy S3 to the ...</td>\n",
       "      <td>04 25, 2014</td>\n",
       "      <td>ASP3J2NEHDN4E</td>\n",
       "      <td>ChriS</td>\n",
       "      <td>Superior Protection!!!</td>\n",
       "      <td>1398384000</td>\n",
       "    </tr>\n",
       "    <tr>\n",
       "      <th>4</th>\n",
       "      <td>B00D5OZQUC</td>\n",
       "      <td>Amazon_Instant_Video</td>\n",
       "      <td>[0, 0]</td>\n",
       "      <td>5</td>\n",
       "      <td>Good show,looks like the gap from season 2 to ...</td>\n",
       "      <td>11 4, 2013</td>\n",
       "      <td>A1EDBI6TBKP9CO</td>\n",
       "      <td>Grants Book Trade</td>\n",
       "      <td>Love the show, thanks for putting Season 3 on ...</td>\n",
       "      <td>1383523200</td>\n",
       "    </tr>\n",
       "  </tbody>\n",
       "</table>\n",
       "</div>"
      ],
      "text/plain": [
       "         asin                     category helpful  overall  \\\n",
       "0  B000J4HXUC          Sports_and_Outdoors  [1, 1]        5   \n",
       "1  0983393214                        Books  [0, 0]        5   \n",
       "2  B003G4FVMY     Grocery_and_Gourmet_Food  [0, 0]        5   \n",
       "3  B00F9VRNF0  Cell_Phones_and_Accessories  [0, 0]        5   \n",
       "4  B00D5OZQUC         Amazon_Instant_Video  [0, 0]        5   \n",
       "\n",
       "                                          reviewText   reviewTime  \\\n",
       "0  It's a .50 Caliber Ammo Can. That largely sums...   01 5, 2014   \n",
       "1  This was a very good book. It kept me excited ...  06 23, 2013   \n",
       "2  If you love coconut the way I do, you can't go...  05 19, 2013   \n",
       "3  I recently switched from the Galaxy S3 to the ...  04 25, 2014   \n",
       "4  Good show,looks like the gap from season 2 to ...   11 4, 2013   \n",
       "\n",
       "       reviewerID            reviewerName  \\\n",
       "0  A3QRW0UJPKIAX7          Grant Fritchey   \n",
       "1  A2SEIOM4H06WTH                      TJ   \n",
       "2  A3GDEXMU9587JX  K. Parsley \"kindlekat\"   \n",
       "3   ASP3J2NEHDN4E                   ChriS   \n",
       "4  A1EDBI6TBKP9CO       Grants Book Trade   \n",
       "\n",
       "                                             summary  unixReviewTime  \n",
       "0                    Clean and Exactly as Advertised      1388880000  \n",
       "1                                        Great read!      1371945600  \n",
       "2               If you love coconut, get this coffee      1368921600  \n",
       "3                             Superior Protection!!!      1398384000  \n",
       "4  Love the show, thanks for putting Season 3 on ...      1383523200  "
      ]
     },
     "execution_count": 5,
     "metadata": {},
     "output_type": "execute_result"
    }
   ],
   "source": [
    "df.head()"
   ]
  },
  {
   "cell_type": "code",
   "execution_count": 6,
   "metadata": {
    "collapsed": false
   },
   "outputs": [
    {
     "data": {
      "text/html": [
       "<div>\n",
       "<table border=\"1\" class=\"dataframe\">\n",
       "  <thead>\n",
       "    <tr style=\"text-align: right;\">\n",
       "      <th></th>\n",
       "      <th>asin</th>\n",
       "      <th>category</th>\n",
       "      <th>helpful</th>\n",
       "      <th>overall</th>\n",
       "      <th>reviewText</th>\n",
       "      <th>reviewTime</th>\n",
       "      <th>reviewerID</th>\n",
       "      <th>reviewerName</th>\n",
       "      <th>summary</th>\n",
       "      <th>unixReviewTime</th>\n",
       "    </tr>\n",
       "  </thead>\n",
       "  <tbody>\n",
       "    <tr>\n",
       "      <th>32311</th>\n",
       "      <td>B00109US84</td>\n",
       "      <td>Clothing_Shoes_and_Jewelry</td>\n",
       "      <td>[0, 0]</td>\n",
       "      <td>5</td>\n",
       "      <td>I purchased this dress for my oldest daughter ...</td>\n",
       "      <td>11 17, 2011</td>\n",
       "      <td>AFT0MSD3TM9CK</td>\n",
       "      <td>J. Leonard</td>\n",
       "      <td>Great Dress, Great Price and Great Color</td>\n",
       "      <td>1321488000</td>\n",
       "    </tr>\n",
       "    <tr>\n",
       "      <th>90348</th>\n",
       "      <td>B000VJ7PC6</td>\n",
       "      <td>Beauty</td>\n",
       "      <td>[0, 0]</td>\n",
       "      <td>5</td>\n",
       "      <td>Smelled this at Ulta and it is delicious. I pi...</td>\n",
       "      <td>02 15, 2013</td>\n",
       "      <td>A1EMYTJKY3NA9F</td>\n",
       "      <td>oldfriends</td>\n",
       "      <td>Fuel For Life Homme</td>\n",
       "      <td>1360886400</td>\n",
       "    </tr>\n",
       "    <tr>\n",
       "      <th>19274</th>\n",
       "      <td>B001BOKGDU</td>\n",
       "      <td>Home_and_Kitchen</td>\n",
       "      <td>[0, 0]</td>\n",
       "      <td>1</td>\n",
       "      <td>I never could make this coffeemaker produce de...</td>\n",
       "      <td>06 6, 2013</td>\n",
       "      <td>ABXCC3A0JFQ8Q</td>\n",
       "      <td>carefulshopper</td>\n",
       "      <td>Made terrible coffee...</td>\n",
       "      <td>1370476800</td>\n",
       "    </tr>\n",
       "    <tr>\n",
       "      <th>62697</th>\n",
       "      <td>B005BYZAWI</td>\n",
       "      <td>Tools_and_Home_Improvement</td>\n",
       "      <td>[0, 0]</td>\n",
       "      <td>4</td>\n",
       "      <td>Not sure how long they last yet, but they seem...</td>\n",
       "      <td>11 21, 2013</td>\n",
       "      <td>A32UFI1Y91JUU1</td>\n",
       "      <td>Scott C Jones \"HenryJonesJr\"</td>\n",
       "      <td>Great buy.</td>\n",
       "      <td>1384992000</td>\n",
       "    </tr>\n",
       "    <tr>\n",
       "      <th>39787</th>\n",
       "      <td>B000FJYSHW</td>\n",
       "      <td>Patio_Lawn_and_Garden</td>\n",
       "      <td>[0, 0]</td>\n",
       "      <td>5</td>\n",
       "      <td>I got one of these to replace a &amp;#34;plastic&amp;#...</td>\n",
       "      <td>07 19, 2013</td>\n",
       "      <td>A2IX2PCXS5O2FK</td>\n",
       "      <td>Mike In San Diego</td>\n",
       "      <td>dihydrogen monoxide diverter!</td>\n",
       "      <td>1374192000</td>\n",
       "    </tr>\n",
       "  </tbody>\n",
       "</table>\n",
       "</div>"
      ],
      "text/plain": [
       "             asin                    category helpful  overall  \\\n",
       "32311  B00109US84  Clothing_Shoes_and_Jewelry  [0, 0]        5   \n",
       "90348  B000VJ7PC6                      Beauty  [0, 0]        5   \n",
       "19274  B001BOKGDU            Home_and_Kitchen  [0, 0]        1   \n",
       "62697  B005BYZAWI  Tools_and_Home_Improvement  [0, 0]        4   \n",
       "39787  B000FJYSHW       Patio_Lawn_and_Garden  [0, 0]        5   \n",
       "\n",
       "                                              reviewText   reviewTime  \\\n",
       "32311  I purchased this dress for my oldest daughter ...  11 17, 2011   \n",
       "90348  Smelled this at Ulta and it is delicious. I pi...  02 15, 2013   \n",
       "19274  I never could make this coffeemaker produce de...   06 6, 2013   \n",
       "62697  Not sure how long they last yet, but they seem...  11 21, 2013   \n",
       "39787  I got one of these to replace a &#34;plastic&#...  07 19, 2013   \n",
       "\n",
       "           reviewerID                  reviewerName  \\\n",
       "32311   AFT0MSD3TM9CK                    J. Leonard   \n",
       "90348  A1EMYTJKY3NA9F                    oldfriends   \n",
       "19274   ABXCC3A0JFQ8Q                carefulshopper   \n",
       "62697  A32UFI1Y91JUU1  Scott C Jones \"HenryJonesJr\"   \n",
       "39787  A2IX2PCXS5O2FK             Mike In San Diego   \n",
       "\n",
       "                                        summary  unixReviewTime  \n",
       "32311  Great Dress, Great Price and Great Color      1321488000  \n",
       "90348                       Fuel For Life Homme      1360886400  \n",
       "19274                   Made terrible coffee...      1370476800  \n",
       "62697                                Great buy.      1384992000  \n",
       "39787             dihydrogen monoxide diverter!      1374192000  "
      ]
     },
     "execution_count": 6,
     "metadata": {},
     "output_type": "execute_result"
    }
   ],
   "source": [
    "# TODO remove sampling\n",
    "# Sampling to minimze computing cost\n",
    "df = df.sample(5000,random_state=random_state)\n",
    "df.head()"
   ]
  },
  {
   "cell_type": "markdown",
   "metadata": {},
   "source": [
    "## Pre-processing"
   ]
  },
  {
   "cell_type": "code",
   "execution_count": 7,
   "metadata": {
    "collapsed": false
   },
   "outputs": [
    {
     "data": {
      "image/png": "[encoded data removed]",
      "text/plain": [
       "<matplotlib.figure.Figure at 0x139541400>"
      ]
     },
     "metadata": {},
     "output_type": "display_data"
    }
   ],
   "source": [
    "#Visualize if we have all categories\n",
    "categories = set(df['category'])\n",
    "category_occurence = []\n",
    "categories_array = []\n",
    "for category in categories:\n",
    "    category_occurence.append(len(df[df['category']==category]))\n",
    "    categories_array.append(category)\n",
    "\n",
    "x = np.arange(1,25)\n",
    "y = category_occurence\n",
    "\n",
    "plt.bar(x, category_occurence)\n",
    "plt.xticks(x, categories_array,rotation='vertical')\n",
    "plt.show()"
   ]
  },
  {
   "cell_type": "code",
   "execution_count": 8,
   "metadata": {
    "collapsed": false
   },
   "outputs": [],
   "source": [
    "#Given a sentence return array of nouns only\n",
    "def extract_set_nouns(sentence):\n",
    "    data = pos_tag(word_tokenize(sentence), tagset='universal');\n",
    "    \n",
    "    worded_sentence = [i[0].lower() for i in data if (i[1] == 'NOUN') ]\n",
    "    \n",
    "    new_sentence = \"\"\n",
    "    for word in set(worded_sentence):\n",
    "        new_sentence += \" \" + word\n",
    "    return (new_sentence)\n",
    "\n",
    "#Given word return if it contains number or not\n",
    "def hasNumbers(inputString):\n",
    "    return bool(re.search(r'\\d', inputString))\n"
   ]
  },
  {
   "cell_type": "code",
   "execution_count": 9,
   "metadata": {
    "collapsed": false
   },
   "outputs": [],
   "source": [
    "#Extract nouns only and make lowercase\n",
    "reviewText_noun = [extract_set_nouns(sentence).lower() for sentence in df['reviewText']]\n",
    "\n",
    "reviewText_noun_no_special_character = []\n",
    "reviewText_noun_no_special_character_no_english = []\n",
    "\n",
    "#Remove special characters\n",
    "for item in reviewText_noun:\n",
    "    reviewText_noun_no_special_character.append(item.replace('\\r',' ').replace('/n',' ').replace('.',' ').replace(',',' ').replace('(',' ')\\\n",
    "                                             .replace(')',' ').replace(\"'s\",' ').replace('\"',' ')\\\n",
    "                                             .replace('!',' ').replace('?',' ').replace(\"'\",' ')\\\n",
    "                                             .replace('>',' ').replace('$',' ')\\\n",
    "                                             .replace('-',' ').replace(';',' ')\\\n",
    "                                             .replace(':',' ').replace('/',' ').replace('#',' '))\n",
    "\n",
    "\n",
    "#Remove non english words and numbers and length less than 2 then lemmatize\n",
    "reviewText_noun_no_special_character_no_english = [[lemmatizer.lemmatize(token) for token in comment.split() if ((eng_dic.check(token)) and (not hasNumbers(token)) and (len(token)>1)) ] \n",
    "                    for comment in reviewText_noun_no_special_character]\n",
    "    \n",
    "#Return to sentence format\n",
    "seperated_comments = [' '.join(sentence) for sentence in reviewText_noun_no_special_character_no_english]\n",
    "\n",
    "#Get only nouns once again. Some special characters and other factors messed the function in the first place\n",
    "almost_ready_comments = [extract_set_nouns(sentence) for sentence in seperated_comments]\n"
   ]
  },
  {
   "cell_type": "code",
   "execution_count": null,
   "metadata": {
    "collapsed": false
   },
   "outputs": [],
   "source": [
    "#Get most frequent words to add to stoplist if not found to be relevant\n",
    "words = []\n",
    "for token in almost_ready_comments:\n",
    "    for word in token.split():\n",
    "        words.append(word)\n",
    "\n",
    "fdist = FreqDist(words)\n",
    "top_n = fdist.most_common(100)\n",
    "\n",
    "for word in top_n:\n",
    "    print (word,\"\\n\")"
   ]
  },
  {
   "cell_type": "markdown",
   "metadata": {},
   "source": [
    "Many of the frequent terms are not useful. Some examples:<br/>\n",
    "lot, end, set, time, year, month, day, great (even though it's a noun), price, one, month, thing, it, issue, use, the, others, minute, nothing, week, this, hour, stuff, feel, my, mine, name, so, cost, problem, "
   ]
  },
  {
   "cell_type": "code",
   "execution_count": null,
   "metadata": {
    "collapsed": false
   },
   "outputs": [],
   "source": [
    "#Manually updated the stopwords to add some that were not relevant\n",
    "#Remove stopwords that we found to be not relevant in the previous part\n",
    "stopword_file=open('stopwords_list_step1.txt')\n",
    "stoplist=stopword_file.read().split()\n",
    "\n",
    "#Still need to remove stopwords\n",
    "ready_comments = [\" \".join([token for token in comment.split() if (token not in stoplist) ]) for comment in almost_ready_comments]\n"
   ]
  },
  {
   "cell_type": "code",
   "execution_count": 12,
   "metadata": {
    "collapsed": false
   },
   "outputs": [
    {
     "name": "stdout",
     "output_type": "stream",
     "text": [
      "5000\n"
     ]
    }
   ],
   "source": [
    "#We will change the reviewText for all data. It doesn't matter if it's test or train\n",
    "df['reviewText']=ready_comments\n",
    "print (len(ready_comments))"
   ]
  },
  {
   "cell_type": "code",
   "execution_count": 13,
   "metadata": {
    "collapsed": false
   },
   "outputs": [
    {
     "name": "stdout",
     "output_type": "stream",
     "text": [
      "4992\n"
     ]
    }
   ],
   "source": [
    "#Remove data with no content in reviewText\n",
    "df = df[df['reviewText'].map(len) > 1]\n",
    "print (len(df['reviewText']))"
   ]
  },
  {
   "cell_type": "markdown",
   "metadata": {},
   "source": [
    "## Vectorizing the review text"
   ]
  },
  {
   "cell_type": "code",
   "execution_count": 14,
   "metadata": {
    "collapsed": false,
    "scrolled": true
   },
   "outputs": [
    {
     "name": "stdout",
     "output_type": "stream",
     "text": [
      "  (0, 146)\t1\n",
      "  (0, 218)\t1\n",
      "  (0, 312)\t1\n",
      "  (0, 349)\t1\n",
      "  (0, 378)\t1\n",
      "  (0, 733)\t1\n",
      "  (0, 755)\t1\n",
      "  (0, 945)\t1\n",
      "  (0, 971)\t1\n",
      "  (0, 1152)\t1\n",
      "  (0, 1272)\t1\n",
      "  (0, 1314)\t1\n",
      "  (0, 1430)\t1\n",
      "  (0, 1556)\t1\n",
      "  (0, 1724)\t1\n",
      "  (0, 1976)\t1\n",
      "  (0, 2038)\t1\n",
      "  (0, 2122)\t1\n",
      "  (0, 2406)\t1\n",
      "  (0, 2597)\t1\n",
      "  (0, 2607)\t1\n",
      "  (0, 2697)\t1\n",
      "  (0, 2739)\t1\n",
      "  (0, 2804)\t1\n",
      "  (0, 2807)\t1\n",
      "  :\t:\n",
      "  (4991, 2575)\t1\n",
      "  (4991, 2668)\t1\n",
      "  (4991, 2731)\t1\n",
      "  (4991, 2739)\t1\n",
      "  (4991, 2752)\t1\n",
      "  (4991, 2819)\t1\n",
      "  (4991, 2919)\t1\n",
      "  (4991, 2932)\t1\n",
      "  (4991, 2989)\t1\n",
      "  (4991, 3079)\t1\n",
      "  (4991, 3140)\t1\n",
      "  (4991, 3183)\t1\n",
      "  (4991, 3249)\t1\n",
      "  (4991, 3326)\t1\n",
      "  (4991, 3328)\t1\n",
      "  (4991, 3333)\t1\n",
      "  (4991, 3559)\t1\n",
      "  (4991, 3647)\t1\n",
      "  (4991, 3688)\t1\n",
      "  (4991, 3725)\t1\n",
      "  (4991, 3741)\t1\n",
      "  (4991, 3779)\t1\n",
      "  (4991, 3805)\t1\n",
      "  (4991, 3850)\t1\n",
      "  (4991, 4022)\t1\n"
     ]
    }
   ],
   "source": [
    "\n",
    "# TODO better stoplist\n",
    "# Current list :default english stopwords list from http://www.ranks.nl/stopwords\n",
    "stopword_file=open('stopwords_list_step1.txt')\n",
    "stoplist=stopword_file.read().split()\n",
    "# configure CountVectorizer to include nltk-stemmer\n",
    "stemmer = EnglishStemmer()\n",
    "analyzer = CountVectorizer().build_analyzer()\n",
    "\n",
    "def stemmed_words(doc):\n",
    "    return (stemmer.stem(w) for w in analyzer(doc))\n",
    "\n",
    "# create vectorizer instance including the stop list and stemizer. \n",
    "# TODO modify max_df, min_df ?\n",
    "stem_vectorizer = CountVectorizer(analyzer=stemmed_words,stop_words=stoplist,max_df=0.4,min_df=2,)\n",
    "\n",
    "# fit vectorizer, carry out vectorization and display results\n",
    "stem_vectorizer.fit(df['reviewText'])\n",
    "documents_vec = stem_vectorizer.transform(df['reviewText'])\n",
    "print(documents_vec) # sparse matrix representation\n",
    "#print (stem_vectorizer)"
   ]
  },
  {
   "cell_type": "markdown",
   "metadata": {},
   "source": [
    "## Category Prediction "
   ]
  },
  {
   "cell_type": "markdown",
   "metadata": {},
   "source": [
    "#### Pre-Processing"
   ]
  },
  {
   "cell_type": "markdown",
   "metadata": {},
   "source": [
    "X is the review word vector. y are the corresponding categories.\n",
    "\n",
    "The data is Min/max scaled into [0;1]. It isn't standartize because we want positive values. One could try a normalization (l1 or l2 for example)\n",
    "\n",
    "We split the data into a train and test set. \n",
    "\n",
    "tf/idf is not relevant since words that appear often might suggest a category (such as 'book')"
   ]
  },
  {
   "cell_type": "code",
   "execution_count": 15,
   "metadata": {
    "collapsed": false
   },
   "outputs": [],
   "source": [
    "X=documents_vec.toarray()\n",
    "y=df['category']\n",
    "categories=np.unique(y)"
   ]
  },
  {
   "cell_type": "code",
   "execution_count": 16,
   "metadata": {
    "collapsed": false
   },
   "outputs": [
    {
     "name": "stderr",
     "output_type": "stream",
     "text": [
      "/Users/fayezmourad/anaconda3/lib/python3.6/site-packages/sklearn/utils/validation.py:429: DataConversionWarning: Data with input dtype int64 was converted to float64 by MinMaxScaler.\n",
      "  warnings.warn(msg, _DataConversionWarning)\n"
     ]
    }
   ],
   "source": [
    "# Scaling the data\n",
    "X_scaled=[]\n",
    "for doc in X:\n",
    "    min_max_scaler = preprocessing.MinMaxScaler()\n",
    "    X_scaled.append(np.ravel(min_max_scaler.fit_transform(doc.reshape(-1, 1))))"
   ]
  },
  {
   "cell_type": "code",
   "execution_count": 17,
   "metadata": {
    "collapsed": true
   },
   "outputs": [],
   "source": [
    "X_train, X_test, y_train, y_test = train_test_split(X_scaled, y, test_size=0.2, random_state=random_state)"
   ]
  },
  {
   "cell_type": "code",
   "execution_count": 18,
   "metadata": {
    "collapsed": false
   },
   "outputs": [
    {
     "name": "stdout",
     "output_type": "stream",
     "text": [
      "[[ 0.  0.  0. ...,  0.  0.  0.]\n",
      " [ 0.  0.  0. ...,  0.  0.  0.]\n",
      " [ 0.  0.  0. ...,  0.  0.  0.]\n",
      " ..., \n",
      " [ 0.  0.  0. ...,  0.  0.  0.]\n",
      " [ 0.  0.  0. ...,  0.  0.  0.]\n",
      " [ 0.  0.  0. ...,  0.  0.  0.]]\n"
     ]
    }
   ],
   "source": [
    "# Numpy arrays\n",
    "X_train=np.array(X_train)\n",
    "X_test=np.array(X_test)\n",
    "y_train=np.array(y_train)\n",
    "y_test=np.array(y_test)\n",
    "print (X_train)"
   ]
  },
  {
   "cell_type": "markdown",
   "metadata": {},
   "source": [
    "#### dummy classifier"
   ]
  },
  {
   "cell_type": "markdown",
   "metadata": {},
   "source": [
    "Baseline model: Assign the categories randomly."
   ]
  },
  {
   "cell_type": "code",
   "execution_count": 19,
   "metadata": {
    "collapsed": false
   },
   "outputs": [
    {
     "name": "stdout",
     "output_type": "stream",
     "text": [
      "accuracy: 0.047047047047\n",
      "Execution time : 0.007409811019897461 seconds\n"
     ]
    }
   ],
   "source": [
    "start = time.time()\n",
    "\n",
    "y_pred=[]\n",
    "\n",
    "for i in range(X_test.shape[0]):\n",
    "    y_pred.append(categories[np.random.randint(0,24)])\n",
    "print(\"accuracy:\",accuracy_score(y_test,y_pred))\n",
    "\n",
    "end=time.time()\n",
    "print(\"Execution time : {} seconds\".format(end-start))"
   ]
  },
  {
   "cell_type": "markdown",
   "metadata": {},
   "source": [
    "#### Cosine similarity"
   ]
  },
  {
   "cell_type": "markdown",
   "metadata": {},
   "source": [
    "For each category  we regroup the documents belonging to this category together. Then for each element we want to predict, we check how similar it is compared to each group (cosine similarity). The most similar group gives the category to the element."
   ]
  },
  {
   "cell_type": "code",
   "execution_count": 20,
   "metadata": {
    "collapsed": false,
    "scrolled": true
   },
   "outputs": [
    {
     "name": "stdout",
     "output_type": "stream",
     "text": [
      "0\n",
      "100\n",
      "200\n",
      "300\n",
      "400\n",
      "500\n",
      "600\n",
      "700\n",
      "800\n",
      "900\n",
      "accuracy: 0.45045045045\n",
      "Execution time : 287.5315330028534 seconds\n"
     ]
    }
   ],
   "source": [
    "import warnings\n",
    "warnings.filterwarnings('ignore')\n",
    "\n",
    "start= time.time()\n",
    "# TODO: Optimizazion : precalculate the ref_documents\n",
    "y_pred=[]\n",
    "\n",
    "# For each element to predict\n",
    "for idx,x in enumerate(X_test):\n",
    "    if idx % 100 == 0:\n",
    "        print(idx)\n",
    "    \n",
    "    best_category=\"\"\n",
    "    best_sim=0\n",
    "    # for each category to check\n",
    "    for cat in categories:\n",
    "        # documents representing the category\n",
    "        ref_docs=X_train[[y_train==cat][0]]\n",
    "        # similarity between each reference document and the element\n",
    "        sim=cosine_similarity(ref_docs,x)\n",
    "        # If overall similarity better than best, change best\n",
    "        if(np.sum(sim)/len(ref_docs)>best_sim):\n",
    "            best_sim=np.sum(sim)/len(ref_docs)\n",
    "            best_category=cat\n",
    "    # Assign best category\n",
    "    y_pred.append(best_category)\n",
    "print(\"accuracy:\",accuracy_score(y_test,y_pred))\n",
    "\n",
    "end=time.time()\n",
    "print(\"Execution time : {} seconds\".format(end-start))"
   ]
  },
  {
   "cell_type": "markdown",
   "metadata": {},
   "source": [
    "#### Decision tree"
   ]
  },
  {
   "cell_type": "markdown",
   "metadata": {},
   "source": [
    "Try various maximum depths for a classic decision tree classifier"
   ]
  },
  {
   "cell_type": "code",
   "execution_count": 21,
   "metadata": {
    "collapsed": false
   },
   "outputs": [
    {
     "name": "stdout",
     "output_type": "stream",
     "text": [
      "1\n",
      "11\n",
      "21\n",
      "31\n",
      "41\n",
      "51\n",
      "61\n",
      "71\n",
      "81\n",
      "91\n",
      "101\n",
      "111\n",
      "121\n",
      "131\n",
      "141\n",
      "151\n",
      "161\n",
      "171\n",
      "181\n",
      "191\n",
      "201\n",
      "211\n",
      "221\n",
      "231\n",
      "241\n",
      "251\n",
      "261\n",
      "271\n",
      "281\n",
      "291\n",
      "301\n",
      "311\n",
      "321\n",
      "331\n",
      "341\n",
      "351\n",
      "361\n",
      "371\n",
      "381\n",
      "391\n",
      "401\n",
      "411\n",
      "421\n",
      "431\n",
      "441\n",
      "451\n",
      "461\n",
      "471\n",
      "481\n",
      "491\n"
     ]
    },
    {
     "data": {
      "image/png": "[encoded data removed]",
      "text/plain": [
       "<matplotlib.figure.Figure at 0x1346f5fd0>"
      ]
     },
     "metadata": {},
     "output_type": "display_data"
    },
    {
     "name": "stdout",
     "output_type": "stream",
     "text": [
      "best depth= 211 with accuracy score: 0.37037037037\n",
      "Execution time : 385.6638617515564 seconds\n"
     ]
    }
   ],
   "source": [
    "start=time.time()\n",
    "\n",
    "accuracy=[]\n",
    "depths=range(1,500,10)\n",
    "# Check various max_depth\n",
    "for max_depth in depths:\n",
    "    print(max_depth)\n",
    "    # fit regression model with different tree depths\n",
    "    reg_tree = DecisionTreeClassifier(max_depth=max_depth, random_state=random_state,)\n",
    "    reg_tree.fit(X_train, y_train)\n",
    "    # predict a synthetic test data\n",
    "    y_pred = reg_tree.predict(X_test)\n",
    "    accuracy.append(accuracy_score(y_test,y_pred))\n",
    "\n",
    "# Plot\n",
    "plt.plot(depths,accuracy)\n",
    "plt.ylabel(\"accuracy Score\")\n",
    "plt.xlabel(\"Max depth\")\n",
    "plt.show()\n",
    "best_depth=depths[np.argmax(accuracy)]\n",
    "print(\"best depth=\",best_depth,\"with accuracy score:\", np.max(accuracy))\n",
    "\n",
    "end=time.time()\n",
    "print(\"Execution time : {} seconds\".format(end-start))"
   ]
  },
  {
   "cell_type": "markdown",
   "metadata": {},
   "source": [
    "#### K nearest neighbors"
   ]
  },
  {
   "cell_type": "code",
   "execution_count": 22,
   "metadata": {
    "collapsed": false
   },
   "outputs": [
    {
     "name": "stdout",
     "output_type": "stream",
     "text": [
      "1\n",
      "4\n",
      "7\n",
      "10\n",
      "13\n",
      "16\n",
      "19\n",
      "22\n",
      "25\n",
      "28\n",
      "31\n",
      "34\n",
      "37\n",
      "40\n",
      "43\n",
      "46\n",
      "49\n"
     ]
    },
    {
     "data": {
      "image/png": "[encoded data removed]",
      "text/plain": [
       "<matplotlib.figure.Figure at 0x134741048>"
      ]
     },
     "metadata": {},
     "output_type": "display_data"
    },
    {
     "name": "stdout",
     "output_type": "stream",
     "text": [
      "best number of neighbors= 19 with accuracy score: 0.256256256256\n",
      "Execution time : 482.59851694107056 seconds\n"
     ]
    }
   ],
   "source": [
    "start=time.time()\n",
    "\n",
    "accuracy=[]\n",
    "num_neighbors=range(1,50,3)\n",
    "# Check various number neighbors\n",
    "for neighbors in num_neighbors:\n",
    "    print(neighbors)\n",
    "    # fit regression model with different number of neighbors\n",
    "    knn = KNeighborsClassifier(n_neighbors=neighbors, weights='distance')\n",
    "    knn.fit(X_train, y_train)\n",
    "    # predict a synthetic test data\n",
    "    y_pred = knn.predict(X_test)\n",
    "    accuracy.append(accuracy_score(y_test,y_pred))\n",
    "\n",
    "# Plot\n",
    "plt.plot(num_neighbors,accuracy)\n",
    "plt.ylabel(\"accuracy Score\")\n",
    "plt.xlabel(\"Number of neighbors\")\n",
    "plt.show()\n",
    "best_num_neighbors=num_neighbors[np.argmax(accuracy)]\n",
    "print(\"best number of neighbors=\",best_num_neighbors,\"with accuracy score:\", np.max(accuracy))\n",
    "\n",
    "end=time.time()\n",
    "print(\"Execution time : {} seconds\".format(end-start))"
   ]
  },
  {
   "cell_type": "markdown",
   "metadata": {},
   "source": [
    "#### SVM"
   ]
  },
  {
   "cell_type": "code",
   "execution_count": 24,
   "metadata": {
    "collapsed": false
   },
   "outputs": [
    {
     "name": "stdout",
     "output_type": "stream",
     "text": [
      "1e-05\n",
      "0.0001\n",
      "0.001\n",
      "0.01\n",
      "0.1\n",
      "1.0\n",
      "10.0\n",
      "100.0\n",
      "1000.0\n",
      "10000.0\n",
      "100000.0\n"
     ]
    },
    {
     "ename": "ValueError",
     "evalue": "x and y must have same first dimension, but have shapes (1,) and (11,)",
     "output_type": "error",
     "traceback": [
      "\u001b[0;31m---------------------------------------------------------------------------\u001b[0m",
      "\u001b[0;31mValueError\u001b[0m                                Traceback (most recent call last)",
      "\u001b[0;32m<ipython-input-24-908edc81f752>\u001b[0m in \u001b[0;36m<module>\u001b[0;34m()\u001b[0m\n\u001b[1;32m     14\u001b[0m \u001b[0;34m\u001b[0m\u001b[0m\n\u001b[1;32m     15\u001b[0m \u001b[0;31m# Plot\u001b[0m\u001b[0;34m\u001b[0m\u001b[0;34m\u001b[0m\u001b[0m\n\u001b[0;32m---> 16\u001b[0;31m \u001b[0mplt\u001b[0m\u001b[0;34m.\u001b[0m\u001b[0mplot\u001b[0m\u001b[0;34m(\u001b[0m\u001b[0mc_parameter\u001b[0m\u001b[0;34m,\u001b[0m\u001b[0maccuracy\u001b[0m\u001b[0;34m)\u001b[0m\u001b[0;34m\u001b[0m\u001b[0m\n\u001b[0m\u001b[1;32m     17\u001b[0m \u001b[0mplt\u001b[0m\u001b[0;34m.\u001b[0m\u001b[0mylabel\u001b[0m\u001b[0;34m(\u001b[0m\u001b[0;34m\"accuracy Score\"\u001b[0m\u001b[0;34m)\u001b[0m\u001b[0;34m\u001b[0m\u001b[0m\n\u001b[1;32m     18\u001b[0m \u001b[0mplt\u001b[0m\u001b[0;34m.\u001b[0m\u001b[0mxlabel\u001b[0m\u001b[0;34m(\u001b[0m\u001b[0;34m\"C values\"\u001b[0m\u001b[0;34m)\u001b[0m\u001b[0;34m\u001b[0m\u001b[0m\n",
      "\u001b[0;32m/Users/fayezmourad/anaconda3/lib/python3.6/site-packages/matplotlib/pyplot.py\u001b[0m in \u001b[0;36mplot\u001b[0;34m(*args, **kwargs)\u001b[0m\n\u001b[1;32m   3316\u001b[0m                       mplDeprecation)\n\u001b[1;32m   3317\u001b[0m     \u001b[0;32mtry\u001b[0m\u001b[0;34m:\u001b[0m\u001b[0;34m\u001b[0m\u001b[0m\n\u001b[0;32m-> 3318\u001b[0;31m         \u001b[0mret\u001b[0m \u001b[0;34m=\u001b[0m \u001b[0max\u001b[0m\u001b[0;34m.\u001b[0m\u001b[0mplot\u001b[0m\u001b[0;34m(\u001b[0m\u001b[0;34m*\u001b[0m\u001b[0margs\u001b[0m\u001b[0;34m,\u001b[0m \u001b[0;34m**\u001b[0m\u001b[0mkwargs\u001b[0m\u001b[0;34m)\u001b[0m\u001b[0;34m\u001b[0m\u001b[0m\n\u001b[0m\u001b[1;32m   3319\u001b[0m     \u001b[0;32mfinally\u001b[0m\u001b[0;34m:\u001b[0m\u001b[0;34m\u001b[0m\u001b[0m\n\u001b[1;32m   3320\u001b[0m         \u001b[0max\u001b[0m\u001b[0;34m.\u001b[0m\u001b[0m_hold\u001b[0m \u001b[0;34m=\u001b[0m \u001b[0mwashold\u001b[0m\u001b[0;34m\u001b[0m\u001b[0m\n",
      "\u001b[0;32m/Users/fayezmourad/anaconda3/lib/python3.6/site-packages/matplotlib/__init__.py\u001b[0m in \u001b[0;36minner\u001b[0;34m(ax, *args, **kwargs)\u001b[0m\n\u001b[1;32m   1890\u001b[0m                     warnings.warn(msg % (label_namer, func.__name__),\n\u001b[1;32m   1891\u001b[0m                                   RuntimeWarning, stacklevel=2)\n\u001b[0;32m-> 1892\u001b[0;31m             \u001b[0;32mreturn\u001b[0m \u001b[0mfunc\u001b[0m\u001b[0;34m(\u001b[0m\u001b[0max\u001b[0m\u001b[0;34m,\u001b[0m \u001b[0;34m*\u001b[0m\u001b[0margs\u001b[0m\u001b[0;34m,\u001b[0m \u001b[0;34m**\u001b[0m\u001b[0mkwargs\u001b[0m\u001b[0;34m)\u001b[0m\u001b[0;34m\u001b[0m\u001b[0m\n\u001b[0m\u001b[1;32m   1893\u001b[0m         \u001b[0mpre_doc\u001b[0m \u001b[0;34m=\u001b[0m \u001b[0minner\u001b[0m\u001b[0;34m.\u001b[0m\u001b[0m__doc__\u001b[0m\u001b[0;34m\u001b[0m\u001b[0m\n\u001b[1;32m   1894\u001b[0m         \u001b[0;32mif\u001b[0m \u001b[0mpre_doc\u001b[0m \u001b[0;32mis\u001b[0m \u001b[0;32mNone\u001b[0m\u001b[0;34m:\u001b[0m\u001b[0;34m\u001b[0m\u001b[0m\n",
      "\u001b[0;32m/Users/fayezmourad/anaconda3/lib/python3.6/site-packages/matplotlib/axes/_axes.py\u001b[0m in \u001b[0;36mplot\u001b[0;34m(self, *args, **kwargs)\u001b[0m\n\u001b[1;32m   1404\u001b[0m         \u001b[0mkwargs\u001b[0m \u001b[0;34m=\u001b[0m \u001b[0mcbook\u001b[0m\u001b[0;34m.\u001b[0m\u001b[0mnormalize_kwargs\u001b[0m\u001b[0;34m(\u001b[0m\u001b[0mkwargs\u001b[0m\u001b[0;34m,\u001b[0m \u001b[0m_alias_map\u001b[0m\u001b[0;34m)\u001b[0m\u001b[0;34m\u001b[0m\u001b[0m\n\u001b[1;32m   1405\u001b[0m \u001b[0;34m\u001b[0m\u001b[0m\n\u001b[0;32m-> 1406\u001b[0;31m         \u001b[0;32mfor\u001b[0m \u001b[0mline\u001b[0m \u001b[0;32min\u001b[0m \u001b[0mself\u001b[0m\u001b[0;34m.\u001b[0m\u001b[0m_get_lines\u001b[0m\u001b[0;34m(\u001b[0m\u001b[0;34m*\u001b[0m\u001b[0margs\u001b[0m\u001b[0;34m,\u001b[0m \u001b[0;34m**\u001b[0m\u001b[0mkwargs\u001b[0m\u001b[0;34m)\u001b[0m\u001b[0;34m:\u001b[0m\u001b[0;34m\u001b[0m\u001b[0m\n\u001b[0m\u001b[1;32m   1407\u001b[0m             \u001b[0mself\u001b[0m\u001b[0;34m.\u001b[0m\u001b[0madd_line\u001b[0m\u001b[0;34m(\u001b[0m\u001b[0mline\u001b[0m\u001b[0;34m)\u001b[0m\u001b[0;34m\u001b[0m\u001b[0m\n\u001b[1;32m   1408\u001b[0m             \u001b[0mlines\u001b[0m\u001b[0;34m.\u001b[0m\u001b[0mappend\u001b[0m\u001b[0;34m(\u001b[0m\u001b[0mline\u001b[0m\u001b[0;34m)\u001b[0m\u001b[0;34m\u001b[0m\u001b[0m\n",
      "\u001b[0;32m/Users/fayezmourad/anaconda3/lib/python3.6/site-packages/matplotlib/axes/_base.py\u001b[0m in \u001b[0;36m_grab_next_args\u001b[0;34m(self, *args, **kwargs)\u001b[0m\n\u001b[1;32m    405\u001b[0m                 \u001b[0;32mreturn\u001b[0m\u001b[0;34m\u001b[0m\u001b[0m\n\u001b[1;32m    406\u001b[0m             \u001b[0;32mif\u001b[0m \u001b[0mlen\u001b[0m\u001b[0;34m(\u001b[0m\u001b[0mremaining\u001b[0m\u001b[0;34m)\u001b[0m \u001b[0;34m<=\u001b[0m \u001b[0;36m3\u001b[0m\u001b[0;34m:\u001b[0m\u001b[0;34m\u001b[0m\u001b[0m\n\u001b[0;32m--> 407\u001b[0;31m                 \u001b[0;32mfor\u001b[0m \u001b[0mseg\u001b[0m \u001b[0;32min\u001b[0m \u001b[0mself\u001b[0m\u001b[0;34m.\u001b[0m\u001b[0m_plot_args\u001b[0m\u001b[0;34m(\u001b[0m\u001b[0mremaining\u001b[0m\u001b[0;34m,\u001b[0m \u001b[0mkwargs\u001b[0m\u001b[0;34m)\u001b[0m\u001b[0;34m:\u001b[0m\u001b[0;34m\u001b[0m\u001b[0m\n\u001b[0m\u001b[1;32m    408\u001b[0m                     \u001b[0;32myield\u001b[0m \u001b[0mseg\u001b[0m\u001b[0;34m\u001b[0m\u001b[0m\n\u001b[1;32m    409\u001b[0m                 \u001b[0;32mreturn\u001b[0m\u001b[0;34m\u001b[0m\u001b[0m\n",
      "\u001b[0;32m/Users/fayezmourad/anaconda3/lib/python3.6/site-packages/matplotlib/axes/_base.py\u001b[0m in \u001b[0;36m_plot_args\u001b[0;34m(self, tup, kwargs)\u001b[0m\n\u001b[1;32m    383\u001b[0m             \u001b[0mx\u001b[0m\u001b[0;34m,\u001b[0m \u001b[0my\u001b[0m \u001b[0;34m=\u001b[0m \u001b[0mindex_of\u001b[0m\u001b[0;34m(\u001b[0m\u001b[0mtup\u001b[0m\u001b[0;34m[\u001b[0m\u001b[0;34m-\u001b[0m\u001b[0;36m1\u001b[0m\u001b[0;34m]\u001b[0m\u001b[0;34m)\u001b[0m\u001b[0;34m\u001b[0m\u001b[0m\n\u001b[1;32m    384\u001b[0m \u001b[0;34m\u001b[0m\u001b[0m\n\u001b[0;32m--> 385\u001b[0;31m         \u001b[0mx\u001b[0m\u001b[0;34m,\u001b[0m \u001b[0my\u001b[0m \u001b[0;34m=\u001b[0m \u001b[0mself\u001b[0m\u001b[0;34m.\u001b[0m\u001b[0m_xy_from_xy\u001b[0m\u001b[0;34m(\u001b[0m\u001b[0mx\u001b[0m\u001b[0;34m,\u001b[0m \u001b[0my\u001b[0m\u001b[0;34m)\u001b[0m\u001b[0;34m\u001b[0m\u001b[0m\n\u001b[0m\u001b[1;32m    386\u001b[0m \u001b[0;34m\u001b[0m\u001b[0m\n\u001b[1;32m    387\u001b[0m         \u001b[0;32mif\u001b[0m \u001b[0mself\u001b[0m\u001b[0;34m.\u001b[0m\u001b[0mcommand\u001b[0m \u001b[0;34m==\u001b[0m \u001b[0;34m'plot'\u001b[0m\u001b[0;34m:\u001b[0m\u001b[0;34m\u001b[0m\u001b[0m\n",
      "\u001b[0;32m/Users/fayezmourad/anaconda3/lib/python3.6/site-packages/matplotlib/axes/_base.py\u001b[0m in \u001b[0;36m_xy_from_xy\u001b[0;34m(self, x, y)\u001b[0m\n\u001b[1;32m    242\u001b[0m         \u001b[0;32mif\u001b[0m \u001b[0mx\u001b[0m\u001b[0;34m.\u001b[0m\u001b[0mshape\u001b[0m\u001b[0;34m[\u001b[0m\u001b[0;36m0\u001b[0m\u001b[0;34m]\u001b[0m \u001b[0;34m!=\u001b[0m \u001b[0my\u001b[0m\u001b[0;34m.\u001b[0m\u001b[0mshape\u001b[0m\u001b[0;34m[\u001b[0m\u001b[0;36m0\u001b[0m\u001b[0;34m]\u001b[0m\u001b[0;34m:\u001b[0m\u001b[0;34m\u001b[0m\u001b[0m\n\u001b[1;32m    243\u001b[0m             raise ValueError(\"x and y must have same first dimension, but \"\n\u001b[0;32m--> 244\u001b[0;31m                              \"have shapes {} and {}\".format(x.shape, y.shape))\n\u001b[0m\u001b[1;32m    245\u001b[0m         \u001b[0;32mif\u001b[0m \u001b[0mx\u001b[0m\u001b[0;34m.\u001b[0m\u001b[0mndim\u001b[0m \u001b[0;34m>\u001b[0m \u001b[0;36m2\u001b[0m \u001b[0;32mor\u001b[0m \u001b[0my\u001b[0m\u001b[0;34m.\u001b[0m\u001b[0mndim\u001b[0m \u001b[0;34m>\u001b[0m \u001b[0;36m2\u001b[0m\u001b[0;34m:\u001b[0m\u001b[0;34m\u001b[0m\u001b[0m\n\u001b[1;32m    246\u001b[0m             raise ValueError(\"x and y can be no greater than 2-D, but have \"\n",
      "\u001b[0;31mValueError\u001b[0m: x and y must have same first dimension, but have shapes (1,) and (11,)"
     ]
    }
   ],
   "source": [
    "start=time.time()\n",
    "\n",
    "accuracy=[]\n",
    "C = np.logspace(-5,5,11)\n",
    "# Check various C\n",
    "for c_parameter in C:\n",
    "    print(c_parameter)\n",
    "    # fit SVC with rbf kernel\n",
    "    scv_clf = SVC(C=c_parameter)\n",
    "    scv_clf.fit(X_train, y_train)\n",
    "    # predict a synthetic test data\n",
    "    y_pred = scv_clf.predict(X_test)\n",
    "    accuracy.append(accuracy_score(y_test,y_pred))\n",
    "\n",
    "# Plot\n",
    "plt.plot(c_parameter,accuracy)\n",
    "plt.ylabel(\"accuracy Score\")\n",
    "plt.xlabel(\"C values\")\n",
    "plt.show()\n",
    "\n",
    "end=time.time()\n",
    "print(\"Execution time : {} seconds\".format(end-start))"
   ]
  },
  {
   "cell_type": "code",
   "execution_count": 26,
   "metadata": {
    "collapsed": false
   },
   "outputs": [
    {
     "name": "stdout",
     "output_type": "stream",
     "text": [
      "best C= 1000.0 with accuracy score: 0.466466466466\n"
     ]
    }
   ],
   "source": [
    "best_C= C[np.argmax(accuracy)]\n",
    "print(\"best C=\",best_C,\"with accuracy score:\", np.max(accuracy))"
   ]
  },
  {
   "cell_type": "markdown",
   "metadata": {},
   "source": [
    "## We should use Cross validation no ?"
   ]
  },
  {
   "cell_type": "markdown",
   "metadata": {
    "collapsed": false
   },
   "source": [
    "#### Fast text analysis (to be done later)"
   ]
  },
  {
   "cell_type": "markdown",
   "metadata": {},
   "source": [
    "#### Is giving wrong results will look at it later"
   ]
  },
  {
   "cell_type": "code",
   "execution_count": 76,
   "metadata": {
    "collapsed": false
   },
   "outputs": [
    {
     "data": {
      "text/html": [
       "<div>\n",
       "<table border=\"1\" class=\"dataframe\">\n",
       "  <thead>\n",
       "    <tr style=\"text-align: right;\">\n",
       "      <th></th>\n",
       "      <th>asin</th>\n",
       "      <th>category</th>\n",
       "      <th>helpful</th>\n",
       "      <th>overall</th>\n",
       "      <th>reviewText</th>\n",
       "      <th>reviewTime</th>\n",
       "      <th>reviewerID</th>\n",
       "      <th>reviewerName</th>\n",
       "      <th>summary</th>\n",
       "      <th>unixReviewTime</th>\n",
       "    </tr>\n",
       "  </thead>\n",
       "  <tbody>\n",
       "    <tr>\n",
       "      <th>32311</th>\n",
       "      <td>B00109US84</td>\n",
       "      <td>Clothing_Shoes_and_Jewelry</td>\n",
       "      <td>[0, 0]</td>\n",
       "      <td>5</td>\n",
       "      <td>I purchased this dress for my oldest daughter ...</td>\n",
       "      <td>11 17, 2011</td>\n",
       "      <td>AFT0MSD3TM9CK</td>\n",
       "      <td>J. Leonard</td>\n",
       "      <td>Great Dress, Great Price and Great Color</td>\n",
       "      <td>1321488000</td>\n",
       "    </tr>\n",
       "    <tr>\n",
       "      <th>90348</th>\n",
       "      <td>B000VJ7PC6</td>\n",
       "      <td>Beauty</td>\n",
       "      <td>[0, 0]</td>\n",
       "      <td>5</td>\n",
       "      <td>Smelled this at Ulta and it is delicious. I pi...</td>\n",
       "      <td>02 15, 2013</td>\n",
       "      <td>A1EMYTJKY3NA9F</td>\n",
       "      <td>oldfriends</td>\n",
       "      <td>Fuel For Life Homme</td>\n",
       "      <td>1360886400</td>\n",
       "    </tr>\n",
       "    <tr>\n",
       "      <th>19274</th>\n",
       "      <td>B001BOKGDU</td>\n",
       "      <td>Home_and_Kitchen</td>\n",
       "      <td>[0, 0]</td>\n",
       "      <td>1</td>\n",
       "      <td>I never could make this coffeemaker produce de...</td>\n",
       "      <td>06 6, 2013</td>\n",
       "      <td>ABXCC3A0JFQ8Q</td>\n",
       "      <td>carefulshopper</td>\n",
       "      <td>Made terrible coffee...</td>\n",
       "      <td>1370476800</td>\n",
       "    </tr>\n",
       "    <tr>\n",
       "      <th>62697</th>\n",
       "      <td>B005BYZAWI</td>\n",
       "      <td>Tools_and_Home_Improvement</td>\n",
       "      <td>[0, 0]</td>\n",
       "      <td>4</td>\n",
       "      <td>Not sure how long they last yet, but they seem...</td>\n",
       "      <td>11 21, 2013</td>\n",
       "      <td>A32UFI1Y91JUU1</td>\n",
       "      <td>Scott C Jones \"HenryJonesJr\"</td>\n",
       "      <td>Great buy.</td>\n",
       "      <td>1384992000</td>\n",
       "    </tr>\n",
       "    <tr>\n",
       "      <th>39787</th>\n",
       "      <td>B000FJYSHW</td>\n",
       "      <td>Patio_Lawn_and_Garden</td>\n",
       "      <td>[0, 0]</td>\n",
       "      <td>5</td>\n",
       "      <td>I got one of these to replace a &amp;#34;plastic&amp;#...</td>\n",
       "      <td>07 19, 2013</td>\n",
       "      <td>A2IX2PCXS5O2FK</td>\n",
       "      <td>Mike In San Diego</td>\n",
       "      <td>dihydrogen monoxide diverter!</td>\n",
       "      <td>1374192000</td>\n",
       "    </tr>\n",
       "  </tbody>\n",
       "</table>\n",
       "</div>"
      ],
      "text/plain": [
       "             asin                    category helpful  overall  \\\n",
       "32311  B00109US84  Clothing_Shoes_and_Jewelry  [0, 0]        5   \n",
       "90348  B000VJ7PC6                      Beauty  [0, 0]        5   \n",
       "19274  B001BOKGDU            Home_and_Kitchen  [0, 0]        1   \n",
       "62697  B005BYZAWI  Tools_and_Home_Improvement  [0, 0]        4   \n",
       "39787  B000FJYSHW       Patio_Lawn_and_Garden  [0, 0]        5   \n",
       "\n",
       "                                              reviewText   reviewTime  \\\n",
       "32311  I purchased this dress for my oldest daughter ...  11 17, 2011   \n",
       "90348  Smelled this at Ulta and it is delicious. I pi...  02 15, 2013   \n",
       "19274  I never could make this coffeemaker produce de...   06 6, 2013   \n",
       "62697  Not sure how long they last yet, but they seem...  11 21, 2013   \n",
       "39787  I got one of these to replace a &#34;plastic&#...  07 19, 2013   \n",
       "\n",
       "           reviewerID                  reviewerName  \\\n",
       "32311   AFT0MSD3TM9CK                    J. Leonard   \n",
       "90348  A1EMYTJKY3NA9F                    oldfriends   \n",
       "19274   ABXCC3A0JFQ8Q                carefulshopper   \n",
       "62697  A32UFI1Y91JUU1  Scott C Jones \"HenryJonesJr\"   \n",
       "39787  A2IX2PCXS5O2FK             Mike In San Diego   \n",
       "\n",
       "                                        summary  unixReviewTime  \n",
       "32311  Great Dress, Great Price and Great Color      1321488000  \n",
       "90348                       Fuel For Life Homme      1360886400  \n",
       "19274                   Made terrible coffee...      1370476800  \n",
       "62697                                Great buy.      1384992000  \n",
       "39787             dihydrogen monoxide diverter!      1374192000  "
      ]
     },
     "execution_count": 76,
     "metadata": {},
     "output_type": "execute_result"
    }
   ],
   "source": [
    "#Reload the data without any preprocessing to use fasttext\n",
    "#The model with preprocessed data didn't give good results\n",
    "df = pd.read_json(path_or_buf='amazon_step1.json',orient='records',lines=True)\n",
    "df = df.sample(50000,random_state=random_state)\n",
    "df.head()"
   ]
  },
  {
   "cell_type": "code",
   "execution_count": 73,
   "metadata": {
    "collapsed": false
   },
   "outputs": [],
   "source": [
    "#split df into train and test\n",
    "df['category'] = '__label__' + df['category'].astype(str)\n",
    "msk = np.random.rand(len(df)) < 0.8\n",
    "df_train = df[msk]\n",
    "df_test = df[~msk]"
   ]
  },
  {
   "cell_type": "code",
   "execution_count": 74,
   "metadata": {
    "collapsed": false
   },
   "outputs": [],
   "source": [
    "#Load training model with labels\n",
    "df_train.to_csv(\"train.csv\", columns=['category','reviewText'],index=False,header=False)\n",
    "#Load test model without labels\n",
    "df_test.to_csv(\"test.csv\",columns=['category','reviewText'],index=False,header=False)"
   ]
  },
  {
   "cell_type": "code",
   "execution_count": 75,
   "metadata": {
    "collapsed": false
   },
   "outputs": [],
   "source": [
    "classifier = fasttext.supervised('train.csv', 'model')"
   ]
  },
  {
   "cell_type": "code",
   "execution_count": 95,
   "metadata": {
    "collapsed": false
   },
   "outputs": [],
   "source": [
    "np_df = df.as_matrix()"
   ]
  },
  {
   "cell_type": "code",
   "execution_count": 98,
   "metadata": {
    "collapsed": false
   },
   "outputs": [
    {
     "name": "stdout",
     "output_type": "stream",
     "text": [
      "Home_and_Kitchen\n",
      "I never could make this coffeemaker produce decent coffee, and I have been using coffeemakers successfully for years (my last one, another brand, just finally burned out.)  So I sent the Black and Decker back with my regrets... \n",
      "\n",
      "[['Apps_for_Android,I'], ['Patio_Lawn_and_Garden,'], ['Beauty,\"Smelled'], ['Beauty,\"Smelled'], ['Beauty,\"Smelled'], ['Beauty,\"Smelled'], ['Beauty,\"Smelled'], ['Patio_Lawn_and_Garden,'], ['Beauty,\"Smelled'], ['Beauty,\"Smelled'], ['Beauty,\"Smelled'], ['Beauty,\"Smelled'], ['Beauty,\"Smelled'], ['Patio_Lawn_and_Garden,'], ['Beauty,\"Smelled'], ['Beauty,\"Smelled'], ['Beauty,\"Smelled'], ['Beauty,\"Smelled'], ['Patio_Lawn_and_Garden,'], ['Beauty,\"Smelled'], ['Beauty,\"Smelled'], ['Patio_Lawn_and_Garden,'], ['Beauty,\"Smelled'], ['Patio_Lawn_and_Garden,'], ['Beauty,\"Smelled'], ['Beauty,\"Smelled'], ['Beauty,\"Smelled'], ['Beauty,\"Smelled'], ['Beauty,\"Smelled'], ['Beauty,\"Smelled'], ['Beauty,\"Smelled'], ['Beauty,\"Smelled'], ['Beauty,\"Smelled'], ['Beauty,\"Smelled'], ['Beauty,\"Smelled'], ['Patio_Lawn_and_Garden,'], ['Beauty,\"Smelled'], ['Beauty,\"Smelled'], ['Beauty,\"Smelled'], ['Beauty,\"Smelled'], ['Beauty,\"Smelled'], ['Beauty,\"Smelled'], ['Beauty,\"Smelled'], ['Patio_Lawn_and_Garden,'], ['Beauty,\"Smelled'], ['Beauty,\"Smelled'], ['Beauty,\"Smelled'], ['Beauty,\"Smelled'], ['Beauty,\"Smelled'], ['Beauty,\"Smelled'], ['Patio_Lawn_and_Garden,'], ['Beauty,\"Smelled'], ['Beauty,\"Smelled'], ['Beauty,\"Smelled'], ['Beauty,\"Smelled'], ['Beauty,\"Smelled'], ['Beauty,\"Smelled'], ['Beauty,\"Smelled'], ['Patio_Lawn_and_Garden,'], ['Beauty,\"Smelled'], ['Beauty,\"Smelled'], ['Beauty,\"Smelled'], ['Patio_Lawn_and_Garden,'], ['Apps_for_Android,I'], ['Patio_Lawn_and_Garden,'], ['Beauty,\"Smelled'], ['Beauty,\"Smelled'], ['Beauty,\"Smelled'], ['Beauty,\"Smelled'], ['Patio_Lawn_and_Garden,'], ['Beauty,\"Smelled'], ['Beauty,\"Smelled'], ['Beauty,\"Smelled'], ['Beauty,\"Smelled'], ['Patio_Lawn_and_Garden,'], ['Beauty,\"Smelled'], ['Beauty,\"Smelled'], ['Patio_Lawn_and_Garden,'], ['Beauty,\"Smelled'], ['Beauty,\"Smelled'], ['Patio_Lawn_and_Garden,'], ['Beauty,\"Smelled'], ['Beauty,\"Smelled'], ['Beauty,\"Smelled'], ['Beauty,\"Smelled'], ['Beauty,\"Smelled'], ['Beauty,\"Smelled'], ['Beauty,\"Smelled'], ['Beauty,\"Smelled'], ['Beauty,\"Smelled'], ['Beauty,\"Smelled'], ['Beauty,\"Smelled'], ['Beauty,\"Smelled'], ['Patio_Lawn_and_Garden,'], ['Beauty,\"Smelled'], ['Beauty,\"Smelled'], ['Beauty,\"Smelled'], ['Beauty,\"Smelled'], ['Beauty,\"Smelled'], ['Beauty,\"Smelled'], ['Beauty,\"Smelled'], ['Beauty,\"Smelled'], ['Beauty,\"Smelled'], ['Beauty,\"Smelled'], ['Beauty,\"Smelled'], ['Beauty,\"Smelled'], ['Patio_Lawn_and_Garden,'], ['Beauty,\"Smelled'], ['Beauty,\"Smelled'], ['Beauty,\"Smelled'], ['Patio_Lawn_and_Garden,'], ['Beauty,\"Smelled'], ['Beauty,\"Smelled'], ['Beauty,\"Smelled'], ['Beauty,\"Smelled'], ['Beauty,\"Smelled'], ['Patio_Lawn_and_Garden,'], ['Beauty,\"Smelled'], ['Beauty,\"Smelled'], ['Beauty,\"Smelled'], ['Patio_Lawn_and_Garden,'], ['Beauty,\"Smelled'], ['Beauty,\"Smelled'], ['Beauty,\"Smelled'], ['Beauty,\"Smelled'], ['Patio_Lawn_and_Garden,'], ['Beauty,\"Smelled'], ['Beauty,\"Smelled'], ['Beauty,\"Smelled'], ['Beauty,\"Smelled'], ['Patio_Lawn_and_Garden,'], ['Beauty,\"Smelled'], ['Beauty,\"Smelled'], ['Beauty,\"Smelled'], ['Beauty,\"Smelled'], ['Beauty,\"Smelled'], ['Beauty,\"Smelled'], ['Beauty,\"Smelled'], ['Patio_Lawn_and_Garden,'], ['Beauty,\"Smelled'], ['Beauty,\"Smelled'], ['Beauty,\"Smelled'], ['Beauty,\"Smelled'], ['Beauty,\"Smelled'], ['Beauty,\"Smelled'], ['Patio_Lawn_and_Garden,'], ['Beauty,\"Smelled'], ['Beauty,\"Smelled'], ['Beauty,\"Smelled'], ['Beauty,\"Smelled'], ['Patio_Lawn_and_Garden,'], ['Beauty,\"Smelled'], ['Patio_Lawn_and_Garden,'], ['Beauty,\"Smelled'], ['Beauty,\"Smelled'], ['Beauty,\"Smelled'], ['Beauty,\"Smelled'], ['Beauty,\"Smelled'], ['Patio_Lawn_and_Garden,'], ['Beauty,\"Smelled'], ['Beauty,\"Smelled'], ['Beauty,\"Smelled'], ['Beauty,\"Smelled'], ['Beauty,\"Smelled'], ['Beauty,\"Smelled'], ['Patio_Lawn_and_Garden,'], ['Beauty,\"Smelled'], ['Beauty,\"Smelled'], ['Beauty,\"Smelled'], ['Beauty,\"Smelled'], ['Beauty,\"Smelled'], ['Patio_Lawn_and_Garden,'], ['Patio_Lawn_and_Garden,'], ['Beauty,\"Smelled'], ['Beauty,\"Smelled'], ['Patio_Lawn_and_Garden,'], ['Apps_for_Android,I'], ['Patio_Lawn_and_Garden,'], ['Beauty,\"Smelled'], ['Beauty,\"Smelled'], ['Beauty,\"Smelled'], ['Beauty,\"Smelled'], ['Patio_Lawn_and_Garden,'], ['Beauty,\"Smelled'], ['Beauty,\"Smelled'], ['Beauty,\"Smelled'], ['Patio_Lawn_and_Garden,'], ['Beauty,\"Smelled'], ['Beauty,\"Smelled'], ['Beauty,\"Smelled'], ['Beauty,\"Smelled'], ['Beauty,\"Smelled'], ['Patio_Lawn_and_Garden,'], ['Beauty,\"Smelled'], ['Beauty,\"Smelled'], ['Beauty,\"Smelled'], ['Patio_Lawn_and_Garden,'], ['Beauty,\"Smelled'], ['Beauty,\"Smelled'], ['Beauty,\"Smelled'], ['Beauty,\"Smelled'], ['Beauty,\"Smelled'], ['Beauty,\"Smelled'], ['Patio_Lawn_and_Garden,'], ['Beauty,\"Smelled'], ['Beauty,\"Smelled'], ['Beauty,\"Smelled'], ['Beauty,\"Smelled'], ['Patio_Lawn_and_Garden,'], ['Beauty,\"Smelled'], ['Patio_Lawn_and_Garden,'], ['Beauty,\"Smelled'], ['Beauty,\"Smelled'], ['Patio_Lawn_and_Garden,'], ['Beauty,\"Smelled'], ['Beauty,\"Smelled'], ['Patio_Lawn_and_Garden,'], ['Beauty,\"Smelled'], ['Beauty,\"Smelled'], ['Beauty,\"Smelled'], ['Beauty,\"Smelled'], ['Beauty,\"Smelled'], ['Beauty,\"Smelled'], ['Beauty,\"Smelled'], ['Beauty,\"Smelled'], ['Beauty,\"Smelled'], ['Beauty,\"Smelled']]\n"
     ]
    }
   ],
   "source": [
    "print (np_df[2][1])\n",
    "text = np_df[2][4]\n",
    "print (text ,\"\\n\")\n",
    "label = classifier.predict(text)\n",
    "print (label)"
   ]
  },
  {
   "cell_type": "code",
   "execution_count": null,
   "metadata": {
    "collapsed": true
   },
   "outputs": [],
   "source": []
  }
 ],
 "metadata": {
  "kernelspec": {
   "display_name": "Python 3",
   "language": "python",
   "name": "python3"
  },
  "language_info": {
   "codemirror_mode": {
    "name": "ipython",
    "version": 3
   },
   "file_extension": ".py",
   "mimetype": "text/x-python",
   "name": "python",
   "nbconvert_exporter": "python",
   "pygments_lexer": "ipython3",
   "version": "3.6.0"
  }
 },
 "nbformat": 4,
 "nbformat_minor": 2
}
